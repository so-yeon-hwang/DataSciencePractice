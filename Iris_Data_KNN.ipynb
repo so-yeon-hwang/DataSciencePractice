{
  "nbformat": 4,
  "nbformat_minor": 0,
  "metadata": {
    "colab": {
      "provenance": [],
      "authorship_tag": "ABX9TyNbIMUixUF5o9S3KB5BXiax",
      "include_colab_link": true
    },
    "kernelspec": {
      "name": "python3",
      "display_name": "Python 3"
    },
    "language_info": {
      "name": "python"
    }
  },
  "cells": [
    {
      "cell_type": "markdown",
      "metadata": {
        "id": "view-in-github",
        "colab_type": "text"
      },
      "source": [
        "<a href=\"https://colab.research.google.com/github/so-yeon-hwang/DataSciencePractice/blob/main/Iris_Data_KNN.ipynb\" target=\"_parent\"><img src=\"https://colab.research.google.com/assets/colab-badge.svg\" alt=\"Open In Colab\"/></a>"
      ]
    },
    {
      "cell_type": "markdown",
      "source": [
        "# Data import + preprocessing"
      ],
      "metadata": {
        "id": "yAkj68mibf54"
      }
    },
    {
      "cell_type": "code",
      "execution_count": 1,
      "metadata": {
        "colab": {
          "base_uri": "https://localhost:8080/"
        },
        "id": "-IxuEopNWdqE",
        "outputId": "b9815b96-9c1e-4a29-b671-511728f3a4e2"
      },
      "outputs": [
        {
          "output_type": "stream",
          "name": "stdout",
          "text": [
            "--2023-11-22 00:07:16--  https://archive.ics.uci.edu/static/public/53/iris.zip\n",
            "Resolving archive.ics.uci.edu (archive.ics.uci.edu)... 128.195.10.252\n",
            "Connecting to archive.ics.uci.edu (archive.ics.uci.edu)|128.195.10.252|:443... connected.\n",
            "HTTP request sent, awaiting response... 200 OK\n",
            "Length: unspecified\n",
            "Saving to: ‘iris.zip’\n",
            "\n",
            "iris.zip                [ <=>                ]   3.65K  --.-KB/s    in 0s      \n",
            "\n",
            "2023-11-22 00:07:16 (511 MB/s) - ‘iris.zip’ saved [3738]\n",
            "\n",
            "Archive:  iris.zip\n",
            "  inflating: Index                   \n",
            "  inflating: bezdekIris.data         \n",
            "  inflating: iris.data               \n",
            "  inflating: iris.names              \n"
          ]
        }
      ],
      "source": [
        "!wget https://archive.ics.uci.edu/static/public/53/iris.zip\n",
        "!unzip iris.zip"
      ]
    },
    {
      "cell_type": "code",
      "source": [
        "# 1.\n",
        "for line in open('iris.data','r') as f:\n",
        "  for line in f:\n",
        "    pass\n",
        "\n",
        "# 2.\n",
        "for line in open('iris.data','r'):\n",
        "  pass\n",
        "\n",
        "# 3.\n",
        "f = open('iris.data','r')\n",
        "f.readline\n"
      ],
      "metadata": {
        "id": "hDJ5qOF5YqPr"
      },
      "execution_count": null,
      "outputs": []
    },
    {
      "cell_type": "code",
      "source": [
        "X = []\n",
        "y = []\n",
        "\n",
        "for line in open('iris.data','r'):\n",
        "  line = line.strip() # 개행문자가 사라짐\n",
        "  if line != '': # 맨 마지막행의 빈 데이터 삭제\n",
        "    tokens = line.split(',')\n",
        "    X.append([float (t) for t in tokens[:4]]) # 앞에 있는 입력 네개의 값 / 리스트 컴프리핸션\n",
        "    y.append(tokens[4])\n",
        "    # print(line.split(',')) # 데이터 전처리\n",
        "\n",
        "\n",
        "# 형변환 필요, 개행문자('\\n') 를 지우기 위해 strip 사용\n",
        "\n",
        "# 데이터 별로 setosa .. >> 1,2,3으로 바꾸기\n",
        "# 입력과 출력을 구분해서 저장해야 함. 클래스가 출력될 예정. flaot형태 데이터(input) Iris-setosa(output)"
      ],
      "metadata": {
        "id": "9DEHOpS7ZKnq"
      },
      "execution_count": 6,
      "outputs": []
    },
    {
      "cell_type": "code",
      "source": [
        "X # Float들의 리스트 형태"
      ],
      "metadata": {
        "colab": {
          "base_uri": "https://localhost:8080/"
        },
        "id": "w3IwCfBBacRN",
        "outputId": "80edfc6d-2fe3-45d3-936c-e4e808170fa6"
      },
      "execution_count": 8,
      "outputs": [
        {
          "output_type": "execute_result",
          "data": {
            "text/plain": [
              "[[5.1, 3.5, 1.4, 0.2],\n",
              " [4.9, 3.0, 1.4, 0.2],\n",
              " [4.7, 3.2, 1.3, 0.2],\n",
              " [4.6, 3.1, 1.5, 0.2],\n",
              " [5.0, 3.6, 1.4, 0.2],\n",
              " [5.4, 3.9, 1.7, 0.4],\n",
              " [4.6, 3.4, 1.4, 0.3],\n",
              " [5.0, 3.4, 1.5, 0.2],\n",
              " [4.4, 2.9, 1.4, 0.2],\n",
              " [4.9, 3.1, 1.5, 0.1],\n",
              " [5.4, 3.7, 1.5, 0.2],\n",
              " [4.8, 3.4, 1.6, 0.2],\n",
              " [4.8, 3.0, 1.4, 0.1],\n",
              " [4.3, 3.0, 1.1, 0.1],\n",
              " [5.8, 4.0, 1.2, 0.2],\n",
              " [5.7, 4.4, 1.5, 0.4],\n",
              " [5.4, 3.9, 1.3, 0.4],\n",
              " [5.1, 3.5, 1.4, 0.3],\n",
              " [5.7, 3.8, 1.7, 0.3],\n",
              " [5.1, 3.8, 1.5, 0.3],\n",
              " [5.4, 3.4, 1.7, 0.2],\n",
              " [5.1, 3.7, 1.5, 0.4],\n",
              " [4.6, 3.6, 1.0, 0.2],\n",
              " [5.1, 3.3, 1.7, 0.5],\n",
              " [4.8, 3.4, 1.9, 0.2],\n",
              " [5.0, 3.0, 1.6, 0.2],\n",
              " [5.0, 3.4, 1.6, 0.4],\n",
              " [5.2, 3.5, 1.5, 0.2],\n",
              " [5.2, 3.4, 1.4, 0.2],\n",
              " [4.7, 3.2, 1.6, 0.2],\n",
              " [4.8, 3.1, 1.6, 0.2],\n",
              " [5.4, 3.4, 1.5, 0.4],\n",
              " [5.2, 4.1, 1.5, 0.1],\n",
              " [5.5, 4.2, 1.4, 0.2],\n",
              " [4.9, 3.1, 1.5, 0.1],\n",
              " [5.0, 3.2, 1.2, 0.2],\n",
              " [5.5, 3.5, 1.3, 0.2],\n",
              " [4.9, 3.1, 1.5, 0.1],\n",
              " [4.4, 3.0, 1.3, 0.2],\n",
              " [5.1, 3.4, 1.5, 0.2],\n",
              " [5.0, 3.5, 1.3, 0.3],\n",
              " [4.5, 2.3, 1.3, 0.3],\n",
              " [4.4, 3.2, 1.3, 0.2],\n",
              " [5.0, 3.5, 1.6, 0.6],\n",
              " [5.1, 3.8, 1.9, 0.4],\n",
              " [4.8, 3.0, 1.4, 0.3],\n",
              " [5.1, 3.8, 1.6, 0.2],\n",
              " [4.6, 3.2, 1.4, 0.2],\n",
              " [5.3, 3.7, 1.5, 0.2],\n",
              " [5.0, 3.3, 1.4, 0.2],\n",
              " [7.0, 3.2, 4.7, 1.4],\n",
              " [6.4, 3.2, 4.5, 1.5],\n",
              " [6.9, 3.1, 4.9, 1.5],\n",
              " [5.5, 2.3, 4.0, 1.3],\n",
              " [6.5, 2.8, 4.6, 1.5],\n",
              " [5.7, 2.8, 4.5, 1.3],\n",
              " [6.3, 3.3, 4.7, 1.6],\n",
              " [4.9, 2.4, 3.3, 1.0],\n",
              " [6.6, 2.9, 4.6, 1.3],\n",
              " [5.2, 2.7, 3.9, 1.4],\n",
              " [5.0, 2.0, 3.5, 1.0],\n",
              " [5.9, 3.0, 4.2, 1.5],\n",
              " [6.0, 2.2, 4.0, 1.0],\n",
              " [6.1, 2.9, 4.7, 1.4],\n",
              " [5.6, 2.9, 3.6, 1.3],\n",
              " [6.7, 3.1, 4.4, 1.4],\n",
              " [5.6, 3.0, 4.5, 1.5],\n",
              " [5.8, 2.7, 4.1, 1.0],\n",
              " [6.2, 2.2, 4.5, 1.5],\n",
              " [5.6, 2.5, 3.9, 1.1],\n",
              " [5.9, 3.2, 4.8, 1.8],\n",
              " [6.1, 2.8, 4.0, 1.3],\n",
              " [6.3, 2.5, 4.9, 1.5],\n",
              " [6.1, 2.8, 4.7, 1.2],\n",
              " [6.4, 2.9, 4.3, 1.3],\n",
              " [6.6, 3.0, 4.4, 1.4],\n",
              " [6.8, 2.8, 4.8, 1.4],\n",
              " [6.7, 3.0, 5.0, 1.7],\n",
              " [6.0, 2.9, 4.5, 1.5],\n",
              " [5.7, 2.6, 3.5, 1.0],\n",
              " [5.5, 2.4, 3.8, 1.1],\n",
              " [5.5, 2.4, 3.7, 1.0],\n",
              " [5.8, 2.7, 3.9, 1.2],\n",
              " [6.0, 2.7, 5.1, 1.6],\n",
              " [5.4, 3.0, 4.5, 1.5],\n",
              " [6.0, 3.4, 4.5, 1.6],\n",
              " [6.7, 3.1, 4.7, 1.5],\n",
              " [6.3, 2.3, 4.4, 1.3],\n",
              " [5.6, 3.0, 4.1, 1.3],\n",
              " [5.5, 2.5, 4.0, 1.3],\n",
              " [5.5, 2.6, 4.4, 1.2],\n",
              " [6.1, 3.0, 4.6, 1.4],\n",
              " [5.8, 2.6, 4.0, 1.2],\n",
              " [5.0, 2.3, 3.3, 1.0],\n",
              " [5.6, 2.7, 4.2, 1.3],\n",
              " [5.7, 3.0, 4.2, 1.2],\n",
              " [5.7, 2.9, 4.2, 1.3],\n",
              " [6.2, 2.9, 4.3, 1.3],\n",
              " [5.1, 2.5, 3.0, 1.1],\n",
              " [5.7, 2.8, 4.1, 1.3],\n",
              " [6.3, 3.3, 6.0, 2.5],\n",
              " [5.8, 2.7, 5.1, 1.9],\n",
              " [7.1, 3.0, 5.9, 2.1],\n",
              " [6.3, 2.9, 5.6, 1.8],\n",
              " [6.5, 3.0, 5.8, 2.2],\n",
              " [7.6, 3.0, 6.6, 2.1],\n",
              " [4.9, 2.5, 4.5, 1.7],\n",
              " [7.3, 2.9, 6.3, 1.8],\n",
              " [6.7, 2.5, 5.8, 1.8],\n",
              " [7.2, 3.6, 6.1, 2.5],\n",
              " [6.5, 3.2, 5.1, 2.0],\n",
              " [6.4, 2.7, 5.3, 1.9],\n",
              " [6.8, 3.0, 5.5, 2.1],\n",
              " [5.7, 2.5, 5.0, 2.0],\n",
              " [5.8, 2.8, 5.1, 2.4],\n",
              " [6.4, 3.2, 5.3, 2.3],\n",
              " [6.5, 3.0, 5.5, 1.8],\n",
              " [7.7, 3.8, 6.7, 2.2],\n",
              " [7.7, 2.6, 6.9, 2.3],\n",
              " [6.0, 2.2, 5.0, 1.5],\n",
              " [6.9, 3.2, 5.7, 2.3],\n",
              " [5.6, 2.8, 4.9, 2.0],\n",
              " [7.7, 2.8, 6.7, 2.0],\n",
              " [6.3, 2.7, 4.9, 1.8],\n",
              " [6.7, 3.3, 5.7, 2.1],\n",
              " [7.2, 3.2, 6.0, 1.8],\n",
              " [6.2, 2.8, 4.8, 1.8],\n",
              " [6.1, 3.0, 4.9, 1.8],\n",
              " [6.4, 2.8, 5.6, 2.1],\n",
              " [7.2, 3.0, 5.8, 1.6],\n",
              " [7.4, 2.8, 6.1, 1.9],\n",
              " [7.9, 3.8, 6.4, 2.0],\n",
              " [6.4, 2.8, 5.6, 2.2],\n",
              " [6.3, 2.8, 5.1, 1.5],\n",
              " [6.1, 2.6, 5.6, 1.4],\n",
              " [7.7, 3.0, 6.1, 2.3],\n",
              " [6.3, 3.4, 5.6, 2.4],\n",
              " [6.4, 3.1, 5.5, 1.8],\n",
              " [6.0, 3.0, 4.8, 1.8],\n",
              " [6.9, 3.1, 5.4, 2.1],\n",
              " [6.7, 3.1, 5.6, 2.4],\n",
              " [6.9, 3.1, 5.1, 2.3],\n",
              " [5.8, 2.7, 5.1, 1.9],\n",
              " [6.8, 3.2, 5.9, 2.3],\n",
              " [6.7, 3.3, 5.7, 2.5],\n",
              " [6.7, 3.0, 5.2, 2.3],\n",
              " [6.3, 2.5, 5.0, 1.9],\n",
              " [6.5, 3.0, 5.2, 2.0],\n",
              " [6.2, 3.4, 5.4, 2.3],\n",
              " [5.9, 3.0, 5.1, 1.8]]"
            ]
          },
          "metadata": {},
          "execution_count": 8
        }
      ]
    },
    {
      "cell_type": "code",
      "source": [
        "y_labels = list(set(y)) # index 함수 사용하여 y 데이터셋 바꿔주기\n",
        "print(y_labels)"
      ],
      "metadata": {
        "colab": {
          "base_uri": "https://localhost:8080/"
        },
        "id": "o2-Fbwl7afvm",
        "outputId": "e1242070-a382-4a30-cd73-6a2f1b3ed3a7"
      },
      "execution_count": 12,
      "outputs": [
        {
          "output_type": "stream",
          "name": "stdout",
          "text": [
            "['Iris-virginica', 'Iris-setosa', 'Iris-versicolor']\n"
          ]
        }
      ]
    },
    {
      "cell_type": "code",
      "source": [
        "y_labels.index('Iris-virginica'), y_labels.index('Iris-versicolor')  # list 내의 index number 출력"
      ],
      "metadata": {
        "colab": {
          "base_uri": "https://localhost:8080/"
        },
        "id": "vTeNP3_Xasbr",
        "outputId": "5e20333b-d893-4585-e41d-cb25fae28297"
      },
      "execution_count": 14,
      "outputs": [
        {
          "output_type": "execute_result",
          "data": {
            "text/plain": [
              "(0, 2)"
            ]
          },
          "metadata": {},
          "execution_count": 14
        }
      ]
    },
    {
      "cell_type": "code",
      "source": [
        "y = [y_labels.index(i) for i in y]"
      ],
      "metadata": {
        "id": "y4otWkIubDTW"
      },
      "execution_count": 15,
      "outputs": []
    },
    {
      "cell_type": "code",
      "source": [
        "# sklearn에 친숙한 데이터셋 > numpy로 변환\n",
        "import numpy as np\n",
        "\n",
        "X = np.array(X)\n",
        "y = np.array(y)"
      ],
      "metadata": {
        "id": "xGPP9PvSbUUk"
      },
      "execution_count": 16,
      "outputs": []
    },
    {
      "cell_type": "code",
      "source": [
        "X, y"
      ],
      "metadata": {
        "colab": {
          "base_uri": "https://localhost:8080/"
        },
        "id": "cmLNajhabbDs",
        "outputId": "44afcefa-143f-43e8-af30-0c9a4f47b918"
      },
      "execution_count": 17,
      "outputs": [
        {
          "output_type": "execute_result",
          "data": {
            "text/plain": [
              "(array([[5.1, 3.5, 1.4, 0.2],\n",
              "        [4.9, 3. , 1.4, 0.2],\n",
              "        [4.7, 3.2, 1.3, 0.2],\n",
              "        [4.6, 3.1, 1.5, 0.2],\n",
              "        [5. , 3.6, 1.4, 0.2],\n",
              "        [5.4, 3.9, 1.7, 0.4],\n",
              "        [4.6, 3.4, 1.4, 0.3],\n",
              "        [5. , 3.4, 1.5, 0.2],\n",
              "        [4.4, 2.9, 1.4, 0.2],\n",
              "        [4.9, 3.1, 1.5, 0.1],\n",
              "        [5.4, 3.7, 1.5, 0.2],\n",
              "        [4.8, 3.4, 1.6, 0.2],\n",
              "        [4.8, 3. , 1.4, 0.1],\n",
              "        [4.3, 3. , 1.1, 0.1],\n",
              "        [5.8, 4. , 1.2, 0.2],\n",
              "        [5.7, 4.4, 1.5, 0.4],\n",
              "        [5.4, 3.9, 1.3, 0.4],\n",
              "        [5.1, 3.5, 1.4, 0.3],\n",
              "        [5.7, 3.8, 1.7, 0.3],\n",
              "        [5.1, 3.8, 1.5, 0.3],\n",
              "        [5.4, 3.4, 1.7, 0.2],\n",
              "        [5.1, 3.7, 1.5, 0.4],\n",
              "        [4.6, 3.6, 1. , 0.2],\n",
              "        [5.1, 3.3, 1.7, 0.5],\n",
              "        [4.8, 3.4, 1.9, 0.2],\n",
              "        [5. , 3. , 1.6, 0.2],\n",
              "        [5. , 3.4, 1.6, 0.4],\n",
              "        [5.2, 3.5, 1.5, 0.2],\n",
              "        [5.2, 3.4, 1.4, 0.2],\n",
              "        [4.7, 3.2, 1.6, 0.2],\n",
              "        [4.8, 3.1, 1.6, 0.2],\n",
              "        [5.4, 3.4, 1.5, 0.4],\n",
              "        [5.2, 4.1, 1.5, 0.1],\n",
              "        [5.5, 4.2, 1.4, 0.2],\n",
              "        [4.9, 3.1, 1.5, 0.1],\n",
              "        [5. , 3.2, 1.2, 0.2],\n",
              "        [5.5, 3.5, 1.3, 0.2],\n",
              "        [4.9, 3.1, 1.5, 0.1],\n",
              "        [4.4, 3. , 1.3, 0.2],\n",
              "        [5.1, 3.4, 1.5, 0.2],\n",
              "        [5. , 3.5, 1.3, 0.3],\n",
              "        [4.5, 2.3, 1.3, 0.3],\n",
              "        [4.4, 3.2, 1.3, 0.2],\n",
              "        [5. , 3.5, 1.6, 0.6],\n",
              "        [5.1, 3.8, 1.9, 0.4],\n",
              "        [4.8, 3. , 1.4, 0.3],\n",
              "        [5.1, 3.8, 1.6, 0.2],\n",
              "        [4.6, 3.2, 1.4, 0.2],\n",
              "        [5.3, 3.7, 1.5, 0.2],\n",
              "        [5. , 3.3, 1.4, 0.2],\n",
              "        [7. , 3.2, 4.7, 1.4],\n",
              "        [6.4, 3.2, 4.5, 1.5],\n",
              "        [6.9, 3.1, 4.9, 1.5],\n",
              "        [5.5, 2.3, 4. , 1.3],\n",
              "        [6.5, 2.8, 4.6, 1.5],\n",
              "        [5.7, 2.8, 4.5, 1.3],\n",
              "        [6.3, 3.3, 4.7, 1.6],\n",
              "        [4.9, 2.4, 3.3, 1. ],\n",
              "        [6.6, 2.9, 4.6, 1.3],\n",
              "        [5.2, 2.7, 3.9, 1.4],\n",
              "        [5. , 2. , 3.5, 1. ],\n",
              "        [5.9, 3. , 4.2, 1.5],\n",
              "        [6. , 2.2, 4. , 1. ],\n",
              "        [6.1, 2.9, 4.7, 1.4],\n",
              "        [5.6, 2.9, 3.6, 1.3],\n",
              "        [6.7, 3.1, 4.4, 1.4],\n",
              "        [5.6, 3. , 4.5, 1.5],\n",
              "        [5.8, 2.7, 4.1, 1. ],\n",
              "        [6.2, 2.2, 4.5, 1.5],\n",
              "        [5.6, 2.5, 3.9, 1.1],\n",
              "        [5.9, 3.2, 4.8, 1.8],\n",
              "        [6.1, 2.8, 4. , 1.3],\n",
              "        [6.3, 2.5, 4.9, 1.5],\n",
              "        [6.1, 2.8, 4.7, 1.2],\n",
              "        [6.4, 2.9, 4.3, 1.3],\n",
              "        [6.6, 3. , 4.4, 1.4],\n",
              "        [6.8, 2.8, 4.8, 1.4],\n",
              "        [6.7, 3. , 5. , 1.7],\n",
              "        [6. , 2.9, 4.5, 1.5],\n",
              "        [5.7, 2.6, 3.5, 1. ],\n",
              "        [5.5, 2.4, 3.8, 1.1],\n",
              "        [5.5, 2.4, 3.7, 1. ],\n",
              "        [5.8, 2.7, 3.9, 1.2],\n",
              "        [6. , 2.7, 5.1, 1.6],\n",
              "        [5.4, 3. , 4.5, 1.5],\n",
              "        [6. , 3.4, 4.5, 1.6],\n",
              "        [6.7, 3.1, 4.7, 1.5],\n",
              "        [6.3, 2.3, 4.4, 1.3],\n",
              "        [5.6, 3. , 4.1, 1.3],\n",
              "        [5.5, 2.5, 4. , 1.3],\n",
              "        [5.5, 2.6, 4.4, 1.2],\n",
              "        [6.1, 3. , 4.6, 1.4],\n",
              "        [5.8, 2.6, 4. , 1.2],\n",
              "        [5. , 2.3, 3.3, 1. ],\n",
              "        [5.6, 2.7, 4.2, 1.3],\n",
              "        [5.7, 3. , 4.2, 1.2],\n",
              "        [5.7, 2.9, 4.2, 1.3],\n",
              "        [6.2, 2.9, 4.3, 1.3],\n",
              "        [5.1, 2.5, 3. , 1.1],\n",
              "        [5.7, 2.8, 4.1, 1.3],\n",
              "        [6.3, 3.3, 6. , 2.5],\n",
              "        [5.8, 2.7, 5.1, 1.9],\n",
              "        [7.1, 3. , 5.9, 2.1],\n",
              "        [6.3, 2.9, 5.6, 1.8],\n",
              "        [6.5, 3. , 5.8, 2.2],\n",
              "        [7.6, 3. , 6.6, 2.1],\n",
              "        [4.9, 2.5, 4.5, 1.7],\n",
              "        [7.3, 2.9, 6.3, 1.8],\n",
              "        [6.7, 2.5, 5.8, 1.8],\n",
              "        [7.2, 3.6, 6.1, 2.5],\n",
              "        [6.5, 3.2, 5.1, 2. ],\n",
              "        [6.4, 2.7, 5.3, 1.9],\n",
              "        [6.8, 3. , 5.5, 2.1],\n",
              "        [5.7, 2.5, 5. , 2. ],\n",
              "        [5.8, 2.8, 5.1, 2.4],\n",
              "        [6.4, 3.2, 5.3, 2.3],\n",
              "        [6.5, 3. , 5.5, 1.8],\n",
              "        [7.7, 3.8, 6.7, 2.2],\n",
              "        [7.7, 2.6, 6.9, 2.3],\n",
              "        [6. , 2.2, 5. , 1.5],\n",
              "        [6.9, 3.2, 5.7, 2.3],\n",
              "        [5.6, 2.8, 4.9, 2. ],\n",
              "        [7.7, 2.8, 6.7, 2. ],\n",
              "        [6.3, 2.7, 4.9, 1.8],\n",
              "        [6.7, 3.3, 5.7, 2.1],\n",
              "        [7.2, 3.2, 6. , 1.8],\n",
              "        [6.2, 2.8, 4.8, 1.8],\n",
              "        [6.1, 3. , 4.9, 1.8],\n",
              "        [6.4, 2.8, 5.6, 2.1],\n",
              "        [7.2, 3. , 5.8, 1.6],\n",
              "        [7.4, 2.8, 6.1, 1.9],\n",
              "        [7.9, 3.8, 6.4, 2. ],\n",
              "        [6.4, 2.8, 5.6, 2.2],\n",
              "        [6.3, 2.8, 5.1, 1.5],\n",
              "        [6.1, 2.6, 5.6, 1.4],\n",
              "        [7.7, 3. , 6.1, 2.3],\n",
              "        [6.3, 3.4, 5.6, 2.4],\n",
              "        [6.4, 3.1, 5.5, 1.8],\n",
              "        [6. , 3. , 4.8, 1.8],\n",
              "        [6.9, 3.1, 5.4, 2.1],\n",
              "        [6.7, 3.1, 5.6, 2.4],\n",
              "        [6.9, 3.1, 5.1, 2.3],\n",
              "        [5.8, 2.7, 5.1, 1.9],\n",
              "        [6.8, 3.2, 5.9, 2.3],\n",
              "        [6.7, 3.3, 5.7, 2.5],\n",
              "        [6.7, 3. , 5.2, 2.3],\n",
              "        [6.3, 2.5, 5. , 1.9],\n",
              "        [6.5, 3. , 5.2, 2. ],\n",
              "        [6.2, 3.4, 5.4, 2.3],\n",
              "        [5.9, 3. , 5.1, 1.8]]),\n",
              " array([1, 1, 1, 1, 1, 1, 1, 1, 1, 1, 1, 1, 1, 1, 1, 1, 1, 1, 1, 1, 1, 1,\n",
              "        1, 1, 1, 1, 1, 1, 1, 1, 1, 1, 1, 1, 1, 1, 1, 1, 1, 1, 1, 1, 1, 1,\n",
              "        1, 1, 1, 1, 1, 1, 2, 2, 2, 2, 2, 2, 2, 2, 2, 2, 2, 2, 2, 2, 2, 2,\n",
              "        2, 2, 2, 2, 2, 2, 2, 2, 2, 2, 2, 2, 2, 2, 2, 2, 2, 2, 2, 2, 2, 2,\n",
              "        2, 2, 2, 2, 2, 2, 2, 2, 2, 2, 2, 2, 0, 0, 0, 0, 0, 0, 0, 0, 0, 0,\n",
              "        0, 0, 0, 0, 0, 0, 0, 0, 0, 0, 0, 0, 0, 0, 0, 0, 0, 0, 0, 0, 0, 0,\n",
              "        0, 0, 0, 0, 0, 0, 0, 0, 0, 0, 0, 0, 0, 0, 0, 0, 0, 0]))"
            ]
          },
          "metadata": {},
          "execution_count": 17
        }
      ]
    },
    {
      "cell_type": "code",
      "source": [],
      "metadata": {
        "id": "lw7KqgV9bdTP"
      },
      "execution_count": null,
      "outputs": []
    },
    {
      "cell_type": "code",
      "source": [
        "import numpy as np\n",
        "\n",
        "X = []\n",
        "y = []\n",
        "\n",
        "for line in open('iris.data', 'r'):\n",
        "  line = line.strip()\n",
        "  if line != '':\n",
        "    tokens = line.split(',')\n",
        "    X.append([float(t) for t in tokens[:4]])\n",
        "    y.append(tokens[4])"
      ],
      "metadata": {
        "id": "p6JwPzYIWgtE"
      },
      "execution_count": null,
      "outputs": []
    },
    {
      "cell_type": "markdown",
      "source": [
        "### 데이터 시각화 (EDA)"
      ],
      "metadata": {
        "id": "55ltHTq4bjOh"
      }
    },
    {
      "cell_type": "code",
      "source": [
        "import matplotlib.pyplot as plt\n",
        "plt.scatter(X[:,1],X[:,3],c = y, alpha = 0.5)"
      ],
      "metadata": {
        "colab": {
          "base_uri": "https://localhost:8080/",
          "height": 448
        },
        "id": "q48T_kpcbkb0",
        "outputId": "4185da9e-b9d9-49ff-89f5-4ba2c80033e7"
      },
      "execution_count": 23,
      "outputs": [
        {
          "output_type": "execute_result",
          "data": {
            "text/plain": [
              "<matplotlib.collections.PathCollection at 0x7ca830f9cc10>"
            ]
          },
          "metadata": {},
          "execution_count": 23
        },
        {
          "output_type": "display_data",
          "data": {
            "text/plain": [
              "<Figure size 640x480 with 1 Axes>"
            ],
            "image/png": "[encoded data removed]"
          },
          "metadata": {}
        }
      ]
    },
    {
      "cell_type": "code",
      "source": [
        "plt.scatter(X[:,2],X[:,3],c = y, alpha = 0.5)"
      ],
      "metadata": {
        "colab": {
          "base_uri": "https://localhost:8080/",
          "height": 448
        },
        "id": "0SI1YGItcn_E",
        "outputId": "72d81bcc-8520-491c-d6c0-5e05e6bc7eff"
      },
      "execution_count": 24,
      "outputs": [
        {
          "output_type": "execute_result",
          "data": {
            "text/plain": [
              "<matplotlib.collections.PathCollection at 0x7ca8310061d0>"
            ]
          },
          "metadata": {},
          "execution_count": 24
        },
        {
          "output_type": "display_data",
          "data": {
            "text/plain": [
              "<Figure size 640x480 with 1 Axes>"
            ],
            "image/png": "[encoded data removed]"
          },
          "metadata": {}
        }
      ]
    },
    {
      "cell_type": "markdown",
      "source": [
        "# train / data set 분리"
      ],
      "metadata": {
        "id": "BzEHvqORcgTy"
      }
    },
    {
      "cell_type": "code",
      "source": [
        "# 직접 구현\n",
        "import random\n",
        "\n",
        "tmp = list(zip(X,y))\n",
        "random.shuffle(tmp)\n",
        "test_tmp = tmp[:-20]"
      ],
      "metadata": {
        "id": "qby59Vl3byRL"
      },
      "execution_count": 27,
      "outputs": []
    },
    {
      "cell_type": "code",
      "source": [
        "# 모듈 사용\n",
        "from sklearn.model_selection import train_test_split\n",
        "X_train, X_test, y_train, y_test = train_test_split(X,y,test_size = 0.2, random_state = 41)\n",
        "X_train"
      ],
      "metadata": {
        "colab": {
          "base_uri": "https://localhost:8080/"
        },
        "id": "Z8h--4pNc02m",
        "outputId": "80f52ad1-cc2a-43af-d00f-6d03aa84b38e"
      },
      "execution_count": 30,
      "outputs": [
        {
          "output_type": "execute_result",
          "data": {
            "text/plain": [
              "array([[5.7, 2.6, 3.5, 1. ],\n",
              "       [6.5, 2.8, 4.6, 1.5],\n",
              "       [4.9, 2.5, 4.5, 1.7],\n",
              "       [5.5, 2.6, 4.4, 1.2],\n",
              "       [6.7, 3. , 5.2, 2.3],\n",
              "       [5.8, 4. , 1.2, 0.2],\n",
              "       [6.9, 3.1, 5.1, 2.3],\n",
              "       [6.4, 3.2, 4.5, 1.5],\n",
              "       [6.9, 3.1, 5.4, 2.1],\n",
              "       [5.9, 3.2, 4.8, 1.8],\n",
              "       [6.2, 2.9, 4.3, 1.3],\n",
              "       [5.7, 2.8, 4.5, 1.3],\n",
              "       [5.2, 4.1, 1.5, 0.1],\n",
              "       [6.5, 3. , 5.8, 2.2],\n",
              "       [6.3, 3.4, 5.6, 2.4],\n",
              "       [5.7, 3.8, 1.7, 0.3],\n",
              "       [6.7, 2.5, 5.8, 1.8],\n",
              "       [5.1, 2.5, 3. , 1.1],\n",
              "       [4.8, 3. , 1.4, 0.3],\n",
              "       [6.2, 2.2, 4.5, 1.5],\n",
              "       [6.4, 2.7, 5.3, 1.9],\n",
              "       [5.8, 2.7, 3.9, 1.2],\n",
              "       [7.4, 2.8, 6.1, 1.9],\n",
              "       [5.2, 3.5, 1.5, 0.2],\n",
              "       [5.5, 4.2, 1.4, 0.2],\n",
              "       [5.9, 3. , 5.1, 1.8],\n",
              "       [6.2, 2.8, 4.8, 1.8],\n",
              "       [4.6, 3.1, 1.5, 0.2],\n",
              "       [5.6, 3. , 4.5, 1.5],\n",
              "       [4.6, 3.4, 1.4, 0.3],\n",
              "       [4.9, 3.1, 1.5, 0.1],\n",
              "       [6.6, 3. , 4.4, 1.4],\n",
              "       [5.4, 3.9, 1.3, 0.4],\n",
              "       [4.9, 2.4, 3.3, 1. ],\n",
              "       [6.2, 3.4, 5.4, 2.3],\n",
              "       [5. , 3. , 1.6, 0.2],\n",
              "       [6.3, 2.3, 4.4, 1.3],\n",
              "       [5.7, 2.8, 4.1, 1.3],\n",
              "       [5.6, 2.8, 4.9, 2. ],\n",
              "       [5.1, 3.5, 1.4, 0.2],\n",
              "       [5.7, 2.9, 4.2, 1.3],\n",
              "       [5. , 2. , 3.5, 1. ],\n",
              "       [4.8, 3.4, 1.9, 0.2],\n",
              "       [7.7, 2.6, 6.9, 2.3],\n",
              "       [6.3, 2.5, 4.9, 1.5],\n",
              "       [5.1, 3.5, 1.4, 0.3],\n",
              "       [6.5, 3. , 5.5, 1.8],\n",
              "       [6.3, 2.5, 5. , 1.9],\n",
              "       [4.4, 3.2, 1.3, 0.2],\n",
              "       [6.7, 3. , 5. , 1.7],\n",
              "       [5.4, 3.7, 1.5, 0.2],\n",
              "       [5. , 3.5, 1.3, 0.3],\n",
              "       [6.7, 3.3, 5.7, 2.1],\n",
              "       [7.7, 3.8, 6.7, 2.2],\n",
              "       [5.7, 2.5, 5. , 2. ],\n",
              "       [4.6, 3.2, 1.4, 0.2],\n",
              "       [4.7, 3.2, 1.6, 0.2],\n",
              "       [5. , 3.4, 1.5, 0.2],\n",
              "       [4.8, 3.4, 1.6, 0.2],\n",
              "       [5.3, 3.7, 1.5, 0.2],\n",
              "       [6.1, 2.6, 5.6, 1.4],\n",
              "       [6. , 3. , 4.8, 1.8],\n",
              "       [5.5, 3.5, 1.3, 0.2],\n",
              "       [7.2, 3.2, 6. , 1.8],\n",
              "       [7. , 3.2, 4.7, 1.4],\n",
              "       [5.7, 4.4, 1.5, 0.4],\n",
              "       [4.3, 3. , 1.1, 0.1],\n",
              "       [6.5, 3.2, 5.1, 2. ],\n",
              "       [5.8, 2.7, 5.1, 1.9],\n",
              "       [6.4, 3.2, 5.3, 2.3],\n",
              "       [6.1, 2.8, 4.7, 1.2],\n",
              "       [6. , 2.9, 4.5, 1.5],\n",
              "       [5.8, 2.7, 5.1, 1.9],\n",
              "       [4.9, 3. , 1.4, 0.2],\n",
              "       [6.6, 2.9, 4.6, 1.3],\n",
              "       [7.1, 3. , 5.9, 2.1],\n",
              "       [6.4, 2.9, 4.3, 1.3],\n",
              "       [6.9, 3.1, 4.9, 1.5],\n",
              "       [4.4, 2.9, 1.4, 0.2],\n",
              "       [5.7, 3. , 4.2, 1.2],\n",
              "       [5.1, 3.7, 1.5, 0.4],\n",
              "       [5.9, 3. , 4.2, 1.5],\n",
              "       [5.4, 3.4, 1.5, 0.4],\n",
              "       [5.6, 2.7, 4.2, 1.3],\n",
              "       [7.3, 2.9, 6.3, 1.8],\n",
              "       [6.3, 3.3, 6. , 2.5],\n",
              "       [6.7, 3.3, 5.7, 2.5],\n",
              "       [5.1, 3.8, 1.6, 0.2],\n",
              "       [4.9, 3.1, 1.5, 0.1],\n",
              "       [4.6, 3.6, 1. , 0.2],\n",
              "       [5.1, 3.8, 1.9, 0.4],\n",
              "       [6.3, 2.9, 5.6, 1.8],\n",
              "       [5.4, 3.9, 1.7, 0.4],\n",
              "       [5.4, 3.4, 1.7, 0.2],\n",
              "       [5.6, 2.5, 3.9, 1.1],\n",
              "       [6.4, 2.8, 5.6, 2.2],\n",
              "       [5. , 3.2, 1.2, 0.2],\n",
              "       [5.8, 2.8, 5.1, 2.4],\n",
              "       [4.8, 3. , 1.4, 0.1],\n",
              "       [6.8, 2.8, 4.8, 1.4],\n",
              "       [7.2, 3. , 5.8, 1.6],\n",
              "       [5.2, 2.7, 3.9, 1.4],\n",
              "       [5. , 3.6, 1.4, 0.2],\n",
              "       [6.4, 3.1, 5.5, 1.8],\n",
              "       [5.1, 3.8, 1.5, 0.3],\n",
              "       [5.5, 2.3, 4. , 1.3],\n",
              "       [5.2, 3.4, 1.4, 0.2],\n",
              "       [7.7, 2.8, 6.7, 2. ],\n",
              "       [5.8, 2.6, 4. , 1.2],\n",
              "       [5.6, 3. , 4.1, 1.3],\n",
              "       [7.6, 3. , 6.6, 2.1],\n",
              "       [6.7, 3.1, 4.7, 1.5],\n",
              "       [5.4, 3. , 4.5, 1.5],\n",
              "       [7.9, 3.8, 6.4, 2. ],\n",
              "       [7.2, 3.6, 6.1, 2.5],\n",
              "       [5. , 3.4, 1.6, 0.4],\n",
              "       [5.5, 2.5, 4. , 1.3],\n",
              "       [6.7, 3.1, 4.4, 1.4],\n",
              "       [5.5, 2.4, 3.8, 1.1],\n",
              "       [6.7, 3.1, 5.6, 2.4]])"
            ]
          },
          "metadata": {},
          "execution_count": 30
        }
      ]
    },
    {
      "cell_type": "code",
      "source": [
        "X.shape, X_train.shape, X_test.shape"
      ],
      "metadata": {
        "colab": {
          "base_uri": "https://localhost:8080/"
        },
        "id": "VnSVcljfddX8",
        "outputId": "019a05ee-486b-43ca-f671-8a9dfd2bd4b9"
      },
      "execution_count": 32,
      "outputs": [
        {
          "output_type": "execute_result",
          "data": {
            "text/plain": [
              "((150, 4), (120, 4), (30, 4))"
            ]
          },
          "metadata": {},
          "execution_count": 32
        }
      ]
    },
    {
      "cell_type": "code",
      "source": [
        "y_train, y_train.shape"
      ],
      "metadata": {
        "colab": {
          "base_uri": "https://localhost:8080/"
        },
        "id": "lrOhQZ2tdkjv",
        "outputId": "fb6319ab-b65d-4568-fe16-2510412bf3cb"
      },
      "execution_count": 34,
      "outputs": [
        {
          "output_type": "execute_result",
          "data": {
            "text/plain": [
              "(array([2, 2, 0, 2, 0, 1, 0, 2, 0, 2, 2, 2, 1, 0, 0, 1, 0, 2, 1, 2, 0, 2,\n",
              "        0, 1, 1, 0, 0, 1, 2, 1, 1, 2, 1, 2, 0, 1, 2, 2, 0, 1, 2, 2, 1, 0,\n",
              "        2, 1, 0, 0, 1, 2, 1, 1, 0, 0, 0, 1, 1, 1, 1, 1, 0, 0, 1, 0, 2, 1,\n",
              "        1, 0, 0, 0, 2, 2, 0, 1, 2, 0, 2, 2, 1, 2, 1, 2, 1, 2, 0, 0, 0, 1,\n",
              "        1, 1, 1, 0, 1, 1, 2, 0, 1, 0, 1, 2, 0, 2, 1, 0, 1, 2, 1, 0, 2, 2,\n",
              "        0, 2, 2, 0, 0, 1, 2, 2, 2, 0]),\n",
              " (120,))"
            ]
          },
          "metadata": {},
          "execution_count": 34
        }
      ]
    },
    {
      "cell_type": "markdown",
      "source": [
        "# KNN"
      ],
      "metadata": {
        "id": "MFecy0SLdrWe"
      }
    },
    {
      "cell_type": "code",
      "source": [
        "from sklearn.neighbors import KNeighborsClassifier\n",
        "from sklearn.metrics import accuracy_score\n",
        "\n",
        "knn = KNeighborsClassifier(n_neighbors = 5) # 모델생성 # (n_neighbors = 5) k값 몇명의 이웃을 훑어볼 것인가!\n",
        "knn.fit(X_train, y_train)\n",
        "\n",
        "y_train_pred = knn.predict(X_train)\n",
        "\n",
        "print(y_train_pred) # 예측값\n",
        "print(y_train) # 실제값\n",
        "\n",
        "print(y_train_pred == y_train) # 맞은 개수는?"
      ],
      "metadata": {
        "colab": {
          "base_uri": "https://localhost:8080/"
        },
        "id": "Y_5EllOKdoQ5",
        "outputId": "9bd2024e-d8db-49a6-fba4-825c21902ff7"
      },
      "execution_count": 36,
      "outputs": [
        {
          "output_type": "stream",
          "name": "stdout",
          "text": [
            "[2 2 2 2 0 1 0 2 0 0 2 2 1 0 0 1 0 2 1 2 0 2 0 1 1 0 0 1 2 1 1 2 1 2 0 1 2\n",
            " 2 0 1 2 2 1 0 2 1 0 0 1 2 1 1 0 0 0 1 1 1 1 1 0 0 1 0 2 1 1 0 0 0 2 2 0 1\n",
            " 2 0 2 2 1 2 1 2 1 2 0 0 0 1 1 1 1 0 1 1 2 0 1 0 1 2 0 2 1 0 1 2 1 0 2 2 0\n",
            " 2 2 0 0 1 2 2 2 0]\n",
            "[2 2 0 2 0 1 0 2 0 2 2 2 1 0 0 1 0 2 1 2 0 2 0 1 1 0 0 1 2 1 1 2 1 2 0 1 2\n",
            " 2 0 1 2 2 1 0 2 1 0 0 1 2 1 1 0 0 0 1 1 1 1 1 0 0 1 0 2 1 1 0 0 0 2 2 0 1\n",
            " 2 0 2 2 1 2 1 2 1 2 0 0 0 1 1 1 1 0 1 1 2 0 1 0 1 2 0 2 1 0 1 2 1 0 2 2 0\n",
            " 2 2 0 0 1 2 2 2 0]\n",
            "[ True  True False  True  True  True  True  True  True False  True  True\n",
            "  True  True  True  True  True  True  True  True  True  True  True  True\n",
            "  True  True  True  True  True  True  True  True  True  True  True  True\n",
            "  True  True  True  True  True  True  True  True  True  True  True  True\n",
            "  True  True  True  True  True  True  True  True  True  True  True  True\n",
            "  True  True  True  True  True  True  True  True  True  True  True  True\n",
            "  True  True  True  True  True  True  True  True  True  True  True  True\n",
            "  True  True  True  True  True  True  True  True  True  True  True  True\n",
            "  True  True  True  True  True  True  True  True  True  True  True  True\n",
            "  True  True  True  True  True  True  True  True  True  True  True  True]\n"
          ]
        }
      ]
    },
    {
      "cell_type": "code",
      "source": [
        "accuracy_score(y_train_pred, y_train)"
      ],
      "metadata": {
        "colab": {
          "base_uri": "https://localhost:8080/"
        },
        "id": "cbuzX7EZguSD",
        "outputId": "421425fa-8b29-41ce-e39f-15741f99aa97"
      },
      "execution_count": 37,
      "outputs": [
        {
          "output_type": "execute_result",
          "data": {
            "text/plain": [
              "0.9833333333333333"
            ]
          },
          "metadata": {},
          "execution_count": 37
        }
      ]
    },
    {
      "cell_type": "code",
      "source": [
        "y_test_pred = knn.predict(X_test)\n",
        "accuracy_score(y_test_pred,y_test)"
      ],
      "metadata": {
        "colab": {
          "base_uri": "https://localhost:8080/"
        },
        "id": "CdtFOwyphQ8A",
        "outputId": "839641f8-e309-4796-f88c-b45779684cc6"
      },
      "execution_count": 38,
      "outputs": [
        {
          "output_type": "execute_result",
          "data": {
            "text/plain": [
              "0.9666666666666667"
            ]
          },
          "metadata": {},
          "execution_count": 38
        }
      ]
    },
    {
      "cell_type": "markdown",
      "source": [
        "cross validation   \n",
        "데이터셋을 n개의 서브데이터셋으로 분할하고 각 서브데이터셋을 test 데이터셋으로 사용하여 성능 확인 , 다섯개 중 하나는 test > validation data set , 학습과 데이터 세트를 분할한다"
      ],
      "metadata": {
        "id": "j1P6hgbciBZL"
      }
    },
    {
      "cell_type": "code",
      "source": [
        "# 최적의 k 찾기\n",
        "\n",
        "from sklearn.model_selection import cross_val_score\n",
        "\n",
        "scores = []\n",
        "k_values = range(1,31)\n",
        "test_scores = []\n",
        "\n",
        "for k in k_values : # k를 1부터 30까지 증가시켜보면서 corss validation cost가 얼마나 증가하는지, 실제 test accuracy test\n",
        "  knn = KNeighborsClassifier(n_neighbors = k) # 모델\n",
        "  score = cross_val_score(knn, X_train, y_train, cv = 10, scoring = 'accuracy') # cv = n fold의 n\n",
        "  scores.append(score.mean())\n",
        "\n",
        "  knn.fit(X_train,y_train)\n",
        "  y_test_pred = knn.predict(X_test)\n",
        "  test_scores.append(accuracy_score(y_test_pred, y_test)) # test set accuracy\n"
      ],
      "metadata": {
        "id": "1MjO5itqhXe5"
      },
      "execution_count": 45,
      "outputs": []
    },
    {
      "cell_type": "code",
      "source": [
        "plt.plot(k_values, scores,'-o', label = 'cross_validation') # 9일 때 가장 높은 점수\n",
        "plt.plot(k_values, test_scores, '-o', label = 'test')\n",
        "plt.legend()\n",
        "\n",
        "plt.show()"
      ],
      "metadata": {
        "colab": {
          "base_uri": "https://localhost:8080/",
          "height": 430
        },
        "id": "WzUD3dgHjo52",
        "outputId": "4f2dfa01-4863-493a-fb6e-ae7c1e58609b"
      },
      "execution_count": 46,
      "outputs": [
        {
          "output_type": "display_data",
          "data": {
            "text/plain": [
              "<Figure size 640x480 with 1 Axes>"
            ],
            "image/png": "[encoded data removed]"
          },
          "metadata": {}
        }
      ]
    }
  ]
}