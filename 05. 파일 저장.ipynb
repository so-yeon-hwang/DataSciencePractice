{
 "cells": [
  {
   "cell_type": "markdown",
   "id": "c7b9dd81",
   "metadata": {},
   "source": [
    "# 5. 파일 저장"
   ]
  },
  {
   "cell_type": "markdown",
   "id": "892fa978",
   "metadata": {},
   "source": [
    "## 이미지 저장"
   ]
  },
  {
   "cell_type": "code",
   "execution_count": 3,
   "id": "93551d80",
   "metadata": {
    "scrolled": false
   },
   "outputs": [
    {
     "name": "stdout",
     "output_type": "stream",
     "text": [
      "True\n"
     ]
    }
   ],
   "source": [
    "import cv2\n",
    "img = cv2.imread('img.jpg', cv2.IMREAD_GRAYSCALE) # 흑백으로 이미지 불러오기\n",
    "cv2.imshow('img', img)\n",
    "cv2.waitKey(0)\n",
    "cv2.destroyAllWindows()\n",
    "\n",
    "result = cv2.imwrite('img_save.jpg', img) # 저장 \n",
    "print(result)"
   ]
  },
  {
   "cell_type": "markdown",
   "id": "d48a0562",
   "metadata": {},
   "source": [
    "## 저장 포맷(jpg, png)"
   ]
  },
  {
   "cell_type": "code",
   "execution_count": 4,
   "id": "47a9f397",
   "metadata": {},
   "outputs": [
    {
     "data": {
      "text/plain": [
       "True"
      ]
     },
     "execution_count": 4,
     "metadata": {},
     "output_type": "execute_result"
    }
   ],
   "source": [
    "import cv2\n",
    "img = cv2.imread('img.jpg', cv2.IMREAD_GRAYSCALE) # 흑백으로 이미지 불러오기\n",
    "cv2.imwrite('img_save.png', img) # png 형태저장 "
   ]
  },
  {
   "cell_type": "markdown",
   "id": "cf842d25",
   "metadata": {},
   "source": [
    "## 동영상 저장"
   ]
  },
  {
   "cell_type": "code",
   "execution_count": 5,
   "id": "0e15cc04",
   "metadata": {},
   "outputs": [],
   "source": [
    "import cv2\n",
    "cap = cv2.VideoCapture('video.mp4')\n",
    "\n",
    "# 코덱 정의 \n",
    "fourcc = cv2.VideoWriter_fourcc(*'DIVX') \n",
    "\n",
    "# 프레임 크기, FPS\n",
    "width = round(cap.get(cv2.CAP_PROP_FRAME_WIDTH)) # 정수여야함\n",
    "height = round(cap.get(cv2.CAP_PROP_FRAME_HEIGHT)) \n",
    "fps = cap.get(cv2.CAP_PROP_FPS) # 영상의 속도 정보\n",
    "\n",
    "# 객체생성\n",
    "out = cv2.VideoWriter('output.avi',fourcc, fps, (width,height))\n",
    "# 저장 파일명, 코덱, FPS, 크기(width, height)\n",
    "\n",
    "while cap.isOpened() :\n",
    "    ret, frame = cap.read()\n",
    "    \n",
    "    if not ret : # return값이 false -> 읽을 값이 없다\n",
    "        break\n",
    "    \n",
    "    out.write(frame) # 영상 데이터만 저장(소리x)\n",
    "    \n",
    "    cv2.imshow('video',frame)\n",
    "    if cv2.waitKey(1) == ord('q'):\n",
    "        break\n",
    "\n",
    "out.release() # 자원 해제, 프로그램 종료 \n",
    "cap.release()\n",
    "cv2.destroyAllWindows()"
   ]
  },
  {
   "cell_type": "code",
   "execution_count": 3,
   "id": "fbd54465",
   "metadata": {},
   "outputs": [
    {
     "name": "stdout",
     "output_type": "stream",
     "text": [
      "DIVX\n",
      "D I V X\n"
     ]
    }
   ],
   "source": [
    "codec = 'DIVX'\n",
    "print(codec)\n",
    "print(*codec)"
   ]
  }
 ],
 "metadata": {
  "kernelspec": {
   "display_name": "Python 3 (ipykernel)",
   "language": "python",
   "name": "python3"
  },
  "language_info": {
   "codemirror_mode": {
    "name": "ipython",
    "version": 3
   },
   "file_extension": ".py",
   "mimetype": "text/x-python",
   "name": "python",
   "nbconvert_exporter": "python",
   "pygments_lexer": "ipython3",
   "version": "3.10.9"
  }
 },
 "nbformat": 4,
 "nbformat_minor": 5
}
