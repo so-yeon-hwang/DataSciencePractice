{
 "cells": [
  {
   "cell_type": "markdown",
   "id": "97658ffc",
   "metadata": {},
   "source": [
    "# 2. 동영상 출력"
   ]
  },
  {
   "cell_type": "markdown",
   "id": "d7699593",
   "metadata": {},
   "source": [
    "## 동영상 파일출력"
   ]
  },
  {
   "cell_type": "code",
   "execution_count": 4,
   "id": "aa32edae",
   "metadata": {},
   "outputs": [
    {
     "name": "stdout",
     "output_type": "stream",
     "text": [
      "사용자 입력에 의해 영상을 종료합니다\n"
     ]
    }
   ],
   "source": [
    "import cv2\n",
    "cap = cv2.VideoCapture('video.mp4')\n",
    "\n",
    "while cap.isOpened() : # 동영상 파일이 올바르게 열렸는지 확인\n",
    "    ret, frame = cap.read() \n",
    "    # 두개의 값 반환 | ret : 성공 여부, frame = 받아온 이미지(프레임)\n",
    "    # ret가 false이면 더 이상 받아올 이미지가 없음 \n",
    "    \n",
    "    if not ret :\n",
    "        print('더 이상 가져올 프레임이 없습니다')\n",
    "        break\n",
    "    cv2.imshow('video',frame)\n",
    "    \n",
    "    if cv2.waitKey(1) == ord('q'): # key값이 q의 아스키코드 값과 같다면 멈춤\n",
    "        # 각 프레임 당 1s 미리세컨드만큼 보여줌\n",
    "        print('사용자 입력에 의해 영상을 종료합니다')\n",
    "        break\n",
    "    \n",
    "\n",
    "cap.release() # 자원 해제 \n",
    "cv2.destroyAllWindows() # 모든 창 닫기"
   ]
  },
  {
   "cell_type": "markdown",
   "id": "327161a5",
   "metadata": {},
   "source": [
    "## 카메라 출력"
   ]
  },
  {
   "cell_type": "code",
   "execution_count": 6,
   "id": "5515cad9",
   "metadata": {},
   "outputs": [],
   "source": [
    "import cv2 \n",
    "cap = cv2.VideoCapture(0) # 0번째 카메라 (기본카메라) 장치 Device ID \n",
    "\n",
    "if not cap.isOpened(): # 카메라가 잘 열리지 않은 경우\n",
    "    exit() # 프로그램 종료 \n",
    "    \n",
    "while True : # 무한반복\n",
    "    ret, frame = cap.read()\n",
    "    if not ret :\n",
    "        break\n",
    "    \n",
    "    cv2.imshow('camera',frame)\n",
    "    \n",
    "    if cv2.waitKey(1) == ord('q'): # 사용자가 q를 입력하면 종료\n",
    "        break\n",
    "    \n",
    "cap.release()\n",
    "cv2.destroyAllWindows()"
   ]
  }
 ],
 "metadata": {
  "kernelspec": {
   "display_name": "Python 3 (ipykernel)",
   "language": "python",
   "name": "python3"
  },
  "language_info": {
   "codemirror_mode": {
    "name": "ipython",
    "version": 3
   },
   "file_extension": ".py",
   "mimetype": "text/x-python",
   "name": "python",
   "nbconvert_exporter": "python",
   "pygments_lexer": "ipython3",
   "version": "3.10.9"
  }
 },
 "nbformat": 4,
 "nbformat_minor": 5
}
