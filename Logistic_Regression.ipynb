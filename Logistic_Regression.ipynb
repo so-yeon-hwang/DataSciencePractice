{
  "cells": [
    {
      "cell_type": "markdown",
      "source": [
        "# Logistic Regression"
      ],
      "metadata": {
        "id": "_yiwvAdLl_i3"
      }
    },
    {
      "cell_type": "markdown",
      "source": [
        "## torch"
      ],
      "metadata": {
        "id": "7-v_ddvo05VN"
      }
    },
    {
      "cell_type": "code",
      "source": [
        "import torch"
      ],
      "metadata": {
        "id": "kFinJo5ll_Wa"
      },
      "execution_count": 2,
      "outputs": []
    },
    {
      "cell_type": "code",
      "source": [
        "x_train = torch.FloatTensor([[1],[2],[3],[4],[5],[2.5],[3.5],[0],[3.1],[2.7],[2.8],[2.9]])\n",
        "y_train = torch.FloatTensor([[1],[1],[1],[0],[0],[0],[0],[1],[0],[1],[1],[1]])"
      ],
      "metadata": {
        "id": "v30u6ZkFmD9Y"
      },
      "execution_count": 3,
      "outputs": []
    },
    {
      "cell_type": "code",
      "source": [
        "x_train.shape"
      ],
      "metadata": {
        "colab": {
          "base_uri": "https://localhost:8080/"
        },
        "id": "blZVsEryy6ix",
        "outputId": "a6661fa5-8a48-49c9-8d54-cfece422a5d4"
      },
      "execution_count": 25,
      "outputs": [
        {
          "output_type": "execute_result",
          "data": {
            "text/plain": [
              "torch.Size([12, 1])"
            ]
          },
          "metadata": {},
          "execution_count": 25
        }
      ]
    },
    {
      "cell_type": "code",
      "source": [
        "torch.linspace(0,5,100)"
      ],
      "metadata": {
        "colab": {
          "base_uri": "https://localhost:8080/"
        },
        "id": "NEfhT4u6y-ve",
        "outputId": "1215e0eb-a7ee-4a10-e0c8-0d3042749d3f"
      },
      "execution_count": 26,
      "outputs": [
        {
          "output_type": "execute_result",
          "data": {
            "text/plain": [
              "tensor([0.0000, 0.0505, 0.1010, 0.1515, 0.2020, 0.2525, 0.3030, 0.3535, 0.4040,\n",
              "        0.4545, 0.5051, 0.5556, 0.6061, 0.6566, 0.7071, 0.7576, 0.8081, 0.8586,\n",
              "        0.9091, 0.9596, 1.0101, 1.0606, 1.1111, 1.1616, 1.2121, 1.2626, 1.3131,\n",
              "        1.3636, 1.4141, 1.4646, 1.5152, 1.5657, 1.6162, 1.6667, 1.7172, 1.7677,\n",
              "        1.8182, 1.8687, 1.9192, 1.9697, 2.0202, 2.0707, 2.1212, 2.1717, 2.2222,\n",
              "        2.2727, 2.3232, 2.3737, 2.4242, 2.4747, 2.5253, 2.5758, 2.6263, 2.6768,\n",
              "        2.7273, 2.7778, 2.8283, 2.8788, 2.9293, 2.9798, 3.0303, 3.0808, 3.1313,\n",
              "        3.1818, 3.2323, 3.2828, 3.3333, 3.3838, 3.4343, 3.4848, 3.5354, 3.5859,\n",
              "        3.6364, 3.6869, 3.7374, 3.7879, 3.8384, 3.8889, 3.9394, 3.9899, 4.0404,\n",
              "        4.0909, 4.1414, 4.1919, 4.2424, 4.2929, 4.3434, 4.3939, 4.4444, 4.4949,\n",
              "        4.5455, 4.5960, 4.6465, 4.6970, 4.7475, 4.7980, 4.8485, 4.8990, 4.9495,\n",
              "        5.0000])"
            ]
          },
          "metadata": {},
          "execution_count": 26
        }
      ]
    },
    {
      "cell_type": "code",
      "source": [
        "torch.linspace(0,5,100).shape"
      ],
      "metadata": {
        "colab": {
          "base_uri": "https://localhost:8080/"
        },
        "id": "UtRd45wSzBMg",
        "outputId": "ffa328f9-a3b2-48ea-ff89-c130d54867c0"
      },
      "execution_count": 27,
      "outputs": [
        {
          "output_type": "execute_result",
          "data": {
            "text/plain": [
              "torch.Size([100])"
            ]
          },
          "metadata": {},
          "execution_count": 27
        }
      ]
    },
    {
      "cell_type": "code",
      "source": [
        "torch.linspace(0,5,100).unsqueeze(1)"
      ],
      "metadata": {
        "colab": {
          "base_uri": "https://localhost:8080/"
        },
        "id": "44FJk0b20GG_",
        "outputId": "f5b4db2a-aa45-41fb-cd9d-4b885778dd09"
      },
      "execution_count": 29,
      "outputs": [
        {
          "output_type": "execute_result",
          "data": {
            "text/plain": [
              "tensor([[0.0000],\n",
              "        [0.0505],\n",
              "        [0.1010],\n",
              "        [0.1515],\n",
              "        [0.2020],\n",
              "        [0.2525],\n",
              "        [0.3030],\n",
              "        [0.3535],\n",
              "        [0.4040],\n",
              "        [0.4545],\n",
              "        [0.5051],\n",
              "        [0.5556],\n",
              "        [0.6061],\n",
              "        [0.6566],\n",
              "        [0.7071],\n",
              "        [0.7576],\n",
              "        [0.8081],\n",
              "        [0.8586],\n",
              "        [0.9091],\n",
              "        [0.9596],\n",
              "        [1.0101],\n",
              "        [1.0606],\n",
              "        [1.1111],\n",
              "        [1.1616],\n",
              "        [1.2121],\n",
              "        [1.2626],\n",
              "        [1.3131],\n",
              "        [1.3636],\n",
              "        [1.4141],\n",
              "        [1.4646],\n",
              "        [1.5152],\n",
              "        [1.5657],\n",
              "        [1.6162],\n",
              "        [1.6667],\n",
              "        [1.7172],\n",
              "        [1.7677],\n",
              "        [1.8182],\n",
              "        [1.8687],\n",
              "        [1.9192],\n",
              "        [1.9697],\n",
              "        [2.0202],\n",
              "        [2.0707],\n",
              "        [2.1212],\n",
              "        [2.1717],\n",
              "        [2.2222],\n",
              "        [2.2727],\n",
              "        [2.3232],\n",
              "        [2.3737],\n",
              "        [2.4242],\n",
              "        [2.4747],\n",
              "        [2.5253],\n",
              "        [2.5758],\n",
              "        [2.6263],\n",
              "        [2.6768],\n",
              "        [2.7273],\n",
              "        [2.7778],\n",
              "        [2.8283],\n",
              "        [2.8788],\n",
              "        [2.9293],\n",
              "        [2.9798],\n",
              "        [3.0303],\n",
              "        [3.0808],\n",
              "        [3.1313],\n",
              "        [3.1818],\n",
              "        [3.2323],\n",
              "        [3.2828],\n",
              "        [3.3333],\n",
              "        [3.3838],\n",
              "        [3.4343],\n",
              "        [3.4848],\n",
              "        [3.5354],\n",
              "        [3.5859],\n",
              "        [3.6364],\n",
              "        [3.6869],\n",
              "        [3.7374],\n",
              "        [3.7879],\n",
              "        [3.8384],\n",
              "        [3.8889],\n",
              "        [3.9394],\n",
              "        [3.9899],\n",
              "        [4.0404],\n",
              "        [4.0909],\n",
              "        [4.1414],\n",
              "        [4.1919],\n",
              "        [4.2424],\n",
              "        [4.2929],\n",
              "        [4.3434],\n",
              "        [4.3939],\n",
              "        [4.4444],\n",
              "        [4.4949],\n",
              "        [4.5455],\n",
              "        [4.5960],\n",
              "        [4.6465],\n",
              "        [4.6970],\n",
              "        [4.7475],\n",
              "        [4.7980],\n",
              "        [4.8485],\n",
              "        [4.8990],\n",
              "        [4.9495],\n",
              "        [5.0000]])"
            ]
          },
          "metadata": {},
          "execution_count": 29
        }
      ]
    },
    {
      "cell_type": "code",
      "source": [
        "torch.linspace(0,5,100).unsqueeze(1).shape"
      ],
      "metadata": {
        "colab": {
          "base_uri": "https://localhost:8080/"
        },
        "id": "U0Hve8g3zFAH",
        "outputId": "bfd416c3-a707-4273-db83-8abb6528d2cd"
      },
      "execution_count": 28,
      "outputs": [
        {
          "output_type": "execute_result",
          "data": {
            "text/plain": [
              "torch.Size([100, 1])"
            ]
          },
          "metadata": {},
          "execution_count": 28
        }
      ]
    },
    {
      "cell_type": "code",
      "source": [
        "# reset W and b value\n",
        "W = torch.randn(1,1)\n",
        "b = torch.randn(1,1)\n",
        "\n",
        "lr = 1.0"
      ],
      "metadata": {
        "id": "0veCKC7_mFIF"
      },
      "execution_count": 21,
      "outputs": []
    },
    {
      "cell_type": "code",
      "source": [
        "for epoch in range(3001):\n",
        "  W.requires_grad_(True)\n",
        "  b.requires_grad_(True)\n",
        "\n",
        "  # Logistic H(x)\n",
        "  h = torch.sigmoid(x_train @ W + b)\n",
        "  cost = torch.mean(-y_train * torch.log(h) - (1-y_train) * torch.log(1-h))\n",
        "\n",
        "  # cost 미분\n",
        "  cost.backward() # autograde / calculate the gradient\n",
        "\n",
        "  # update\n",
        "  with torch.no_grad(): # stop calculating gradient\n",
        "    W = W - lr * W.grad\n",
        "    b = b - lr * b.grad\n",
        "\n",
        "    if epoch % 100 == 0:\n",
        "      print( 'epoch: {}, cost: {:.10f}, W: {:.6f}, b: {:.6f}'.format(epoch, cost.item(), W.squeeze(), b.squeeze()))"
      ],
      "metadata": {
        "colab": {
          "base_uri": "https://localhost:8080/"
        },
        "id": "r03Z8LQDs8XG",
        "outputId": "7c08b21c-a7e5-45e9-c582-7ea8f0586b3f"
      },
      "execution_count": 22,
      "outputs": [
        {
          "output_type": "stream",
          "name": "stdout",
          "text": [
            "epoch: 0, cost: 1.8559254408, W: 0.464827, b: -1.182840\n",
            "epoch: 100, cost: 0.4240571558, W: -1.393674, b: 4.229851\n",
            "epoch: 200, cost: 0.3998447955, W: -1.866858, b: 5.677768\n",
            "epoch: 300, cost: 0.3913150728, W: -2.153237, b: 6.545844\n",
            "epoch: 400, cost: 0.3872662485, W: -2.352061, b: 7.145627\n",
            "epoch: 500, cost: 0.3850711584, W: -2.499069, b: 7.587811\n",
            "epoch: 600, cost: 0.3837872744, W: -2.611786, b: 7.926190\n",
            "epoch: 700, cost: 0.3829991519, W: -2.700266, b: 8.191440\n",
            "epoch: 800, cost: 0.3824986517, W: -2.770865, b: 8.402866\n",
            "epoch: 900, cost: 0.3821729422, W: -2.827868, b: 8.573442\n",
            "epoch: 1000, cost: 0.3819572031, W: -2.874306, b: 8.712319\n",
            "epoch: 1100, cost: 0.3818120956, W: -2.912397, b: 8.826179\n",
            "epoch: 1200, cost: 0.3817135394, W: -2.943814, b: 8.920050\n",
            "epoch: 1300, cost: 0.3816460371, W: -2.969831, b: 8.997763\n",
            "epoch: 1400, cost: 0.3815994263, W: -2.991452, b: 9.062330\n",
            "epoch: 1500, cost: 0.3815670311, W: -3.009474, b: 9.116137\n",
            "epoch: 1600, cost: 0.3815444410, W: -3.024527, b: 9.161072\n",
            "epoch: 1700, cost: 0.3815286160, W: -3.037124, b: 9.198669\n",
            "epoch: 1800, cost: 0.3815176189, W: -3.047682, b: 9.230179\n",
            "epoch: 1900, cost: 0.3815097511, W: -3.056543, b: 9.256620\n",
            "epoch: 2000, cost: 0.3815042078, W: -3.063987, b: 9.278830\n",
            "epoch: 2100, cost: 0.3815003335, W: -3.070245, b: 9.297502\n",
            "epoch: 2200, cost: 0.3814975321, W: -3.075511, b: 9.313213\n",
            "epoch: 2300, cost: 0.3814956844, W: -3.079945, b: 9.326440\n",
            "epoch: 2400, cost: 0.3814941943, W: -3.083680, b: 9.337582\n",
            "epoch: 2500, cost: 0.3814932108, W: -3.086828, b: 9.346972\n",
            "epoch: 2600, cost: 0.3814925253, W: -3.089483, b: 9.354891\n",
            "epoch: 2700, cost: 0.3814920187, W: -3.091722, b: 9.361571\n",
            "epoch: 2800, cost: 0.3814916909, W: -3.093611, b: 9.367205\n",
            "epoch: 2900, cost: 0.3814914227, W: -3.095204, b: 9.371958\n",
            "epoch: 3000, cost: 0.3814913034, W: -3.096550, b: 9.375973\n"
          ]
        }
      ]
    },
    {
      "cell_type": "code",
      "source": [
        "x_test = torch.FloatTensor([[4.5],[1.1]])\n",
        "test_result = torch.sigmoid(torch.mm(x_test,W) + b)\n",
        "test_result # 0.0104 / 0.9975 > (approximately) 0 and 1"
      ],
      "metadata": {
        "colab": {
          "base_uri": "https://localhost:8080/"
        },
        "id": "SOD7FzGTtJNP",
        "outputId": "01fef751-a421-47e0-d793-321ad26bf275"
      },
      "execution_count": 23,
      "outputs": [
        {
          "output_type": "execute_result",
          "data": {
            "text/plain": [
              "tensor([[0.0104],\n",
              "        [0.9975]])"
            ]
          },
          "metadata": {},
          "execution_count": 23
        }
      ]
    },
    {
      "cell_type": "markdown",
      "source": [
        "## Using various Optimizer"
      ],
      "metadata": {
        "id": "7eyN9-TBttfQ"
      }
    },
    {
      "cell_type": "code",
      "source": [
        "optimizer = torch.optim.SGD([W,b], lr=1.0)\n",
        "optimizer = torch.optim.Adam([W,b], lr=1.0)\n",
        "optimizer = torch.optim.Adadelta([W,b])\n",
        "optimizer = torch.optim.Adagrad([W,b])\n",
        "optimizer = torch.optim.RMSprop([W,b])"
      ],
      "metadata": {
        "id": "l0qaBACJti3J"
      },
      "execution_count": null,
      "outputs": []
    },
    {
      "cell_type": "markdown",
      "source": [
        "## Visualization"
      ],
      "metadata": {
        "id": "izj-C3cxyCl9"
      }
    },
    {
      "cell_type": "code",
      "source": [
        "import matplotlib.pyplot as plt"
      ],
      "metadata": {
        "id": "BjkvG1VmyDM4"
      },
      "execution_count": 24,
      "outputs": []
    },
    {
      "cell_type": "code",
      "source": [
        "W.requires_grad_(False)\n",
        "b.requires_grad_(False)\n",
        "\n",
        "plt.scatter(x_train,y_train,c='black')\n",
        "\n",
        "X = torch.linspace(0,5,100).unsqueeze(1)\n",
        "Y = torch.sigmoid(torch.mm(X,W) + b)\n",
        "plt.plot(X,Y,c='r')\n",
        "plt.show()"
      ],
      "metadata": {
        "colab": {
          "base_uri": "https://localhost:8080/",
          "height": 430
        },
        "id": "8iaPoY1ayHLL",
        "outputId": "ec4d58c2-bba5-45ba-837e-f17b5c04e63e"
      },
      "execution_count": 31,
      "outputs": [
        {
          "output_type": "display_data",
          "data": {
            "text/plain": [
              "<Figure size 640x480 with 1 Axes>"
            ],
            "image/png": "[encoded data removed]"
          },
          "metadata": {}
        }
      ]
    },
    {
      "cell_type": "markdown",
      "source": [
        "## sklearn"
      ],
      "metadata": {
        "id": "JYA7V7tF00IE"
      }
    },
    {
      "cell_type": "code",
      "source": [
        "from sklearn.linear_model import LogisticRegression\n",
        "\n",
        "x_train = [[1],[2],[3],[4],[5],[2.5],[3.5],[0],[3.1],[2.7],[2.8],[2.9]]\n",
        "y_train = [1,1,1,0,0,0,0,1,0,1,1,1]  # input shape is different from pytorch version\n",
        "\n",
        "Logistic_model = LogisticRegression(penalty = 'none') #(penalty = regulization)\n",
        "Logistic_model.fit(x_train,y_train)\n",
        "\n",
        "print(Logistic_model.coef_, Logistic_model.intercept_)\n",
        "\n",
        "x_test = [[4.5],[1.1]]\n",
        "test_result = Logistic_model.predict(x_test)\n",
        "print(test_result)"
      ],
      "metadata": {
        "colab": {
          "base_uri": "https://localhost:8080/"
        },
        "id": "xMtChHJr0t_X",
        "outputId": "7787bc2b-0150-43c2-f574-849889aced4e"
      },
      "execution_count": 33,
      "outputs": [
        {
          "output_type": "stream",
          "name": "stdout",
          "text": [
            "[[-3.10385806]] [9.39776831]\n",
            "[0 1]\n"
          ]
        },
        {
          "output_type": "stream",
          "name": "stderr",
          "text": [
            "/usr/local/lib/python3.10/dist-packages/sklearn/linear_model/_logistic.py:1173: FutureWarning: `penalty='none'`has been deprecated in 1.2 and will be removed in 1.4. To keep the past behaviour, set `penalty=None`.\n",
            "  warnings.warn(\n"
          ]
        }
      ]
    }
  ],
  "metadata": {
    "colab": {
      "provenance": [],
      "collapsed_sections": [
        "LHge_Qud7kKX",
        "s3IfKIPbb3gx",
        "hDDLcIJroxY2"
      ],
      "toc_visible": true
    },
    "kernelspec": {
      "display_name": "Python 3",
      "name": "python3"
    },
    "language_info": {
      "name": "python"
    }
  },
  "nbformat": 4,
  "nbformat_minor": 0
}