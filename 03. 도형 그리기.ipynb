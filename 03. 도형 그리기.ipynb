{
 "cells": [
  {
   "cell_type": "markdown",
   "id": "8a934900",
   "metadata": {},
   "source": [
    "# 3. 도형 그리기"
   ]
  },
  {
   "cell_type": "markdown",
   "id": "d7a2431c",
   "metadata": {},
   "source": [
    "## 빈 스케치북 만들기\n",
    "전체공간을 특정 색으로 칠"
   ]
  },
  {
   "cell_type": "code",
   "execution_count": 8,
   "id": "05026f61",
   "metadata": {},
   "outputs": [],
   "source": [
    "import cv2\n",
    "import numpy as np \n",
    "\n",
    "# 세로 480 x 가로 640 , 3 channel (RGB) 에 해당하는 스케치북 만들기\n",
    "img = np.zeros((480,640,3), dtype = np.uint8)\n",
    "# img[:] = (255,255,255) # 전체 공간을 흰색으로 채우기  (B,G,R)순서\n",
    "# print(img)\n",
    "\n",
    "cv2.imshow('img',img)\n",
    "cv2.waitKey(0) # 무한정대기\n",
    "cv2.destroyAllWindows()"
   ]
  },
  {
   "cell_type": "markdown",
   "id": "b432b03e",
   "metadata": {},
   "source": [
    "## 일부 영역 색칠"
   ]
  },
  {
   "cell_type": "code",
   "execution_count": 9,
   "id": "eae624f8",
   "metadata": {},
   "outputs": [],
   "source": [
    "import cv2\n",
    "import numpy as np \n",
    "\n",
    "img = np.zeros((480,640,3), dtype = np.uint8)\n",
    "img[100:200, 200:300] = (255,255,255)\n",
    "# img[세로영역,가로영역] 지정\n",
    "\n",
    "cv2.imshow('img',img)\n",
    "cv2.waitKey(0) \n",
    "cv2.destroyAllWindows()"
   ]
  },
  {
   "cell_type": "markdown",
   "id": "dc101266",
   "metadata": {},
   "source": [
    "## 직선\n",
    "#### 직선의 종류 (line type)\n",
    "1. cv2.LINE_4 : 상하좌우 4 방향으로 연결된 선\n",
    "2. cv2.LINE_8 : 대각선을 포함한 8 방향으로 연결된 선(기본값)\n",
    "3. cv2.LINE_AA : 부드러운 선 (anti-aliasing)  \n",
    "투명도를 적용해서 더 부드러운 선을 표현할 수 있음   \n",
    "(동영상 49:00에서 LINE_4, LINE_8에 대한 차이 확인 가능)"
   ]
  },
  {
   "cell_type": "code",
   "execution_count": 11,
   "id": "8d76f6ce",
   "metadata": {},
   "outputs": [],
   "source": [
    "import cv2\n",
    "import numpy as np \n",
    "\n",
    "img = np.zeros((480,640,3), dtype = np.uint8)\n",
    "COLOR = (0,255,255) # 색상 | BGR 순서 > 노란색 만들기 \n",
    "THICKNESS = 3 # 두께 \n",
    "\n",
    "# 그림 위치, 시작점, 끝점, 색깔, 두께, 선 종류\n",
    "cv2.line(img, (50,100), (400,50), COLOR, THICKNESS, cv2.LINE_8)\n",
    "cv2.line(img, (50,200), (400,150), COLOR, THICKNESS, cv2.LINE_4)\n",
    "cv2.line(img, (50,300), (400,250), COLOR, THICKNESS, cv2.LINE_AA)\n",
    "\n",
    "cv2.imshow('img',img)\n",
    "cv2.waitKey(0)\n",
    "cv2.destroyAllWindows()"
   ]
  },
  {
   "cell_type": "markdown",
   "id": "919186a8",
   "metadata": {},
   "source": [
    "## 원"
   ]
  },
  {
   "cell_type": "code",
   "execution_count": 13,
   "id": "b5cdc034",
   "metadata": {},
   "outputs": [],
   "source": [
    "import cv2\n",
    "import numpy as np \n",
    "\n",
    "img = np.zeros((480,640,3), dtype = np.uint8)\n",
    "COLOR = (255,255,0) # 밝은 파랑 \n",
    "RADIUS = 50 # 반지름\n",
    "THICKNESS = 10 # 두께 \n",
    "\n",
    "cv2.circle(img,(200,100), RADIUS, COLOR, THICKNESS, cv2.LINE_AA) # 속이 빈 원\n",
    "# 그릴 위치, 원의 중심점, 반지름, 색깔, 두께, 선 종류 \n",
    "cv2.circle(img,(400,100), RADIUS, COLOR, cv2.FILLED, cv2.LINE_AA) # 속이 찬 원\n",
    "# cv2.FILLED 대신 -1만 적어도 대체가능 \n",
    "\n",
    "cv2.imshow('img',img)\n",
    "cv2.waitKey(0)\n",
    "cv2.destroyAllWindows()"
   ]
  },
  {
   "cell_type": "markdown",
   "id": "3cb9a381",
   "metadata": {},
   "source": [
    "## 사각형"
   ]
  },
  {
   "cell_type": "code",
   "execution_count": 18,
   "id": "6955ddbd",
   "metadata": {},
   "outputs": [],
   "source": [
    "import cv2\n",
    "import numpy as np \n",
    "\n",
    "img = np.zeros((480,640,3), dtype = np.uint8)\n",
    "\n",
    "COLOR = (0,255,0) # BGR 초록색\n",
    "THICKNESS = 2 # 두께 \n",
    "\n",
    "# 그릴 위치, 왼쪽 위 좌표, 오른쪽 위 좌표, 색깔, 두께\n",
    "cv2.rectangle(img,(100,100),(200,200),COLOR, THICKNESS) # 속이 빈 사각형\n",
    "cv2.rectangle(img,(300,300),(400,400),COLOR, -1) # 속이 찬 사각형\n",
    "\n",
    "\n",
    "cv2.imshow('img',img)\n",
    "cv2.waitKey(0)\n",
    "cv2.destroyAllWindows()"
   ]
  },
  {
   "cell_type": "markdown",
   "id": "e39b95f4",
   "metadata": {},
   "source": [
    "# 다각형"
   ]
  },
  {
   "cell_type": "code",
   "execution_count": 11,
   "id": "29042f21",
   "metadata": {},
   "outputs": [],
   "source": [
    "import cv2\n",
    "import numpy as np \n",
    "\n",
    "img = np.zeros((480,640,3), dtype = np.uint8)\n",
    "\n",
    "COLOR = (0,0,240) # BGR 초록색\n",
    "THICKNESS = 3 # 두께 \n",
    "\n",
    "# 삼각형\n",
    "pts1 = np.array([[100,100], [200,100], [100,200]])\n",
    "pts2 = np.array([[200,100], [300,100], [300,200]])\n",
    "\n",
    "# 어디에 그릴지, [지점(위치) 정의], 닫힘 여부 정의 (closed)\n",
    "# (열림 : 선만 있음, 닫힘 : 선들을 모두 이어 첫번째 점과 끝점을 #연결#)\n",
    "# cv2.polylines(img, [pts1], True, COLOR, THICKNESS, cv2.LINE_AA)\n",
    "# cv2.polylines(img, [pts2], True, COLOR, THICKNESS, cv2.LINE_AA)\n",
    "\n",
    "# 리스트 형태로 pts1, pts2를 넣으면 한번에 그려줌 \n",
    "\n",
    "# 그릴 위치, 그릴 좌표 정의(point list), 닫힘 여부(닫히면 첫점과 마지막점 연결), 선 종류\n",
    "cv2.polylines(img, [pts1,pts2], True, COLOR, THICKNESS, cv2.LINE_AA) # 속이 빔\n",
    "\n",
    "# cv2.fillPoly에서는 열림 닫힘 여부, 두께 상관 x 색이 모두 차기 때문에 \n",
    "pts3 = np.array([[[100,300], [200,300], [100,400]] , [[200,300],[300,300],[300,400]]])\n",
    "cv2.fillPoly(img, pts3, COLOR, cv2.LINE_AA) #꽉 찬 다각형\n",
    "# 그릴 위치, 그릴 좌표들, 색깔, 선 종류\n",
    "\n",
    "cv2.imshow('img',img)\n",
    "cv2.waitKey(0)\n",
    "cv2.destroyAllWindows()"
   ]
  }
 ],
 "metadata": {
  "kernelspec": {
   "display_name": "Python 3 (ipykernel)",
   "language": "python",
   "name": "python3"
  },
  "language_info": {
   "codemirror_mode": {
    "name": "ipython",
    "version": 3
   },
   "file_extension": ".py",
   "mimetype": "text/x-python",
   "name": "python",
   "nbconvert_exporter": "python",
   "pygments_lexer": "ipython3",
   "version": "3.10.9"
  }
 },
 "nbformat": 4,
 "nbformat_minor": 5
}
