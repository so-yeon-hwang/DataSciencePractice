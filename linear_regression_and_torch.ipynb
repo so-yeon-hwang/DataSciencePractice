{
  "nbformat": 4,
  "nbformat_minor": 0,
  "metadata": {
    "colab": {
      "provenance": [],
      "authorship_tag": "ABX9TyPfWPwtwVAwIpmt3Pd+4Cuv",
      "include_colab_link": true
    },
    "kernelspec": {
      "name": "python3",
      "display_name": "Python 3"
    },
    "language_info": {
      "name": "python"
    }
  },
  "cells": [
    {
      "cell_type": "markdown",
      "metadata": {
        "id": "view-in-github",
        "colab_type": "text"
      },
      "source": [
        "<a href=\"https://colab.research.google.com/github/so-yeon-hwang/DataSciencePractice/blob/Data-Science-Class-(fall-2023)/linear_regression_and_torch.ipynb\" target=\"_parent\"><img src=\"https://colab.research.google.com/assets/colab-badge.svg\" alt=\"Open In Colab\"/></a>"
      ]
    },
    {
      "cell_type": "markdown",
      "source": [
        "# torch / pytorch"
      ],
      "metadata": {
        "id": "LHge_Qud7kKX"
      }
    },
    {
      "cell_type": "code",
      "source": [
        "import torch"
      ],
      "metadata": {
        "id": "MiU-8GvK7ep-"
      },
      "execution_count": 3,
      "outputs": []
    },
    {
      "cell_type": "code",
      "execution_count": 4,
      "metadata": {
        "colab": {
          "base_uri": "https://localhost:8080/"
        },
        "id": "3HTxRmI264UN",
        "outputId": "f4b1bae4-9142-4691-ae41-1f226351099e"
      },
      "outputs": [
        {
          "output_type": "stream",
          "name": "stdout",
          "text": [
            "x =  tensor([[1, 2, 3],\n",
            "        [4, 5, 6],\n",
            "        [7, 8, 9]])\n",
            "y =  tensor([[1., 2., 3.],\n",
            "        [4., 5., 6.],\n",
            "        [7., 8., 9.]])\n"
          ]
        }
      ],
      "source": [
        "x = torch.tensor([[1,2,3],[4,5,6],[7,8,9]])\n",
        "y = torch.FloatTensor([[1,2,3],[4,5,6],[7,8,9]])\n",
        "\n",
        "print('x = ' , x)\n",
        "print('y = ' , y)"
      ]
    },
    {
      "cell_type": "code",
      "source": [
        "# checking the size and rank\n",
        "print('size : ' , x.size())\n",
        "print('shape : ' ,x.shape)\n",
        "print('rank : ', x.ndimension())"
      ],
      "metadata": {
        "colab": {
          "base_uri": "https://localhost:8080/"
        },
        "id": "lPnFcRrY7YcX",
        "outputId": "cf4b01ac-7005-428b-fb74-6087a776a4a3"
      },
      "execution_count": 10,
      "outputs": [
        {
          "output_type": "stream",
          "name": "stdout",
          "text": [
            "size :  torch.Size([3, 3])\n",
            "shape :  torch.Size([3, 3])\n",
            "rank :  2\n"
          ]
        }
      ]
    },
    {
      "cell_type": "code",
      "source": [
        "x = torch.tensor([[1,2,3],[4,5,6],[7,8,9]])\n",
        "\n",
        "x0 = torch.unsqueeze(x, 0)\n",
        "x1 = torch.unsqueeze(x, 1)\n",
        "x2 = torch.unsqueeze(x, 2)\n",
        "\n",
        "print(\"x0.shape:\", x0.shape)\n",
        "print(\"x1.shape:\", x1.shape)\n",
        "print(\"x2.shape:\", x2.shape)\n",
        "\n",
        "print(\"x0 =\", x0)\n",
        "print(\"x1 =\", x1)\n",
        "print(\"x2 =\", x2)\n",
        "\n",
        "print(\"x0.ndimension :\", x0.ndimension())\n",
        "print(\"x1.ndimension :\", x1.ndimension())\n",
        "print(\"x2.ndimension :\", x2.ndimension())"
      ],
      "metadata": {
        "colab": {
          "base_uri": "https://localhost:8080/"
        },
        "id": "faSihxey78lx",
        "outputId": "eff94c5a-9546-4abd-e956-d71a801d9104"
      },
      "execution_count": 13,
      "outputs": [
        {
          "output_type": "stream",
          "name": "stdout",
          "text": [
            "x0.shape: torch.Size([1, 3, 3])\n",
            "x1.shape: torch.Size([3, 1, 3])\n",
            "x2.shape: torch.Size([3, 3, 1])\n",
            "x0 = tensor([[[1, 2, 3],\n",
            "         [4, 5, 6],\n",
            "         [7, 8, 9]]])\n",
            "x1 = tensor([[[1, 2, 3]],\n",
            "\n",
            "        [[4, 5, 6]],\n",
            "\n",
            "        [[7, 8, 9]]])\n",
            "x2 = tensor([[[1],\n",
            "         [2],\n",
            "         [3]],\n",
            "\n",
            "        [[4],\n",
            "         [5],\n",
            "         [6]],\n",
            "\n",
            "        [[7],\n",
            "         [8],\n",
            "         [9]]])\n",
            "x0.ndimension : 3\n",
            "x1.ndimension : 3\n",
            "x2.ndimension : 3\n"
          ]
        }
      ]
    },
    {
      "cell_type": "code",
      "source": [
        "# ERROR dimension\n",
        "\n",
        "# original size of x == 3x3\n",
        "# unsqueezing 3rd index of torch(=array) x cannot be executed, cause 3rd index means 4th dimension, but torch x does not have 4th dimension\n",
        "\n",
        "# x3 = torch.unsqueeze(x, 3)\n",
        "# x3"
      ],
      "metadata": {
        "id": "5gauR5ooDEao"
      },
      "execution_count": 17,
      "outputs": []
    },
    {
      "cell_type": "code",
      "source": [
        "x = torch.tensor([[1, 2],\n",
        "                  [3, 4]])\n",
        "x3 = torch.unsqueeze(x, 0)\n",
        "x3"
      ],
      "metadata": {
        "colab": {
          "base_uri": "https://localhost:8080/"
        },
        "id": "ycazXrPEBD2a",
        "outputId": "186e1aea-4b83-4845-ee0d-2119bf4f4e8e"
      },
      "execution_count": 14,
      "outputs": [
        {
          "output_type": "execute_result",
          "data": {
            "text/plain": [
              "tensor([[[1, 2],\n",
              "         [3, 4]]])"
            ]
          },
          "metadata": {},
          "execution_count": 14
        }
      ]
    },
    {
      "cell_type": "code",
      "source": [
        "x3.ndimension()"
      ],
      "metadata": {
        "colab": {
          "base_uri": "https://localhost:8080/"
        },
        "id": "8jSz1ReeBk4j",
        "outputId": "e7ba4420-4dfd-439c-ac3a-c4618cb8d034"
      },
      "execution_count": 15,
      "outputs": [
        {
          "output_type": "execute_result",
          "data": {
            "text/plain": [
              "3"
            ]
          },
          "metadata": {},
          "execution_count": 15
        }
      ]
    },
    {
      "cell_type": "code",
      "source": [
        "a = torch.tensor([[[1, 2],\n",
        "                   [3, 4]],\n",
        "                  [[5, 6],\n",
        "                   [7, 8]]])\n",
        "a0 = torch.unsqueeze(a,0)\n",
        "a0"
      ],
      "metadata": {
        "colab": {
          "base_uri": "https://localhost:8080/"
        },
        "id": "dEZEm9eUBrNy",
        "outputId": "3920b214-e76a-4820-cc60-70a38cd9ce03"
      },
      "execution_count": 18,
      "outputs": [
        {
          "output_type": "execute_result",
          "data": {
            "text/plain": [
              "tensor([[[[1, 2],\n",
              "          [3, 4]],\n",
              "\n",
              "         [[5, 6],\n",
              "          [7, 8]]]])"
            ]
          },
          "metadata": {},
          "execution_count": 18
        }
      ]
    },
    {
      "cell_type": "code",
      "source": [
        "a3 = torch.unsqueeze(a,3)"
      ],
      "metadata": {
        "id": "JznYZpM2EgyT"
      },
      "execution_count": 19,
      "outputs": []
    },
    {
      "cell_type": "code",
      "source": [
        "a3"
      ],
      "metadata": {
        "colab": {
          "base_uri": "https://localhost:8080/"
        },
        "id": "8Yjbco3eEkYH",
        "outputId": "fdac4c52-5821-4bfb-cd3e-63ed12751a70"
      },
      "execution_count": 20,
      "outputs": [
        {
          "output_type": "execute_result",
          "data": {
            "text/plain": [
              "tensor([[[[1],\n",
              "          [2]],\n",
              "\n",
              "         [[3],\n",
              "          [4]]],\n",
              "\n",
              "\n",
              "        [[[5],\n",
              "          [6]],\n",
              "\n",
              "         [[7],\n",
              "          [8]]]])"
            ]
          },
          "metadata": {},
          "execution_count": 20
        }
      ]
    },
    {
      "cell_type": "code",
      "source": [
        "a2 = torch.unsqueeze(a,2)\n",
        "a2"
      ],
      "metadata": {
        "colab": {
          "base_uri": "https://localhost:8080/"
        },
        "id": "BCQFNe2eEkw5",
        "outputId": "9b3797e8-710b-42e9-d816-0dc65ccb3d64"
      },
      "execution_count": 21,
      "outputs": [
        {
          "output_type": "execute_result",
          "data": {
            "text/plain": [
              "tensor([[[[1, 2]],\n",
              "\n",
              "         [[3, 4]]],\n",
              "\n",
              "\n",
              "        [[[5, 6]],\n",
              "\n",
              "         [[7, 8]]]])"
            ]
          },
          "metadata": {},
          "execution_count": 21
        }
      ]
    },
    {
      "cell_type": "code",
      "source": [
        "x0"
      ],
      "metadata": {
        "colab": {
          "base_uri": "https://localhost:8080/"
        },
        "id": "m3C0S4INEnbj",
        "outputId": "92dd941d-97a0-4047-9fee-926c8dfae643"
      },
      "execution_count": 22,
      "outputs": [
        {
          "output_type": "execute_result",
          "data": {
            "text/plain": [
              "tensor([[[1, 2, 3],\n",
              "         [4, 5, 6],\n",
              "         [7, 8, 9]]])"
            ]
          },
          "metadata": {},
          "execution_count": 22
        }
      ]
    },
    {
      "cell_type": "code",
      "source": [
        "x1 = torch.squeeze(x0)\n",
        "x1"
      ],
      "metadata": {
        "colab": {
          "base_uri": "https://localhost:8080/"
        },
        "id": "e5d2056ZNMZe",
        "outputId": "21f70e22-eeeb-4371-f517-a90951e5b224"
      },
      "execution_count": 26,
      "outputs": [
        {
          "output_type": "execute_result",
          "data": {
            "text/plain": [
              "tensor([[1, 2, 3],\n",
              "        [4, 5, 6],\n",
              "        [7, 8, 9]])"
            ]
          },
          "metadata": {},
          "execution_count": 26
        }
      ]
    },
    {
      "cell_type": "code",
      "source": [
        "torch.squeeze(x1)"
      ],
      "metadata": {
        "colab": {
          "base_uri": "https://localhost:8080/"
        },
        "id": "V-1tihnXNXFn",
        "outputId": "6673049f-5093-47e5-c67c-1e4817496fd9"
      },
      "execution_count": 27,
      "outputs": [
        {
          "output_type": "execute_result",
          "data": {
            "text/plain": [
              "tensor([[1, 2, 3],\n",
              "        [4, 5, 6],\n",
              "        [7, 8, 9]])"
            ]
          },
          "metadata": {},
          "execution_count": 27
        }
      ]
    },
    {
      "cell_type": "code",
      "source": [
        "x = torch.tensor([[1,2,3],[4,5,6],[7,8,9]])\n",
        "x"
      ],
      "metadata": {
        "colab": {
          "base_uri": "https://localhost:8080/"
        },
        "id": "6uvA7o2SNb5L",
        "outputId": "c81c1884-5ce2-418b-cfa7-c2220b4fd2ba"
      },
      "execution_count": 29,
      "outputs": [
        {
          "output_type": "execute_result",
          "data": {
            "text/plain": [
              "tensor([[1, 2, 3],\n",
              "        [4, 5, 6],\n",
              "        [7, 8, 9]])"
            ]
          },
          "metadata": {},
          "execution_count": 29
        }
      ]
    },
    {
      "cell_type": "code",
      "source": [
        "x.shape"
      ],
      "metadata": {
        "colab": {
          "base_uri": "https://localhost:8080/"
        },
        "id": "cLUKbF5eNosb",
        "outputId": "e469465f-1dff-47b7-a451-32720f45a532"
      },
      "execution_count": 30,
      "outputs": [
        {
          "output_type": "execute_result",
          "data": {
            "text/plain": [
              "torch.Size([3, 3])"
            ]
          },
          "metadata": {},
          "execution_count": 30
        }
      ]
    },
    {
      "cell_type": "code",
      "source": [
        "x.ndimension()"
      ],
      "metadata": {
        "colab": {
          "base_uri": "https://localhost:8080/"
        },
        "id": "mptFdDXkNpqu",
        "outputId": "fa24adb1-212d-4486-f341-aa7d5221858c"
      },
      "execution_count": 31,
      "outputs": [
        {
          "output_type": "execute_result",
          "data": {
            "text/plain": [
              "2"
            ]
          },
          "metadata": {},
          "execution_count": 31
        }
      ]
    },
    {
      "cell_type": "code",
      "source": [
        "torch.squeeze(x)"
      ],
      "metadata": {
        "colab": {
          "base_uri": "https://localhost:8080/"
        },
        "id": "MZ7caRlnNrWc",
        "outputId": "3648be31-de42-47da-cb47-d56f04ae9eb7"
      },
      "execution_count": 32,
      "outputs": [
        {
          "output_type": "execute_result",
          "data": {
            "text/plain": [
              "tensor([[1, 2, 3],\n",
              "        [4, 5, 6],\n",
              "        [7, 8, 9]])"
            ]
          },
          "metadata": {},
          "execution_count": 32
        }
      ]
    },
    {
      "cell_type": "code",
      "source": [
        "k = torch.tensor([[[1,2,3],[4,5,6],[7,8,9]]])\n",
        "k"
      ],
      "metadata": {
        "colab": {
          "base_uri": "https://localhost:8080/"
        },
        "id": "4f8L02AMNtWK",
        "outputId": "d49c709d-6810-49f5-c455-d599d3fd8d3a"
      },
      "execution_count": 33,
      "outputs": [
        {
          "output_type": "execute_result",
          "data": {
            "text/plain": [
              "tensor([[[1, 2, 3],\n",
              "         [4, 5, 6],\n",
              "         [7, 8, 9]]])"
            ]
          },
          "metadata": {},
          "execution_count": 33
        }
      ]
    },
    {
      "cell_type": "code",
      "source": [
        "k.ndimension()"
      ],
      "metadata": {
        "colab": {
          "base_uri": "https://localhost:8080/"
        },
        "id": "2XfaoYBtOe9E",
        "outputId": "16831be9-09bd-4310-92eb-a5a0af857d33"
      },
      "execution_count": 34,
      "outputs": [
        {
          "output_type": "execute_result",
          "data": {
            "text/plain": [
              "3"
            ]
          },
          "metadata": {},
          "execution_count": 34
        }
      ]
    },
    {
      "cell_type": "code",
      "source": [
        "torch.squeeze(k)"
      ],
      "metadata": {
        "colab": {
          "base_uri": "https://localhost:8080/"
        },
        "id": "HIsOWwvlOh0_",
        "outputId": "8395a30f-a0ec-4de1-a94f-4ebf5af6dbdc"
      },
      "execution_count": 35,
      "outputs": [
        {
          "output_type": "execute_result",
          "data": {
            "text/plain": [
              "tensor([[1, 2, 3],\n",
              "        [4, 5, 6],\n",
              "        [7, 8, 9]])"
            ]
          },
          "metadata": {},
          "execution_count": 35
        }
      ]
    },
    {
      "cell_type": "code",
      "source": [
        "torch.squeeze(k)"
      ],
      "metadata": {
        "colab": {
          "base_uri": "https://localhost:8080/"
        },
        "id": "ytr2or3uSTs_",
        "outputId": "72e06b4a-1c0b-44ea-b7c3-da93a8b97a09"
      },
      "execution_count": 45,
      "outputs": [
        {
          "output_type": "execute_result",
          "data": {
            "text/plain": [
              "tensor([[1, 2, 3],\n",
              "        [4, 5, 6],\n",
              "        [7, 8, 9]])"
            ]
          },
          "metadata": {},
          "execution_count": 45
        }
      ]
    },
    {
      "cell_type": "code",
      "source": [
        "M = torch.tensor([[1],\n",
        "                  [2],\n",
        "                  [3]])\n",
        "print(M.ndimension())\n",
        "print(M.shape)"
      ],
      "metadata": {
        "colab": {
          "base_uri": "https://localhost:8080/"
        },
        "id": "-IH6M8zcOjm0",
        "outputId": "306c1e10-bab4-4818-a912-f559e2b445b0"
      },
      "execution_count": 49,
      "outputs": [
        {
          "output_type": "stream",
          "name": "stdout",
          "text": [
            "2\n",
            "torch.Size([3, 1])\n"
          ]
        }
      ]
    },
    {
      "cell_type": "code",
      "source": [
        "torch.squeeze(M).shape"
      ],
      "metadata": {
        "colab": {
          "base_uri": "https://localhost:8080/"
        },
        "id": "E0cVi3-FOr7d",
        "outputId": "0030e798-f2e1-4c87-f07e-bae07d7f4369"
      },
      "execution_count": 47,
      "outputs": [
        {
          "output_type": "execute_result",
          "data": {
            "text/plain": [
              "torch.Size([3])"
            ]
          },
          "metadata": {},
          "execution_count": 47
        }
      ]
    },
    {
      "cell_type": "code",
      "source": [
        "# How can I know which tensor has 'one dimension' or not easily?\n",
        "# >> using ### x.shape ### methhod and check the dimension"
      ],
      "metadata": {
        "id": "BO_kJCfHTCPg"
      },
      "execution_count": null,
      "outputs": []
    },
    {
      "cell_type": "code",
      "source": [
        "k = torch.tensor([[[[[1,2,3],[4,5,6],[7,8,9]]]]])\n",
        "print(k.shape)\n",
        "\n",
        "k_ = torch.squeeze(k)\n",
        "print(k_.shape)"
      ],
      "metadata": {
        "colab": {
          "base_uri": "https://localhost:8080/"
        },
        "id": "NnM_3csSO3lb",
        "outputId": "c2192aad-4150-4cc2-c933-bf31069ae17c"
      },
      "execution_count": 51,
      "outputs": [
        {
          "output_type": "stream",
          "name": "stdout",
          "text": [
            "torch.Size([1, 1, 1, 3, 3])\n",
            "torch.Size([3, 3])\n"
          ]
        }
      ]
    },
    {
      "cell_type": "code",
      "source": [
        "x"
      ],
      "metadata": {
        "colab": {
          "base_uri": "https://localhost:8080/"
        },
        "id": "n-j9KdYCSlDp",
        "outputId": "65a0ece2-3b5f-403c-d4b0-9b1c4f2f3924"
      },
      "execution_count": 52,
      "outputs": [
        {
          "output_type": "execute_result",
          "data": {
            "text/plain": [
              "tensor([[1, 2, 3],\n",
              "        [4, 5, 6],\n",
              "        [7, 8, 9]])"
            ]
          },
          "metadata": {},
          "execution_count": 52
        }
      ]
    },
    {
      "cell_type": "code",
      "source": [
        "print(x)\n",
        "x4 = x.view(9)\n",
        "x5 = x.view(1,3,3)\n",
        "print(\"x4 =\", x4)\n",
        "print(\"x5 =\", x5)"
      ],
      "metadata": {
        "colab": {
          "base_uri": "https://localhost:8080/"
        },
        "id": "4zcDPFWZVwoP",
        "outputId": "067038ad-39db-4f91-cdff-e2d79b4ab574"
      },
      "execution_count": 54,
      "outputs": [
        {
          "output_type": "stream",
          "name": "stdout",
          "text": [
            "tensor([[1, 2, 3],\n",
            "        [4, 5, 6],\n",
            "        [7, 8, 9]])\n",
            "x4 = tensor([1, 2, 3, 4, 5, 6, 7, 8, 9])\n",
            "x5 = tensor([[[1, 2, 3],\n",
            "         [4, 5, 6],\n",
            "         [7, 8, 9]]])\n"
          ]
        }
      ]
    },
    {
      "cell_type": "code",
      "source": [
        "x = torch.FloatTensor([[1,2],\n",
        "                       [3,4],\n",
        "                       [5,6]])\n",
        "\n",
        "w = torch.randn(1,2, dtype=torch.float)\n",
        "b = torch.randn(3,1, dtype=torch.float)\n",
        "\n",
        "result = torch.mm(x, torch.t(w)) + b\n",
        "\n",
        "# torch.t(w) transpose\n",
        "# torch.mm : matrix multiplication\n",
        "\n",
        "print(result)"
      ],
      "metadata": {
        "colab": {
          "base_uri": "https://localhost:8080/"
        },
        "id": "XKdaA39tVxqD",
        "outputId": "ed845427-4243-4c32-b955-6f812059434b"
      },
      "execution_count": 55,
      "outputs": [
        {
          "output_type": "stream",
          "name": "stdout",
          "text": [
            "tensor([[-3.7303],\n",
            "        [-2.9832],\n",
            "        [-9.8772]])\n"
          ]
        }
      ]
    },
    {
      "cell_type": "markdown",
      "source": [
        "# Linear Regression w/ Pytorch"
      ],
      "metadata": {
        "id": "s3IfKIPbb3gx"
      }
    },
    {
      "cell_type": "code",
      "source": [
        "import torch\n",
        "x_train = torch.FloatTensor([[1,2], [3,2], [3,7], [1,1], [1,0]])\n",
        "y_train = torch.FloatTensor([[4], [8], [23], [1], [-2]])\n",
        "x_train, y_train"
      ],
      "metadata": {
        "colab": {
          "base_uri": "https://localhost:8080/"
        },
        "id": "DuqtAxeuWSMl",
        "outputId": "2e9fce02-336a-4a14-f017-e58042014a41"
      },
      "execution_count": 67,
      "outputs": [
        {
          "output_type": "execute_result",
          "data": {
            "text/plain": [
              "(tensor([[1., 2.],\n",
              "         [3., 2.],\n",
              "         [3., 7.],\n",
              "         [1., 1.],\n",
              "         [1., 0.]]),\n",
              " tensor([[ 4.],\n",
              "         [ 8.],\n",
              "         [23.],\n",
              "         [ 1.],\n",
              "         [-2.]]))"
            ]
          },
          "metadata": {},
          "execution_count": 67
        }
      ]
    },
    {
      "cell_type": "code",
      "source": [
        "# making a linear graph / coef and y intercept\n",
        "W = torch.rand(2,1)\n",
        "b = torch.rand(1,1)\n",
        "\n",
        "lr = 0.01\n",
        "print(W,b)"
      ],
      "metadata": {
        "colab": {
          "base_uri": "https://localhost:8080/"
        },
        "id": "pYd0jn5Pb8Yx",
        "outputId": "4b20f883-29d8-490b-a89c-a235bd81392c"
      },
      "execution_count": 68,
      "outputs": [
        {
          "output_type": "stream",
          "name": "stdout",
          "text": [
            "tensor([[0.3173],\n",
            "        [0.5554]]) tensor([[0.9252]])\n"
          ]
        }
      ]
    },
    {
      "cell_type": "code",
      "source": [
        "for epoch in range(3001): # How many times gonna repeat\n",
        "  W.requires_grad_(True)\n",
        "  b.requires_grad_(True) # calculating Gradient  // requires grad True\n",
        "\n",
        "    # making hypothesis\n",
        "  h = torch.mm(x_train, W) + b\n",
        "\n",
        "  # gap btw true values vs hypothesis values\n",
        "  cost = ((y_train - h) ** 2).mean()\n",
        "\n",
        "  cost.backward() # Gradient calcualating function\n",
        "  with torch.no_grad() as grd : # pause _ gradient calculating\n",
        "    W = W - lr * W.grad # updating W value : moving - direction\n",
        "    b = b - lr * b.grad\n",
        "\n",
        "  if epoch % 100 == 0: # checking the learning process\n",
        "    print(epoch, cost.item(), W.squeeze(), b)"
      ],
      "metadata": {
        "colab": {
          "base_uri": "https://localhost:8080/"
        },
        "id": "aSSEDR9BePyo",
        "outputId": "d25e6100-de9d-4ffa-c7a2-4ca4bbf71e09"
      },
      "execution_count": 66,
      "outputs": [
        {
          "output_type": "stream",
          "name": "stdout",
          "text": [
            "0 56.12255859375 tensor([0.7578, 1.1548]) tensor([[0.9719]])\n",
            "100 1.9853897094726562 tensor([0.4530, 3.1709]) tensor([[-1.0017]])\n",
            "200 0.9752392768859863 tensor([0.7705, 3.2102]) tensor([[-1.9338]])\n",
            "300 0.5006149411201477 tensor([1.1050, 3.1606]) tensor([[-2.5282]])\n",
            "400 0.2572683095932007 tensor([1.3568, 3.1163]) tensor([[-2.9460]])\n",
            "500 0.13221482932567596 tensor([1.5387, 3.0835]) tensor([[-3.2445]])\n",
            "600 0.06794806569814682 tensor([1.6693, 3.0599]) tensor([[-3.4584]])\n",
            "700 0.03491976484656334 tensor([1.7629, 3.0429]) tensor([[-3.6118]])\n",
            "800 0.01794600859284401 tensor([1.8300, 3.0308]) tensor([[-3.7217]])\n",
            "900 0.00922287255525589 tensor([1.8782, 3.0221]) tensor([[-3.8005]])\n",
            "1000 0.004739777650684118 tensor([1.9127, 3.0158]) tensor([[-3.8570]])\n",
            "1100 0.002435889095067978 tensor([1.9374, 3.0113]) tensor([[-3.8975]])\n",
            "1200 0.0012518439907580614 tensor([1.9551, 3.0081]) tensor([[-3.9265]])\n",
            "1300 0.0006433373782783747 tensor([1.9678, 3.0058]) tensor([[-3.9473]])\n",
            "1400 0.00033061258727684617 tensor([1.9769, 3.0042]) tensor([[-3.9622]])\n",
            "1500 0.00016990437870845199 tensor([1.9835, 3.0030]) tensor([[-3.9729]])\n",
            "1600 8.73234384926036e-05 tensor([1.9881, 3.0021]) tensor([[-3.9806]])\n",
            "1700 4.4876600441057235e-05 tensor([1.9915, 3.0015]) tensor([[-3.9861]])\n",
            "1800 2.3062151740305126e-05 tensor([1.9939, 3.0011]) tensor([[-3.9900]])\n",
            "1900 1.1852365787490271e-05 tensor([1.9956, 3.0008]) tensor([[-3.9928]])\n",
            "2000 6.0927841332159005e-06 tensor([1.9969, 3.0006]) tensor([[-3.9949]])\n",
            "2100 3.1322949780587805e-06 tensor([1.9978, 3.0004]) tensor([[-3.9963]])\n",
            "2200 1.609416017345211e-06 tensor([1.9984, 3.0003]) tensor([[-3.9974]])\n",
            "2300 8.280287033812783e-07 tensor([1.9988, 3.0002]) tensor([[-3.9981]])\n",
            "2400 4.2525056187514565e-07 tensor([1.9992, 3.0002]) tensor([[-3.9986]])\n",
            "2500 2.1865992039238336e-07 tensor([1.9994, 3.0001]) tensor([[-3.9990]])\n",
            "2600 1.1260552668090895e-07 tensor([1.9996, 3.0001]) tensor([[-3.9993]])\n",
            "2700 5.8013995385408634e-08 tensor([1.9997, 3.0001]) tensor([[-3.9995]])\n",
            "2800 2.989711589407307e-08 tensor([1.9998, 3.0000]) tensor([[-3.9996]])\n",
            "2900 1.5315938739490775e-08 tensor([1.9998, 3.0000]) tensor([[-3.9997]])\n",
            "3000 7.98601451634795e-09 tensor([1.9999, 3.0000]) tensor([[-3.9998]])\n"
          ]
        }
      ]
    },
    {
      "cell_type": "code",
      "source": [
        "x_test = torch.FloatTensor([[5,10]])\n",
        "torch.mm(x_test, W) + b"
      ],
      "metadata": {
        "colab": {
          "base_uri": "https://localhost:8080/"
        },
        "id": "4kRm_UDbm-AE",
        "outputId": "8109ba2c-ab72-42ef-97b3-a8fb1b0ebec0"
      },
      "execution_count": 70,
      "outputs": [
        {
          "output_type": "execute_result",
          "data": {
            "text/plain": [
              "tensor([[8.0655]])"
            ]
          },
          "metadata": {},
          "execution_count": 70
        }
      ]
    },
    {
      "cell_type": "code",
      "source": [
        "test_result = torch.mm(x_test, W) + b\n",
        "print(test_result.item())\n",
        "\n",
        "# Therefore, if we put [[5,10]] in this graph, we'll get approximately value of 8 in this function."
      ],
      "metadata": {
        "colab": {
          "base_uri": "https://localhost:8080/"
        },
        "id": "3JCS3EvOm-Q-",
        "outputId": "e4cd07ee-b7b3-4afc-f16e-32e2ca204bc9"
      },
      "execution_count": 71,
      "outputs": [
        {
          "output_type": "stream",
          "name": "stdout",
          "text": [
            "8.065532684326172\n"
          ]
        }
      ]
    },
    {
      "cell_type": "markdown",
      "source": [
        "# Linear Regression w/ Sklearn"
      ],
      "metadata": {
        "id": "hDDLcIJroxY2"
      }
    },
    {
      "cell_type": "code",
      "source": [
        "from sklearn.linear_model import LinearRegression\n",
        "\n",
        "x = [[1,2], [3,2], [3,7], [1,1], [1,0]]\n",
        "y = [[4], [8], [23], [1], [-2]]\n",
        "\n",
        "lr = LinearRegression() # Model Generating\n",
        "lr.fit(x, y) # Fitting / learning\n",
        "\n",
        "print(lr.coef_, lr.intercept_)"
      ],
      "metadata": {
        "colab": {
          "base_uri": "https://localhost:8080/"
        },
        "id": "aB1h2m9vnCMs",
        "outputId": "2d968767-97ba-4546-baf7-c56e49bbd5ec"
      },
      "execution_count": 72,
      "outputs": [
        {
          "output_type": "stream",
          "name": "stdout",
          "text": [
            "[[2. 3.]] [-4.]\n"
          ]
        }
      ]
    },
    {
      "cell_type": "code",
      "source": [
        "print(lr.predict([[5,10]]))"
      ],
      "metadata": {
        "colab": {
          "base_uri": "https://localhost:8080/"
        },
        "id": "Qm9HfFIRo7b6",
        "outputId": "1e362e41-145e-4252-e007-c99dcda15dcd"
      },
      "execution_count": 73,
      "outputs": [
        {
          "output_type": "stream",
          "name": "stdout",
          "text": [
            "[[36.]]\n"
          ]
        }
      ]
    }
  ]
}