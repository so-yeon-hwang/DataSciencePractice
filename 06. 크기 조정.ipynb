{
 "cells": [
  {
   "cell_type": "markdown",
   "id": "68fd055c",
   "metadata": {},
   "source": [
    "# 06. 크기 조정"
   ]
  },
  {
   "cell_type": "markdown",
   "id": "9d9f151a",
   "metadata": {},
   "source": [
    "## 이미지\n",
    "고정 크기로 설정 : resize 함수"
   ]
  },
  {
   "cell_type": "code",
   "execution_count": 1,
   "id": "47478841",
   "metadata": {},
   "outputs": [],
   "source": [
    "import cv2\n",
    "img = cv2.imread('img.jpg')\n",
    "destination = cv2.resize(img,(400,500)) # width, height 고정 크기\n",
    "\n",
    "cv2.imshow('img',img)\n",
    "cv2.imshow('resize',destination)\n",
    "cv2.waitKey(0)\n",
    "cv2.destroyAllWindows()"
   ]
  },
  {
   "cell_type": "markdown",
   "id": "bca21c4a",
   "metadata": {},
   "source": [
    "비율로 설정"
   ]
  },
  {
   "cell_type": "code",
   "execution_count": 3,
   "id": "8346cd2a",
   "metadata": {},
   "outputs": [],
   "source": [
    "import cv2\n",
    "img = cv2.imread('img.jpg')\n",
    "destination = cv2.resize(img, None, fx = 1.5, fy = 1.5) # x,y 비율 정의, 0.6배로 축소 # 두 번째 들어가는 값 None\n",
    "\n",
    "cv2.imshow('img',img)\n",
    "cv2.imshow('resize',destination)\n",
    "cv2.waitKey(0)\n",
    "cv2.destroyAllWindows()"
   ]
  },
  {
   "cell_type": "markdown",
   "id": "818f63b4",
   "metadata": {},
   "source": [
    "### 보간법\n",
    "1. cv2.INTER_AREA : 크기를 줄일 때 사용\n",
    "2. cv2.INTER_CUBIC : 크기를 늘릴 때 사용 (속도는 조금 느리나 퀄리티가 좋음)\n",
    "3. cv2.INTER_LINEAR : 크기를 늘릴 때 사용 (기본값)"
   ]
  },
  {
   "cell_type": "markdown",
   "id": "d7fd3874",
   "metadata": {},
   "source": [
    "보간법을 적용하여 축소"
   ]
  },
  {
   "cell_type": "code",
   "execution_count": 4,
   "id": "0833ae3a",
   "metadata": {},
   "outputs": [],
   "source": [
    "import cv2\n",
    "img = cv2.imread('img.jpg')\n",
    "destination = cv2.resize(img, None, fx = 0.5, fy = 0.5, interpolation = cv2.INTER_AREA) \n",
    "\n",
    "cv2.imshow('img',img)\n",
    "cv2.imshow('resize',destination)\n",
    "cv2.waitKey(0)\n",
    "cv2.destroyAllWindows()"
   ]
  },
  {
   "cell_type": "markdown",
   "id": "6ff57c3d",
   "metadata": {},
   "source": [
    "보간법을 적용하여 확대"
   ]
  },
  {
   "cell_type": "code",
   "execution_count": 5,
   "id": "810afd9d",
   "metadata": {},
   "outputs": [],
   "source": [
    "import cv2\n",
    "img = cv2.imread('img.jpg')\n",
    "destination = cv2.resize(img, None, fx = 1.5, fy = 1.5, interpolation = cv2.INTER_CUBIC) \n",
    "\n",
    "cv2.imshow('img',img)\n",
    "cv2.imshow('resize',destination)\n",
    "cv2.waitKey(0)\n",
    "cv2.destroyAllWindows()"
   ]
  },
  {
   "cell_type": "markdown",
   "id": "c7995f84",
   "metadata": {},
   "source": [
    "## 동영상"
   ]
  },
  {
   "cell_type": "markdown",
   "id": "29bc449d",
   "metadata": {},
   "source": [
    "고정 크기로 설정"
   ]
  },
  {
   "cell_type": "code",
   "execution_count": 2,
   "id": "86735aa6",
   "metadata": {},
   "outputs": [],
   "source": [
    "import cv2\n",
    "cap = cv2.VideoCapture('video.mp4')\n",
    "\n",
    "while cap.isOpened() :\n",
    "    ret, frame = cap.read()\n",
    "    if not ret :\n",
    "        break\n",
    "    \n",
    "    frame_resized = cv2.resize(frame, (400,500))\n",
    "    \n",
    "    cv2.imshow('video',frame_resized)\n",
    "    if cv2.waitKey(1) == ord('q') :\n",
    "        break\n",
    "    \n",
    "\n",
    "cap.release()\n",
    "cv2.destroyAllWindows()"
   ]
  },
  {
   "cell_type": "markdown",
   "id": "7cf57213",
   "metadata": {},
   "source": [
    "비율로 설정"
   ]
  },
  {
   "cell_type": "code",
   "execution_count": 1,
   "id": "a2031271",
   "metadata": {},
   "outputs": [],
   "source": [
    "import cv2\n",
    "cap = cv2.VideoCapture('video.mp4')\n",
    "\n",
    "while cap.isOpened() :\n",
    "    ret, frame = cap.read()\n",
    "    if not ret :\n",
    "        break\n",
    "    \n",
    "    frame_resized = cv2.resize(frame, None, fx = 1.5, fy = 1.5, interpolation = cv2.INTER_CUBIC)\n",
    "    \n",
    "    cv2.imshow('video',frame_resized)\n",
    "    if cv2.waitKey(1) == ord('q') :\n",
    "        break\n",
    "    \n",
    "\n",
    "cap.release()\n",
    "cv2.destroyAllWindows()"
   ]
  }
 ],
 "metadata": {
  "kernelspec": {
   "display_name": "Python 3 (ipykernel)",
   "language": "python",
   "name": "python3"
  },
  "language_info": {
   "codemirror_mode": {
    "name": "ipython",
    "version": 3
   },
   "file_extension": ".py",
   "mimetype": "text/x-python",
   "name": "python",
   "nbconvert_exporter": "python",
   "pygments_lexer": "ipython3",
   "version": "3.10.9"
  }
 },
 "nbformat": 4,
 "nbformat_minor": 5
}
