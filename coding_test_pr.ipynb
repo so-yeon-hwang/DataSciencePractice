{
  "nbformat": 4,
  "nbformat_minor": 0,
  "metadata": {
    "colab": {
      "provenance": [],
      "authorship_tag": "ABX9TyPqcZ2PkOHs6Go8QUMwJy3F",
      "include_colab_link": true
    },
    "kernelspec": {
      "name": "python3",
      "display_name": "Python 3"
    },
    "language_info": {
      "name": "python"
    }
  },
  "cells": [
    {
      "cell_type": "markdown",
      "metadata": {
        "id": "view-in-github",
        "colab_type": "text"
      },
      "source": [
        "<a href=\"https://colab.research.google.com/github/so-yeon-hwang/DataSciencePractice/blob/main/coding_test_pr.ipynb\" target=\"_parent\"><img src=\"https://colab.research.google.com/assets/colab-badge.svg\" alt=\"Open In Colab\"/></a>"
      ]
    },
    {
      "cell_type": "markdown",
      "source": [
        "선택정렬"
      ],
      "metadata": {
        "id": "GbYOQvsfe8L7"
      }
    },
    {
      "cell_type": "code",
      "execution_count": null,
      "metadata": {
        "id": "TqN6LfzAe66z"
      },
      "outputs": [],
      "source": [
        "def 최솟값_인덱스_리턴_함수 (리스트):\n",
        "    최솟값인덱스 = 0\n",
        "    for 증가값 in range(0, len(리스트)):\n",
        "        if 리스트[증가값] < 리스트[최솟값인덱스]:\n",
        "            최솟값인덱스 = 증가값\n",
        "    return 최솟값인덱스\n",
        "\n",
        "def 선택정렬(리스트):\n",
        "    최종결과값 = []\n",
        "    while 리스트:\n",
        "        최솟값_인덱스_저장 = 최솟값_인덱스_리턴_함수(리스트)\n",
        "        최솟값 = 리스트.pop(최솟값_인덱스_저장)\n",
        "        최종결과값.append(최솟값)\n",
        "    return 최종결과값\n",
        "\n",
        "주어진리스트 = [199, 22, 33, 12, 32, 64, 72, 222, 233]\n",
        "\n",
        "print(선택정렬(주어진리스트))"
      ]
    },
    {
      "cell_type": "markdown",
      "source": [
        "삽입정렬"
      ],
      "metadata": {
        "id": "HNkXicQNfia2"
      }
    },
    {
      "cell_type": "code",
      "source": [
        "def 삽입값이들어갈_인덱스 (결과값, 삽입값):\n",
        "    for 증가값 in range(0, len(결과값)):\n",
        "        if 삽입값 < 결과값[증가값]:\n",
        "            return 증가값\n",
        "    return len(결과값)\n",
        "\n",
        "def 삽입정렬(입력_리스트_하나):\n",
        "    결과값 = []\n",
        "    while 입력_리스트_하나:\n",
        "        삽입값 = 입력_리스트_하나.pop(0) ## 맨 앞에 있는 애가 빠진다\n",
        "        삽입값_인덱스 = 삽입값이들어갈_인덱스(결과값, 삽입값)\n",
        "        결과값.insert(삽입값_인덱스, 삽입값)\n",
        "    return 결과값\n",
        "\n",
        "주어진리스트 = [199, 22, 33, 12, 32, 64, 72, 222, 233]\n",
        "\n",
        "print(삽입정렬(주어진리스트))"
      ],
      "metadata": {
        "id": "wK-G_VcMfi9i"
      },
      "execution_count": null,
      "outputs": []
    },
    {
      "cell_type": "code",
      "source": [
        "# min 사용하지 ㅇ낳고 최솟값 찾기\n",
        "# 필기하\n",
        "\n",
        "l = [2,10,11,6,7,5,3,1,22,32]\n",
        "\n",
        "# 최소값을 찾을 때는 무한히 큰 수가 필요\n",
        "min = float('inf')\n",
        "\n",
        "for i in l:\n",
        "  if min > i :\n",
        "    min = i\n",
        "print(min)"
      ],
      "metadata": {
        "colab": {
          "base_uri": "https://localhost:8080/"
        },
        "id": "EfnqI6u_hX1t",
        "outputId": "f9f5e4f5-30c9-4a9c-a03e-be61330bab51"
      },
      "execution_count": null,
      "outputs": [
        {
          "output_type": "stream",
          "name": "stdout",
          "text": [
            "1\n"
          ]
        }
      ]
    },
    {
      "cell_type": "code",
      "source": [
        "def 병합정렬(입력리스트):\n",
        "    입력리스트길이 = len(입력리스트)\n",
        "    if 입력리스트길이 <= 1:\n",
        "        return 입력리스트\n",
        "\n",
        "    중간값 = 입력리스트길이 // 2\n",
        "    그룹_하나 = 병합정렬(입력리스트[:중간값])\n",
        "    그룹_둘 = 병합정렬(입력리스트[중간값:])\n",
        "    결과값 = [ ]\n",
        "\n",
        "    while 그룹_하나 and 그룹_둘:\n",
        "        if 그룹_하나[0] < 그룹_둘[0]:\n",
        "            결과값.append(그룹_하나.pop(0))\n",
        "        else:\n",
        "            결과값.append(그룹_둘.pop(0))\n",
        "    while 그룹_하나:\n",
        "        결과값.append(그룹_하나.pop(0))\n",
        "    while 그룹_둘:\n",
        "        결과값.append(그룹_둘.pop(0))\n",
        "    return 결과값\n",
        "\n",
        "주어진리스트 = [199, 22, 33, 12, 32, 64, 72, 222, 233]\n",
        "\n",
        "print(병합정렬(주어진리스트))"
      ],
      "metadata": {
        "id": "_zfosyswhvw-"
      },
      "execution_count": null,
      "outputs": []
    },
    {
      "cell_type": "markdown",
      "source": [
        "## 데코레이터\n",
        "고차함수, 클로저\n",
        "\n",
        "ex. sy = print\n",
        "sy('hello world') 이딴게 가능함\n",
        "- 함수를 변수에 할당 가능하다는 것\n",
        "\n",
        "- 함수를 데이터 구조에 저장\n",
        "test =[lambda a,b: a+b]\n",
        "\n",
        "- 함수를 결과로서 반환 가능\n",
        "\n"
      ],
      "metadata": {
        "id": "Dgre2JaMuyQQ"
      }
    },
    {
      "cell_type": "markdown",
      "source": [
        "# 일급함수와 고차함수"
      ],
      "metadata": {
        "id": "_nWVtCvMwkJ-"
      }
    },
    {
      "cell_type": "code",
      "source": [
        "def simple_decorator(function):\n",
        "    def wrapper():\n",
        "        print(\"Before the function call\")\n",
        "        function()\n",
        "        print(\"After the function call\")\n",
        "    return wrapper\n",
        "\n",
        "@simple_decorator\n",
        "def hello():\n",
        "    print(\"Hello, World!\")\n",
        "\n",
        "hello() # 데코레이터가 없는 상태에서는 simple_decorator(hello)() 와 같습니다."
      ],
      "metadata": {
        "colab": {
          "base_uri": "https://localhost:8080/"
        },
        "id": "-c8SBw2duy4-",
        "outputId": "69d688b2-b98f-4b48-812a-430245bdfa39"
      },
      "execution_count": null,
      "outputs": [
        {
          "output_type": "stream",
          "name": "stdout",
          "text": [
            "Before the function call\n",
            "Hello, World!\n",
            "After the function call\n"
          ]
        }
      ]
    },
    {
      "cell_type": "markdown",
      "source": [
        "슬라이딩 윈도우와 투 포인터 알고리즘"
      ],
      "metadata": {
        "id": "B3iYQJTI5qiB"
      }
    },
    {
      "cell_type": "code",
      "source": [
        "# 투 포인터 해답(시간 단축!)\n",
        "def solution(데이터, 연속된합):\n",
        "\n",
        "    startPointer = 0\n",
        "    endPointer = 0\n",
        "    tempSum = 0\n",
        "\n",
        "    길이 = len(데이터)\n",
        "    result = []\n",
        "\n",
        "    for startPointer in range(길이):\n",
        "        while tempSum < 연속된합 and endPointer < 길이:\n",
        "            tempSum += 데이터[endPointer]\n",
        "            endPointer += 1\n",
        "        if tempSum == 연속된합:\n",
        "            result.append([startPointer, endPointer-1])\n",
        "        tempSum -= 데이터[startPointer]\n",
        "    return result\n",
        "\n",
        "solution([1, 5, 4, 6, 4, 6, 7, 6, 4, 3, 1, 2], 10)"
      ],
      "metadata": {
        "id": "rsJHNAEx23dA"
      },
      "execution_count": null,
      "outputs": []
    },
    {
      "cell_type": "code",
      "source": [
        "# 회문은 글자의 앞 뒤가 같은 문자열\n",
        "# 큐와 스택을 이용한 회문여부 판별\n",
        "def palindrome(string):\n",
        "    queue = []\n",
        "    stack = []\n",
        "\n",
        "    for s in string:\n",
        "        if s.isalpha():\n",
        "            queue.append(s.lower())\n",
        "            stack.append(s.lower())\n",
        "\n",
        "    while queue:\n",
        "        if queue.pop(0) != stack.pop():\n",
        "            return False\n",
        "\n",
        "    return True\n",
        "\n",
        "palindrome('hello world')\n",
        "palindrome('hello')\n",
        "palindrome('heleh')\n",
        "palindrome('오디오')"
      ],
      "metadata": {
        "id": "yb8i3R3R9Bm0"
      },
      "execution_count": null,
      "outputs": []
    },
    {
      "cell_type": "code",
      "source": [
        "# 메모이제이션을 활용한 피보나치 재귀 풀이\n",
        "dic = {1:1, 2:1} # list도 많이 사용합니다.\n",
        "\n",
        "def fib_memo(n):\n",
        "    if n in dic:\n",
        "        return dic[n]\n",
        "\n",
        "    dic[n] = fib_memo(n-1) + fib_memo(n-2)\n",
        "    return dic[n]\n",
        "\n",
        "fib_memo(6)\n",
        "\n",
        "\n",
        "# f(6)      dict = {1:1, 2:1, 6:f(5) + f(4)}\n",
        "# f(4)      dict = {1:1, 2:1, 6:f(5) + f(4), 4:f(3)+1}\n",
        "# f(3)      dict = {1:1, 2:1, 6:f(5) + 3   , 4:3     , 3:2}\n",
        "# ..."
      ],
      "metadata": {
        "id": "3-mZZWljToDi"
      },
      "execution_count": null,
      "outputs": []
    },
    {
      "cell_type": "code",
      "source": [
        "# 카카오 비밀지도 코딩테스트 문\n",
        "\n",
        "def solution(n, arr1, arr2):\n",
        "    answer = []\n",
        "    for i,j in zip(arr1,arr2):\n",
        "      answer.append(bin(i|j)[2:].zfill(n).replace('1','#').replace('0',' '))\n",
        "    return answer\n",
        "\n",
        "n = 5\n",
        "arr1 = [9, 20, 28, 18, 11]\n",
        "arr2 = [30, 1, 21, 17, 28]\n",
        "\n",
        "solution(n,arr1,arr2)"
      ],
      "metadata": {
        "colab": {
          "base_uri": "https://localhost:8080/"
        },
        "id": "0qPuhhjyU7qA",
        "outputId": "1b942491-1fb2-47ed-c00a-1b772e910826"
      },
      "execution_count": null,
      "outputs": [
        {
          "output_type": "execute_result",
          "data": {
            "text/plain": [
              "['#####', '# # #', '### #', '#  ##', '#####']"
            ]
          },
          "metadata": {},
          "execution_count": 1
        }
      ]
    },
    {
      "cell_type": "code",
      "source": [
        "# for 문 순회하며 값을 구하기\n",
        "result = []\n",
        "\n",
        "for i in '1S2D*3T':\n",
        "    if i.isdigit():\n",
        "        result.append(int(i))\n",
        "    if i == 'D':\n",
        "        result[-1] = result[-1] ** 2\n",
        "    if i == 'T':\n",
        "        result[-1] = result[-1] ** 3\n",
        "    if i == '*':\n",
        "        result[-1] = result[-1] * 2\n",
        "        result[-2] = result[-2] * 2\n",
        "    if i == '#':\n",
        "        result[-1] = result[-1] * -1\n",
        "\n",
        "result"
      ],
      "metadata": {
        "id": "vdznXZJEbiDA"
      },
      "execution_count": null,
      "outputs": []
    },
    {
      "cell_type": "code",
      "source": [],
      "metadata": {
        "id": "D5X2mvubfkna"
      },
      "execution_count": null,
      "outputs": []
    },
    {
      "cell_type": "code",
      "source": [
        "# 정규표현식으로 값을 구하기\n",
        "\n",
        "import re\n",
        "\n",
        "re.compile(r'(10|[0-9](SDT)[(\\*\\#?)]')"
      ],
      "metadata": {
        "id": "aHJ7GP_8eyC1"
      },
      "execution_count": null,
      "outputs": []
    },
    {
      "cell_type": "markdown",
      "source": [
        "## 캐시문제 LRU 알고리즘"
      ],
      "metadata": {
        "id": "iSPCu6hXlsGX"
      }
    },
    {
      "cell_type": "code",
      "source": [
        "cities = [\"Jeju\", \"Pangyo\", \"Seoul\", \"NewYork\", \"LA\", \"Jeju\", \"Pangyo\", \"Seoul\", \"NewYork\", \"LA\"]\n",
        "\n",
        "from collections import deque\n",
        "\n",
        "l = [''] * 3 # 캐시를 3으로 지정\n",
        "cache = deque(l, maxlen=3)\n",
        "cache.append('one')\n",
        "cache.append('two')\n",
        "cache"
      ],
      "metadata": {
        "colab": {
          "base_uri": "https://localhost:8080/"
        },
        "id": "ElwhwVAUlobW",
        "outputId": "b8051144-07c2-4ce7-cf67-190e1463e372"
      },
      "execution_count": null,
      "outputs": [
        {
          "output_type": "execute_result",
          "data": {
            "text/plain": [
              "deque(['', 'one', 'two'])"
            ]
          },
          "metadata": {},
          "execution_count": 3
        }
      ]
    },
    {
      "cell_type": "code",
      "source": [
        "cache.append('three')\n",
        "cache.append('four')\n",
        "cache"
      ],
      "metadata": {
        "colab": {
          "base_uri": "https://localhost:8080/"
        },
        "id": "OVylu_mWmXG1",
        "outputId": "e3a60af2-7657-418e-e173-2b8f17a5c653"
      },
      "execution_count": null,
      "outputs": [
        {
          "output_type": "execute_result",
          "data": {
            "text/plain": [
              "deque(['two', 'three', 'four'])"
            ]
          },
          "metadata": {},
          "execution_count": 4
        }
      ]
    },
    {
      "cell_type": "code",
      "source": [
        "from collections import deque\n",
        "\n",
        "def solution(cacheSize, cities):\n",
        "    l = [''] * cacheSize\n",
        "    cache = deque(l, maxlen=cacheSize)\n",
        "    answer = 0\n",
        "    for city in cities:\n",
        "        city = city.lower()\n",
        "        if city in cache:\n",
        "            answer += 1\n",
        "            cache.remove(city)\n",
        "            cache.append(city)\n",
        "        else:\n",
        "            cache.append(city)\n",
        "            answer += 5\n",
        "    return answer"
      ],
      "metadata": {
        "id": "A680q4Gzmh3s"
      },
      "execution_count": null,
      "outputs": []
    },
    {
      "cell_type": "markdown",
      "source": [
        "## 오픈채팅방 문제"
      ],
      "metadata": {
        "id": "wdEUuqdBpaVs"
      }
    },
    {
      "cell_type": "code",
      "source": [
        "data = [\n",
        "    \"Enter uid1234 Muzi\", # Prodo님이 들어왔습니다.\n",
        "    \"Enter uid4567 Prodo\", # Ryan님이 들어왔습니다.\n",
        "    \"Leave uid1234\", # Prodo님이 나갔습니다.\n",
        "    \"Enter uid1234 Prodo\", # Prodo님이 들어왔습니다.\n",
        "    \"Change uid4567 Ryan\"\n",
        "]\n",
        "\n",
        "def solution(record):\n",
        "    answer = []\n",
        "    user = {}\n",
        "\n",
        "    for log in record:\n",
        "        split_data = log.split(' ')\n",
        "        if split_data[0] == 'Enter':\n",
        "            user[split_data[1]] = split_data[2]\n",
        "            answer.append(f'{split_data[1]}님이 들어왔습니다.')\n",
        "        if split_data[0] == 'Leave':\n",
        "            pass\n",
        "        if split_data[0] == 'Change':\n",
        "            user[split_data[1]] = split_data[2]\n",
        "\n",
        "solution(data)"
      ],
      "metadata": {
        "id": "fza9pssgovL7"
      },
      "execution_count": null,
      "outputs": []
    },
    {
      "cell_type": "code",
      "source": [],
      "metadata": {
        "id": "5YpMTQtmucVu"
      },
      "execution_count": null,
      "outputs": []
    }
  ]
}