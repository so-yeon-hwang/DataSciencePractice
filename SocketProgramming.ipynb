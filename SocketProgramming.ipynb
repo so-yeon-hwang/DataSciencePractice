{
  "nbformat": 4,
  "nbformat_minor": 0,
  "metadata": {
    "colab": {
      "provenance": [],
      "authorship_tag": "ABX9TyN5QKQdzJNAY+Tqema0SpXr",
      "include_colab_link": true
    },
    "kernelspec": {
      "name": "python3",
      "display_name": "Python 3"
    },
    "language_info": {
      "name": "python"
    }
  },
  "cells": [
    {
      "cell_type": "markdown",
      "metadata": {
        "id": "view-in-github",
        "colab_type": "text"
      },
      "source": [
        "<a href=\"https://colab.research.google.com/github/so-yeon-hwang/DataSciencePractice/blob/main/SocketProgramming.ipynb\" target=\"_parent\"><img src=\"https://colab.research.google.com/assets/colab-badge.svg\" alt=\"Open In Colab\"/></a>"
      ]
    },
    {
      "cell_type": "code",
      "execution_count": null,
      "metadata": {
        "colab": {
          "base_uri": "https://localhost:8080/"
        },
        "id": "-ShD6sy-FsqN",
        "outputId": "5ad20a61-15b1-4af3-b6a0-fd2de828439d"
      },
      "outputs": [
        {
          "output_type": "stream",
          "name": "stdout",
          "text": [
            "Student ID : 20192754\n",
            "Name : Soyeon Hwang \n",
            "\n",
            "> down http://netapp.cs.kookmin.ac.kr/member/palladio.JPG\n",
            "GET /member/palladio.JPG HTTP/1.0\n",
            "Host: netapp.cs.kookmin.ac.kr\n",
            "User-Agent: HW1/1.0\n",
            "Connection: close\n",
            "\n",
            "\n",
            "Download Complete: palladio.JPG, 142740/142740\n"
          ]
        }
      ],
      "source": [
        "import socket\n",
        "import os\n",
        "import urllib.parse\n",
        "\n",
        "def generate_http_request(url):\n",
        "    parsed_url = urllib.parse.urlparse(url)\n",
        "    http_request = f\"GET {parsed_url.path} HTTP/1.0\\r\\n\"\n",
        "    http_request += f\"Host: {parsed_url.netloc}\\r\\n\"\n",
        "    http_request += \"User-Agent: HW1/1.0\\r\\n\"\n",
        "    http_request += \"Connection: close\\r\\n\\r\\n\"\n",
        "    return http_request\n",
        "\n",
        "\n",
        "def download_file(url):\n",
        "    parsed_url = urllib.parse.urlparse(url) # URL 파싱\n",
        "    filename = os.path.basename(parsed_url.path) # 파일명 추출\n",
        "\n",
        "    # 호스트 이름과 포트 번호 추출\n",
        "    host = parsed_url.netloc.split(':')[0]\n",
        "    port = parsed_url.netloc.split(':')[1] if ':' in parsed_url.netloc else 80\n",
        "\n",
        "    try:\n",
        "      # 소켓 생성 및 연결\n",
        "      client_socket = socket.socket(socket.AF_INET, socket.SOCK_STREAM)\n",
        "      client_socket.connect((host, int(port)))\n",
        "\n",
        "      # HTTP Request 메시지 생성 및 전송\n",
        "      http_request = generate_http_request(url)\n",
        "      client_socket.send(http_request.encode())\n",
        "\n",
        "      # HTTP Response 읽기\n",
        "      response = b''\n",
        "      while True:\n",
        "          data = client_socket.recv(1024)\n",
        "          if not data:\n",
        "              break\n",
        "          response += data\n",
        "\n",
        "      # 헤더와 바디 분리\n",
        "      header_end_index = response.find(b'\\r\\n\\r\\n')\n",
        "      header = response[:header_end_index]\n",
        "      body = response[header_end_index+4:]\n",
        "\n",
        "      # HTTP 응답 상태 코드 확인\n",
        "      status_line = header.split(b'\\r\\n', 1)[0]\n",
        "      status_code = int(status_line.split()[1])\n",
        "\n",
        "      # HTTP 응답이 200 OK가 아니면 status code를 통해 해당 에러 메시지 출력\n",
        "      if status_code != 200:\n",
        "          print(f\"HTTP Response Status Code: {status_code}\")\n",
        "          return\n",
        "\n",
        "      # Content-Length 헤더에서 파일 크기정보 추출\n",
        "      content_length_index = header.find(b'Content-Length:')\n",
        "      start_index = content_length_index + len(b'Content-Length:')\n",
        "      end_index = header.find(b'\\r\\n', start_index)\n",
        "      content_length = int(header[start_index:end_index].strip())\n",
        "\n",
        "      # 파일에 응답 바디 저장\n",
        "      with open(filename, 'wb') as f:\n",
        "          f.write(body)\n",
        "\n",
        "      print(http_request) # 정보 출력 4 lines\n",
        "\n",
        "      # 소켓 연결 닫기\n",
        "      client_socket.close()\n",
        "\n",
        "      print(f\"Download Complete: {filename}, {len(body)}/{content_length}\")\n",
        "\n",
        "    # 404 not found 등 예외처리\n",
        "    except socket.gaierror as e:\n",
        "      print(f\"{host}: unknown host\")\n",
        "      print(f\"cannot connect to server {host} {port}\")\n",
        "\n",
        "def main():\n",
        "    print(\"Student ID : 20192754\")\n",
        "    print(\"Name : Soyeon Hwang \")\n",
        "\n",
        "    while True:\n",
        "        cmd = input(\"\\n> \") # input\n",
        "\n",
        "        if cmd == \"q\" or cmd == \"quit\": # quit 을 치면 프로그램 종료\n",
        "            break\n",
        "\n",
        "        tokens = cmd.strip().split()\n",
        "\n",
        "        if len(tokens) < 2 or tokens[0].lower() != \"down\":\n",
        "            print(\"Invalid command. Please use the format: down <url>\")\n",
        "            continue\n",
        "\n",
        "        url = tokens[1]\n",
        "        parsed_url = urllib.parse.urlparse(url)\n",
        "\n",
        "        if parsed_url.scheme != \"http\": # http로 시작하지 않는 경우들을 처리\n",
        "            print(f\"Only support http, not {parsed_url.scheme}\")\n",
        "            continue\n",
        "\n",
        "        # 모든 조건을 성립할 경우, download_file() 함수를 실행해준다\n",
        "        download_file(url)\n",
        "\n",
        "if __name__ == \"__main__\":\n",
        "    main()"
      ]
    },
    {
      "cell_type": "code",
      "source": [],
      "metadata": {
        "id": "WLanQEqvGR2l"
      },
      "execution_count": null,
      "outputs": []
    }
  ]
}