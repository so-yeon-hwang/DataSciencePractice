{
  "nbformat": 4,
  "nbformat_minor": 0,
  "metadata": {
    "colab": {
      "provenance": [],
      "authorship_tag": "ABX9TyN3QFFmAT31H+0O58Xxrz3y",
      "include_colab_link": true
    },
    "kernelspec": {
      "name": "python3",
      "display_name": "Python 3"
    },
    "language_info": {
      "name": "python"
    },
    "widgets": {
      "application/vnd.jupyter.widget-state+json": {
        "9e70a529d23a4c529fa40115e1d2ee0b": {
          "model_module": "@jupyter-widgets/controls",
          "model_name": "VBoxModel",
          "model_module_version": "1.5.0",
          "state": {
            "_dom_classes": [
              "widget-interact"
            ],
            "_model_module": "@jupyter-widgets/controls",
            "_model_module_version": "1.5.0",
            "_model_name": "VBoxModel",
            "_view_count": null,
            "_view_module": "@jupyter-widgets/controls",
            "_view_module_version": "1.5.0",
            "_view_name": "VBoxView",
            "box_style": "",
            "children": [
              "IPY_MODEL_f23b5c00002b43af9af10f2512d3c550",
              "IPY_MODEL_9379a507ea51462183e106ae3a5c55ec"
            ],
            "layout": "IPY_MODEL_c439ce6e4a2047d6b5a79460e5e1d74f"
          }
        },
        "f23b5c00002b43af9af10f2512d3c550": {
          "model_module": "@jupyter-widgets/controls",
          "model_name": "IntSliderModel",
          "model_module_version": "1.5.0",
          "state": {
            "_dom_classes": [],
            "_model_module": "@jupyter-widgets/controls",
            "_model_module_version": "1.5.0",
            "_model_name": "IntSliderModel",
            "_view_count": null,
            "_view_module": "@jupyter-widgets/controls",
            "_view_module_version": "1.5.0",
            "_view_name": "IntSliderView",
            "continuous_update": false,
            "description": "idx",
            "description_tooltip": null,
            "disabled": false,
            "layout": "IPY_MODEL_06e62f54c2c948ef9e480615b2d8f874",
            "max": 59999,
            "min": 0,
            "orientation": "horizontal",
            "readout": true,
            "readout_format": "d",
            "step": 1,
            "style": "IPY_MODEL_3521b50f1d14466b9230a85d24935a38",
            "value": 25838
          }
        },
        "9379a507ea51462183e106ae3a5c55ec": {
          "model_module": "@jupyter-widgets/output",
          "model_name": "OutputModel",
          "model_module_version": "1.0.0",
          "state": {
            "_dom_classes": [],
            "_model_module": "@jupyter-widgets/output",
            "_model_module_version": "1.0.0",
            "_model_name": "OutputModel",
            "_view_count": null,
            "_view_module": "@jupyter-widgets/output",
            "_view_module_version": "1.0.0",
            "_view_name": "OutputView",
            "layout": "IPY_MODEL_8336d7f92f894b2b9144062c8c861211",
            "msg_id": "",
            "outputs": [
              {
                "output_type": "stream",
                "name": "stdout",
                "text": [
                  "GT label :  2\n"
                ]
              },
              {
                "output_type": "display_data",
                "data": {
                  "text/plain": "<Figure size 640x480 with 2 Axes>",
                  "image/png": "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\n"
                },
                "metadata": {}
              }
            ]
          }
        },
        "c439ce6e4a2047d6b5a79460e5e1d74f": {
          "model_module": "@jupyter-widgets/base",
          "model_name": "LayoutModel",
          "model_module_version": "1.2.0",
          "state": {
            "_model_module": "@jupyter-widgets/base",
            "_model_module_version": "1.2.0",
            "_model_name": "LayoutModel",
            "_view_count": null,
            "_view_module": "@jupyter-widgets/base",
            "_view_module_version": "1.2.0",
            "_view_name": "LayoutView",
            "align_content": null,
            "align_items": null,
            "align_self": null,
            "border": null,
            "bottom": null,
            "display": null,
            "flex": null,
            "flex_flow": null,
            "grid_area": null,
            "grid_auto_columns": null,
            "grid_auto_flow": null,
            "grid_auto_rows": null,
            "grid_column": null,
            "grid_gap": null,
            "grid_row": null,
            "grid_template_areas": null,
            "grid_template_columns": null,
            "grid_template_rows": null,
            "height": null,
            "justify_content": null,
            "justify_items": null,
            "left": null,
            "margin": null,
            "max_height": null,
            "max_width": null,
            "min_height": null,
            "min_width": null,
            "object_fit": null,
            "object_position": null,
            "order": null,
            "overflow": null,
            "overflow_x": null,
            "overflow_y": null,
            "padding": null,
            "right": null,
            "top": null,
            "visibility": null,
            "width": null
          }
        },
        "06e62f54c2c948ef9e480615b2d8f874": {
          "model_module": "@jupyter-widgets/base",
          "model_name": "LayoutModel",
          "model_module_version": "1.2.0",
          "state": {
            "_model_module": "@jupyter-widgets/base",
            "_model_module_version": "1.2.0",
            "_model_name": "LayoutModel",
            "_view_count": null,
            "_view_module": "@jupyter-widgets/base",
            "_view_module_version": "1.2.0",
            "_view_name": "LayoutView",
            "align_content": null,
            "align_items": null,
            "align_self": null,
            "border": null,
            "bottom": null,
            "display": null,
            "flex": null,
            "flex_flow": null,
            "grid_area": null,
            "grid_auto_columns": null,
            "grid_auto_flow": null,
            "grid_auto_rows": null,
            "grid_column": null,
            "grid_gap": null,
            "grid_row": null,
            "grid_template_areas": null,
            "grid_template_columns": null,
            "grid_template_rows": null,
            "height": null,
            "justify_content": null,
            "justify_items": null,
            "left": null,
            "margin": null,
            "max_height": null,
            "max_width": null,
            "min_height": null,
            "min_width": null,
            "object_fit": null,
            "object_position": null,
            "order": null,
            "overflow": null,
            "overflow_x": null,
            "overflow_y": null,
            "padding": null,
            "right": null,
            "top": null,
            "visibility": null,
            "width": null
          }
        },
        "3521b50f1d14466b9230a85d24935a38": {
          "model_module": "@jupyter-widgets/controls",
          "model_name": "SliderStyleModel",
          "model_module_version": "1.5.0",
          "state": {
            "_model_module": "@jupyter-widgets/controls",
            "_model_module_version": "1.5.0",
            "_model_name": "SliderStyleModel",
            "_view_count": null,
            "_view_module": "@jupyter-widgets/base",
            "_view_module_version": "1.2.0",
            "_view_name": "StyleView",
            "description_width": "",
            "handle_color": null
          }
        },
        "8336d7f92f894b2b9144062c8c861211": {
          "model_module": "@jupyter-widgets/base",
          "model_name": "LayoutModel",
          "model_module_version": "1.2.0",
          "state": {
            "_model_module": "@jupyter-widgets/base",
            "_model_module_version": "1.2.0",
            "_model_name": "LayoutModel",
            "_view_count": null,
            "_view_module": "@jupyter-widgets/base",
            "_view_module_version": "1.2.0",
            "_view_name": "LayoutView",
            "align_content": null,
            "align_items": null,
            "align_self": null,
            "border": null,
            "bottom": null,
            "display": null,
            "flex": null,
            "flex_flow": null,
            "grid_area": null,
            "grid_auto_columns": null,
            "grid_auto_flow": null,
            "grid_auto_rows": null,
            "grid_column": null,
            "grid_gap": null,
            "grid_row": null,
            "grid_template_areas": null,
            "grid_template_columns": null,
            "grid_template_rows": null,
            "height": null,
            "justify_content": null,
            "justify_items": null,
            "left": null,
            "margin": null,
            "max_height": null,
            "max_width": null,
            "min_height": null,
            "min_width": null,
            "object_fit": null,
            "object_position": null,
            "order": null,
            "overflow": null,
            "overflow_x": null,
            "overflow_y": null,
            "padding": null,
            "right": null,
            "top": null,
            "visibility": null,
            "width": null
          }
        },
        "e5fbcf798a4d4c9db25d38e80dbd89e2": {
          "model_module": "@jupyter-widgets/controls",
          "model_name": "VBoxModel",
          "model_module_version": "1.5.0",
          "state": {
            "_dom_classes": [
              "widget-interact"
            ],
            "_model_module": "@jupyter-widgets/controls",
            "_model_module_version": "1.5.0",
            "_model_name": "VBoxModel",
            "_view_count": null,
            "_view_module": "@jupyter-widgets/controls",
            "_view_module_version": "1.5.0",
            "_view_name": "VBoxView",
            "box_style": "",
            "children": [
              "IPY_MODEL_77fc7b5d50ad4fc5a6e53ef0e9749186",
              "IPY_MODEL_1dde7fab1cc14d26bb4c549bf7022de5"
            ],
            "layout": "IPY_MODEL_03c97133b257463caa6427d653bbcaea"
          }
        },
        "77fc7b5d50ad4fc5a6e53ef0e9749186": {
          "model_module": "@jupyter-widgets/controls",
          "model_name": "IntSliderModel",
          "model_module_version": "1.5.0",
          "state": {
            "_dom_classes": [],
            "_model_module": "@jupyter-widgets/controls",
            "_model_module_version": "1.5.0",
            "_model_name": "IntSliderModel",
            "_view_count": null,
            "_view_module": "@jupyter-widgets/controls",
            "_view_module_version": "1.5.0",
            "_view_name": "IntSliderView",
            "continuous_update": false,
            "description": "idx",
            "description_tooltip": null,
            "disabled": false,
            "layout": "IPY_MODEL_f4783ab3fecd4b1eb6aa7dfcf4834b9e",
            "max": 9999,
            "min": 0,
            "orientation": "horizontal",
            "readout": true,
            "readout_format": "d",
            "step": 1,
            "style": "IPY_MODEL_9d698807a36445329c0e8161c0528013",
            "value": 0
          }
        },
        "1dde7fab1cc14d26bb4c549bf7022de5": {
          "model_module": "@jupyter-widgets/output",
          "model_name": "OutputModel",
          "model_module_version": "1.0.0",
          "state": {
            "_dom_classes": [],
            "_model_module": "@jupyter-widgets/output",
            "_model_module_version": "1.0.0",
            "_model_name": "OutputModel",
            "_view_count": null,
            "_view_module": "@jupyter-widgets/output",
            "_view_module_version": "1.0.0",
            "_view_name": "OutputView",
            "layout": "IPY_MODEL_109a7113f7d34ea78795c7fb7f9bb5ee",
            "msg_id": "",
            "outputs": [
              {
                "output_type": "stream",
                "name": "stdout",
                "text": [
                  "GT label: 7\n"
                ]
              },
              {
                "output_type": "display_data",
                "data": {
                  "text/plain": "<Figure size 640x480 with 2 Axes>",
                  "image/png": "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\n"
                },
                "metadata": {}
              }
            ]
          }
        },
        "03c97133b257463caa6427d653bbcaea": {
          "model_module": "@jupyter-widgets/base",
          "model_name": "LayoutModel",
          "model_module_version": "1.2.0",
          "state": {
            "_model_module": "@jupyter-widgets/base",
            "_model_module_version": "1.2.0",
            "_model_name": "LayoutModel",
            "_view_count": null,
            "_view_module": "@jupyter-widgets/base",
            "_view_module_version": "1.2.0",
            "_view_name": "LayoutView",
            "align_content": null,
            "align_items": null,
            "align_self": null,
            "border": null,
            "bottom": null,
            "display": null,
            "flex": null,
            "flex_flow": null,
            "grid_area": null,
            "grid_auto_columns": null,
            "grid_auto_flow": null,
            "grid_auto_rows": null,
            "grid_column": null,
            "grid_gap": null,
            "grid_row": null,
            "grid_template_areas": null,
            "grid_template_columns": null,
            "grid_template_rows": null,
            "height": null,
            "justify_content": null,
            "justify_items": null,
            "left": null,
            "margin": null,
            "max_height": null,
            "max_width": null,
            "min_height": null,
            "min_width": null,
            "object_fit": null,
            "object_position": null,
            "order": null,
            "overflow": null,
            "overflow_x": null,
            "overflow_y": null,
            "padding": null,
            "right": null,
            "top": null,
            "visibility": null,
            "width": null
          }
        },
        "f4783ab3fecd4b1eb6aa7dfcf4834b9e": {
          "model_module": "@jupyter-widgets/base",
          "model_name": "LayoutModel",
          "model_module_version": "1.2.0",
          "state": {
            "_model_module": "@jupyter-widgets/base",
            "_model_module_version": "1.2.0",
            "_model_name": "LayoutModel",
            "_view_count": null,
            "_view_module": "@jupyter-widgets/base",
            "_view_module_version": "1.2.0",
            "_view_name": "LayoutView",
            "align_content": null,
            "align_items": null,
            "align_self": null,
            "border": null,
            "bottom": null,
            "display": null,
            "flex": null,
            "flex_flow": null,
            "grid_area": null,
            "grid_auto_columns": null,
            "grid_auto_flow": null,
            "grid_auto_rows": null,
            "grid_column": null,
            "grid_gap": null,
            "grid_row": null,
            "grid_template_areas": null,
            "grid_template_columns": null,
            "grid_template_rows": null,
            "height": null,
            "justify_content": null,
            "justify_items": null,
            "left": null,
            "margin": null,
            "max_height": null,
            "max_width": null,
            "min_height": null,
            "min_width": null,
            "object_fit": null,
            "object_position": null,
            "order": null,
            "overflow": null,
            "overflow_x": null,
            "overflow_y": null,
            "padding": null,
            "right": null,
            "top": null,
            "visibility": null,
            "width": null
          }
        },
        "9d698807a36445329c0e8161c0528013": {
          "model_module": "@jupyter-widgets/controls",
          "model_name": "SliderStyleModel",
          "model_module_version": "1.5.0",
          "state": {
            "_model_module": "@jupyter-widgets/controls",
            "_model_module_version": "1.5.0",
            "_model_name": "SliderStyleModel",
            "_view_count": null,
            "_view_module": "@jupyter-widgets/base",
            "_view_module_version": "1.2.0",
            "_view_name": "StyleView",
            "description_width": "",
            "handle_color": null
          }
        },
        "109a7113f7d34ea78795c7fb7f9bb5ee": {
          "model_module": "@jupyter-widgets/base",
          "model_name": "LayoutModel",
          "model_module_version": "1.2.0",
          "state": {
            "_model_module": "@jupyter-widgets/base",
            "_model_module_version": "1.2.0",
            "_model_name": "LayoutModel",
            "_view_count": null,
            "_view_module": "@jupyter-widgets/base",
            "_view_module_version": "1.2.0",
            "_view_name": "LayoutView",
            "align_content": null,
            "align_items": null,
            "align_self": null,
            "border": null,
            "bottom": null,
            "display": null,
            "flex": null,
            "flex_flow": null,
            "grid_area": null,
            "grid_auto_columns": null,
            "grid_auto_flow": null,
            "grid_auto_rows": null,
            "grid_column": null,
            "grid_gap": null,
            "grid_row": null,
            "grid_template_areas": null,
            "grid_template_columns": null,
            "grid_template_rows": null,
            "height": null,
            "justify_content": null,
            "justify_items": null,
            "left": null,
            "margin": null,
            "max_height": null,
            "max_width": null,
            "min_height": null,
            "min_width": null,
            "object_fit": null,
            "object_position": null,
            "order": null,
            "overflow": null,
            "overflow_x": null,
            "overflow_y": null,
            "padding": null,
            "right": null,
            "top": null,
            "visibility": null,
            "width": null
          }
        },
        "061a8a58eb5d494ca084731f344cf18f": {
          "model_module": "@jupyter-widgets/controls",
          "model_name": "VBoxModel",
          "model_module_version": "1.5.0",
          "state": {
            "_dom_classes": [
              "widget-interact"
            ],
            "_model_module": "@jupyter-widgets/controls",
            "_model_module_version": "1.5.0",
            "_model_name": "VBoxModel",
            "_view_count": null,
            "_view_module": "@jupyter-widgets/controls",
            "_view_module_version": "1.5.0",
            "_view_name": "VBoxView",
            "box_style": "",
            "children": [
              "IPY_MODEL_d87870d2de1a4706a15caa6c028d225a",
              "IPY_MODEL_1692cc56221542e8b1a3f5e762f64cb0"
            ],
            "layout": "IPY_MODEL_e3aee05897644dfc8b8e1f7fffc6d924"
          }
        },
        "d87870d2de1a4706a15caa6c028d225a": {
          "model_module": "@jupyter-widgets/controls",
          "model_name": "IntSliderModel",
          "model_module_version": "1.5.0",
          "state": {
            "_dom_classes": [],
            "_model_module": "@jupyter-widgets/controls",
            "_model_module_version": "1.5.0",
            "_model_name": "IntSliderModel",
            "_view_count": null,
            "_view_module": "@jupyter-widgets/controls",
            "_view_module_version": "1.5.0",
            "_view_name": "IntSliderView",
            "continuous_update": false,
            "description": "idx",
            "description_tooltip": null,
            "disabled": false,
            "layout": "IPY_MODEL_04b55ad971ac4900a0b746163cd1df78",
            "max": 9999,
            "min": 0,
            "orientation": "horizontal",
            "readout": true,
            "readout_format": "d",
            "step": 1,
            "style": "IPY_MODEL_26236acab70549fe8cbcbd09cbe0160c",
            "value": 0
          }
        },
        "1692cc56221542e8b1a3f5e762f64cb0": {
          "model_module": "@jupyter-widgets/output",
          "model_name": "OutputModel",
          "model_module_version": "1.0.0",
          "state": {
            "_dom_classes": [],
            "_model_module": "@jupyter-widgets/output",
            "_model_module_version": "1.0.0",
            "_model_name": "OutputModel",
            "_view_count": null,
            "_view_module": "@jupyter-widgets/output",
            "_view_module_version": "1.0.0",
            "_view_name": "OutputView",
            "layout": "IPY_MODEL_e125fe98a1024ad1bfa4ace793f66f8b",
            "msg_id": "",
            "outputs": [
              {
                "output_type": "stream",
                "name": "stdout",
                "text": [
                  "GT label: 7\n"
                ]
              },
              {
                "output_type": "display_data",
                "data": {
                  "text/plain": "<Figure size 640x480 with 2 Axes>",
                  "image/png": "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\n"
                },
                "metadata": {}
              }
            ]
          }
        },
        "e3aee05897644dfc8b8e1f7fffc6d924": {
          "model_module": "@jupyter-widgets/base",
          "model_name": "LayoutModel",
          "model_module_version": "1.2.0",
          "state": {
            "_model_module": "@jupyter-widgets/base",
            "_model_module_version": "1.2.0",
            "_model_name": "LayoutModel",
            "_view_count": null,
            "_view_module": "@jupyter-widgets/base",
            "_view_module_version": "1.2.0",
            "_view_name": "LayoutView",
            "align_content": null,
            "align_items": null,
            "align_self": null,
            "border": null,
            "bottom": null,
            "display": null,
            "flex": null,
            "flex_flow": null,
            "grid_area": null,
            "grid_auto_columns": null,
            "grid_auto_flow": null,
            "grid_auto_rows": null,
            "grid_column": null,
            "grid_gap": null,
            "grid_row": null,
            "grid_template_areas": null,
            "grid_template_columns": null,
            "grid_template_rows": null,
            "height": null,
            "justify_content": null,
            "justify_items": null,
            "left": null,
            "margin": null,
            "max_height": null,
            "max_width": null,
            "min_height": null,
            "min_width": null,
            "object_fit": null,
            "object_position": null,
            "order": null,
            "overflow": null,
            "overflow_x": null,
            "overflow_y": null,
            "padding": null,
            "right": null,
            "top": null,
            "visibility": null,
            "width": null
          }
        },
        "04b55ad971ac4900a0b746163cd1df78": {
          "model_module": "@jupyter-widgets/base",
          "model_name": "LayoutModel",
          "model_module_version": "1.2.0",
          "state": {
            "_model_module": "@jupyter-widgets/base",
            "_model_module_version": "1.2.0",
            "_model_name": "LayoutModel",
            "_view_count": null,
            "_view_module": "@jupyter-widgets/base",
            "_view_module_version": "1.2.0",
            "_view_name": "LayoutView",
            "align_content": null,
            "align_items": null,
            "align_self": null,
            "border": null,
            "bottom": null,
            "display": null,
            "flex": null,
            "flex_flow": null,
            "grid_area": null,
            "grid_auto_columns": null,
            "grid_auto_flow": null,
            "grid_auto_rows": null,
            "grid_column": null,
            "grid_gap": null,
            "grid_row": null,
            "grid_template_areas": null,
            "grid_template_columns": null,
            "grid_template_rows": null,
            "height": null,
            "justify_content": null,
            "justify_items": null,
            "left": null,
            "margin": null,
            "max_height": null,
            "max_width": null,
            "min_height": null,
            "min_width": null,
            "object_fit": null,
            "object_position": null,
            "order": null,
            "overflow": null,
            "overflow_x": null,
            "overflow_y": null,
            "padding": null,
            "right": null,
            "top": null,
            "visibility": null,
            "width": null
          }
        },
        "26236acab70549fe8cbcbd09cbe0160c": {
          "model_module": "@jupyter-widgets/controls",
          "model_name": "SliderStyleModel",
          "model_module_version": "1.5.0",
          "state": {
            "_model_module": "@jupyter-widgets/controls",
            "_model_module_version": "1.5.0",
            "_model_name": "SliderStyleModel",
            "_view_count": null,
            "_view_module": "@jupyter-widgets/base",
            "_view_module_version": "1.2.0",
            "_view_name": "StyleView",
            "description_width": "",
            "handle_color": null
          }
        },
        "e125fe98a1024ad1bfa4ace793f66f8b": {
          "model_module": "@jupyter-widgets/base",
          "model_name": "LayoutModel",
          "model_module_version": "1.2.0",
          "state": {
            "_model_module": "@jupyter-widgets/base",
            "_model_module_version": "1.2.0",
            "_model_name": "LayoutModel",
            "_view_count": null,
            "_view_module": "@jupyter-widgets/base",
            "_view_module_version": "1.2.0",
            "_view_name": "LayoutView",
            "align_content": null,
            "align_items": null,
            "align_self": null,
            "border": null,
            "bottom": null,
            "display": null,
            "flex": null,
            "flex_flow": null,
            "grid_area": null,
            "grid_auto_columns": null,
            "grid_auto_flow": null,
            "grid_auto_rows": null,
            "grid_column": null,
            "grid_gap": null,
            "grid_row": null,
            "grid_template_areas": null,
            "grid_template_columns": null,
            "grid_template_rows": null,
            "height": null,
            "justify_content": null,
            "justify_items": null,
            "left": null,
            "margin": null,
            "max_height": null,
            "max_width": null,
            "min_height": null,
            "min_width": null,
            "object_fit": null,
            "object_position": null,
            "order": null,
            "overflow": null,
            "overflow_x": null,
            "overflow_y": null,
            "padding": null,
            "right": null,
            "top": null,
            "visibility": null,
            "width": null
          }
        }
      }
    }
  },
  "cells": [
    {
      "cell_type": "markdown",
      "metadata": {
        "id": "view-in-github",
        "colab_type": "text"
      },
      "source": [
        "<a href=\"https://colab.research.google.com/github/so-yeon-hwang/DataSciencePractice/blob/main/Auto_Encoder_MNIST_data.ipynb\" target=\"_parent\"><img src=\"https://colab.research.google.com/assets/colab-badge.svg\" alt=\"Open In Colab\"/></a>"
      ]
    },
    {
      "cell_type": "markdown",
      "source": [
        "## 01 Data Loading"
      ],
      "metadata": {
        "id": "LZaMOJ8Hhcwz"
      }
    },
    {
      "cell_type": "code",
      "execution_count": 2,
      "metadata": {
        "colab": {
          "base_uri": "https://localhost:8080/"
        },
        "id": "ZGhz-4Jkafld",
        "outputId": "98d370c2-cf8c-4894-840f-190a336679f8"
      },
      "outputs": [
        {
          "output_type": "stream",
          "name": "stdout",
          "text": [
            "Python :  3.10.12 (main, Nov 20 2023, 15:14:05) [GCC 11.4.0]\n",
            "Numpy :  1.25.2\n",
            "Torch :  2.2.1+cu121\n",
            "Torchvision :  0.17.1+cu121\n"
          ]
        }
      ],
      "source": [
        "import sys\n",
        "import time\n",
        "import numpy as np\n",
        "import matplotlib.pyplot as plt\n",
        "\n",
        "import torch\n",
        "import torch.nn as nn\n",
        "import torch.nn.functional as F\n",
        "\n",
        "import torchvision\n",
        "import torchvision.utils as utios\n",
        "import torchvision.transforms as transforms\n",
        "import torchvision.datasets as datasets\n",
        "\n",
        "from tqdm import tqdm\n",
        "\n",
        "print(\"Python : \", sys.version)\n",
        "print(\"Numpy : \", np.__version__)\n",
        "print(\"Torch : \", torch.__version__)\n",
        "print(\"Torchvision : \", torchvision.__version__)"
      ]
    },
    {
      "cell_type": "code",
      "source": [
        "device = torch.device(\"cuda:0\" if torch.cuda.is_available() else \"cpu\")\n",
        "print(device) # cuda 지원 GPU 없음"
      ],
      "metadata": {
        "colab": {
          "base_uri": "https://localhost:8080/"
        },
        "id": "VdPobuCwa4yk",
        "outputId": "6b6bc4be-139b-4b30-a321-c7f9c5a3c97c"
      },
      "execution_count": 3,
      "outputs": [
        {
          "output_type": "stream",
          "name": "stdout",
          "text": [
            "cpu\n"
          ]
        }
      ]
    },
    {
      "cell_type": "code",
      "source": [
        "# 변수할당\n",
        "\n",
        "batch_size = 100\n",
        "learning_rate = 0.001\n",
        "num_epochs = 10"
      ],
      "metadata": {
        "id": "vj46yShKbTi6"
      },
      "execution_count": 5,
      "outputs": []
    },
    {
      "cell_type": "code",
      "source": [
        "import torchvision.transforms as transforms\n",
        "from torchvision.datasets import MNIST\n",
        "\n",
        "download_root = './MNIST_DATASET'"
      ],
      "metadata": {
        "id": "tgdAwWarbcXM"
      },
      "execution_count": 6,
      "outputs": []
    },
    {
      "cell_type": "code",
      "source": [
        "# mnist_transform 변환 파이프라인의 역할\n",
        "\n",
        "# (1) 형태변환 PIL (Python Imaging Library) → 파이토치 tensor\n",
        "# (2) 픽셀 값 범위 정규화 : [0,255] → [0.0, 1.0]\n",
        "# (3) 채널 순서 변경 PIL image (H x W x C) → torch tensor (C x H x W)\n",
        "\n",
        "# 변환 파이프라인 구축\n",
        "mnist_transform = transforms.Compose([ # transforms.Compose() 함수는 원래 여러 함수를 하나로 묶는 역할(인데 여기선 하나의 함수)\n",
        "    transforms.ToTensor(),\n",
        "])\n",
        "\n",
        "\n",
        "train_dataset = MNIST(download_root,\n",
        "                      transform = mnist_transform, # 변환 파이프라인 적용\n",
        "                      train = True,\n",
        "                      download = True)\n",
        "\n",
        "test_dataset = MNIST(download_root,\n",
        "                     transform = mnist_transform,\n",
        "                     train = False, # → testset\n",
        "                     download = False) # 위에서 다운로드 받아서 불필요"
      ],
      "metadata": {
        "colab": {
          "base_uri": "https://localhost:8080/"
        },
        "id": "b2cXfGx6bvx1",
        "outputId": "e67acdcf-fe5e-4bc4-c338-dc243588fa6c"
      },
      "execution_count": 8,
      "outputs": [
        {
          "output_type": "stream",
          "name": "stdout",
          "text": [
            "Downloading http://yann.lecun.com/exdb/mnist/train-images-idx3-ubyte.gz\n",
            "Downloading http://yann.lecun.com/exdb/mnist/train-images-idx3-ubyte.gz to ./MNIST_DATASET/MNIST/raw/train-images-idx3-ubyte.gz\n"
          ]
        },
        {
          "output_type": "stream",
          "name": "stderr",
          "text": [
            "100%|██████████| 9912422/9912422 [00:00<00:00, 110129958.40it/s]\n"
          ]
        },
        {
          "output_type": "stream",
          "name": "stdout",
          "text": [
            "Extracting ./MNIST_DATASET/MNIST/raw/train-images-idx3-ubyte.gz to ./MNIST_DATASET/MNIST/raw\n",
            "\n",
            "Downloading http://yann.lecun.com/exdb/mnist/train-labels-idx1-ubyte.gz\n",
            "Downloading http://yann.lecun.com/exdb/mnist/train-labels-idx1-ubyte.gz to ./MNIST_DATASET/MNIST/raw/train-labels-idx1-ubyte.gz\n"
          ]
        },
        {
          "output_type": "stream",
          "name": "stderr",
          "text": [
            "100%|██████████| 28881/28881 [00:00<00:00, 59148288.00it/s]\n"
          ]
        },
        {
          "output_type": "stream",
          "name": "stdout",
          "text": [
            "Extracting ./MNIST_DATASET/MNIST/raw/train-labels-idx1-ubyte.gz to ./MNIST_DATASET/MNIST/raw\n",
            "\n",
            "Downloading http://yann.lecun.com/exdb/mnist/t10k-images-idx3-ubyte.gz\n",
            "Downloading http://yann.lecun.com/exdb/mnist/t10k-images-idx3-ubyte.gz to ./MNIST_DATASET/MNIST/raw/t10k-images-idx3-ubyte.gz\n"
          ]
        },
        {
          "output_type": "stream",
          "name": "stderr",
          "text": [
            "100%|██████████| 1648877/1648877 [00:00<00:00, 31601490.52it/s]\n"
          ]
        },
        {
          "output_type": "stream",
          "name": "stdout",
          "text": [
            "Extracting ./MNIST_DATASET/MNIST/raw/t10k-images-idx3-ubyte.gz to ./MNIST_DATASET/MNIST/raw\n",
            "\n",
            "Downloading http://yann.lecun.com/exdb/mnist/t10k-labels-idx1-ubyte.gz\n",
            "Downloading http://yann.lecun.com/exdb/mnist/t10k-labels-idx1-ubyte.gz to ./MNIST_DATASET/MNIST/raw/t10k-labels-idx1-ubyte.gz\n"
          ]
        },
        {
          "output_type": "stream",
          "name": "stderr",
          "text": [
            "100%|██████████| 4542/4542 [00:00<00:00, 11121149.31it/s]\n"
          ]
        },
        {
          "output_type": "stream",
          "name": "stdout",
          "text": [
            "Extracting ./MNIST_DATASET/MNIST/raw/t10k-labels-idx1-ubyte.gz to ./MNIST_DATASET/MNIST/raw\n",
            "\n"
          ]
        }
      ]
    },
    {
      "cell_type": "code",
      "source": [
        "# 데이터셋 확인\n",
        "def print_MNIST_dataset_info(dataset):\n",
        "  print(\"dataset length : \", len(dataset))\n",
        "  print(\"type of each data : \", type(dataset[0]))\n",
        "  first_img, first_label = dataset[0]\n",
        "  print(\"image shape : \", first_img.shape)\n",
        "  print(\"image dtype : \", first_img.dtype)\n",
        "  print(\"image pixel min-value : \", first_img.min())\n",
        "  print(\"label data type : \", type(first_label))\n",
        "\n",
        "print(\"<Train Dataset Info>\")\n",
        "print_MNIST_dataset_info(train_dataset)\n",
        "print()\n",
        "\n",
        "print(\"<Test Dataset Info>\")\n",
        "print_MNIST_dataset_info(test_dataset)\n"
      ],
      "metadata": {
        "colab": {
          "base_uri": "https://localhost:8080/"
        },
        "id": "qrGJM4GicU1T",
        "outputId": "e98bbe8e-50bb-40a4-feaf-4ced847575b0"
      },
      "execution_count": 10,
      "outputs": [
        {
          "output_type": "stream",
          "name": "stdout",
          "text": [
            "<Train Dataset Info>\n",
            "dataset length :  60000\n",
            "type of each data :  <class 'tuple'>\n",
            "image shape :  torch.Size([1, 28, 28])\n",
            "image dtype :  torch.float32\n",
            "image pixel min-value :  tensor(0.)\n",
            "label data type :  <class 'int'>\n",
            "\n",
            "<Test Dataset Info>\n",
            "dataset length :  10000\n",
            "type of each data :  <class 'tuple'>\n",
            "image shape :  torch.Size([1, 28, 28])\n",
            "image dtype :  torch.float32\n",
            "image pixel min-value :  tensor(0.)\n",
            "label data type :  <class 'int'>\n"
          ]
        }
      ]
    },
    {
      "cell_type": "code",
      "source": [
        "# DataLoader 정의\n",
        "# DataLoader : 데이터셋을 미니배치로 나누어주는 utility into batch_size\n",
        "\n",
        "from torch.utils.data import DataLoader\n",
        "\n",
        "train_loader = DataLoader(dataset = train_dataset,\n",
        "                          batch_size = batch_size,\n",
        "                          shuffle = True)\n",
        "\n",
        "test_loader = DataLoader(dataset = test_dataset,\n",
        "                         batch_size = batch_size,\n",
        "                         shuffle = False)"
      ],
      "metadata": {
        "id": "61aIbkaefk3n"
      },
      "execution_count": 13,
      "outputs": []
    },
    {
      "cell_type": "code",
      "source": [
        "from torchvision.transforms.functional import to_pil_image\n",
        "import matplotlib.pyplot as plt\n",
        "\n",
        "# 첫 번째 이미지 찍어보기\n",
        "batch_images, batch_labels = next(iter(train_loader))"
      ],
      "metadata": {
        "id": "Q_gdMh3ngNdE"
      },
      "execution_count": 15,
      "outputs": []
    },
    {
      "cell_type": "code",
      "source": [
        "batch_labels"
      ],
      "metadata": {
        "colab": {
          "base_uri": "https://localhost:8080/"
        },
        "id": "Mu_UYZX8gNSX",
        "outputId": "f50d8383-fe29-451e-9260-70b8e5680526"
      },
      "execution_count": 16,
      "outputs": [
        {
          "output_type": "execute_result",
          "data": {
            "text/plain": [
              "tensor([3, 9, 3, 9, 6, 6, 5, 4, 4, 7, 1, 3, 0, 7, 8, 4, 0, 5, 6, 0, 3, 9, 3, 0,\n",
              "        1, 9, 4, 7, 1, 0, 1, 3, 5, 5, 5, 5, 1, 0, 0, 0, 5, 8, 8, 0, 9, 5, 2, 3,\n",
              "        1, 8, 9, 3, 8, 3, 8, 0, 7, 3, 4, 7, 6, 1, 9, 4, 3, 2, 4, 8, 5, 4, 0, 0,\n",
              "        4, 1, 4, 4, 7, 2, 4, 1, 4, 8, 4, 6, 5, 9, 3, 5, 4, 1, 0, 3, 7, 4, 0, 7,\n",
              "        2, 6, 9, 2])"
            ]
          },
          "metadata": {},
          "execution_count": 16
        }
      ]
    },
    {
      "cell_type": "code",
      "source": [
        "img = batch_images[0]\n",
        "\n",
        "# batch_images 뭉텅이의 첫 번째 이미지는 어떤 숫자를 그린 것인가? label 확인해보기\n",
        "print(\"first image label : \", int(batch_labels[0]))\n",
        "\n",
        "# batch_images 뭉텅이에서 첫 번째 이미지 찍어보기\n",
        "plt.figure()\n",
        "plt.imshow(to_pil_image(img), cmap = 'gray')\n",
        "plt.title(\"First image of batch images\")\n",
        "plt.show()\n"
      ],
      "metadata": {
        "colab": {
          "base_uri": "https://localhost:8080/",
          "height": 470
        },
        "id": "TRyNJ0cuf17G",
        "outputId": "5db0362c-d1b3-45d9-d6ee-7970214d0298"
      },
      "execution_count": 23,
      "outputs": [
        {
          "output_type": "stream",
          "name": "stdout",
          "text": [
            "first image label :  3\n"
          ]
        },
        {
          "output_type": "display_data",
          "data": {
            "text/plain": [
              "<Figure size 640x480 with 1 Axes>"
            ],
            "image/png": "[encoded data removed]"
          },
          "metadata": {}
        }
      ]
    },
    {
      "cell_type": "markdown",
      "source": [
        "## 02 AE Model"
      ],
      "metadata": {
        "id": "ROaEExX_hhna"
      }
    },
    {
      "cell_type": "code",
      "source": [
        "n_dim = 2\n",
        "# 인코더의 출력차원은 2 (잠재공간의 차원)\n",
        "# latent space dimension == 2\n",
        "\n",
        "# 인코더 정의\n",
        "\n",
        "# nn.Sequential : 파이토치에서 모듈을 순차적으로 쌓아 신경망을 정의\n",
        "enc = nn.Sequential(\n",
        "    nn.Flatten(), # MNIST 28x28 이미지 → 784차원 벡터로 변환\n",
        "    nn.Linear(784, 256),\n",
        "    nn.ReLU(), # 비선형 함수(non-linear)로 enhance complexity, 양수는 그대로, 음수는 0으로\n",
        "    nn.Linear(256,128),\n",
        "    nn.ReLU(),\n",
        "    nn.Linear(128,32),\n",
        "    nn.ReLU(),\n",
        "    nn.Linear(32,n_dim)\n",
        ")\n",
        "\n",
        "enc = enc.to(device)\n",
        "\n",
        "print(\"Encoder : \")\n",
        "print(enc)\n",
        "print()\n",
        "\n",
        "# 디코더 정의\n",
        "dec = nn.Sequential(\n",
        "    nn.Linear(n_dim,32),\n",
        "    nn.ReLU(),\n",
        "    nn.Linear(32,256),\n",
        "    nn.ReLU(),\n",
        "    nn.Linear(256,784),\n",
        "    nn.Unflatten(1, torch.Size([1,28,28])),\n",
        "    nn.Sigmoid()\n",
        ")\n",
        "\n",
        "dec = dec.to(device)\n",
        "print(\"Decoder : \")\n",
        "print(dec)\n",
        "print()\n",
        "\n",
        "# auto encoder 정의\n",
        "\n",
        "ae = nn.Sequential(\n",
        "    enc,\n",
        "    dec,\n",
        ")\n",
        "\n",
        "ae = ae.to(device)\n",
        "print(\"Auto Encoder : \")\n",
        "print(ae)"
      ],
      "metadata": {
        "colab": {
          "base_uri": "https://localhost:8080/"
        },
        "id": "vFhxkOHWgvHj",
        "outputId": "75b4f4b8-359a-4209-d7c9-74f858190ace"
      },
      "execution_count": 83,
      "outputs": [
        {
          "output_type": "stream",
          "name": "stdout",
          "text": [
            "Encoder : \n",
            "Sequential(\n",
            "  (0): Flatten(start_dim=1, end_dim=-1)\n",
            "  (1): Linear(in_features=784, out_features=256, bias=True)\n",
            "  (2): ReLU()\n",
            "  (3): Linear(in_features=256, out_features=128, bias=True)\n",
            "  (4): ReLU()\n",
            "  (5): Linear(in_features=128, out_features=32, bias=True)\n",
            "  (6): ReLU()\n",
            "  (7): Linear(in_features=32, out_features=2, bias=True)\n",
            ")\n",
            "\n",
            "Decoder : \n",
            "Sequential(\n",
            "  (0): Linear(in_features=2, out_features=32, bias=True)\n",
            "  (1): ReLU()\n",
            "  (2): Linear(in_features=32, out_features=256, bias=True)\n",
            "  (3): ReLU()\n",
            "  (4): Linear(in_features=256, out_features=784, bias=True)\n",
            "  (5): Unflatten(dim=1, unflattened_size=torch.Size([1, 28, 28]))\n",
            "  (6): Sigmoid()\n",
            ")\n",
            "\n",
            "Auto Encoder : \n",
            "Sequential(\n",
            "  (0): Sequential(\n",
            "    (0): Flatten(start_dim=1, end_dim=-1)\n",
            "    (1): Linear(in_features=784, out_features=256, bias=True)\n",
            "    (2): ReLU()\n",
            "    (3): Linear(in_features=256, out_features=128, bias=True)\n",
            "    (4): ReLU()\n",
            "    (5): Linear(in_features=128, out_features=32, bias=True)\n",
            "    (6): ReLU()\n",
            "    (7): Linear(in_features=32, out_features=2, bias=True)\n",
            "  )\n",
            "  (1): Sequential(\n",
            "    (0): Linear(in_features=2, out_features=32, bias=True)\n",
            "    (1): ReLU()\n",
            "    (2): Linear(in_features=32, out_features=256, bias=True)\n",
            "    (3): ReLU()\n",
            "    (4): Linear(in_features=256, out_features=784, bias=True)\n",
            "    (5): Unflatten(dim=1, unflattened_size=torch.Size([1, 28, 28]))\n",
            "    (6): Sigmoid()\n",
            "  )\n",
            ")\n"
          ]
        }
      ]
    },
    {
      "cell_type": "markdown",
      "source": [
        "### 파라미터 초기화 - w/ Xavier"
      ],
      "metadata": {
        "id": "5xNwBr3RonJQ"
      }
    },
    {
      "cell_type": "code",
      "source": [
        "# 기존 파라미터\n",
        "print(list(ae.parameters()))"
      ],
      "metadata": {
        "colab": {
          "base_uri": "https://localhost:8080/"
        },
        "id": "sX52oHf1rzY7",
        "outputId": "3aeb02aa-c8d2-4064-ebee-363c299cbf71"
      },
      "execution_count": 84,
      "outputs": [
        {
          "output_type": "stream",
          "name": "stdout",
          "text": [
            "[Parameter containing:\n",
            "tensor([[-0.0176, -0.0200, -0.0242,  ..., -0.0329,  0.0272,  0.0204],\n",
            "        [ 0.0237, -0.0276, -0.0292,  ..., -0.0123, -0.0087, -0.0006],\n",
            "        [-0.0294,  0.0223, -0.0324,  ...,  0.0188, -0.0054, -0.0344],\n",
            "        ...,\n",
            "        [ 0.0322,  0.0027,  0.0279,  ...,  0.0294,  0.0167, -0.0028],\n",
            "        [ 0.0335,  0.0276, -0.0155,  ..., -0.0332, -0.0182,  0.0075],\n",
            "        [ 0.0201,  0.0142, -0.0182,  ...,  0.0007,  0.0323, -0.0242]],\n",
            "       requires_grad=True), Parameter containing:\n",
            "tensor([-2.5878e-02, -3.2660e-02,  2.5316e-02,  1.4552e-02, -2.9281e-02,\n",
            "         2.8566e-02,  2.9510e-02, -3.4728e-02,  5.1981e-03, -3.2080e-02,\n",
            "        -1.8737e-02,  1.0291e-02, -6.2345e-03, -1.6782e-02, -1.6495e-03,\n",
            "         3.2270e-02, -3.5547e-03, -1.5667e-02,  1.0231e-02, -2.9358e-02,\n",
            "        -4.3870e-03, -7.0574e-04,  1.1391e-02, -1.2976e-02, -1.6040e-02,\n",
            "         2.2966e-03, -4.5251e-03,  2.8487e-02, -3.0716e-02, -8.8371e-03,\n",
            "        -1.6980e-02,  1.6166e-02,  2.3532e-02, -3.2171e-02,  1.4008e-02,\n",
            "        -1.7430e-03, -3.1601e-02, -1.9901e-03,  1.5973e-02,  1.8955e-02,\n",
            "        -3.1329e-02,  1.0223e-02, -1.1745e-02,  9.6182e-03,  2.6959e-02,\n",
            "        -2.8952e-02,  3.2335e-02, -2.8581e-03,  1.0131e-02,  3.5284e-02,\n",
            "        -3.4871e-02, -2.7144e-02, -1.2559e-02,  8.2720e-03,  3.0441e-02,\n",
            "        -3.5381e-02, -2.6882e-02, -1.1613e-02,  2.6710e-02,  1.1220e-02,\n",
            "        -4.1745e-03,  7.0482e-03,  1.9281e-02,  2.9794e-02, -1.6547e-02,\n",
            "        -2.3151e-02, -1.0441e-02,  3.5613e-02,  2.3941e-02,  1.8067e-02,\n",
            "        -3.0330e-02,  1.3561e-02,  9.8466e-03,  3.2493e-02, -3.1132e-02,\n",
            "        -2.4851e-02, -1.2404e-02, -3.1983e-02, -1.6285e-02, -7.8095e-03,\n",
            "         1.0522e-02,  2.2400e-02,  1.6475e-02, -1.4221e-02, -2.9219e-04,\n",
            "         7.1424e-03, -2.9338e-02,  1.1086e-02,  7.6265e-03, -2.7500e-02,\n",
            "         3.2205e-03,  1.9485e-02,  2.0055e-03,  1.0980e-02, -3.4682e-02,\n",
            "         7.6093e-04,  2.3878e-03, -1.2916e-02,  1.9710e-02, -2.0281e-02,\n",
            "         2.6884e-02,  1.5143e-02,  1.0185e-02, -2.5380e-02,  1.6923e-02,\n",
            "         2.2823e-02,  2.4776e-02,  3.2545e-02,  9.1774e-03,  3.0792e-02,\n",
            "         3.1506e-02, -3.2127e-02,  7.8339e-04,  1.9726e-02,  2.7734e-02,\n",
            "         1.9488e-02,  2.0267e-02,  7.2107e-03,  3.5258e-02, -1.3105e-02,\n",
            "         2.2041e-02,  1.8898e-02,  3.1620e-02, -6.9763e-03, -6.4329e-03,\n",
            "        -3.1962e-02,  3.2422e-02,  2.8337e-02, -2.4942e-02,  3.3187e-05,\n",
            "        -1.7468e-02,  1.2392e-02,  8.0219e-03, -1.5736e-02, -9.5857e-03,\n",
            "        -1.2320e-02, -1.3031e-03, -2.1279e-02, -2.3037e-02, -1.6544e-02,\n",
            "         2.2086e-02,  1.9148e-02, -2.1962e-02,  1.3380e-03,  1.0333e-02,\n",
            "        -3.4226e-02,  2.3710e-02, -8.6610e-03, -2.5868e-02,  3.6780e-05,\n",
            "         2.8399e-02,  8.2962e-03,  3.0303e-02, -1.0693e-02,  6.5896e-03,\n",
            "         1.2391e-02, -4.0062e-03,  8.7897e-03,  1.1792e-02, -1.2431e-02,\n",
            "         3.3230e-02, -1.9252e-02,  2.8024e-02,  1.6473e-02, -2.4835e-02,\n",
            "         2.1574e-03,  1.6751e-02, -1.4082e-02,  2.6160e-02, -3.0309e-03,\n",
            "         1.9647e-02,  1.6219e-02,  2.6441e-02, -2.7340e-02,  3.5671e-02,\n",
            "        -8.2849e-03, -1.7842e-02, -9.4966e-03, -3.3202e-02, -3.1194e-02,\n",
            "         1.9206e-02,  3.1513e-03,  3.4892e-02, -1.8911e-02,  3.4117e-02,\n",
            "        -9.1940e-03, -2.5675e-02,  7.2906e-03,  2.0061e-02,  2.9101e-02,\n",
            "        -2.8427e-02,  3.2274e-02, -4.3908e-03,  9.9546e-03, -2.7238e-02,\n",
            "         8.9829e-03,  3.3659e-02,  1.0851e-02,  2.3408e-02, -8.3492e-03,\n",
            "        -2.8846e-02, -5.6398e-03, -5.0133e-03,  6.0374e-03,  2.0148e-02,\n",
            "         2.8488e-02,  1.2147e-02, -9.5544e-03, -1.7279e-02,  2.6698e-02,\n",
            "         3.3917e-02,  2.7880e-02,  2.9683e-02,  6.8864e-03,  9.9923e-03,\n",
            "         3.2633e-02,  5.6970e-04,  2.8924e-03,  1.6483e-02,  2.6638e-02,\n",
            "         2.0240e-02,  9.4108e-03, -2.1529e-02,  2.3898e-02, -1.4275e-02,\n",
            "         1.8455e-02, -3.0133e-02,  2.5933e-02,  7.3326e-03,  1.9683e-03,\n",
            "         1.4892e-02, -2.9448e-02, -1.6937e-02,  2.3225e-02,  8.4409e-03,\n",
            "         2.0910e-02, -6.8816e-03,  1.2498e-02,  3.4840e-02, -4.1814e-03,\n",
            "         4.4129e-03,  3.8064e-04,  3.1103e-02,  1.2692e-02,  3.1230e-02,\n",
            "        -2.8797e-02, -2.4379e-02, -3.2274e-02, -2.2570e-02, -2.0111e-02,\n",
            "        -2.2278e-02, -2.7128e-02, -1.6064e-02, -1.4867e-02,  1.8240e-02,\n",
            "        -4.6916e-03], requires_grad=True), Parameter containing:\n",
            "tensor([[-0.0235, -0.0088, -0.0617,  ...,  0.0338, -0.0072, -0.0499],\n",
            "        [ 0.0163,  0.0128,  0.0224,  ..., -0.0419, -0.0193, -0.0118],\n",
            "        [ 0.0156, -0.0413, -0.0007,  ...,  0.0373, -0.0390, -0.0403],\n",
            "        ...,\n",
            "        [ 0.0285, -0.0292,  0.0465,  ...,  0.0044, -0.0440, -0.0078],\n",
            "        [-0.0305,  0.0389, -0.0311,  ...,  0.0527,  0.0396,  0.0560],\n",
            "        [ 0.0184,  0.0380,  0.0567,  ..., -0.0338,  0.0216, -0.0296]],\n",
            "       requires_grad=True), Parameter containing:\n",
            "tensor([ 0.0324,  0.0192, -0.0209,  0.0128, -0.0099,  0.0059,  0.0195, -0.0140,\n",
            "        -0.0388, -0.0609, -0.0253,  0.0586, -0.0418,  0.0295, -0.0138, -0.0238,\n",
            "        -0.0575, -0.0414,  0.0139, -0.0570, -0.0165,  0.0064,  0.0283,  0.0228,\n",
            "        -0.0325, -0.0105, -0.0406, -0.0366, -0.0238,  0.0283, -0.0145, -0.0127,\n",
            "         0.0373, -0.0492, -0.0509, -0.0210, -0.0286,  0.0149, -0.0034, -0.0129,\n",
            "        -0.0456, -0.0171,  0.0422, -0.0567, -0.0438,  0.0268,  0.0246,  0.0591,\n",
            "        -0.0488, -0.0117, -0.0278,  0.0624, -0.0274,  0.0614, -0.0145, -0.0598,\n",
            "        -0.0296,  0.0132, -0.0162,  0.0474,  0.0469, -0.0281, -0.0483, -0.0351,\n",
            "         0.0178,  0.0224, -0.0251,  0.0488, -0.0592,  0.0471, -0.0472,  0.0560,\n",
            "         0.0060, -0.0086,  0.0511,  0.0489,  0.0363, -0.0579,  0.0325,  0.0369,\n",
            "         0.0085,  0.0278,  0.0077, -0.0579, -0.0144,  0.0403, -0.0091,  0.0341,\n",
            "         0.0495,  0.0513,  0.0588,  0.0430, -0.0357,  0.0366, -0.0413,  0.0161,\n",
            "        -0.0064, -0.0065, -0.0010, -0.0563,  0.0541, -0.0160,  0.0247,  0.0374,\n",
            "        -0.0381,  0.0088,  0.0524,  0.0604, -0.0250, -0.0339,  0.0070, -0.0412,\n",
            "         0.0607, -0.0492, -0.0468,  0.0502,  0.0047, -0.0094,  0.0233, -0.0605,\n",
            "         0.0602, -0.0302,  0.0474,  0.0089,  0.0186,  0.0199,  0.0130, -0.0105],\n",
            "       requires_grad=True), Parameter containing:\n",
            "tensor([[-0.0465, -0.0039,  0.0243,  ...,  0.0137,  0.0384, -0.0295],\n",
            "        [ 0.0831,  0.0506,  0.0574,  ...,  0.0347, -0.0566, -0.0747],\n",
            "        [ 0.0301,  0.0704, -0.0344,  ...,  0.0054, -0.0729,  0.0232],\n",
            "        ...,\n",
            "        [-0.0213,  0.0589,  0.0861,  ...,  0.0336,  0.0055, -0.0640],\n",
            "        [ 0.0798, -0.0452,  0.0689,  ..., -0.0737,  0.0749, -0.0813],\n",
            "        [ 0.0397,  0.0599, -0.0133,  ...,  0.0181, -0.0693, -0.0778]],\n",
            "       requires_grad=True), Parameter containing:\n",
            "tensor([ 0.0487,  0.0688,  0.0465,  0.0006,  0.0297,  0.0760,  0.0853,  0.0240,\n",
            "         0.0690, -0.0371, -0.0149, -0.0530,  0.0649,  0.0580,  0.0014, -0.0281,\n",
            "         0.0250, -0.0748, -0.0119, -0.0636, -0.0822, -0.0789,  0.0348, -0.0450,\n",
            "         0.0713, -0.0819,  0.0381, -0.0774,  0.0226, -0.0387,  0.0090,  0.0454],\n",
            "       requires_grad=True), Parameter containing:\n",
            "tensor([[ 0.1350,  0.0501, -0.0249, -0.1381, -0.0491,  0.0529, -0.1327,  0.0484,\n",
            "          0.1603,  0.0510, -0.0471,  0.0013, -0.1497,  0.1624,  0.0243,  0.0544,\n",
            "          0.1439, -0.1332, -0.0757,  0.1430,  0.0575,  0.0158,  0.0016,  0.0737,\n",
            "          0.0087,  0.0389,  0.0058, -0.0575,  0.0913, -0.1047, -0.0965,  0.0389],\n",
            "        [-0.0203,  0.0519, -0.1723,  0.1065,  0.1491,  0.0817, -0.0782,  0.0061,\n",
            "          0.1221,  0.0645, -0.0160,  0.1143, -0.1163,  0.1199, -0.1326, -0.0016,\n",
            "          0.1037,  0.1089, -0.0315,  0.0391,  0.0172,  0.1763, -0.1031, -0.0117,\n",
            "          0.0622, -0.0076, -0.1089, -0.0882, -0.0672,  0.1502, -0.0459, -0.0086]],\n",
            "       requires_grad=True), Parameter containing:\n",
            "tensor([-0.0679, -0.1375], requires_grad=True), Parameter containing:\n",
            "tensor([[ 0.0792, -0.3171],\n",
            "        [ 0.1379,  0.1323],\n",
            "        [ 0.0473, -0.5561],\n",
            "        [-0.1653, -0.1672],\n",
            "        [-0.3146,  0.6842],\n",
            "        [-0.6633,  0.3844],\n",
            "        [ 0.6959, -0.3707],\n",
            "        [-0.3660, -0.5607],\n",
            "        [-0.6598,  0.5567],\n",
            "        [ 0.4966,  0.3679],\n",
            "        [-0.1759, -0.2152],\n",
            "        [-0.2156, -0.0540],\n",
            "        [ 0.5782,  0.3837],\n",
            "        [ 0.6700,  0.5752],\n",
            "        [ 0.6745, -0.6404],\n",
            "        [-0.2696,  0.3384],\n",
            "        [ 0.0236,  0.4370],\n",
            "        [-0.6615, -0.6129],\n",
            "        [-0.2461, -0.0918],\n",
            "        [-0.4962, -0.1272],\n",
            "        [ 0.7012, -0.2325],\n",
            "        [-0.4729, -0.4439],\n",
            "        [ 0.6774, -0.6347],\n",
            "        [-0.5572, -0.1941],\n",
            "        [ 0.3725,  0.2654],\n",
            "        [-0.2145,  0.3846],\n",
            "        [-0.1679, -0.6257],\n",
            "        [-0.6128, -0.1655],\n",
            "        [-0.3180,  0.2579],\n",
            "        [-0.5363, -0.6011],\n",
            "        [-0.3328, -0.3461],\n",
            "        [ 0.6078,  0.5130]], requires_grad=True), Parameter containing:\n",
            "tensor([ 0.6869,  0.5696,  0.0293,  0.3515, -0.3566,  0.6448, -0.4912,  0.1866,\n",
            "        -0.3086, -0.2876,  0.2300,  0.5319, -0.1698, -0.4495, -0.3814,  0.0563,\n",
            "         0.0930,  0.1051,  0.6818, -0.0254, -0.1048,  0.6718,  0.3840, -0.3426,\n",
            "         0.3660, -0.2106,  0.3548, -0.2355, -0.3874, -0.2577,  0.2385, -0.2631],\n",
            "       requires_grad=True), Parameter containing:\n",
            "tensor([[ 0.1409,  0.1315, -0.1179,  ...,  0.0154,  0.0560, -0.1713],\n",
            "        [ 0.1267,  0.0999, -0.0110,  ..., -0.0035,  0.0501, -0.0426],\n",
            "        [ 0.0996,  0.1553, -0.0738,  ..., -0.1277,  0.1368,  0.1631],\n",
            "        ...,\n",
            "        [-0.1362,  0.0578,  0.0648,  ..., -0.0123,  0.1354, -0.1274],\n",
            "        [ 0.0874, -0.1322, -0.0269,  ...,  0.0839, -0.0870, -0.1460],\n",
            "        [ 0.0724, -0.0572,  0.0190,  ..., -0.1100,  0.0629, -0.0570]],\n",
            "       requires_grad=True), Parameter containing:\n",
            "tensor([ 0.0648,  0.1753,  0.1478,  0.1288, -0.1552, -0.1109,  0.1164, -0.1001,\n",
            "        -0.1442, -0.1514, -0.0282,  0.1655,  0.0352,  0.0590,  0.0871,  0.1476,\n",
            "        -0.1714, -0.1027,  0.0081, -0.1669, -0.1765, -0.0115,  0.0232,  0.0036,\n",
            "        -0.1270, -0.0212,  0.0510,  0.1159, -0.1730,  0.1279,  0.1532, -0.1151,\n",
            "         0.1524, -0.0589, -0.1204, -0.0583, -0.1244, -0.1337, -0.1514,  0.0418,\n",
            "         0.1341,  0.1215,  0.0366, -0.1631,  0.1226,  0.0796, -0.1092,  0.1288,\n",
            "        -0.1211,  0.0172,  0.0924,  0.1272, -0.0553, -0.0805,  0.1489,  0.0129,\n",
            "        -0.0383, -0.0442, -0.0168, -0.0109, -0.0355,  0.0222,  0.0248,  0.0081,\n",
            "         0.1126, -0.1454,  0.1557, -0.1417, -0.0851,  0.0472, -0.0445,  0.0011,\n",
            "        -0.0056,  0.0877,  0.1170,  0.0566, -0.1037,  0.0319,  0.0532,  0.0046,\n",
            "        -0.0570,  0.0808,  0.0648, -0.0171,  0.1036, -0.0075,  0.0536, -0.0117,\n",
            "        -0.0825,  0.0803, -0.1154, -0.1395, -0.1495, -0.1442, -0.1220, -0.1472,\n",
            "         0.1200, -0.1748, -0.0278, -0.0770,  0.0467,  0.1736, -0.1297,  0.0138,\n",
            "         0.1079,  0.0750,  0.1080, -0.0497, -0.1582, -0.1532, -0.1617, -0.0020,\n",
            "         0.0742, -0.0201,  0.0803, -0.1048, -0.0603,  0.1767,  0.0328,  0.0372,\n",
            "        -0.1739,  0.0958, -0.0836,  0.1615, -0.0117,  0.0023,  0.0148, -0.0392,\n",
            "        -0.0522, -0.1071,  0.0772,  0.0161, -0.0119, -0.1419, -0.0246,  0.0617,\n",
            "        -0.0673,  0.0766, -0.1658, -0.0523,  0.1309,  0.1094, -0.1486,  0.0536,\n",
            "         0.1513, -0.1750,  0.0561,  0.1139,  0.0209,  0.1215, -0.1606, -0.0815,\n",
            "        -0.1247, -0.0315, -0.1591, -0.1282,  0.0886, -0.0557, -0.0236, -0.0548,\n",
            "        -0.0062,  0.1076,  0.1679,  0.0094, -0.1561, -0.1752,  0.0950, -0.0810,\n",
            "        -0.0351, -0.0150, -0.1318, -0.0766,  0.0011, -0.1413, -0.0563,  0.0819,\n",
            "         0.1600,  0.0384,  0.0894,  0.1396, -0.1723, -0.0424,  0.1180,  0.0301,\n",
            "        -0.0645,  0.0308, -0.1247, -0.1759,  0.0218,  0.1740, -0.0343,  0.0058,\n",
            "         0.0971,  0.0382,  0.1473, -0.0022, -0.1688,  0.0282, -0.0033, -0.0458,\n",
            "         0.1661, -0.1730,  0.1639,  0.0004,  0.1054, -0.1489, -0.0432,  0.0677,\n",
            "         0.0145, -0.0147, -0.0083,  0.0177,  0.0579,  0.0722,  0.0914,  0.0488,\n",
            "        -0.1121,  0.1409,  0.1598,  0.1486,  0.1440,  0.0227, -0.1522, -0.0231,\n",
            "         0.0378,  0.0778,  0.0381,  0.1764,  0.0845,  0.0747,  0.0824, -0.1549,\n",
            "        -0.0687,  0.0674,  0.0101, -0.1173,  0.0463,  0.1655, -0.1359, -0.0438,\n",
            "         0.1609,  0.0204, -0.0975, -0.0781, -0.1120, -0.1620, -0.1028,  0.0300,\n",
            "        -0.1286, -0.0891,  0.0247,  0.1591, -0.0403,  0.1217,  0.1303,  0.0957],\n",
            "       requires_grad=True), Parameter containing:\n",
            "tensor([[-1.9439e-02,  2.7583e-02,  2.0947e-02,  ...,  5.1549e-02,\n",
            "         -4.0511e-02,  4.2945e-03],\n",
            "        [-6.1599e-02, -4.2670e-02,  3.5938e-02,  ..., -7.0018e-03,\n",
            "          2.7192e-02, -3.1841e-02],\n",
            "        [ 5.2057e-02, -3.8106e-02, -5.7583e-02,  ...,  1.0278e-02,\n",
            "          3.5818e-02, -2.0802e-02],\n",
            "        ...,\n",
            "        [-5.3145e-03, -1.7646e-02, -5.2059e-02,  ..., -5.7657e-02,\n",
            "         -5.5316e-02, -1.8551e-02],\n",
            "        [ 2.5392e-02,  4.0997e-02, -2.7914e-02,  ..., -3.2555e-02,\n",
            "         -8.5534e-03, -2.6610e-02],\n",
            "        [ 4.0040e-02,  3.7156e-05, -4.9844e-02,  ...,  1.3245e-02,\n",
            "          5.8617e-02,  6.2283e-02]], requires_grad=True), Parameter containing:\n",
            "tensor([ 1.2231e-02,  6.1773e-02, -6.0772e-02,  5.7679e-02,  4.2095e-02,\n",
            "        -3.7589e-02, -5.2132e-02,  4.4443e-02, -4.7149e-02,  1.1457e-02,\n",
            "        -1.9426e-02, -3.0176e-02, -2.6189e-02,  1.7526e-02, -5.7273e-05,\n",
            "         2.9074e-02,  3.2436e-02,  5.3467e-02,  3.5982e-02, -4.0744e-02,\n",
            "         8.7378e-03, -4.1560e-02, -3.5077e-02, -8.7279e-03,  4.9228e-02,\n",
            "        -2.4350e-02,  5.6126e-03, -8.9700e-03,  1.2473e-02,  3.6312e-02,\n",
            "        -5.2505e-02,  4.4067e-02,  3.4030e-03,  1.3413e-02, -3.2360e-02,\n",
            "        -1.6517e-02, -2.4077e-02, -3.3784e-02, -3.6715e-03,  4.1346e-02,\n",
            "         4.1247e-02,  3.0266e-04, -4.1752e-02,  7.7930e-03, -3.8912e-02,\n",
            "        -3.1423e-02, -5.1567e-02, -1.5117e-02, -5.2016e-02, -3.3423e-02,\n",
            "         5.6938e-02,  3.9602e-02, -4.3512e-03,  3.5887e-02,  5.2371e-02,\n",
            "         5.9197e-02,  1.8942e-02,  5.3691e-02, -2.5432e-02,  9.9225e-03,\n",
            "        -3.7642e-02, -2.6407e-02, -4.2064e-02,  4.6022e-02, -2.8121e-02,\n",
            "        -3.2972e-02,  5.7117e-02,  2.7449e-02, -5.9686e-02, -6.1214e-02,\n",
            "        -2.5104e-02,  1.6987e-02, -3.6754e-02, -5.1813e-02,  2.6220e-02,\n",
            "         5.1982e-02,  5.7333e-02, -4.8861e-02,  6.1175e-02, -3.4702e-02,\n",
            "         1.5571e-02,  1.1518e-02, -1.4276e-02,  5.5272e-02, -3.2616e-02,\n",
            "        -3.0535e-02,  4.2038e-02, -1.1162e-02, -4.5645e-02,  2.9421e-02,\n",
            "         5.1226e-02,  2.6113e-02, -8.2831e-03,  4.8496e-02,  4.0818e-02,\n",
            "        -5.8939e-02,  3.5199e-02,  1.2002e-02,  1.0468e-02,  2.9506e-02,\n",
            "        -7.0484e-03,  1.8230e-02,  3.1852e-03,  3.1680e-02, -3.1597e-02,\n",
            "        -1.7825e-02, -1.6332e-02,  4.5257e-02,  5.3127e-02,  4.1272e-02,\n",
            "        -1.8754e-02, -1.6060e-02, -3.8144e-02, -1.3755e-02, -5.2647e-02,\n",
            "         7.1318e-03,  4.8235e-02, -3.5015e-02,  2.0006e-03, -5.1523e-02,\n",
            "         5.8052e-02, -7.6846e-03,  3.7445e-02, -4.3972e-02,  6.1917e-02,\n",
            "         6.8015e-04,  3.0855e-02,  3.8596e-02,  3.6783e-02, -3.6430e-04,\n",
            "        -6.1562e-04, -5.3762e-02,  2.3237e-02,  3.0503e-02,  1.5903e-02,\n",
            "        -4.7726e-02, -6.6236e-06, -7.6880e-03,  1.9687e-02,  2.5383e-02,\n",
            "        -4.7365e-02, -3.5548e-02, -4.7555e-02,  2.4089e-02,  1.5837e-03,\n",
            "         4.6650e-02,  3.9237e-02, -1.6538e-02,  3.1781e-02,  5.5805e-02,\n",
            "         3.3590e-02,  6.0834e-02,  2.7270e-02,  5.5307e-02,  3.0970e-02,\n",
            "         4.3540e-02, -5.2948e-02, -4.2404e-02,  5.3656e-02,  4.7934e-02,\n",
            "         3.8937e-02,  4.9207e-02,  5.3979e-02, -5.4545e-03, -1.0847e-02,\n",
            "        -3.4213e-02,  5.8124e-02, -2.7018e-02, -3.5923e-02, -3.0167e-02,\n",
            "        -1.5623e-02, -3.9644e-02,  4.1437e-02,  6.8734e-03, -7.7712e-03,\n",
            "         4.7798e-04,  2.2945e-02, -8.5253e-04,  4.3226e-02, -1.9905e-03,\n",
            "         4.3208e-02,  4.0643e-02,  6.1375e-02,  2.5688e-02, -2.5907e-02,\n",
            "         3.1943e-02, -2.8408e-02,  2.4677e-02,  5.0899e-02, -3.8129e-03,\n",
            "         5.2481e-03,  1.3536e-02, -6.0079e-02,  4.0462e-02, -3.6701e-02,\n",
            "         1.5290e-03,  6.1368e-02, -5.9932e-02,  2.1867e-02,  1.7512e-02,\n",
            "        -3.8572e-02, -2.2543e-02, -3.2522e-02, -2.0118e-02,  6.2414e-02,\n",
            "        -5.7350e-02, -5.8165e-02, -1.4252e-02,  4.7383e-02,  4.1239e-02,\n",
            "         5.0781e-02, -3.2734e-02, -4.6772e-02, -1.4424e-04, -4.3981e-02,\n",
            "         1.4009e-02, -5.4827e-04, -2.8064e-02,  5.3341e-02,  2.4034e-04,\n",
            "        -4.1705e-02, -3.5389e-02, -6.0634e-02, -4.1379e-02, -4.1651e-02,\n",
            "         1.7425e-02,  5.2249e-02, -7.1620e-03, -6.0475e-02, -2.1679e-02,\n",
            "         2.8885e-02,  2.6750e-02,  1.7456e-02, -1.1084e-02, -5.7384e-02,\n",
            "         5.2833e-02, -4.1049e-02, -5.6179e-02,  5.4947e-02,  6.1061e-02,\n",
            "        -2.8080e-02, -1.8224e-02, -1.4080e-02, -4.6932e-02,  5.1178e-02,\n",
            "         1.3045e-02, -1.2173e-02, -5.9525e-02,  3.0160e-02, -1.1451e-02,\n",
            "        -5.1894e-03,  2.6964e-02,  1.7636e-02, -5.1301e-02,  4.0806e-02,\n",
            "         4.2400e-02, -2.7735e-02,  2.3568e-02, -5.8500e-02, -6.0034e-02,\n",
            "        -3.1643e-02, -9.9843e-03,  3.0967e-02, -2.2630e-03,  5.4581e-02,\n",
            "        -4.9868e-02,  3.0043e-02, -5.4387e-02,  1.9599e-02,  2.5848e-02,\n",
            "        -5.0592e-02, -1.8399e-02,  5.7588e-02,  1.3177e-02,  2.0322e-03,\n",
            "        -3.8114e-02,  2.6073e-02, -2.4047e-02, -3.7021e-02, -2.8277e-02,\n",
            "        -5.1316e-02,  5.0612e-02, -2.2589e-02, -1.2514e-02, -1.7932e-02,\n",
            "        -1.8545e-02,  1.6711e-02,  1.6774e-02,  3.4796e-02,  2.3572e-02,\n",
            "        -4.5586e-02,  2.5472e-02,  3.1286e-02,  3.2377e-02, -3.3880e-02,\n",
            "         2.7534e-02, -5.7285e-02, -4.2291e-02,  4.3319e-02,  2.8783e-02,\n",
            "        -2.5182e-02, -1.9905e-02,  1.8286e-02, -4.2922e-02, -3.2867e-02,\n",
            "         2.6300e-02, -2.4833e-02,  1.2181e-02,  4.2075e-02,  5.2349e-02,\n",
            "        -5.9688e-02, -1.9911e-02,  3.7068e-02, -1.2682e-02,  1.5440e-02,\n",
            "        -2.5043e-02,  1.6593e-02, -5.8524e-02,  3.2554e-02,  2.3831e-02,\n",
            "        -1.2713e-02,  3.7853e-02,  2.4380e-04, -3.2060e-02, -3.7490e-02,\n",
            "        -3.6705e-02,  2.0878e-02, -4.0897e-02,  2.7050e-02, -3.4680e-02,\n",
            "         5.2407e-02,  4.7636e-02,  3.0766e-02, -3.4005e-02, -7.2171e-03,\n",
            "         4.6593e-02, -4.9312e-02, -1.3341e-02, -1.9940e-02, -3.4098e-02,\n",
            "         3.3444e-02,  3.3258e-02,  4.0595e-02,  2.8480e-02, -3.2299e-02,\n",
            "         4.2317e-02,  4.5966e-02,  5.2076e-02,  2.4070e-02,  4.6149e-02,\n",
            "         4.6542e-02, -5.0243e-02, -2.6400e-02, -1.0510e-02, -8.9167e-03,\n",
            "         4.8993e-02,  2.3989e-02, -4.9802e-02,  1.3466e-02,  1.5672e-04,\n",
            "         1.4413e-02,  2.3557e-02,  5.4432e-02,  2.9402e-02, -1.0561e-02,\n",
            "        -5.3022e-02,  7.9097e-03, -3.2251e-02, -4.6269e-02,  1.8358e-02,\n",
            "        -2.5349e-02,  2.8378e-02,  2.7925e-02, -5.3994e-02, -3.5518e-02,\n",
            "         5.8303e-02, -3.6348e-03, -1.8311e-02,  7.0094e-03, -4.3586e-02,\n",
            "         5.7546e-02, -3.9118e-02, -2.4611e-02, -1.0061e-02,  3.0340e-03,\n",
            "         4.6040e-02,  1.0834e-02, -4.9765e-02,  7.8745e-03, -4.4255e-02,\n",
            "        -7.0674e-03,  1.3299e-02,  3.7922e-02, -3.1075e-02,  6.0970e-03,\n",
            "        -4.7950e-02,  4.3670e-02, -4.7822e-02, -2.1009e-02, -2.3647e-02,\n",
            "         5.7352e-02,  5.8346e-02, -3.1470e-02, -4.8987e-02, -4.3557e-02,\n",
            "        -3.2884e-02, -3.1651e-02,  3.7212e-02, -1.1885e-02, -4.2584e-03,\n",
            "         4.7247e-02,  1.2394e-02, -5.0729e-02,  6.0973e-02, -2.9341e-02,\n",
            "         5.8291e-02, -3.8434e-02, -5.6550e-03, -1.5350e-02, -4.3020e-02,\n",
            "         6.0480e-02,  5.9879e-02,  2.4602e-02, -4.8365e-02,  4.3035e-02,\n",
            "        -5.2804e-03, -2.4428e-02,  4.9513e-02,  5.0592e-02, -4.2170e-04,\n",
            "        -5.2980e-02, -2.0754e-02, -3.7485e-02, -5.3517e-02, -2.6898e-02,\n",
            "        -4.6727e-02, -3.1244e-02,  2.9097e-02,  4.6240e-03,  5.9807e-02,\n",
            "        -3.1015e-02,  9.8128e-03,  1.7018e-02, -2.8466e-02,  2.4211e-02,\n",
            "         5.4350e-02, -4.1444e-02,  2.5389e-02,  2.4035e-03,  2.7287e-02,\n",
            "        -2.2678e-03,  3.8034e-02, -2.0899e-02, -6.2847e-03, -3.4865e-02,\n",
            "         4.7953e-02, -2.5367e-02, -5.7930e-02, -1.7724e-02, -5.4842e-02,\n",
            "        -3.9826e-02, -3.3618e-02, -5.8415e-02,  5.2669e-02,  6.6657e-03,\n",
            "        -7.5472e-03, -6.2273e-02,  3.4404e-02, -4.6160e-02, -5.9817e-02,\n",
            "         3.8437e-02, -4.3920e-02, -2.6479e-02,  4.3598e-02,  2.2950e-02,\n",
            "         7.0107e-03,  3.8059e-02, -2.8548e-02, -5.3652e-02, -4.7958e-02,\n",
            "         1.7298e-02, -6.1634e-02, -2.3816e-02, -2.7690e-02, -2.8925e-02,\n",
            "        -7.4313e-03, -3.6333e-02, -3.9985e-02,  2.3353e-02,  1.3373e-02,\n",
            "         5.2578e-02,  3.0366e-02, -5.6344e-02, -4.9800e-02,  3.4187e-02,\n",
            "        -5.8209e-02,  4.6982e-02, -6.2642e-03,  4.1799e-02,  3.9317e-02,\n",
            "         6.1324e-02,  2.0264e-02,  4.9722e-02, -3.6080e-02, -6.1700e-02,\n",
            "        -1.3611e-02,  4.2032e-03, -1.3839e-02, -3.1837e-02, -2.8301e-02,\n",
            "        -2.8500e-02,  1.1322e-02,  6.0301e-02, -5.4758e-02, -5.1869e-02,\n",
            "        -5.8242e-02,  6.2344e-02, -1.5470e-02, -2.1474e-02, -5.7260e-02,\n",
            "        -5.2500e-02,  4.5101e-02,  4.2693e-03,  2.5150e-02, -4.7795e-03,\n",
            "         2.3569e-02,  1.4170e-02, -8.4324e-03,  4.6890e-02, -6.2532e-03,\n",
            "         3.7534e-02,  1.2437e-02, -6.2402e-02,  4.5786e-02,  3.7829e-02,\n",
            "        -4.7408e-02,  2.1338e-02,  1.5100e-02,  8.2605e-04,  4.9823e-02,\n",
            "        -1.6937e-02,  3.3322e-02, -5.4412e-02, -2.8306e-03, -4.7333e-02,\n",
            "         3.8122e-02, -7.1085e-03,  2.2758e-02,  1.7563e-02,  5.9872e-03,\n",
            "        -2.4180e-02,  1.6757e-02, -3.7187e-02, -4.8086e-02,  4.5336e-02,\n",
            "         5.1444e-02, -2.1357e-02,  2.5349e-02, -1.6392e-02,  3.8624e-02,\n",
            "         1.5909e-02, -3.2091e-02,  4.6675e-02, -4.7383e-02, -5.6154e-02,\n",
            "         5.5354e-02,  1.7043e-02, -4.8069e-02,  6.1569e-02,  3.4920e-02,\n",
            "        -4.5687e-02, -5.4721e-02,  5.7754e-02, -4.1453e-02, -4.2566e-02,\n",
            "         2.0057e-02, -1.0728e-02, -2.2425e-02,  3.6039e-02,  3.9286e-02,\n",
            "         6.1345e-02, -1.6352e-02, -3.5489e-02, -5.3701e-02, -3.7416e-02,\n",
            "         3.2078e-02, -3.1433e-02,  5.4502e-02, -1.4271e-02,  1.2583e-02,\n",
            "        -4.7159e-02, -3.6042e-02,  6.1336e-02,  1.6751e-02,  1.3806e-02,\n",
            "        -8.0255e-03,  4.0856e-02,  2.3883e-02, -1.2800e-03, -3.4915e-02,\n",
            "        -3.2996e-02, -6.1846e-02,  2.8749e-02, -4.8109e-02, -3.3068e-02,\n",
            "        -1.4656e-02,  2.9585e-02,  5.9761e-02, -3.7683e-02, -2.6312e-02,\n",
            "        -9.3189e-03,  3.2179e-02,  9.9961e-03, -3.1428e-02, -3.5095e-02,\n",
            "        -2.9585e-02,  2.9560e-02,  4.6050e-03,  3.9935e-02,  5.8929e-02,\n",
            "         2.9424e-02,  5.9956e-03,  5.8134e-02, -6.2112e-03, -1.3294e-02,\n",
            "         5.8707e-02, -1.6880e-02, -2.8510e-02, -1.0310e-02, -3.0341e-02,\n",
            "        -4.1755e-02,  3.9127e-02, -2.4623e-02,  3.6117e-02, -2.8498e-02,\n",
            "         1.0536e-02,  4.6206e-02, -3.8170e-02,  7.9091e-03, -1.4465e-02,\n",
            "         5.8480e-02,  6.1502e-02, -1.8378e-02, -5.5089e-02, -2.8495e-02,\n",
            "        -9.2170e-03, -5.5584e-02, -1.9382e-02,  4.6185e-02,  1.6961e-02,\n",
            "        -3.7563e-02, -2.2306e-02,  5.4813e-03,  1.3072e-02,  3.2254e-02,\n",
            "         3.4586e-02, -4.6204e-02, -4.4625e-02,  5.8712e-02,  5.5641e-02,\n",
            "        -4.7739e-02,  3.1273e-02, -7.4542e-04,  4.6673e-03,  1.0453e-02,\n",
            "         3.7800e-02,  5.8461e-02,  2.8848e-02, -3.1047e-02, -3.5921e-02,\n",
            "        -1.5095e-02,  4.6301e-02,  1.1027e-02, -5.5960e-02, -1.3049e-04,\n",
            "         4.9842e-02,  8.8303e-03, -1.9990e-02, -2.7541e-02,  4.1474e-02,\n",
            "         4.2735e-02,  2.6815e-02,  1.3474e-02, -5.5376e-02,  3.8544e-04,\n",
            "         4.4602e-02, -2.5031e-02, -4.8023e-02,  5.0365e-02, -1.7943e-02,\n",
            "        -4.3816e-02,  5.9749e-02, -4.7725e-02, -4.7235e-02, -3.6489e-02,\n",
            "        -8.5013e-03,  2.9247e-02, -4.8260e-02, -3.1038e-02,  1.5216e-02,\n",
            "         2.5238e-02,  2.3745e-02, -5.3234e-02, -1.3167e-02,  1.2380e-02,\n",
            "        -3.3727e-02, -5.7027e-02, -8.8333e-04,  2.6541e-02,  2.7186e-02,\n",
            "        -3.1562e-02, -3.4669e-02, -6.3808e-03, -7.5908e-03, -3.2678e-02,\n",
            "        -3.5973e-02,  7.2972e-03, -3.7586e-02, -4.6468e-02, -2.0585e-02,\n",
            "        -7.3641e-03,  5.6888e-02, -5.8424e-02,  2.6169e-04,  2.5031e-02,\n",
            "        -5.7721e-02,  4.8941e-02,  8.8218e-03,  4.8271e-02, -1.7821e-04,\n",
            "         2.8475e-02,  5.3890e-02, -4.3309e-03, -1.1352e-02, -1.0631e-02,\n",
            "         3.4916e-02, -3.3185e-02, -5.1529e-02,  2.8713e-02,  3.2094e-02,\n",
            "         2.0522e-03,  5.3543e-02,  4.1710e-02,  3.8232e-02, -4.5791e-03,\n",
            "        -5.7834e-02,  6.2218e-02,  4.5518e-02, -4.3347e-02,  4.4747e-03,\n",
            "        -5.4751e-02,  4.0875e-02, -1.9237e-02,  3.5185e-02,  4.7494e-02,\n",
            "        -3.9541e-02,  3.0622e-02,  3.7028e-02, -5.7174e-03,  2.9202e-02,\n",
            "         4.5607e-02,  2.9709e-02, -5.9834e-02, -2.1880e-02,  4.5970e-02,\n",
            "        -5.1655e-02, -4.1592e-02, -5.1192e-02,  1.4247e-02, -7.9167e-03,\n",
            "        -3.5430e-02,  1.5675e-02,  3.3897e-02, -2.2441e-02,  5.8092e-02,\n",
            "         2.4269e-02,  5.2559e-02, -1.7391e-02,  1.7837e-02, -4.9723e-02,\n",
            "         2.0269e-03, -2.2714e-02,  4.7391e-02, -1.1147e-02],\n",
            "       requires_grad=True)]\n"
          ]
        }
      ]
    },
    {
      "cell_type": "code",
      "source": [
        "## TODO\n",
        "# 정규분포를 따르는 weight 초기화\n",
        "def init_weights(m):\n",
        "  for l in m.modules():\n",
        "    if isinstance(l, nn.Linear):\n",
        "      nn.init.xavier_uniform(l.weight)\n",
        "\n",
        "ae.apply(init_weights)\n",
        "\n",
        "## 파라미터 초기화 이후\n",
        "print(list(ae.parameters()))"
      ],
      "metadata": {
        "colab": {
          "base_uri": "https://localhost:8080/"
        },
        "id": "nuqqm3rer49S",
        "outputId": "0f59574b-0223-4310-9c64-70cfe9856b1d"
      },
      "execution_count": 85,
      "outputs": [
        {
          "output_type": "stream",
          "name": "stdout",
          "text": [
            "[Parameter containing:\n",
            "tensor([[-0.0627,  0.0642,  0.0048,  ..., -0.0243,  0.0099,  0.0264],\n",
            "        [ 0.0621,  0.0028,  0.0405,  ..., -0.0238,  0.0428,  0.0395],\n",
            "        [-0.0280,  0.0523, -0.0635,  ...,  0.0698,  0.0261, -0.0532],\n",
            "        ...,\n",
            "        [-0.0197,  0.0082, -0.0362,  ...,  0.0311,  0.0554, -0.0285],\n",
            "        [ 0.0478,  0.0694, -0.0054,  ...,  0.0263,  0.0420, -0.0105],\n",
            "        [-0.0254,  0.0103,  0.0266,  ..., -0.0022,  0.0341,  0.0124]],\n",
            "       requires_grad=True), Parameter containing:\n",
            "tensor([-2.5878e-02, -3.2660e-02,  2.5316e-02,  1.4552e-02, -2.9281e-02,\n",
            "         2.8566e-02,  2.9510e-02, -3.4728e-02,  5.1981e-03, -3.2080e-02,\n",
            "        -1.8737e-02,  1.0291e-02, -6.2345e-03, -1.6782e-02, -1.6495e-03,\n",
            "         3.2270e-02, -3.5547e-03, -1.5667e-02,  1.0231e-02, -2.9358e-02,\n",
            "        -4.3870e-03, -7.0574e-04,  1.1391e-02, -1.2976e-02, -1.6040e-02,\n",
            "         2.2966e-03, -4.5251e-03,  2.8487e-02, -3.0716e-02, -8.8371e-03,\n",
            "        -1.6980e-02,  1.6166e-02,  2.3532e-02, -3.2171e-02,  1.4008e-02,\n",
            "        -1.7430e-03, -3.1601e-02, -1.9901e-03,  1.5973e-02,  1.8955e-02,\n",
            "        -3.1329e-02,  1.0223e-02, -1.1745e-02,  9.6182e-03,  2.6959e-02,\n",
            "        -2.8952e-02,  3.2335e-02, -2.8581e-03,  1.0131e-02,  3.5284e-02,\n",
            "        -3.4871e-02, -2.7144e-02, -1.2559e-02,  8.2720e-03,  3.0441e-02,\n",
            "        -3.5381e-02, -2.6882e-02, -1.1613e-02,  2.6710e-02,  1.1220e-02,\n",
            "        -4.1745e-03,  7.0482e-03,  1.9281e-02,  2.9794e-02, -1.6547e-02,\n",
            "        -2.3151e-02, -1.0441e-02,  3.5613e-02,  2.3941e-02,  1.8067e-02,\n",
            "        -3.0330e-02,  1.3561e-02,  9.8466e-03,  3.2493e-02, -3.1132e-02,\n",
            "        -2.4851e-02, -1.2404e-02, -3.1983e-02, -1.6285e-02, -7.8095e-03,\n",
            "         1.0522e-02,  2.2400e-02,  1.6475e-02, -1.4221e-02, -2.9219e-04,\n",
            "         7.1424e-03, -2.9338e-02,  1.1086e-02,  7.6265e-03, -2.7500e-02,\n",
            "         3.2205e-03,  1.9485e-02,  2.0055e-03,  1.0980e-02, -3.4682e-02,\n",
            "         7.6093e-04,  2.3878e-03, -1.2916e-02,  1.9710e-02, -2.0281e-02,\n",
            "         2.6884e-02,  1.5143e-02,  1.0185e-02, -2.5380e-02,  1.6923e-02,\n",
            "         2.2823e-02,  2.4776e-02,  3.2545e-02,  9.1774e-03,  3.0792e-02,\n",
            "         3.1506e-02, -3.2127e-02,  7.8339e-04,  1.9726e-02,  2.7734e-02,\n",
            "         1.9488e-02,  2.0267e-02,  7.2107e-03,  3.5258e-02, -1.3105e-02,\n",
            "         2.2041e-02,  1.8898e-02,  3.1620e-02, -6.9763e-03, -6.4329e-03,\n",
            "        -3.1962e-02,  3.2422e-02,  2.8337e-02, -2.4942e-02,  3.3187e-05,\n",
            "        -1.7468e-02,  1.2392e-02,  8.0219e-03, -1.5736e-02, -9.5857e-03,\n",
            "        -1.2320e-02, -1.3031e-03, -2.1279e-02, -2.3037e-02, -1.6544e-02,\n",
            "         2.2086e-02,  1.9148e-02, -2.1962e-02,  1.3380e-03,  1.0333e-02,\n",
            "        -3.4226e-02,  2.3710e-02, -8.6610e-03, -2.5868e-02,  3.6780e-05,\n",
            "         2.8399e-02,  8.2962e-03,  3.0303e-02, -1.0693e-02,  6.5896e-03,\n",
            "         1.2391e-02, -4.0062e-03,  8.7897e-03,  1.1792e-02, -1.2431e-02,\n",
            "         3.3230e-02, -1.9252e-02,  2.8024e-02,  1.6473e-02, -2.4835e-02,\n",
            "         2.1574e-03,  1.6751e-02, -1.4082e-02,  2.6160e-02, -3.0309e-03,\n",
            "         1.9647e-02,  1.6219e-02,  2.6441e-02, -2.7340e-02,  3.5671e-02,\n",
            "        -8.2849e-03, -1.7842e-02, -9.4966e-03, -3.3202e-02, -3.1194e-02,\n",
            "         1.9206e-02,  3.1513e-03,  3.4892e-02, -1.8911e-02,  3.4117e-02,\n",
            "        -9.1940e-03, -2.5675e-02,  7.2906e-03,  2.0061e-02,  2.9101e-02,\n",
            "        -2.8427e-02,  3.2274e-02, -4.3908e-03,  9.9546e-03, -2.7238e-02,\n",
            "         8.9829e-03,  3.3659e-02,  1.0851e-02,  2.3408e-02, -8.3492e-03,\n",
            "        -2.8846e-02, -5.6398e-03, -5.0133e-03,  6.0374e-03,  2.0148e-02,\n",
            "         2.8488e-02,  1.2147e-02, -9.5544e-03, -1.7279e-02,  2.6698e-02,\n",
            "         3.3917e-02,  2.7880e-02,  2.9683e-02,  6.8864e-03,  9.9923e-03,\n",
            "         3.2633e-02,  5.6970e-04,  2.8924e-03,  1.6483e-02,  2.6638e-02,\n",
            "         2.0240e-02,  9.4108e-03, -2.1529e-02,  2.3898e-02, -1.4275e-02,\n",
            "         1.8455e-02, -3.0133e-02,  2.5933e-02,  7.3326e-03,  1.9683e-03,\n",
            "         1.4892e-02, -2.9448e-02, -1.6937e-02,  2.3225e-02,  8.4409e-03,\n",
            "         2.0910e-02, -6.8816e-03,  1.2498e-02,  3.4840e-02, -4.1814e-03,\n",
            "         4.4129e-03,  3.8064e-04,  3.1103e-02,  1.2692e-02,  3.1230e-02,\n",
            "        -2.8797e-02, -2.4379e-02, -3.2274e-02, -2.2570e-02, -2.0111e-02,\n",
            "        -2.2278e-02, -2.7128e-02, -1.6064e-02, -1.4867e-02,  1.8240e-02,\n",
            "        -4.6916e-03], requires_grad=True), Parameter containing:\n",
            "tensor([[ 0.1003,  0.0285, -0.0761,  ...,  0.0439,  0.0896, -0.0541],\n",
            "        [-0.0877, -0.1006, -0.1148,  ..., -0.0273,  0.0062, -0.0525],\n",
            "        [-0.0776, -0.0041, -0.0509,  ...,  0.0175,  0.0772,  0.0875],\n",
            "        ...,\n",
            "        [-0.1207, -0.0026,  0.0966,  ...,  0.1225, -0.1195,  0.0952],\n",
            "        [-0.0777, -0.0225,  0.0583,  ...,  0.0766, -0.0558,  0.0393],\n",
            "        [ 0.1179, -0.0159, -0.0573,  ...,  0.0171,  0.1214,  0.1197]],\n",
            "       requires_grad=True), Parameter containing:\n",
            "tensor([ 0.0324,  0.0192, -0.0209,  0.0128, -0.0099,  0.0059,  0.0195, -0.0140,\n",
            "        -0.0388, -0.0609, -0.0253,  0.0586, -0.0418,  0.0295, -0.0138, -0.0238,\n",
            "        -0.0575, -0.0414,  0.0139, -0.0570, -0.0165,  0.0064,  0.0283,  0.0228,\n",
            "        -0.0325, -0.0105, -0.0406, -0.0366, -0.0238,  0.0283, -0.0145, -0.0127,\n",
            "         0.0373, -0.0492, -0.0509, -0.0210, -0.0286,  0.0149, -0.0034, -0.0129,\n",
            "        -0.0456, -0.0171,  0.0422, -0.0567, -0.0438,  0.0268,  0.0246,  0.0591,\n",
            "        -0.0488, -0.0117, -0.0278,  0.0624, -0.0274,  0.0614, -0.0145, -0.0598,\n",
            "        -0.0296,  0.0132, -0.0162,  0.0474,  0.0469, -0.0281, -0.0483, -0.0351,\n",
            "         0.0178,  0.0224, -0.0251,  0.0488, -0.0592,  0.0471, -0.0472,  0.0560,\n",
            "         0.0060, -0.0086,  0.0511,  0.0489,  0.0363, -0.0579,  0.0325,  0.0369,\n",
            "         0.0085,  0.0278,  0.0077, -0.0579, -0.0144,  0.0403, -0.0091,  0.0341,\n",
            "         0.0495,  0.0513,  0.0588,  0.0430, -0.0357,  0.0366, -0.0413,  0.0161,\n",
            "        -0.0064, -0.0065, -0.0010, -0.0563,  0.0541, -0.0160,  0.0247,  0.0374,\n",
            "        -0.0381,  0.0088,  0.0524,  0.0604, -0.0250, -0.0339,  0.0070, -0.0412,\n",
            "         0.0607, -0.0492, -0.0468,  0.0502,  0.0047, -0.0094,  0.0233, -0.0605,\n",
            "         0.0602, -0.0302,  0.0474,  0.0089,  0.0186,  0.0199,  0.0130, -0.0105],\n",
            "       requires_grad=True), Parameter containing:\n",
            "tensor([[ 0.0470, -0.1694,  0.0222,  ...,  0.1210,  0.1207,  0.1300],\n",
            "        [ 0.1786, -0.0415, -0.1379,  ...,  0.1924,  0.1010, -0.0982],\n",
            "        [-0.0104,  0.0157,  0.0184,  ..., -0.0532,  0.0797,  0.0947],\n",
            "        ...,\n",
            "        [-0.1777,  0.0596,  0.1124,  ...,  0.1142, -0.0788, -0.1242],\n",
            "        [-0.0875, -0.0211, -0.1821,  ..., -0.0973,  0.1378, -0.0013],\n",
            "        [ 0.1019, -0.1828, -0.1838,  ..., -0.0235, -0.1827, -0.1205]],\n",
            "       requires_grad=True), Parameter containing:\n",
            "tensor([ 0.0487,  0.0688,  0.0465,  0.0006,  0.0297,  0.0760,  0.0853,  0.0240,\n",
            "         0.0690, -0.0371, -0.0149, -0.0530,  0.0649,  0.0580,  0.0014, -0.0281,\n",
            "         0.0250, -0.0748, -0.0119, -0.0636, -0.0822, -0.0789,  0.0348, -0.0450,\n",
            "         0.0713, -0.0819,  0.0381, -0.0774,  0.0226, -0.0387,  0.0090,  0.0454],\n",
            "       requires_grad=True), Parameter containing:\n",
            "tensor([[-0.3118,  0.2818, -0.3146, -0.3600, -0.2508,  0.1641, -0.3552, -0.0602,\n",
            "          0.2285, -0.1351,  0.1951, -0.3825, -0.4163,  0.1082,  0.2414, -0.1607,\n",
            "         -0.2678,  0.0637,  0.2564,  0.2545,  0.3148, -0.1783,  0.1534, -0.3217,\n",
            "          0.2888, -0.1082,  0.1604, -0.3410,  0.4029, -0.2481, -0.1191,  0.0302],\n",
            "        [-0.0137,  0.0932,  0.3826, -0.4172,  0.3847, -0.3519,  0.1727, -0.3736,\n",
            "         -0.2545,  0.2304,  0.0350,  0.1381,  0.3309, -0.2155,  0.3019, -0.2274,\n",
            "          0.1112,  0.3287, -0.0408,  0.4113,  0.0503, -0.0044, -0.0109,  0.3784,\n",
            "         -0.4183, -0.3525, -0.4187,  0.0950, -0.0216,  0.0164, -0.4133, -0.4176]],\n",
            "       requires_grad=True), Parameter containing:\n",
            "tensor([-0.0679, -0.1375], requires_grad=True), Parameter containing:\n",
            "tensor([[ 0.2014, -0.3525],\n",
            "        [ 0.3240, -0.3584],\n",
            "        [ 0.1166,  0.1647],\n",
            "        [ 0.1778,  0.2850],\n",
            "        [-0.1743,  0.3757],\n",
            "        [-0.0753,  0.1561],\n",
            "        [-0.2335,  0.2837],\n",
            "        [-0.2825,  0.3539],\n",
            "        [ 0.2223,  0.1876],\n",
            "        [ 0.3827, -0.2654],\n",
            "        [ 0.3829, -0.3992],\n",
            "        [-0.3233,  0.3602],\n",
            "        [-0.2173, -0.2350],\n",
            "        [-0.2427, -0.1182],\n",
            "        [-0.4025, -0.2795],\n",
            "        [-0.1720, -0.0845],\n",
            "        [ 0.2178,  0.0954],\n",
            "        [ 0.3396, -0.3875],\n",
            "        [-0.0348, -0.1361],\n",
            "        [ 0.1098,  0.0791],\n",
            "        [-0.1517, -0.2878],\n",
            "        [ 0.0268, -0.0706],\n",
            "        [-0.3132,  0.4044],\n",
            "        [-0.1974,  0.0829],\n",
            "        [ 0.2500, -0.2972],\n",
            "        [-0.1605, -0.0795],\n",
            "        [-0.0193,  0.1148],\n",
            "        [ 0.0900,  0.3932],\n",
            "        [ 0.2893,  0.1808],\n",
            "        [ 0.1731,  0.1952],\n",
            "        [ 0.2362, -0.1297],\n",
            "        [-0.3403,  0.3030]], requires_grad=True), Parameter containing:\n",
            "tensor([ 0.6869,  0.5696,  0.0293,  0.3515, -0.3566,  0.6448, -0.4912,  0.1866,\n",
            "        -0.3086, -0.2876,  0.2300,  0.5319, -0.1698, -0.4495, -0.3814,  0.0563,\n",
            "         0.0930,  0.1051,  0.6818, -0.0254, -0.1048,  0.6718,  0.3840, -0.3426,\n",
            "         0.3660, -0.2106,  0.3548, -0.2355, -0.3874, -0.2577,  0.2385, -0.2631],\n",
            "       requires_grad=True), Parameter containing:\n",
            "tensor([[-0.0459, -0.1049,  0.0696,  ...,  0.0147,  0.0988,  0.0609],\n",
            "        [-0.1286,  0.1437, -0.0504,  ...,  0.0177, -0.0622,  0.0274],\n",
            "        [ 0.0027, -0.0839, -0.0262,  ..., -0.0260,  0.0847, -0.0115],\n",
            "        ...,\n",
            "        [ 0.1338, -0.1129, -0.0210,  ..., -0.0308,  0.0696, -0.0234],\n",
            "        [-0.1359, -0.1406, -0.0644,  ...,  0.1074,  0.0104,  0.0187],\n",
            "        [-0.0363,  0.1031,  0.0479,  ...,  0.1224,  0.0909,  0.0307]],\n",
            "       requires_grad=True), Parameter containing:\n",
            "tensor([ 0.0648,  0.1753,  0.1478,  0.1288, -0.1552, -0.1109,  0.1164, -0.1001,\n",
            "        -0.1442, -0.1514, -0.0282,  0.1655,  0.0352,  0.0590,  0.0871,  0.1476,\n",
            "        -0.1714, -0.1027,  0.0081, -0.1669, -0.1765, -0.0115,  0.0232,  0.0036,\n",
            "        -0.1270, -0.0212,  0.0510,  0.1159, -0.1730,  0.1279,  0.1532, -0.1151,\n",
            "         0.1524, -0.0589, -0.1204, -0.0583, -0.1244, -0.1337, -0.1514,  0.0418,\n",
            "         0.1341,  0.1215,  0.0366, -0.1631,  0.1226,  0.0796, -0.1092,  0.1288,\n",
            "        -0.1211,  0.0172,  0.0924,  0.1272, -0.0553, -0.0805,  0.1489,  0.0129,\n",
            "        -0.0383, -0.0442, -0.0168, -0.0109, -0.0355,  0.0222,  0.0248,  0.0081,\n",
            "         0.1126, -0.1454,  0.1557, -0.1417, -0.0851,  0.0472, -0.0445,  0.0011,\n",
            "        -0.0056,  0.0877,  0.1170,  0.0566, -0.1037,  0.0319,  0.0532,  0.0046,\n",
            "        -0.0570,  0.0808,  0.0648, -0.0171,  0.1036, -0.0075,  0.0536, -0.0117,\n",
            "        -0.0825,  0.0803, -0.1154, -0.1395, -0.1495, -0.1442, -0.1220, -0.1472,\n",
            "         0.1200, -0.1748, -0.0278, -0.0770,  0.0467,  0.1736, -0.1297,  0.0138,\n",
            "         0.1079,  0.0750,  0.1080, -0.0497, -0.1582, -0.1532, -0.1617, -0.0020,\n",
            "         0.0742, -0.0201,  0.0803, -0.1048, -0.0603,  0.1767,  0.0328,  0.0372,\n",
            "        -0.1739,  0.0958, -0.0836,  0.1615, -0.0117,  0.0023,  0.0148, -0.0392,\n",
            "        -0.0522, -0.1071,  0.0772,  0.0161, -0.0119, -0.1419, -0.0246,  0.0617,\n",
            "        -0.0673,  0.0766, -0.1658, -0.0523,  0.1309,  0.1094, -0.1486,  0.0536,\n",
            "         0.1513, -0.1750,  0.0561,  0.1139,  0.0209,  0.1215, -0.1606, -0.0815,\n",
            "        -0.1247, -0.0315, -0.1591, -0.1282,  0.0886, -0.0557, -0.0236, -0.0548,\n",
            "        -0.0062,  0.1076,  0.1679,  0.0094, -0.1561, -0.1752,  0.0950, -0.0810,\n",
            "        -0.0351, -0.0150, -0.1318, -0.0766,  0.0011, -0.1413, -0.0563,  0.0819,\n",
            "         0.1600,  0.0384,  0.0894,  0.1396, -0.1723, -0.0424,  0.1180,  0.0301,\n",
            "        -0.0645,  0.0308, -0.1247, -0.1759,  0.0218,  0.1740, -0.0343,  0.0058,\n",
            "         0.0971,  0.0382,  0.1473, -0.0022, -0.1688,  0.0282, -0.0033, -0.0458,\n",
            "         0.1661, -0.1730,  0.1639,  0.0004,  0.1054, -0.1489, -0.0432,  0.0677,\n",
            "         0.0145, -0.0147, -0.0083,  0.0177,  0.0579,  0.0722,  0.0914,  0.0488,\n",
            "        -0.1121,  0.1409,  0.1598,  0.1486,  0.1440,  0.0227, -0.1522, -0.0231,\n",
            "         0.0378,  0.0778,  0.0381,  0.1764,  0.0845,  0.0747,  0.0824, -0.1549,\n",
            "        -0.0687,  0.0674,  0.0101, -0.1173,  0.0463,  0.1655, -0.1359, -0.0438,\n",
            "         0.1609,  0.0204, -0.0975, -0.0781, -0.1120, -0.1620, -0.1028,  0.0300,\n",
            "        -0.1286, -0.0891,  0.0247,  0.1591, -0.0403,  0.1217,  0.1303,  0.0957],\n",
            "       requires_grad=True), Parameter containing:\n",
            "tensor([[ 0.0434, -0.0394, -0.0739,  ...,  0.0527, -0.0022,  0.0508],\n",
            "        [ 0.0076,  0.0039, -0.0482,  ...,  0.0729,  0.0390,  0.0030],\n",
            "        [-0.0247, -0.0181,  0.0282,  ..., -0.0268, -0.0022, -0.0232],\n",
            "        ...,\n",
            "        [ 0.0385, -0.0173, -0.0608,  ...,  0.0394, -0.0723, -0.0746],\n",
            "        [ 0.0600, -0.0353,  0.0223,  ..., -0.0159,  0.0652,  0.0547],\n",
            "        [ 0.0540, -0.0408, -0.0737,  ..., -0.0214,  0.0536, -0.0082]],\n",
            "       requires_grad=True), Parameter containing:\n",
            "tensor([ 1.2231e-02,  6.1773e-02, -6.0772e-02,  5.7679e-02,  4.2095e-02,\n",
            "        -3.7589e-02, -5.2132e-02,  4.4443e-02, -4.7149e-02,  1.1457e-02,\n",
            "        -1.9426e-02, -3.0176e-02, -2.6189e-02,  1.7526e-02, -5.7273e-05,\n",
            "         2.9074e-02,  3.2436e-02,  5.3467e-02,  3.5982e-02, -4.0744e-02,\n",
            "         8.7378e-03, -4.1560e-02, -3.5077e-02, -8.7279e-03,  4.9228e-02,\n",
            "        -2.4350e-02,  5.6126e-03, -8.9700e-03,  1.2473e-02,  3.6312e-02,\n",
            "        -5.2505e-02,  4.4067e-02,  3.4030e-03,  1.3413e-02, -3.2360e-02,\n",
            "        -1.6517e-02, -2.4077e-02, -3.3784e-02, -3.6715e-03,  4.1346e-02,\n",
            "         4.1247e-02,  3.0266e-04, -4.1752e-02,  7.7930e-03, -3.8912e-02,\n",
            "        -3.1423e-02, -5.1567e-02, -1.5117e-02, -5.2016e-02, -3.3423e-02,\n",
            "         5.6938e-02,  3.9602e-02, -4.3512e-03,  3.5887e-02,  5.2371e-02,\n",
            "         5.9197e-02,  1.8942e-02,  5.3691e-02, -2.5432e-02,  9.9225e-03,\n",
            "        -3.7642e-02, -2.6407e-02, -4.2064e-02,  4.6022e-02, -2.8121e-02,\n",
            "        -3.2972e-02,  5.7117e-02,  2.7449e-02, -5.9686e-02, -6.1214e-02,\n",
            "        -2.5104e-02,  1.6987e-02, -3.6754e-02, -5.1813e-02,  2.6220e-02,\n",
            "         5.1982e-02,  5.7333e-02, -4.8861e-02,  6.1175e-02, -3.4702e-02,\n",
            "         1.5571e-02,  1.1518e-02, -1.4276e-02,  5.5272e-02, -3.2616e-02,\n",
            "        -3.0535e-02,  4.2038e-02, -1.1162e-02, -4.5645e-02,  2.9421e-02,\n",
            "         5.1226e-02,  2.6113e-02, -8.2831e-03,  4.8496e-02,  4.0818e-02,\n",
            "        -5.8939e-02,  3.5199e-02,  1.2002e-02,  1.0468e-02,  2.9506e-02,\n",
            "        -7.0484e-03,  1.8230e-02,  3.1852e-03,  3.1680e-02, -3.1597e-02,\n",
            "        -1.7825e-02, -1.6332e-02,  4.5257e-02,  5.3127e-02,  4.1272e-02,\n",
            "        -1.8754e-02, -1.6060e-02, -3.8144e-02, -1.3755e-02, -5.2647e-02,\n",
            "         7.1318e-03,  4.8235e-02, -3.5015e-02,  2.0006e-03, -5.1523e-02,\n",
            "         5.8052e-02, -7.6846e-03,  3.7445e-02, -4.3972e-02,  6.1917e-02,\n",
            "         6.8015e-04,  3.0855e-02,  3.8596e-02,  3.6783e-02, -3.6430e-04,\n",
            "        -6.1562e-04, -5.3762e-02,  2.3237e-02,  3.0503e-02,  1.5903e-02,\n",
            "        -4.7726e-02, -6.6236e-06, -7.6880e-03,  1.9687e-02,  2.5383e-02,\n",
            "        -4.7365e-02, -3.5548e-02, -4.7555e-02,  2.4089e-02,  1.5837e-03,\n",
            "         4.6650e-02,  3.9237e-02, -1.6538e-02,  3.1781e-02,  5.5805e-02,\n",
            "         3.3590e-02,  6.0834e-02,  2.7270e-02,  5.5307e-02,  3.0970e-02,\n",
            "         4.3540e-02, -5.2948e-02, -4.2404e-02,  5.3656e-02,  4.7934e-02,\n",
            "         3.8937e-02,  4.9207e-02,  5.3979e-02, -5.4545e-03, -1.0847e-02,\n",
            "        -3.4213e-02,  5.8124e-02, -2.7018e-02, -3.5923e-02, -3.0167e-02,\n",
            "        -1.5623e-02, -3.9644e-02,  4.1437e-02,  6.8734e-03, -7.7712e-03,\n",
            "         4.7798e-04,  2.2945e-02, -8.5253e-04,  4.3226e-02, -1.9905e-03,\n",
            "         4.3208e-02,  4.0643e-02,  6.1375e-02,  2.5688e-02, -2.5907e-02,\n",
            "         3.1943e-02, -2.8408e-02,  2.4677e-02,  5.0899e-02, -3.8129e-03,\n",
            "         5.2481e-03,  1.3536e-02, -6.0079e-02,  4.0462e-02, -3.6701e-02,\n",
            "         1.5290e-03,  6.1368e-02, -5.9932e-02,  2.1867e-02,  1.7512e-02,\n",
            "        -3.8572e-02, -2.2543e-02, -3.2522e-02, -2.0118e-02,  6.2414e-02,\n",
            "        -5.7350e-02, -5.8165e-02, -1.4252e-02,  4.7383e-02,  4.1239e-02,\n",
            "         5.0781e-02, -3.2734e-02, -4.6772e-02, -1.4424e-04, -4.3981e-02,\n",
            "         1.4009e-02, -5.4827e-04, -2.8064e-02,  5.3341e-02,  2.4034e-04,\n",
            "        -4.1705e-02, -3.5389e-02, -6.0634e-02, -4.1379e-02, -4.1651e-02,\n",
            "         1.7425e-02,  5.2249e-02, -7.1620e-03, -6.0475e-02, -2.1679e-02,\n",
            "         2.8885e-02,  2.6750e-02,  1.7456e-02, -1.1084e-02, -5.7384e-02,\n",
            "         5.2833e-02, -4.1049e-02, -5.6179e-02,  5.4947e-02,  6.1061e-02,\n",
            "        -2.8080e-02, -1.8224e-02, -1.4080e-02, -4.6932e-02,  5.1178e-02,\n",
            "         1.3045e-02, -1.2173e-02, -5.9525e-02,  3.0160e-02, -1.1451e-02,\n",
            "        -5.1894e-03,  2.6964e-02,  1.7636e-02, -5.1301e-02,  4.0806e-02,\n",
            "         4.2400e-02, -2.7735e-02,  2.3568e-02, -5.8500e-02, -6.0034e-02,\n",
            "        -3.1643e-02, -9.9843e-03,  3.0967e-02, -2.2630e-03,  5.4581e-02,\n",
            "        -4.9868e-02,  3.0043e-02, -5.4387e-02,  1.9599e-02,  2.5848e-02,\n",
            "        -5.0592e-02, -1.8399e-02,  5.7588e-02,  1.3177e-02,  2.0322e-03,\n",
            "        -3.8114e-02,  2.6073e-02, -2.4047e-02, -3.7021e-02, -2.8277e-02,\n",
            "        -5.1316e-02,  5.0612e-02, -2.2589e-02, -1.2514e-02, -1.7932e-02,\n",
            "        -1.8545e-02,  1.6711e-02,  1.6774e-02,  3.4796e-02,  2.3572e-02,\n",
            "        -4.5586e-02,  2.5472e-02,  3.1286e-02,  3.2377e-02, -3.3880e-02,\n",
            "         2.7534e-02, -5.7285e-02, -4.2291e-02,  4.3319e-02,  2.8783e-02,\n",
            "        -2.5182e-02, -1.9905e-02,  1.8286e-02, -4.2922e-02, -3.2867e-02,\n",
            "         2.6300e-02, -2.4833e-02,  1.2181e-02,  4.2075e-02,  5.2349e-02,\n",
            "        -5.9688e-02, -1.9911e-02,  3.7068e-02, -1.2682e-02,  1.5440e-02,\n",
            "        -2.5043e-02,  1.6593e-02, -5.8524e-02,  3.2554e-02,  2.3831e-02,\n",
            "        -1.2713e-02,  3.7853e-02,  2.4380e-04, -3.2060e-02, -3.7490e-02,\n",
            "        -3.6705e-02,  2.0878e-02, -4.0897e-02,  2.7050e-02, -3.4680e-02,\n",
            "         5.2407e-02,  4.7636e-02,  3.0766e-02, -3.4005e-02, -7.2171e-03,\n",
            "         4.6593e-02, -4.9312e-02, -1.3341e-02, -1.9940e-02, -3.4098e-02,\n",
            "         3.3444e-02,  3.3258e-02,  4.0595e-02,  2.8480e-02, -3.2299e-02,\n",
            "         4.2317e-02,  4.5966e-02,  5.2076e-02,  2.4070e-02,  4.6149e-02,\n",
            "         4.6542e-02, -5.0243e-02, -2.6400e-02, -1.0510e-02, -8.9167e-03,\n",
            "         4.8993e-02,  2.3989e-02, -4.9802e-02,  1.3466e-02,  1.5672e-04,\n",
            "         1.4413e-02,  2.3557e-02,  5.4432e-02,  2.9402e-02, -1.0561e-02,\n",
            "        -5.3022e-02,  7.9097e-03, -3.2251e-02, -4.6269e-02,  1.8358e-02,\n",
            "        -2.5349e-02,  2.8378e-02,  2.7925e-02, -5.3994e-02, -3.5518e-02,\n",
            "         5.8303e-02, -3.6348e-03, -1.8311e-02,  7.0094e-03, -4.3586e-02,\n",
            "         5.7546e-02, -3.9118e-02, -2.4611e-02, -1.0061e-02,  3.0340e-03,\n",
            "         4.6040e-02,  1.0834e-02, -4.9765e-02,  7.8745e-03, -4.4255e-02,\n",
            "        -7.0674e-03,  1.3299e-02,  3.7922e-02, -3.1075e-02,  6.0970e-03,\n",
            "        -4.7950e-02,  4.3670e-02, -4.7822e-02, -2.1009e-02, -2.3647e-02,\n",
            "         5.7352e-02,  5.8346e-02, -3.1470e-02, -4.8987e-02, -4.3557e-02,\n",
            "        -3.2884e-02, -3.1651e-02,  3.7212e-02, -1.1885e-02, -4.2584e-03,\n",
            "         4.7247e-02,  1.2394e-02, -5.0729e-02,  6.0973e-02, -2.9341e-02,\n",
            "         5.8291e-02, -3.8434e-02, -5.6550e-03, -1.5350e-02, -4.3020e-02,\n",
            "         6.0480e-02,  5.9879e-02,  2.4602e-02, -4.8365e-02,  4.3035e-02,\n",
            "        -5.2804e-03, -2.4428e-02,  4.9513e-02,  5.0592e-02, -4.2170e-04,\n",
            "        -5.2980e-02, -2.0754e-02, -3.7485e-02, -5.3517e-02, -2.6898e-02,\n",
            "        -4.6727e-02, -3.1244e-02,  2.9097e-02,  4.6240e-03,  5.9807e-02,\n",
            "        -3.1015e-02,  9.8128e-03,  1.7018e-02, -2.8466e-02,  2.4211e-02,\n",
            "         5.4350e-02, -4.1444e-02,  2.5389e-02,  2.4035e-03,  2.7287e-02,\n",
            "        -2.2678e-03,  3.8034e-02, -2.0899e-02, -6.2847e-03, -3.4865e-02,\n",
            "         4.7953e-02, -2.5367e-02, -5.7930e-02, -1.7724e-02, -5.4842e-02,\n",
            "        -3.9826e-02, -3.3618e-02, -5.8415e-02,  5.2669e-02,  6.6657e-03,\n",
            "        -7.5472e-03, -6.2273e-02,  3.4404e-02, -4.6160e-02, -5.9817e-02,\n",
            "         3.8437e-02, -4.3920e-02, -2.6479e-02,  4.3598e-02,  2.2950e-02,\n",
            "         7.0107e-03,  3.8059e-02, -2.8548e-02, -5.3652e-02, -4.7958e-02,\n",
            "         1.7298e-02, -6.1634e-02, -2.3816e-02, -2.7690e-02, -2.8925e-02,\n",
            "        -7.4313e-03, -3.6333e-02, -3.9985e-02,  2.3353e-02,  1.3373e-02,\n",
            "         5.2578e-02,  3.0366e-02, -5.6344e-02, -4.9800e-02,  3.4187e-02,\n",
            "        -5.8209e-02,  4.6982e-02, -6.2642e-03,  4.1799e-02,  3.9317e-02,\n",
            "         6.1324e-02,  2.0264e-02,  4.9722e-02, -3.6080e-02, -6.1700e-02,\n",
            "        -1.3611e-02,  4.2032e-03, -1.3839e-02, -3.1837e-02, -2.8301e-02,\n",
            "        -2.8500e-02,  1.1322e-02,  6.0301e-02, -5.4758e-02, -5.1869e-02,\n",
            "        -5.8242e-02,  6.2344e-02, -1.5470e-02, -2.1474e-02, -5.7260e-02,\n",
            "        -5.2500e-02,  4.5101e-02,  4.2693e-03,  2.5150e-02, -4.7795e-03,\n",
            "         2.3569e-02,  1.4170e-02, -8.4324e-03,  4.6890e-02, -6.2532e-03,\n",
            "         3.7534e-02,  1.2437e-02, -6.2402e-02,  4.5786e-02,  3.7829e-02,\n",
            "        -4.7408e-02,  2.1338e-02,  1.5100e-02,  8.2605e-04,  4.9823e-02,\n",
            "        -1.6937e-02,  3.3322e-02, -5.4412e-02, -2.8306e-03, -4.7333e-02,\n",
            "         3.8122e-02, -7.1085e-03,  2.2758e-02,  1.7563e-02,  5.9872e-03,\n",
            "        -2.4180e-02,  1.6757e-02, -3.7187e-02, -4.8086e-02,  4.5336e-02,\n",
            "         5.1444e-02, -2.1357e-02,  2.5349e-02, -1.6392e-02,  3.8624e-02,\n",
            "         1.5909e-02, -3.2091e-02,  4.6675e-02, -4.7383e-02, -5.6154e-02,\n",
            "         5.5354e-02,  1.7043e-02, -4.8069e-02,  6.1569e-02,  3.4920e-02,\n",
            "        -4.5687e-02, -5.4721e-02,  5.7754e-02, -4.1453e-02, -4.2566e-02,\n",
            "         2.0057e-02, -1.0728e-02, -2.2425e-02,  3.6039e-02,  3.9286e-02,\n",
            "         6.1345e-02, -1.6352e-02, -3.5489e-02, -5.3701e-02, -3.7416e-02,\n",
            "         3.2078e-02, -3.1433e-02,  5.4502e-02, -1.4271e-02,  1.2583e-02,\n",
            "        -4.7159e-02, -3.6042e-02,  6.1336e-02,  1.6751e-02,  1.3806e-02,\n",
            "        -8.0255e-03,  4.0856e-02,  2.3883e-02, -1.2800e-03, -3.4915e-02,\n",
            "        -3.2996e-02, -6.1846e-02,  2.8749e-02, -4.8109e-02, -3.3068e-02,\n",
            "        -1.4656e-02,  2.9585e-02,  5.9761e-02, -3.7683e-02, -2.6312e-02,\n",
            "        -9.3189e-03,  3.2179e-02,  9.9961e-03, -3.1428e-02, -3.5095e-02,\n",
            "        -2.9585e-02,  2.9560e-02,  4.6050e-03,  3.9935e-02,  5.8929e-02,\n",
            "         2.9424e-02,  5.9956e-03,  5.8134e-02, -6.2112e-03, -1.3294e-02,\n",
            "         5.8707e-02, -1.6880e-02, -2.8510e-02, -1.0310e-02, -3.0341e-02,\n",
            "        -4.1755e-02,  3.9127e-02, -2.4623e-02,  3.6117e-02, -2.8498e-02,\n",
            "         1.0536e-02,  4.6206e-02, -3.8170e-02,  7.9091e-03, -1.4465e-02,\n",
            "         5.8480e-02,  6.1502e-02, -1.8378e-02, -5.5089e-02, -2.8495e-02,\n",
            "        -9.2170e-03, -5.5584e-02, -1.9382e-02,  4.6185e-02,  1.6961e-02,\n",
            "        -3.7563e-02, -2.2306e-02,  5.4813e-03,  1.3072e-02,  3.2254e-02,\n",
            "         3.4586e-02, -4.6204e-02, -4.4625e-02,  5.8712e-02,  5.5641e-02,\n",
            "        -4.7739e-02,  3.1273e-02, -7.4542e-04,  4.6673e-03,  1.0453e-02,\n",
            "         3.7800e-02,  5.8461e-02,  2.8848e-02, -3.1047e-02, -3.5921e-02,\n",
            "        -1.5095e-02,  4.6301e-02,  1.1027e-02, -5.5960e-02, -1.3049e-04,\n",
            "         4.9842e-02,  8.8303e-03, -1.9990e-02, -2.7541e-02,  4.1474e-02,\n",
            "         4.2735e-02,  2.6815e-02,  1.3474e-02, -5.5376e-02,  3.8544e-04,\n",
            "         4.4602e-02, -2.5031e-02, -4.8023e-02,  5.0365e-02, -1.7943e-02,\n",
            "        -4.3816e-02,  5.9749e-02, -4.7725e-02, -4.7235e-02, -3.6489e-02,\n",
            "        -8.5013e-03,  2.9247e-02, -4.8260e-02, -3.1038e-02,  1.5216e-02,\n",
            "         2.5238e-02,  2.3745e-02, -5.3234e-02, -1.3167e-02,  1.2380e-02,\n",
            "        -3.3727e-02, -5.7027e-02, -8.8333e-04,  2.6541e-02,  2.7186e-02,\n",
            "        -3.1562e-02, -3.4669e-02, -6.3808e-03, -7.5908e-03, -3.2678e-02,\n",
            "        -3.5973e-02,  7.2972e-03, -3.7586e-02, -4.6468e-02, -2.0585e-02,\n",
            "        -7.3641e-03,  5.6888e-02, -5.8424e-02,  2.6169e-04,  2.5031e-02,\n",
            "        -5.7721e-02,  4.8941e-02,  8.8218e-03,  4.8271e-02, -1.7821e-04,\n",
            "         2.8475e-02,  5.3890e-02, -4.3309e-03, -1.1352e-02, -1.0631e-02,\n",
            "         3.4916e-02, -3.3185e-02, -5.1529e-02,  2.8713e-02,  3.2094e-02,\n",
            "         2.0522e-03,  5.3543e-02,  4.1710e-02,  3.8232e-02, -4.5791e-03,\n",
            "        -5.7834e-02,  6.2218e-02,  4.5518e-02, -4.3347e-02,  4.4747e-03,\n",
            "        -5.4751e-02,  4.0875e-02, -1.9237e-02,  3.5185e-02,  4.7494e-02,\n",
            "        -3.9541e-02,  3.0622e-02,  3.7028e-02, -5.7174e-03,  2.9202e-02,\n",
            "         4.5607e-02,  2.9709e-02, -5.9834e-02, -2.1880e-02,  4.5970e-02,\n",
            "        -5.1655e-02, -4.1592e-02, -5.1192e-02,  1.4247e-02, -7.9167e-03,\n",
            "        -3.5430e-02,  1.5675e-02,  3.3897e-02, -2.2441e-02,  5.8092e-02,\n",
            "         2.4269e-02,  5.2559e-02, -1.7391e-02,  1.7837e-02, -4.9723e-02,\n",
            "         2.0269e-03, -2.2714e-02,  4.7391e-02, -1.1147e-02],\n",
            "       requires_grad=True)]\n"
          ]
        },
        {
          "output_type": "stream",
          "name": "stderr",
          "text": [
            "<ipython-input-85-c6d2a18b5a2e>:6: UserWarning: nn.init.xavier_uniform is now deprecated in favor of nn.init.xavier_uniform_.\n",
            "  nn.init.xavier_uniform(l.weight)\n"
          ]
        }
      ]
    },
    {
      "cell_type": "markdown",
      "source": [
        "## 네트워크 모델 구조 확인"
      ],
      "metadata": {
        "id": "ei03BK1LuUJ2"
      }
    },
    {
      "cell_type": "code",
      "source": [
        "! pip install torchsummary"
      ],
      "metadata": {
        "colab": {
          "base_uri": "https://localhost:8080/"
        },
        "id": "9mqznUPer77n",
        "outputId": "890d84ef-f9c2-4266-f217-3dcea211fd44"
      },
      "execution_count": 45,
      "outputs": [
        {
          "output_type": "stream",
          "name": "stdout",
          "text": [
            "Requirement already satisfied: torchsummary in /usr/local/lib/python3.10/dist-packages (1.5.1)\n"
          ]
        }
      ]
    },
    {
      "cell_type": "code",
      "source": [
        "from torchsummary import summary\n",
        "summary(ae, (1,28,28)) # summary(model, input_size)"
      ],
      "metadata": {
        "colab": {
          "base_uri": "https://localhost:8080/"
        },
        "id": "qRRVUkJSuTzA",
        "outputId": "45e2fb60-e84a-4c6c-fbbe-835e22ff10a9"
      },
      "execution_count": 46,
      "outputs": [
        {
          "output_type": "stream",
          "name": "stdout",
          "text": [
            "----------------------------------------------------------------\n",
            "        Layer (type)               Output Shape         Param #\n",
            "================================================================\n",
            "           Flatten-1                  [-1, 784]               0\n",
            "            Linear-2                  [-1, 256]         200,960\n",
            "              ReLU-3                  [-1, 256]               0\n",
            "            Linear-4                  [-1, 128]          32,896\n",
            "              ReLU-5                  [-1, 128]               0\n",
            "            Linear-6                   [-1, 32]           4,128\n",
            "              ReLU-7                   [-1, 32]               0\n",
            "            Linear-8                    [-1, 2]              66\n",
            "            Linear-9                   [-1, 32]              96\n",
            "             ReLU-10                   [-1, 32]               0\n",
            "           Linear-11                  [-1, 256]           8,448\n",
            "             ReLU-12                  [-1, 256]               0\n",
            "           Linear-13                  [-1, 784]         201,488\n",
            "        Unflatten-14            [-1, 1, 28, 28]               0\n",
            "          Sigmoid-15            [-1, 1, 28, 28]               0\n",
            "================================================================\n",
            "Total params: 448,082\n",
            "Trainable params: 448,082\n",
            "Non-trainable params: 0\n",
            "----------------------------------------------------------------\n",
            "Input size (MB): 0.00\n",
            "Forward/backward pass size (MB): 0.03\n",
            "Params size (MB): 1.71\n",
            "Estimated Total Size (MB): 1.75\n",
            "----------------------------------------------------------------\n"
          ]
        }
      ]
    },
    {
      "cell_type": "code",
      "source": [
        "# 유의\n",
        "# ae 함수는 batch 단위로 수행됨 → ( batch, 1, 28, 28 )로 병렬처리"
      ],
      "metadata": {
        "id": "mPjI2bUeubhv"
      },
      "execution_count": null,
      "outputs": []
    },
    {
      "cell_type": "markdown",
      "source": [
        "## 오토인코더 학습"
      ],
      "metadata": {
        "id": "cteKWsQNvPaA"
      }
    },
    {
      "cell_type": "code",
      "source": [
        "optimizer = torch.optim.Adam(ae.parameters(), lr = learning_rate)\n",
        "criterion = nn.MSELoss()"
      ],
      "metadata": {
        "id": "k09ebYFOvR5k"
      },
      "execution_count": 86,
      "outputs": []
    },
    {
      "cell_type": "code",
      "source": [
        "# 학습 fit() 함수 구현\n",
        "\n",
        "def fit(data_loader, epochs):\n",
        "  for epoch in range(epochs):\n",
        "    now = time.time()\n",
        "    avg_loss = 0\n",
        "    total_batch = len(data_loader)\n",
        "\n",
        "    for i, (batch_images, batch_labels) in enumerate(data_loader):\n",
        "\n",
        "      X = batch_images.to(device)  # [-1, 1, 28, 28]\n",
        "\n",
        "      # forward 단계\n",
        "      Y_prediction = ae(X)\n",
        "      loss = criterion(Y_prediction, X)\n",
        "\n",
        "\n",
        "      # bacward 단계\n",
        "      optimizer.zero_grad()\n",
        "      loss.backward()\n",
        "      optimizer.step()\n",
        "\n",
        "      avg_loss += loss / total_batch\n",
        "\n",
        "    print(\"[Epoch: {:>4}] \\t loss = {:.4f} \\t time = {:.4f}\"\n",
        "          .format(epoch + 1, avg_loss.data, time.time()-now))\n",
        "\n",
        "  print(\"Learning Finished!\")"
      ],
      "metadata": {
        "id": "w0OETtVIyARH"
      },
      "execution_count": 87,
      "outputs": []
    },
    {
      "cell_type": "code",
      "source": [
        "# 파라미터 업데이트 이전 최종 loss : 0.0372 / 0.0389"
      ],
      "metadata": {
        "id": "PZWPrxZgBK3l"
      },
      "execution_count": null,
      "outputs": []
    },
    {
      "cell_type": "code",
      "source": [
        "fit(train_loader, num_epochs)"
      ],
      "metadata": {
        "colab": {
          "base_uri": "https://localhost:8080/"
        },
        "id": "WxqpS3OAy2z3",
        "outputId": "43facbd5-fb2b-4049-98af-41514ab9b777"
      },
      "execution_count": 88,
      "outputs": [
        {
          "output_type": "stream",
          "name": "stdout",
          "text": [
            "[Epoch:    1] \t loss = 0.0578 \t time = 20.2022\n",
            "[Epoch:    2] \t loss = 0.0456 \t time = 22.0818\n",
            "[Epoch:    3] \t loss = 0.0428 \t time = 21.0467\n",
            "[Epoch:    4] \t loss = 0.0413 \t time = 22.0653\n",
            "[Epoch:    5] \t loss = 0.0403 \t time = 21.8819\n",
            "[Epoch:    6] \t loss = 0.0396 \t time = 21.0622\n",
            "[Epoch:    7] \t loss = 0.0389 \t time = 21.6842\n",
            "[Epoch:    8] \t loss = 0.0383 \t time = 27.7978\n",
            "[Epoch:    9] \t loss = 0.0380 \t time = 20.1391\n",
            "[Epoch:   10] \t loss = 0.0378 \t time = 19.0456\n",
            "Learning Finished!\n"
          ]
        }
      ]
    },
    {
      "cell_type": "markdown",
      "source": [
        "train_dataset에 대한 결과 시각화"
      ],
      "metadata": {
        "id": "IIbhJ-8w1JNf"
      }
    },
    {
      "cell_type": "code",
      "source": [
        "from torchvision.transforms.functional import to_pil_image\n",
        "import ipywidgets as widgets\n",
        "\n",
        "def train_dataset_imshow(idx): # 해당 인덱스 하나에 대하여\n",
        "  (image,label) = train_dataset[idx] # 해당 인덱스에 대한 이미지+라벨을 뽑아줌\n",
        "\n",
        "  print(\"GT label : \", label)\n",
        "\n",
        "  X = torch.unsqueeze(image,0).to(device)\n",
        "  # x : 오토인코더에 들어가기 전의 real data\n",
        "  # 이미지에 0번째에 차원 하나 추가(unsqueeze) | 이후 device 저장장치 | X 라는 변수에 할당\n",
        "\n",
        "\n",
        "  Y_pred = ae(X) # 오토인코더에 X 넣기 -> x^ 만들어짐\n",
        "\n",
        "  input_img = to_pil_image(X.squeeze())\n",
        "  output_img = to_pil_image(Y_pred.squeeze())\n",
        "\n",
        "  plt.subplot(121)\n",
        "  plt.imshow(input_img, cmap = 'gray')\n",
        "\n",
        "  plt.subplot(122)\n",
        "  plt.imshow(output_img, cmap = 'gray')\n",
        "\n",
        "  plt.show()"
      ],
      "metadata": {
        "id": "3s2oPQr0y4UC"
      },
      "execution_count": 58,
      "outputs": []
    },
    {
      "cell_type": "code",
      "source": [
        "widgets.interact(train_dataset_imshow, idx=widgets.IntSlider(min=0, max=len(train_dataset)-1, continuous_update=False))"
      ],
      "metadata": {
        "colab": {
          "base_uri": "https://localhost:8080/",
          "height": 424,
          "referenced_widgets": [
            "9e70a529d23a4c529fa40115e1d2ee0b",
            "f23b5c00002b43af9af10f2512d3c550",
            "9379a507ea51462183e106ae3a5c55ec",
            "c439ce6e4a2047d6b5a79460e5e1d74f",
            "06e62f54c2c948ef9e480615b2d8f874",
            "3521b50f1d14466b9230a85d24935a38",
            "8336d7f92f894b2b9144062c8c861211"
          ]
        },
        "id": "K7IJXTAH21FC",
        "outputId": "3bc0e3c4-9db2-4cc1-da3e-eab2461f366b"
      },
      "execution_count": 59,
      "outputs": [
        {
          "output_type": "display_data",
          "data": {
            "text/plain": [
              "interactive(children=(IntSlider(value=0, continuous_update=False, description='idx', max=59999), Output()), _d…"
            ],
            "application/vnd.jupyter.widget-view+json": {
              "version_major": 2,
              "version_minor": 0,
              "model_id": "9e70a529d23a4c529fa40115e1d2ee0b"
            }
          },
          "metadata": {}
        },
        {
          "output_type": "execute_result",
          "data": {
            "text/plain": [
              "<function __main__.train_dataset_imshow(idx)>"
            ],
            "text/html": [
              "<div style=\"max-width:800px; border: 1px solid var(--colab-border-color);\"><style>\n",
              "      pre.function-repr-contents {\n",
              "        overflow-x: auto;\n",
              "        padding: 8px 12px;\n",
              "        max-height: 500px;\n",
              "      }\n",
              "\n",
              "      pre.function-repr-contents.function-repr-contents-collapsed {\n",
              "        cursor: pointer;\n",
              "        max-height: 100px;\n",
              "      }\n",
              "    </style>\n",
              "    <pre style=\"white-space: initial; background:\n",
              "         var(--colab-secondary-surface-color); padding: 8px 12px;\n",
              "         border-bottom: 1px solid var(--colab-border-color);\"><b>train_dataset_imshow</b><br/>def train_dataset_imshow(idx)</pre><pre class=\"function-repr-contents function-repr-contents-collapsed\" style=\"\"><a class=\"filepath\" style=\"display:none\" href=\"#\">/content/&lt;ipython-input-58-1a446a949c20&gt;</a>&lt;no docstring&gt;</pre></div>"
            ]
          },
          "metadata": {},
          "execution_count": 59
        }
      ]
    },
    {
      "cell_type": "code",
      "source": [
        "import matplotlib.pyplot as plt\n",
        "from torchvision.transforms.functional import to_pil_image\n",
        "import ipywidgets as widgets\n",
        "\n",
        "def test_dataset_imshow(idx):\n",
        "  (image, label) = test_dataset[idx]\n",
        "  print('GT label:', label)\n",
        "\n",
        "  X      = torch.unsqueeze(image, 0).to(device) # batch size = 1\n",
        "  Y_pred = ae(X)\n",
        "\n",
        "  input_img  = to_pil_image(X.squeeze())\n",
        "  output_img = to_pil_image(Y_pred.squeeze())\n",
        "\n",
        "  plt.subplot(121)\n",
        "  plt.imshow(input_img, cmap='gray')\n",
        "\n",
        "  plt.subplot(122)\n",
        "  plt.imshow(output_img, cmap='gray')\n",
        "\n",
        "  plt.show()\n",
        "\n",
        "widgets.interact(test_dataset_imshow, idx=widgets.IntSlider(min=0, max=len(test_dataset)-1, continuous_update=False))"
      ],
      "metadata": {
        "colab": {
          "base_uri": "https://localhost:8080/",
          "height": 424,
          "referenced_widgets": [
            "e5fbcf798a4d4c9db25d38e80dbd89e2",
            "77fc7b5d50ad4fc5a6e53ef0e9749186",
            "1dde7fab1cc14d26bb4c549bf7022de5",
            "03c97133b257463caa6427d653bbcaea",
            "f4783ab3fecd4b1eb6aa7dfcf4834b9e",
            "9d698807a36445329c0e8161c0528013",
            "109a7113f7d34ea78795c7fb7f9bb5ee"
          ]
        },
        "id": "7Kxg43fH3lnC",
        "outputId": "5aab0c55-87c1-43ab-e1a8-f09f61461d1c"
      },
      "execution_count": 60,
      "outputs": [
        {
          "output_type": "display_data",
          "data": {
            "text/plain": [
              "interactive(children=(IntSlider(value=0, continuous_update=False, description='idx', max=9999), Output()), _do…"
            ],
            "application/vnd.jupyter.widget-view+json": {
              "version_major": 2,
              "version_minor": 0,
              "model_id": "e5fbcf798a4d4c9db25d38e80dbd89e2"
            }
          },
          "metadata": {}
        },
        {
          "output_type": "execute_result",
          "data": {
            "text/plain": [
              "<function __main__.test_dataset_imshow(idx)>"
            ],
            "text/html": [
              "<div style=\"max-width:800px; border: 1px solid var(--colab-border-color);\"><style>\n",
              "      pre.function-repr-contents {\n",
              "        overflow-x: auto;\n",
              "        padding: 8px 12px;\n",
              "        max-height: 500px;\n",
              "      }\n",
              "\n",
              "      pre.function-repr-contents.function-repr-contents-collapsed {\n",
              "        cursor: pointer;\n",
              "        max-height: 100px;\n",
              "      }\n",
              "    </style>\n",
              "    <pre style=\"white-space: initial; background:\n",
              "         var(--colab-secondary-surface-color); padding: 8px 12px;\n",
              "         border-bottom: 1px solid var(--colab-border-color);\"><b>test_dataset_imshow</b><br/>def test_dataset_imshow(idx)</pre><pre class=\"function-repr-contents function-repr-contents-collapsed\" style=\"\"><a class=\"filepath\" style=\"display:none\" href=\"#\">/content/&lt;ipython-input-60-f2bda0569a67&gt;</a>&lt;no docstring&gt;</pre></div>"
            ]
          },
          "metadata": {},
          "execution_count": 60
        }
      ]
    },
    {
      "cell_type": "markdown",
      "source": [
        "## 인코더 / 디코더 모델 따로 써보기"
      ],
      "metadata": {
        "id": "AYCovWAd6rHF"
      }
    },
    {
      "cell_type": "code",
      "source": [
        "from torchvision.transforms.functional import to_pil_image\n",
        "\n",
        "idx = 128\n",
        "\n",
        "(image, label) = test_dataset[idx]\n",
        "print(\"GT label : \", label)\n",
        "\n",
        "X = torch.unsqueeze(image,0).to(device)\n",
        "z = enc(X)  # latent space 잠재공간에 구현된 z\n",
        "Y_pred = dec(z)\n",
        "\n",
        "input_img = to_pil_image(X.squeeze())\n",
        "output_img = to_pil_image(Y_pred.squeeze())\n",
        "\n",
        "plt.subplot(121)\n",
        "plt.imshow(input_img, cmap = 'gray')\n",
        "\n",
        "plt.subplot(122)\n",
        "plt.imshow(output_img, cmap = 'gray')"
      ],
      "metadata": {
        "colab": {
          "base_uri": "https://localhost:8080/",
          "height": 324
        },
        "id": "UMaXbvrB6tdA",
        "outputId": "81f8af04-8b58-48a7-a226-52f86ca6ee71"
      },
      "execution_count": 61,
      "outputs": [
        {
          "output_type": "stream",
          "name": "stdout",
          "text": [
            "GT label :  8\n"
          ]
        },
        {
          "output_type": "execute_result",
          "data": {
            "text/plain": [
              "<matplotlib.image.AxesImage at 0x7e3879d48af0>"
            ]
          },
          "metadata": {},
          "execution_count": 61
        },
        {
          "output_type": "display_data",
          "data": {
            "text/plain": [
              "<Figure size 640x480 with 2 Axes>"
            ],
            "image/png": "[encoded data removed]"
          },
          "metadata": {}
        }
      ]
    },
    {
      "cell_type": "markdown",
      "source": [
        "![image.png](data:image/png;base64,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)"
      ],
      "metadata": {
        "id": "NFzJnvdt9fQs"
      }
    },
    {
      "cell_type": "markdown",
      "source": [
        "### n_dim = 2"
      ],
      "metadata": {
        "id": "xG8yXCIFOozv"
      }
    },
    {
      "cell_type": "code",
      "source": [
        "# MNIST latent space 시각화 : z 분포 w/ color\n",
        "\n",
        "whole_test_loader = DataLoader(dataset = test_dataset,\n",
        "                               batch_size = len(test_dataset),\n",
        "                               shuffle = False)\n",
        "\n",
        "whole_test_images, whole_test_labels = next(iter(whole_test_loader))\n",
        "whole_test_images = whole_test_images.to(device) # 저장소로 보내기\n",
        "whole_test_labels = whole_test_labels.to(device)\n",
        "# len(whole_test_labels) >>> 10,000\n"
      ],
      "metadata": {
        "id": "AyydAx7F7a_D"
      },
      "execution_count": 63,
      "outputs": []
    },
    {
      "cell_type": "code",
      "source": [
        "z = enc(whole_test_images)"
      ],
      "metadata": {
        "id": "84ZoFP3Y8wNH"
      },
      "execution_count": 66,
      "outputs": []
    },
    {
      "cell_type": "code",
      "source": [
        "z"
      ],
      "metadata": {
        "colab": {
          "base_uri": "https://localhost:8080/"
        },
        "id": "L8bqHGo49UHl",
        "outputId": "17d525a3-08dd-4d06-8b40-ef7fd501eab0"
      },
      "execution_count": 67,
      "outputs": [
        {
          "output_type": "execute_result",
          "data": {
            "text/plain": [
              "tensor([[ 46.6410, -21.2210],\n",
              "        [ -1.5148,   1.7788],\n",
              "        [ 94.1793,  69.7842],\n",
              "        ...,\n",
              "        [ 22.8645,  -2.9869],\n",
              "        [  6.3730,   7.2172],\n",
              "        [ 11.9431, -34.9731]], grad_fn=<AddmmBackward0>)"
            ]
          },
          "metadata": {},
          "execution_count": 67
        }
      ]
    },
    {
      "cell_type": "code",
      "source": [
        "# 라벨에 따른 슬라이싱\n",
        "z_0 = z[whole_test_labels==0]\n",
        "z_1 = z[whole_test_labels==1]\n",
        "z_2 = z[whole_test_labels==2]\n",
        "z_3 = z[whole_test_labels==3]\n",
        "z_4 = z[whole_test_labels==4]\n",
        "z_5 = z[whole_test_labels==5]\n",
        "z_6 = z[whole_test_labels==6]\n",
        "z_7 = z[whole_test_labels==7]\n",
        "z_8 = z[whole_test_labels==8]\n",
        "z_9 = z[whole_test_labels==9]"
      ],
      "metadata": {
        "id": "PT-RBIjw9UrR"
      },
      "execution_count": 68,
      "outputs": []
    },
    {
      "cell_type": "code",
      "source": [
        "plt.plot(z_0[:,0].detach().cpu().numpy(), z_0[:,1].detach().cpu().numpy(), 'ro')\n",
        "plt.plot(z_1[:,0].detach().cpu().numpy(), z_1[:,1].detach().cpu().numpy(), 'go')\n",
        "plt.plot(z_2[:,0].detach().cpu().numpy(), z_2[:,1].detach().cpu().numpy(), 'bo')\n",
        "#plt.plot(z_3[:,0].detach().cpu().numpy(), z_3[:,1].detach().cpu().numpy(), 'yo')"
      ],
      "metadata": {
        "colab": {
          "base_uri": "https://localhost:8080/",
          "height": 0
        },
        "id": "TyE1lVkt9Wur",
        "outputId": "38c0a1c1-3ea9-415c-9b94-fb51309640c5"
      },
      "execution_count": 80,
      "outputs": [
        {
          "output_type": "execute_result",
          "data": {
            "text/plain": [
              "[<matplotlib.lines.Line2D at 0x7e38779b0400>]"
            ]
          },
          "metadata": {},
          "execution_count": 80
        },
        {
          "output_type": "display_data",
          "data": {
            "text/plain": [
              "<Figure size 640x480 with 1 Axes>"
            ],
            "image/png": "[encoded data removed]"
          },
          "metadata": {}
        }
      ]
    },
    {
      "cell_type": "markdown",
      "source": [
        "### n_dim = 32"
      ],
      "metadata": {
        "id": "Naaq-NhiLMFN"
      }
    },
    {
      "cell_type": "code",
      "source": [
        "## with new dimension of z"
      ],
      "metadata": {
        "id": "JLpGOEF1ChM2"
      },
      "execution_count": null,
      "outputs": []
    },
    {
      "cell_type": "code",
      "source": [
        "n_dim = 32\n",
        "\n",
        "enc = nn.Sequential(\n",
        "    nn.Flatten(),\n",
        "    nn.Linear(784, 256),\n",
        "    nn.ReLU(),\n",
        "    nn.Linear(256,128),\n",
        "    nn.ReLU(),\n",
        "    nn.Linear(128,32),\n",
        "    nn.ReLU(),\n",
        "    nn.Linear(32,n_dim)\n",
        ")\n",
        "\n",
        "enc = enc.to(device)\n",
        "\n",
        "# 디코더 정의\n",
        "dec = nn.Sequential(\n",
        "    nn.Linear(n_dim,32),\n",
        "    nn.ReLU(),\n",
        "    nn.Linear(32,256),\n",
        "    nn.ReLU(),\n",
        "    nn.Linear(256,784),\n",
        "    nn.Unflatten(1, torch.Size([1,28,28])),\n",
        "    nn.Sigmoid()\n",
        ")\n",
        "\n",
        "dec = dec.to(device)\n",
        "\n",
        "# auto encoder 정의\n",
        "\n",
        "ae = nn.Sequential(\n",
        "    enc,\n",
        "    dec,\n",
        ")\n",
        "\n",
        "ae = ae.to(device)\n",
        "\n",
        "\n",
        "# ae 파라미터 초기화\n",
        "\n",
        "def init_weights(m):\n",
        "  for l in m.modules():\n",
        "    if isinstance(l, nn.Linear):\n",
        "      nn.init.xavier_uniform(l.weight)\n",
        "\n",
        "ae.apply(init_weights)\n",
        "\n",
        "\n",
        "# 오토인코더 학습\n",
        "\n",
        "optimizer = torch.optim.Adam(ae.parameters(), lr = learning_rate)\n",
        "criterion = nn.MSELoss()\n",
        "\n",
        "# 학습 fit() 함수 구현\n",
        "\n",
        "def fit(data_loader, epochs):\n",
        "  for epoch in range(epochs):\n",
        "    now = time.time()\n",
        "    avg_loss = 0\n",
        "    total_batch = len(data_loader)\n",
        "\n",
        "    for i, (batch_images, batch_labels) in enumerate(data_loader):\n",
        "\n",
        "      X = batch_images.to(device)  # [-1, 1, 28, 28]\n",
        "\n",
        "      # forward 단계\n",
        "      Y_prediction = ae(X)\n",
        "      loss = criterion(Y_prediction, X)\n",
        "\n",
        "\n",
        "      # bacward 단계\n",
        "      optimizer.zero_grad()\n",
        "      loss.backward()\n",
        "      optimizer.step()\n",
        "\n",
        "      avg_loss += loss / total_batch\n",
        "\n",
        "    print(\"[Epoch: {:>4}] \\t loss = {:.4f} \\t time = {:.4f}\"\n",
        "          .format(epoch + 1, avg_loss.data, time.time()-now))\n",
        "\n",
        "  print(\"Learning Finished!\")"
      ],
      "metadata": {
        "colab": {
          "base_uri": "https://localhost:8080/"
        },
        "id": "A_ngNlC4CjGv",
        "outputId": "7bd1f2e6-580c-4cfd-ad7c-320e2c649356"
      },
      "execution_count": 89,
      "outputs": [
        {
          "output_type": "stream",
          "name": "stderr",
          "text": [
            "<ipython-input-89-f07b2baf8e21>:44: UserWarning: nn.init.xavier_uniform is now deprecated in favor of nn.init.xavier_uniform_.\n",
            "  nn.init.xavier_uniform(l.weight)\n"
          ]
        }
      ]
    },
    {
      "cell_type": "code",
      "source": [
        "fit(train_loader, num_epochs)"
      ],
      "metadata": {
        "colab": {
          "base_uri": "https://localhost:8080/"
        },
        "id": "UF6he74WCrHu",
        "outputId": "659b5ba8-d39a-48c8-d0a1-beff175096b3"
      },
      "execution_count": 90,
      "outputs": [
        {
          "output_type": "stream",
          "name": "stdout",
          "text": [
            "[Epoch:    1] \t loss = 0.0396 \t time = 22.9575\n",
            "[Epoch:    2] \t loss = 0.0197 \t time = 17.2424\n",
            "[Epoch:    3] \t loss = 0.0162 \t time = 18.0207\n",
            "[Epoch:    4] \t loss = 0.0144 \t time = 17.6803\n",
            "[Epoch:    5] \t loss = 0.0131 \t time = 17.4024\n",
            "[Epoch:    6] \t loss = 0.0121 \t time = 17.6225\n",
            "[Epoch:    7] \t loss = 0.0114 \t time = 17.1623\n",
            "[Epoch:    8] \t loss = 0.0109 \t time = 18.4271\n",
            "[Epoch:    9] \t loss = 0.0104 \t time = 17.7359\n",
            "[Epoch:   10] \t loss = 0.0100 \t time = 18.9980\n",
            "Learning Finished!\n"
          ]
        }
      ]
    },
    {
      "cell_type": "markdown",
      "source": [
        "#### TODOs"
      ],
      "metadata": {
        "id": "KiEy6fs5Jt8y"
      }
    },
    {
      "cell_type": "code",
      "source": [
        "z = enc(whole_test_images)"
      ],
      "metadata": {
        "id": "YLwcheTHKVOU"
      },
      "execution_count": 98,
      "outputs": []
    },
    {
      "cell_type": "code",
      "source": [
        "z_0 = z[whole_test_labels==0]\n",
        "z_1 = z[whole_test_labels==1]\n",
        "z_2 = z[whole_test_labels==2]\n",
        "z_3 = z[whole_test_labels==3]\n",
        "z_4 = z[whole_test_labels==4]\n",
        "z_5 = z[whole_test_labels==5]\n",
        "z_6 = z[whole_test_labels==6]\n",
        "z_7 = z[whole_test_labels==7]\n",
        "z_8 = z[whole_test_labels==8]\n",
        "z_9 = z[whole_test_labels==9]"
      ],
      "metadata": {
        "id": "DilgeqfiKs9j"
      },
      "execution_count": 102,
      "outputs": []
    },
    {
      "cell_type": "code",
      "source": [
        "plt.plot(z_0[:,0].detach().cpu().numpy(), z_0[:,1].detach().cpu().numpy(), 'ro')\n",
        "plt.plot(z_1[:,0].detach().cpu().numpy(), z_1[:,1].detach().cpu().numpy(), 'go')\n",
        "plt.plot(z_2[:,0].detach().cpu().numpy(), z_2[:,1].detach().cpu().numpy(), 'bo')"
      ],
      "metadata": {
        "colab": {
          "base_uri": "https://localhost:8080/",
          "height": 0
        },
        "id": "ymhAEk-CKu93",
        "outputId": "4834de6f-59ce-4dd2-e38d-e4134047a9ab"
      },
      "execution_count": 103,
      "outputs": [
        {
          "output_type": "execute_result",
          "data": {
            "text/plain": [
              "[<matplotlib.lines.Line2D at 0x7e3879e332b0>]"
            ]
          },
          "metadata": {},
          "execution_count": 103
        },
        {
          "output_type": "display_data",
          "data": {
            "text/plain": [
              "<Figure size 640x480 with 1 Axes>"
            ],
            "image/png": "[encoded data removed]"
          },
          "metadata": {}
        }
      ]
    },
    {
      "cell_type": "code",
      "source": [
        "z, z.shape"
      ],
      "metadata": {
        "colab": {
          "base_uri": "https://localhost:8080/"
        },
        "id": "nJbl7HQcKfs0",
        "outputId": "39d2f89c-2b02-449f-a5c9-931fcc7d4098"
      },
      "execution_count": 101,
      "outputs": [
        {
          "output_type": "execute_result",
          "data": {
            "text/plain": [
              "(tensor([[  1.9507,   6.9978, -21.8647,  ...,  -1.5278,  -3.5515,   3.3674],\n",
              "         [ -5.8782,   9.2769, -11.1147,  ...,   6.2363, -16.9798,  -1.5134],\n",
              "         [-11.1107,  15.4088, -20.3417,  ...,   1.5970, -11.6249,  -2.7215],\n",
              "         ...,\n",
              "         [ -6.7907,  19.1043, -14.2864,  ...,  -0.6341,  -8.3803,  -5.7079],\n",
              "         [ -4.2369,  16.2274, -15.2309,  ...,   0.4180, -13.2680,   1.8435],\n",
              "         [  6.1851,  13.9597,  -6.4564,  ...,  -0.8536, -23.7104,  -6.4898]],\n",
              "        grad_fn=<AddmmBackward0>),\n",
              " torch.Size([10000, 32]))"
            ]
          },
          "metadata": {},
          "execution_count": 101
        }
      ]
    },
    {
      "cell_type": "code",
      "source": [
        "# z 공간의 임의의 위치를 sampling\n",
        "\n",
        "z = torch.randn(3, n_dim).to(device)\n",
        "z = torch.FloatTensor(z).to(device)\n",
        "result = dec(z)\n",
        "\n",
        "print(z.shape)\n",
        "print(result.shape)"
      ],
      "metadata": {
        "colab": {
          "base_uri": "https://localhost:8080/"
        },
        "id": "ZuA-SgqcJyXc",
        "outputId": "e48315f2-9060-46ac-ad6d-89c43aaabf50"
      },
      "execution_count": 96,
      "outputs": [
        {
          "output_type": "stream",
          "name": "stdout",
          "text": [
            "torch.Size([3, 32])\n",
            "torch.Size([3, 1, 28, 28])\n"
          ]
        }
      ]
    },
    {
      "cell_type": "markdown",
      "source": [
        "### n_dim = 16"
      ],
      "metadata": {
        "id": "OYws0pxuLa5p"
      }
    },
    {
      "cell_type": "code",
      "source": [
        "n_dim = 16\n",
        "\n",
        "enc = nn.Sequential(\n",
        "    nn.Flatten(),\n",
        "    nn.Linear(784, 256),\n",
        "    nn.ReLU(),\n",
        "    nn.Linear(256,128),\n",
        "    nn.ReLU(),\n",
        "    nn.Linear(128,32),\n",
        "    nn.ReLU(),\n",
        "    nn.Linear(32,n_dim)\n",
        ")\n",
        "\n",
        "enc = enc.to(device)\n",
        "\n",
        "# 디코더 정의\n",
        "dec = nn.Sequential(\n",
        "    nn.Linear(n_dim,32),\n",
        "    nn.ReLU(),\n",
        "    nn.Linear(32,256),\n",
        "    nn.ReLU(),\n",
        "    nn.Linear(256,784),\n",
        "    nn.Unflatten(1, torch.Size([1,28,28])),\n",
        "    nn.Sigmoid()\n",
        ")\n",
        "\n",
        "dec = dec.to(device)\n",
        "\n",
        "# auto encoder 정의\n",
        "\n",
        "ae = nn.Sequential(\n",
        "    enc,\n",
        "    dec,\n",
        ")\n",
        "\n",
        "ae = ae.to(device)\n",
        "\n",
        "\n",
        "# ae 파라미터 초기화\n",
        "\n",
        "def init_weights(m):\n",
        "  for l in m.modules():\n",
        "    if isinstance(l, nn.Linear):\n",
        "      nn.init.xavier_uniform(l.weight)\n",
        "\n",
        "ae.apply(init_weights)\n",
        "\n",
        "\n",
        "# 오토인코더 학습\n",
        "\n",
        "optimizer = torch.optim.Adam(ae.parameters(), lr = learning_rate)\n",
        "criterion = nn.MSELoss()\n",
        "\n",
        "# 학습 fit() 함수 구현\n",
        "\n",
        "def fit(data_loader, epochs):\n",
        "  for epoch in range(epochs):\n",
        "    now = time.time()\n",
        "    avg_loss = 0\n",
        "    total_batch = len(data_loader)\n",
        "\n",
        "    for i, (batch_images, batch_labels) in enumerate(data_loader):\n",
        "\n",
        "      X = batch_images.to(device)  # [-1, 1, 28, 28]\n",
        "\n",
        "      # forward 단계\n",
        "      Y_prediction = ae(X)\n",
        "      loss = criterion(Y_prediction, X)\n",
        "\n",
        "\n",
        "      # bacward 단계\n",
        "      optimizer.zero_grad()\n",
        "      loss.backward()\n",
        "      optimizer.step()\n",
        "\n",
        "      avg_loss += loss / total_batch\n",
        "\n",
        "    print(\"[Epoch: {:>4}] \\t loss = {:.4f} \\t time = {:.4f}\"\n",
        "          .format(epoch + 1, avg_loss.data, time.time()-now))\n",
        "\n",
        "  print(\"Learning Finished!\")"
      ],
      "metadata": {
        "colab": {
          "base_uri": "https://localhost:8080/"
        },
        "id": "6PQ-D_6IKOBH",
        "outputId": "788b0a07-4ddf-4419-9d17-544ed60afc0b"
      },
      "execution_count": 105,
      "outputs": [
        {
          "output_type": "stream",
          "name": "stderr",
          "text": [
            "<ipython-input-105-0b1339021218>:44: UserWarning: nn.init.xavier_uniform is now deprecated in favor of nn.init.xavier_uniform_.\n",
            "  nn.init.xavier_uniform(l.weight)\n"
          ]
        }
      ]
    },
    {
      "cell_type": "code",
      "source": [
        "fit(train_loader, num_epochs)"
      ],
      "metadata": {
        "colab": {
          "base_uri": "https://localhost:8080/"
        },
        "id": "1uTYkgzrLZWg",
        "outputId": "88fd1cf8-ce1a-4e81-a61e-8abdacd35401"
      },
      "execution_count": 106,
      "outputs": [
        {
          "output_type": "stream",
          "name": "stdout",
          "text": [
            "[Epoch:    1] \t loss = 0.0417 \t time = 15.3232\n",
            "[Epoch:    2] \t loss = 0.0228 \t time = 16.9483\n",
            "[Epoch:    3] \t loss = 0.0191 \t time = 16.2221\n",
            "[Epoch:    4] \t loss = 0.0168 \t time = 16.2997\n",
            "[Epoch:    5] \t loss = 0.0154 \t time = 17.3486\n",
            "[Epoch:    6] \t loss = 0.0145 \t time = 16.4951\n",
            "[Epoch:    7] \t loss = 0.0138 \t time = 16.4331\n",
            "[Epoch:    8] \t loss = 0.0133 \t time = 17.3053\n",
            "[Epoch:    9] \t loss = 0.0129 \t time = 16.5775\n",
            "[Epoch:   10] \t loss = 0.0125 \t time = 17.2858\n",
            "Learning Finished!\n"
          ]
        }
      ]
    },
    {
      "cell_type": "code",
      "source": [
        "# MNIST latent space 시각화 : z 분포 w/ color\n",
        "z = enc(whole_test_images)\n",
        "\n",
        "z_0 = z[whole_test_labels==0]\n",
        "z_1 = z[whole_test_labels==1]\n",
        "z_2 = z[whole_test_labels==2]\n",
        "z_3 = z[whole_test_labels==3]\n",
        "z_4 = z[whole_test_labels==4]\n",
        "z_5 = z[whole_test_labels==5]\n",
        "z_6 = z[whole_test_labels==6]\n",
        "z_7 = z[whole_test_labels==7]\n",
        "z_8 = z[whole_test_labels==8]\n",
        "z_9 = z[whole_test_labels==9]\n",
        "\n",
        "plt.plot(z_0[:,0].detach().cpu().numpy(), z_0[:,1].detach().cpu().numpy(), 'ro')\n",
        "plt.plot(z_1[:,0].detach().cpu().numpy(), z_1[:,1].detach().cpu().numpy(), 'go')\n",
        "plt.plot(z_2[:,0].detach().cpu().numpy(), z_2[:,1].detach().cpu().numpy(), 'bo')"
      ],
      "metadata": {
        "colab": {
          "base_uri": "https://localhost:8080/",
          "height": 0
        },
        "id": "av4SZP1aLac1",
        "outputId": "8d347e9d-4343-4123-b7d3-7947b5b4416a"
      },
      "execution_count": 107,
      "outputs": [
        {
          "output_type": "execute_result",
          "data": {
            "text/plain": [
              "[<matplotlib.lines.Line2D at 0x7e38778a9750>]"
            ]
          },
          "metadata": {},
          "execution_count": 107
        },
        {
          "output_type": "display_data",
          "data": {
            "text/plain": [
              "<Figure size 640x480 with 1 Axes>"
            ],
            "image/png": "[encoded data removed]"
          },
          "metadata": {}
        }
      ]
    },
    {
      "cell_type": "markdown",
      "source": [
        "### n_dim = 2"
      ],
      "metadata": {
        "id": "U4EZZdQPMpAy"
      }
    },
    {
      "cell_type": "code",
      "source": [
        "n_dim = 2\n",
        "\n",
        "enc = nn.Sequential(\n",
        "    nn.Flatten(),\n",
        "    nn.Linear(784, 256),\n",
        "    nn.ReLU(),\n",
        "    nn.Linear(256,128),\n",
        "    nn.ReLU(),\n",
        "    nn.Linear(128,32),\n",
        "    nn.ReLU(),\n",
        "    nn.Linear(32,n_dim)\n",
        ")\n",
        "\n",
        "enc = enc.to(device)\n",
        "\n",
        "# 디코더 정의\n",
        "dec = nn.Sequential(\n",
        "    nn.Linear(n_dim,32),\n",
        "    nn.ReLU(),\n",
        "    nn.Linear(32,256),\n",
        "    nn.ReLU(),\n",
        "    nn.Linear(256,784),\n",
        "    nn.Unflatten(1, torch.Size([1,28,28])),\n",
        "    nn.Sigmoid()\n",
        ")\n",
        "\n",
        "dec = dec.to(device)\n",
        "\n",
        "# auto encoder 정의\n",
        "\n",
        "ae = nn.Sequential(\n",
        "    enc,\n",
        "    dec,\n",
        ")\n",
        "\n",
        "ae = ae.to(device)\n",
        "\n",
        "\n",
        "# ae 파라미터 초기화\n",
        "\n",
        "def init_weights(m):\n",
        "  for l in m.modules():\n",
        "    if isinstance(l, nn.Linear):\n",
        "      nn.init.xavier_uniform(l.weight)\n",
        "\n",
        "ae.apply(init_weights)\n",
        "\n",
        "\n",
        "# 오토인코더 학습\n",
        "\n",
        "optimizer = torch.optim.Adam(ae.parameters(), lr = learning_rate)\n",
        "criterion = nn.MSELoss()\n",
        "\n",
        "# 학습 fit() 함수 구현\n",
        "\n",
        "def fit(data_loader, epochs):\n",
        "  for epoch in range(epochs):\n",
        "    now = time.time()\n",
        "    avg_loss = 0\n",
        "    total_batch = len(data_loader)\n",
        "\n",
        "    for i, (batch_images, batch_labels) in enumerate(data_loader):\n",
        "\n",
        "      X = batch_images.to(device)  # [-1, 1, 28, 28]\n",
        "\n",
        "      # forward 단계\n",
        "      Y_prediction = ae(X)\n",
        "      loss = criterion(Y_prediction, X)\n",
        "\n",
        "\n",
        "      # bacward 단계\n",
        "      optimizer.zero_grad()\n",
        "      loss.backward()\n",
        "      optimizer.step()\n",
        "\n",
        "      avg_loss += loss / total_batch\n",
        "\n",
        "    print(\"[Epoch: {:>4}] \\t loss = {:.4f} \\t time = {:.4f}\"\n",
        "          .format(epoch + 1, avg_loss.data, time.time()-now))\n",
        "\n",
        "  print(\"Learning Finished!\")"
      ],
      "metadata": {
        "colab": {
          "base_uri": "https://localhost:8080/"
        },
        "outputId": "258d8ba2-2460-4f6a-faf0-5ed7df345531",
        "id": "lacvHHqeMpAy"
      },
      "execution_count": 108,
      "outputs": [
        {
          "output_type": "stream",
          "name": "stderr",
          "text": [
            "<ipython-input-108-ab88e395dc00>:44: UserWarning: nn.init.xavier_uniform is now deprecated in favor of nn.init.xavier_uniform_.\n",
            "  nn.init.xavier_uniform(l.weight)\n"
          ]
        }
      ]
    },
    {
      "cell_type": "code",
      "source": [
        "fit(train_loader, num_epochs)"
      ],
      "metadata": {
        "colab": {
          "base_uri": "https://localhost:8080/"
        },
        "outputId": "46285dd7-af4b-4262-cdc6-f62e789d1f30",
        "id": "QriljmEIMpAy"
      },
      "execution_count": 109,
      "outputs": [
        {
          "output_type": "stream",
          "name": "stdout",
          "text": [
            "[Epoch:    1] \t loss = 0.0588 \t time = 17.2401\n",
            "[Epoch:    2] \t loss = 0.0468 \t time = 18.9395\n",
            "[Epoch:    3] \t loss = 0.0433 \t time = 18.4092\n",
            "[Epoch:    4] \t loss = 0.0416 \t time = 19.1001\n",
            "[Epoch:    5] \t loss = 0.0404 \t time = 18.7384\n",
            "[Epoch:    6] \t loss = 0.0397 \t time = 19.2871\n",
            "[Epoch:    7] \t loss = 0.0391 \t time = 19.7443\n",
            "[Epoch:    8] \t loss = 0.0386 \t time = 20.3218\n",
            "[Epoch:    9] \t loss = 0.0383 \t time = 21.5932\n",
            "[Epoch:   10] \t loss = 0.0379 \t time = 22.6341\n",
            "Learning Finished!\n"
          ]
        }
      ]
    },
    {
      "cell_type": "code",
      "source": [
        "# MNIST latent space 시각화 : z 분포 w/ color\n",
        "z = enc(whole_test_images)\n",
        "\n",
        "z_0 = z[whole_test_labels==0]\n",
        "z_1 = z[whole_test_labels==1]\n",
        "z_2 = z[whole_test_labels==2]\n",
        "z_3 = z[whole_test_labels==3]\n",
        "z_4 = z[whole_test_labels==4]\n",
        "z_5 = z[whole_test_labels==5]\n",
        "z_6 = z[whole_test_labels==6]\n",
        "z_7 = z[whole_test_labels==7]\n",
        "z_8 = z[whole_test_labels==8]\n",
        "z_9 = z[whole_test_labels==9]\n",
        "\n",
        "plt.plot(z_0[:,0].detach().cpu().numpy(), z_0[:,1].detach().cpu().numpy(), 'ro')\n",
        "plt.plot(z_1[:,0].detach().cpu().numpy(), z_1[:,1].detach().cpu().numpy(), 'go')\n",
        "plt.plot(z_2[:,0].detach().cpu().numpy(), z_2[:,1].detach().cpu().numpy(), 'bo')"
      ],
      "metadata": {
        "colab": {
          "base_uri": "https://localhost:8080/",
          "height": 448
        },
        "outputId": "7ffdfd46-863b-43e6-9c90-425f7fbf6f1c",
        "id": "uL3SA--UMpAy"
      },
      "execution_count": 110,
      "outputs": [
        {
          "output_type": "execute_result",
          "data": {
            "text/plain": [
              "[<matplotlib.lines.Line2D at 0x7e38777d9ed0>]"
            ]
          },
          "metadata": {},
          "execution_count": 110
        },
        {
          "output_type": "display_data",
          "data": {
            "text/plain": [
              "<Figure size 640x480 with 1 Axes>"
            ],
            "image/png": "[encoded data removed]"
          },
          "metadata": {}
        }
      ]
    },
    {
      "cell_type": "code",
      "source": [
        "z"
      ],
      "metadata": {
        "colab": {
          "base_uri": "https://localhost:8080/"
        },
        "id": "HmzcdXN2Ova5",
        "outputId": "47dceaa1-c613-4e89-965d-1f6ee811534c"
      },
      "execution_count": 111,
      "outputs": [
        {
          "output_type": "execute_result",
          "data": {
            "text/plain": [
              "tensor([[-12.9920,   9.9353],\n",
              "        [ -2.7750,  -8.4973],\n",
              "        [-14.2441,  -8.2215],\n",
              "        ...,\n",
              "        [-12.9740,  15.3084],\n",
              "        [ -7.3995,  23.9040],\n",
              "        [ 24.9431, -26.3221]], grad_fn=<AddmmBackward0>)"
            ]
          },
          "metadata": {},
          "execution_count": 111
        }
      ]
    },
    {
      "cell_type": "markdown",
      "source": [
        "## TODO 03 디코더를 이용한 생성형 모델(Generative Model)"
      ],
      "metadata": {
        "id": "8YPYVxxWPZLf"
      }
    },
    {
      "cell_type": "code",
      "source": [
        "# z 공간의 임의의 위치를 sampling, 랜덤으로 3개 추출\n",
        "num_samples = 3\n",
        "z = torch.randn(num_samples, n_dim).to(device)\n",
        "\n",
        "# 랜덤으로 뽑힌 z를 decoder에 입력으로 주고, result에 저장\n",
        "z = torch.FloatTensor(z).to(device)\n",
        "result = dec(z)\n",
        "\n",
        "print(z.shape)\n",
        "print(result.shape)"
      ],
      "metadata": {
        "colab": {
          "base_uri": "https://localhost:8080/"
        },
        "id": "fgDPbY6yPjKs",
        "outputId": "17580098-127f-4520-d38c-701bd1cc9ba5"
      },
      "execution_count": 150,
      "outputs": [
        {
          "output_type": "stream",
          "name": "stdout",
          "text": [
            "torch.Size([3, 2])\n",
            "torch.Size([3, 1, 28, 28])\n"
          ]
        }
      ]
    },
    {
      "cell_type": "code",
      "source": [
        "# 로딩된 MNIST 데이터 가시화\n",
        "img1 = to_pil_image(result[0].squeeze())\n",
        "img2 = to_pil_image(result[1].squeeze())\n",
        "img3 = to_pil_image(result[2].squeeze())\n",
        "\n",
        "plt.subplot(1,3,1)\n",
        "plt.imshow(img1, cmap='gray')\n",
        "\n",
        "plt.subplot(1,3,2)\n",
        "plt.imshow(img2, cmap='gray')\n",
        "\n",
        "plt.subplot(1,3,3)\n",
        "plt.imshow(img3, cmap='gray')\n",
        "\n",
        "plt.show()"
      ],
      "metadata": {
        "colab": {
          "base_uri": "https://localhost:8080/",
          "height": 0
        },
        "id": "6agKJfuYPhAa",
        "outputId": "de64fcd1-8987-40c8-c248-10fee380791b"
      },
      "execution_count": 151,
      "outputs": [
        {
          "output_type": "display_data",
          "data": {
            "text/plain": [
              "<Figure size 640x480 with 3 Axes>"
            ],
            "image/png": "[encoded data removed]"
          },
          "metadata": {}
        }
      ]
    },
    {
      "cell_type": "markdown",
      "source": [
        "## TODO 04"
      ],
      "metadata": {
        "id": "CP5UlctgWP2c"
      }
    },
    {
      "cell_type": "code",
      "source": [
        "n_dim = 2\n",
        "\n",
        "enc = nn.Sequential(\n",
        "    nn.Conv2d(784, 256, kernel_size=3, stride=2, padding=1),\n",
        "    nn.ReLU(),\n",
        "    nn.Conv2d(256,128, kernel_size=3, stride=2, padding=1),\n",
        "    nn.ReLU(),\n",
        "    nn.Conv2d(128,32, kernel_size=3, stride=2, padding=1),\n",
        "    nn.ReLU(),\n",
        "    nn.Conv2d(32,n_dim, kernel_size=3, stride=2, padding=1)\n",
        ")\n",
        "\n",
        "enc = enc.to(device)\n",
        "\n",
        "# 디코더 정의\n",
        "dec = nn.Sequential(\n",
        "    nn.ConvTranspose2d(n_dim,32),\n",
        "    nn.ReLU(),\n",
        "    nn.ConvTranspose2d(32,256),\n",
        "    nn.ReLU(),\n",
        "    nn.ConvTranspose2d(256,784),\n",
        "    nn.Unflatten(1, torch.Size([1,28,28])),\n",
        "    nn.Sigmoid()\n",
        ")\n",
        "\n",
        "dec = dec.to(device)\n",
        "\n",
        "# auto encoder 정의\n",
        "\n",
        "ae = nn.Sequential(\n",
        "    enc,\n",
        "    dec,\n",
        ")\n",
        "\n",
        "ae = ae.to(device)"
      ],
      "metadata": {
        "id": "YuemaF9LPvTG"
      },
      "execution_count": null,
      "outputs": []
    },
    {
      "cell_type": "code",
      "source": [
        "conv_enc = nn.Sequential(\n",
        "            nn.Conv2d(1, 16, kernel_size=3, stride=2, padding=1),\n",
        "            nn.ReLU(),\n",
        "            nn.Conv2d(16, 32, kernel_size=3, stride=2, padding=1),\n",
        "            nn.ReLU(),)\n",
        "conv_enc = conv_enc.to(device)\n",
        "\n",
        "\n",
        "conv_dec = nn.Sequential(\n",
        "            nn.ConvTranspose2d(32, 16, kernel_size=3, stride=2, padding=1, output_padding=1),  # 입력 이미지 채널: 32, 출력 이미지 채널: 16, 커널 사이즈: 3x3\n",
        "            nn.ReLU(),\n",
        "            nn.ConvTranspose2d(16, 1, kernel_size=3, stride=2, padding=1, output_padding=1),  # 입력 이미지 채널: 16, 출력 이미지 채널: 1, 커널 사이즈: 3x3\n",
        "            nn.Sigmoid(),\n",
        ")\n",
        "conv_dec = conv_dec.to(device)\n",
        "\n",
        "conv_ae = nn.Sequential(\n",
        "    conv_enc,\n",
        "    conv_dec,\n",
        ")\n"
      ],
      "metadata": {
        "id": "GQn35XTPa0X3"
      },
      "execution_count": 152,
      "outputs": []
    },
    {
      "cell_type": "code",
      "source": [
        "# 오토인코더 학습\n",
        "\n",
        "optimizer = torch.optim.Adam(conv_ae.parameters(), lr = learning_rate)\n",
        "criterion = nn.MSELoss()\n",
        "\n",
        "# 학습 fit() 함수 구현\n",
        "\n",
        "def fit(data_loader, epochs):\n",
        "  for epoch in range(epochs):\n",
        "    now = time.time()\n",
        "    avg_loss = 0\n",
        "    total_batch = len(data_loader)\n",
        "\n",
        "    for i, (batch_images, batch_labels) in enumerate(data_loader):\n",
        "\n",
        "      X = batch_images.to(device)  # [-1, 1, 28, 28]\n",
        "\n",
        "      # forward 단계\n",
        "      Y_prediction = conv_ae(X)\n",
        "      loss = criterion(Y_prediction, X)\n",
        "\n",
        "\n",
        "      # bacward 단계\n",
        "      optimizer.zero_grad()\n",
        "      loss.backward()\n",
        "      optimizer.step()\n",
        "\n",
        "      avg_loss += loss / total_batch\n",
        "\n",
        "    print(\"[Epoch: {:>4}] \\t loss = {:.4f} \\t time = {:.4f}\"\n",
        "          .format(epoch + 1, avg_loss.data, time.time()-now))\n",
        "\n",
        "  print(\"Learning Finished!\")"
      ],
      "metadata": {
        "id": "huFy8SbCbZDw"
      },
      "execution_count": 153,
      "outputs": []
    },
    {
      "cell_type": "code",
      "source": [
        "fit(train_loader, num_epochs)"
      ],
      "metadata": {
        "colab": {
          "base_uri": "https://localhost:8080/"
        },
        "id": "4sV76Ge1bTn6",
        "outputId": "84a65528-29d0-42fe-bd0e-8c90c48bdeb5"
      },
      "execution_count": 154,
      "outputs": [
        {
          "output_type": "stream",
          "name": "stdout",
          "text": [
            "[Epoch:    1] \t loss = 0.0230 \t time = 29.6432\n",
            "[Epoch:    2] \t loss = 0.0013 \t time = 30.7268\n",
            "[Epoch:    3] \t loss = 0.0009 \t time = 26.6860\n",
            "[Epoch:    4] \t loss = 0.0007 \t time = 27.7922\n",
            "[Epoch:    5] \t loss = 0.0006 \t time = 26.7564\n",
            "[Epoch:    6] \t loss = 0.0006 \t time = 27.0712\n",
            "[Epoch:    7] \t loss = 0.0005 \t time = 27.6378\n",
            "[Epoch:    8] \t loss = 0.0005 \t time = 27.3524\n",
            "[Epoch:    9] \t loss = 0.0004 \t time = 26.1260\n",
            "[Epoch:   10] \t loss = 0.0004 \t time = 29.8119\n",
            "Learning Finished!\n"
          ]
        }
      ]
    },
    {
      "cell_type": "code",
      "source": [
        "import matplotlib.pyplot as plt\n",
        "from torchvision.transforms.functional import to_pil_image\n",
        "import ipywidgets as widgets\n",
        "\n",
        "def test_dataset_imshow(idx):\n",
        "  (image, label) = test_dataset[idx]\n",
        "  print('GT label:', label)\n",
        "\n",
        "  X      = torch.unsqueeze(image, 0).to(device) # batch size = 1\n",
        "  Y_pred = conv_ae(X)\n",
        "\n",
        "  input_img  = to_pil_image(X.squeeze())\n",
        "  output_img = to_pil_image(Y_pred.squeeze())\n",
        "\n",
        "  plt.subplot(121)\n",
        "  plt.imshow(input_img, cmap='gray')\n",
        "\n",
        "  plt.subplot(122)\n",
        "  plt.imshow(output_img, cmap='gray')\n",
        "\n",
        "  plt.show()\n",
        "\n",
        "widgets.interact(test_dataset_imshow, idx=widgets.IntSlider(min=0, max=len(test_dataset)-1, continuous_update=False))"
      ],
      "metadata": {
        "colab": {
          "base_uri": "https://localhost:8080/",
          "height": 424,
          "referenced_widgets": [
            "061a8a58eb5d494ca084731f344cf18f",
            "d87870d2de1a4706a15caa6c028d225a",
            "1692cc56221542e8b1a3f5e762f64cb0",
            "e3aee05897644dfc8b8e1f7fffc6d924",
            "04b55ad971ac4900a0b746163cd1df78",
            "26236acab70549fe8cbcbd09cbe0160c",
            "e125fe98a1024ad1bfa4ace793f66f8b"
          ]
        },
        "id": "SRRLpIRPbpiE",
        "outputId": "414e09ee-b8f0-4313-b1fc-cc5e8cd18fc3"
      },
      "execution_count": 155,
      "outputs": [
        {
          "output_type": "display_data",
          "data": {
            "text/plain": [
              "interactive(children=(IntSlider(value=0, continuous_update=False, description='idx', max=9999), Output()), _do…"
            ],
            "application/vnd.jupyter.widget-view+json": {
              "version_major": 2,
              "version_minor": 0,
              "model_id": "061a8a58eb5d494ca084731f344cf18f"
            }
          },
          "metadata": {}
        },
        {
          "output_type": "execute_result",
          "data": {
            "text/plain": [
              "<function __main__.test_dataset_imshow(idx)>"
            ],
            "text/html": [
              "<div style=\"max-width:800px; border: 1px solid var(--colab-border-color);\"><style>\n",
              "      pre.function-repr-contents {\n",
              "        overflow-x: auto;\n",
              "        padding: 8px 12px;\n",
              "        max-height: 500px;\n",
              "      }\n",
              "\n",
              "      pre.function-repr-contents.function-repr-contents-collapsed {\n",
              "        cursor: pointer;\n",
              "        max-height: 100px;\n",
              "      }\n",
              "    </style>\n",
              "    <pre style=\"white-space: initial; background:\n",
              "         var(--colab-secondary-surface-color); padding: 8px 12px;\n",
              "         border-bottom: 1px solid var(--colab-border-color);\"><b>test_dataset_imshow</b><br/>def test_dataset_imshow(idx)</pre><pre class=\"function-repr-contents function-repr-contents-collapsed\" style=\"\"><a class=\"filepath\" style=\"display:none\" href=\"#\">/content/&lt;ipython-input-155-0a1bcc530329&gt;</a>&lt;no docstring&gt;</pre></div>"
            ]
          },
          "metadata": {},
          "execution_count": 155
        }
      ]
    }
  ]
}