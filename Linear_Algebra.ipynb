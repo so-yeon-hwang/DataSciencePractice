{
  "nbformat": 4,
  "nbformat_minor": 0,
  "metadata": {
    "colab": {
      "provenance": [],
      "authorship_tag": "ABX9TyO4sElueTg6FwD6IAPkHmRq",
      "include_colab_link": true
    },
    "kernelspec": {
      "name": "python3",
      "display_name": "Python 3"
    },
    "language_info": {
      "name": "python"
    }
  },
  "cells": [
    {
      "cell_type": "markdown",
      "metadata": {
        "id": "view-in-github",
        "colab_type": "text"
      },
      "source": [
        "<a href=\"https://colab.research.google.com/github/so-yeon-hwang/DataSciencePractice/blob/main/Linear_Algebra.ipynb\" target=\"_parent\"><img src=\"https://colab.research.google.com/assets/colab-badge.svg\" alt=\"Open In Colab\"/></a>"
      ]
    },
    {
      "cell_type": "code",
      "execution_count": null,
      "metadata": {
        "id": "EVQEnSvibnMC"
      },
      "outputs": [],
      "source": [
        "import numpy as np\n",
        "from scipy.optimize import curve_fit\n",
        "import matplotlib.pyplot as plt"
      ]
    },
    {
      "cell_type": "code",
      "source": [
        "x_data = np.array([0, 1, 2, 0, 0])\n",
        "y_data = np.array([0, 0, 0, 1, 2])"
      ],
      "metadata": {
        "id": "HfGRuZAzbnrd"
      },
      "execution_count": null,
      "outputs": []
    },
    {
      "cell_type": "code",
      "source": [
        "x_data = np.array([0, 1, 2, 0, 0])\n",
        "y_data = np.array([0, 0, 0, 1, 2])\n",
        "\n",
        "def polynomial_function(x,y,a,b,c,d,e,f,g):\n",
        "    return a + b*x + c*y + d * x**2 + e*x*y + f * y**2\n",
        "\n",
        "params, covariance = curve_fit(polynomial_function, x_data, y_data)\n",
        "a, b, c, d, e, f = params"
      ],
      "metadata": {
        "id": "fr3oa_11b16o"
      },
      "execution_count": null,
      "outputs": []
    },
    {
      "cell_type": "code",
      "source": [
        "import numpy as np\n",
        "\n",
        "# 3x3 행렬 정의\n",
        "matrix = np.array([[1, 0, 2],\n",
        "                  [-3, 1, 4],\n",
        "                  [2, -3, 4]])\n",
        "\n",
        "# 역행렬을 구하기 전에 역행렬이 존재하는지 확인합니다.\n",
        "determinant = np.linalg.det(matrix)\n",
        "print('determinant :',determinant)\n",
        "\n",
        "if determinant != 0:\n",
        "    # 역행렬을 계산\n",
        "    inverse_matrix = np.linalg.inv(matrix)\n",
        "    print(\"역행렬:\\n\", inverse_matrix)\n",
        "else:\n",
        "    print(\"역행렬이 존재하지 않습니다. (행렬식이 0입니다.)\")\n"
      ],
      "metadata": {
        "colab": {
          "base_uri": "https://localhost:8080/"
        },
        "id": "yZU4lwnMdk_W",
        "outputId": "6fcaf2e1-22d9-4208-fc05-4b90ec7d7b9b"
      },
      "execution_count": null,
      "outputs": [
        {
          "output_type": "stream",
          "name": "stdout",
          "text": [
            "determinant : 30.000000000000004\n",
            "역행렬:\n",
            " [[ 5.33333333e-01 -2.00000000e-01 -6.66666667e-02]\n",
            " [ 6.66666667e-01 -4.75809868e-17 -3.33333333e-01]\n",
            " [ 2.33333333e-01  1.00000000e-01  3.33333333e-02]]\n"
          ]
        }
      ]
    },
    {
      "cell_type": "code",
      "source": [
        "determinant = np.linalg.det(matrix)"
      ],
      "metadata": {
        "id": "d9SUkpJvvvbE"
      },
      "execution_count": null,
      "outputs": []
    },
    {
      "cell_type": "code",
      "source": [
        "determinant"
      ],
      "metadata": {
        "colab": {
          "base_uri": "https://localhost:8080/"
        },
        "id": "GyNnht0Cv0PD",
        "outputId": "bd2cd3cb-be51-434b-ab8d-4213c9717615"
      },
      "execution_count": null,
      "outputs": [
        {
          "output_type": "execute_result",
          "data": {
            "text/plain": [
              "30.000000000000004"
            ]
          },
          "metadata": {},
          "execution_count": 18
        }
      ]
    },
    {
      "cell_type": "code",
      "source": [
        "matrix = np.array([[1,2,-1],\n",
        "                  [-4,-7,3],\n",
        "                  [-2,-6,4]])"
      ],
      "metadata": {
        "id": "ByJAUeavv07u"
      },
      "execution_count": null,
      "outputs": []
    },
    {
      "cell_type": "code",
      "source": [
        "determinant = np.linalg.det(matrix)"
      ],
      "metadata": {
        "id": "Vygjdm_Xv-X-"
      },
      "execution_count": null,
      "outputs": []
    },
    {
      "cell_type": "code",
      "source": [
        "determinant"
      ],
      "metadata": {
        "colab": {
          "base_uri": "https://localhost:8080/"
        },
        "id": "X1dMDtxKv_cb",
        "outputId": "82670fd2-d034-449a-d15b-0e070f543ef2"
      },
      "execution_count": null,
      "outputs": [
        {
          "output_type": "execute_result",
          "data": {
            "text/plain": [
              "0.0"
            ]
          },
          "metadata": {},
          "execution_count": 21
        }
      ]
    },
    {
      "cell_type": "code",
      "source": [
        "import numpy as np\n",
        "\n",
        "# 3x1 열벡터\n",
        "A = np.array([[2],\n",
        "              [4],\n",
        "              [1]])\n",
        "\n",
        "# 1x3 행벡터\n",
        "B = np.array([[1,3,2]])\n",
        "\n",
        "# 외적 계산\n",
        "C = np.dot(A, B)\n",
        "\n",
        "print(C)"
      ],
      "metadata": {
        "id": "WTTlaaYcwAbM",
        "colab": {
          "base_uri": "https://localhost:8080/"
        },
        "outputId": "4ec83146-1a17-4dae-c62e-52dbfd51796b"
      },
      "execution_count": null,
      "outputs": [
        {
          "output_type": "stream",
          "name": "stdout",
          "text": [
            "[[ 2  6  4]\n",
            " [ 4 12  8]\n",
            " [ 1  3  2]]\n"
          ]
        }
      ]
    }
  ]
}