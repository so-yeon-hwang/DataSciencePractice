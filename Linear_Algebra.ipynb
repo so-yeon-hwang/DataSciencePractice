{
  "nbformat": 4,
  "nbformat_minor": 0,
  "metadata": {
    "colab": {
      "provenance": [],
      "authorship_tag": "ABX9TyPrB3t1v6zBPeLZdDm2lg3v",
      "include_colab_link": true
    },
    "kernelspec": {
      "name": "python3",
      "display_name": "Python 3"
    },
    "language_info": {
      "name": "python"
    }
  },
  "cells": [
    {
      "cell_type": "markdown",
      "metadata": {
        "id": "view-in-github",
        "colab_type": "text"
      },
      "source": [
        "<a href=\"https://colab.research.google.com/github/so-yeon-hwang/DataSciencePractice/blob/main/Linear_Algebra.ipynb\" target=\"_parent\"><img src=\"https://colab.research.google.com/assets/colab-badge.svg\" alt=\"Open In Colab\"/></a>"
      ]
    },
    {
      "cell_type": "code",
      "execution_count": 1,
      "metadata": {
        "id": "EVQEnSvibnMC"
      },
      "outputs": [],
      "source": [
        "import numpy as np\n",
        "from scipy.optimize import curve_fit\n",
        "import matplotlib.pyplot as plt"
      ]
    },
    {
      "cell_type": "markdown",
      "source": [
        "![image.png](data:image/png;base64,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)"
      ],
      "metadata": {
        "id": "taIn4hyGbr5a"
      }
    },
    {
      "cell_type": "code",
      "source": [
        "x_data = np.array([0, 1, 2, 0, 0])\n",
        "y_data = np.array([0, 0, 0, 1, 2])"
      ],
      "metadata": {
        "id": "HfGRuZAzbnrd"
      },
      "execution_count": 2,
      "outputs": []
    },
    {
      "cell_type": "code",
      "source": [
        "x_data = np.array([0, 1, 2, 0, 0])\n",
        "y_data = np.array([0, 0, 0, 1, 2])\n",
        "\n",
        "def polynomial_function(x,y,a,b,c,d,e,f,g):\n",
        "    return a + b*x + c*y + d * x**2 + e*x*y + f * y**2\n",
        "\n",
        "params, covariance = curve_fit(polynomial_function, x_data, y_data)\n",
        "a, b, c, d, e, f = params"
      ],
      "metadata": {
        "id": "fr3oa_11b16o"
      },
      "execution_count": 7,
      "outputs": []
    },
    {
      "cell_type": "code",
      "source": [
        "import numpy as np\n",
        "from scipy.optimize import curve_fit\n",
        "import matplotlib.pyplot as plt\n",
        "\n",
        "# 주어진 데이터 포인트\n",
        "x_data = np.array([0, 1, 2, 0, 0])\n",
        "y_data = np.array([0, 0, 0, 1, 2])\n",
        "f_data = np.array([a + b*x + c*y + d*x**2 + e*x*y + f*y**2 for x, y in zip(x_data, y_data)])\n",
        "\n",
        "# 다항식 함수 정의\n",
        "def polynomial_function(coords, a, b, c, d, e, f):\n",
        "    x, y = coords\n",
        "    return a + b * x + c * y + d * x**2 + e * x * y + f * y**2\n",
        "\n",
        "# Curve fitting 수행\n",
        "params, covariance = curve_fit(polynomial_function, (x_data, y_data), f_data)\n",
        "a, b, c, d, e, f = params\n",
        "\n",
        "# 적합된 다항식 함수 정의\n",
        "def fitted_function(x, y):\n",
        "    return a + b * x + c * y + d * x**2 + e * x * y + f * y**2\n",
        "\n",
        "# 적합된 곡선 그리기\n",
        "x_fit = np.linspace(0, 2, 100)\n",
        "y_fit = np.linspace(0, 2, 100)\n",
        "X, Y = np.meshgrid(x_fit, y_fit)\n",
        "Z = fitted_function(X, Y)\n",
        "\n",
        "plt.figure()\n",
        "plt.contourf(X, Y, Z, 20, cmap='RdGy')\n",
        "plt.colorbar()\n",
        "plt.scatter(x_data, y_data, label='데이터 포인트', color='red')\n",
        "plt.xlabel('X')\n",
        "plt.ylabel('Y')\n",
        "plt.title('다항식 곡선 맞춤 결과')\n",
        "plt.show()\n"
      ],
      "metadata": {
        "id": "N2CGoBRecTpf"
      },
      "execution_count": null,
      "outputs": []
    },
    {
      "cell_type": "code",
      "source": [
        "import numpy as np\n",
        "\n",
        "# 3x3 행렬 정의\n",
        "matrix = np.array([[1, 0, 2],\n",
        "                  [-3, 1, 4],\n",
        "                  [2, -3, 4]])\n",
        "\n",
        "# 역행렬을 구하기 전에 역행렬이 존재하는지 확인합니다.\n",
        "determinant = np.linalg.det(matrix)\n",
        "print('determinant :',determinant)\n",
        "\n",
        "if determinant != 0:\n",
        "    # 역행렬을 계산\n",
        "    inverse_matrix = np.linalg.inv(matrix)\n",
        "    print(\"역행렬:\\n\", inverse_matrix)\n",
        "else:\n",
        "    print(\"역행렬이 존재하지 않습니다. (행렬식이 0입니다.)\")\n"
      ],
      "metadata": {
        "colab": {
          "base_uri": "https://localhost:8080/"
        },
        "id": "yZU4lwnMdk_W",
        "outputId": "6fcaf2e1-22d9-4208-fc05-4b90ec7d7b9b"
      },
      "execution_count": 24,
      "outputs": [
        {
          "output_type": "stream",
          "name": "stdout",
          "text": [
            "determinant : 30.000000000000004\n",
            "역행렬:\n",
            " [[ 5.33333333e-01 -2.00000000e-01 -6.66666667e-02]\n",
            " [ 6.66666667e-01 -4.75809868e-17 -3.33333333e-01]\n",
            " [ 2.33333333e-01  1.00000000e-01  3.33333333e-02]]\n"
          ]
        }
      ]
    },
    {
      "cell_type": "code",
      "source": [
        "determinant = np.linalg.det(matrix)"
      ],
      "metadata": {
        "id": "d9SUkpJvvvbE"
      },
      "execution_count": 17,
      "outputs": []
    },
    {
      "cell_type": "code",
      "source": [
        "determinant"
      ],
      "metadata": {
        "colab": {
          "base_uri": "https://localhost:8080/"
        },
        "id": "GyNnht0Cv0PD",
        "outputId": "bd2cd3cb-be51-434b-ab8d-4213c9717615"
      },
      "execution_count": 18,
      "outputs": [
        {
          "output_type": "execute_result",
          "data": {
            "text/plain": [
              "30.000000000000004"
            ]
          },
          "metadata": {},
          "execution_count": 18
        }
      ]
    },
    {
      "cell_type": "code",
      "source": [
        "matrix = np.array([[1,2,-1],\n",
        "                  [-4,-7,3],\n",
        "                  [-2,-6,4]])"
      ],
      "metadata": {
        "id": "ByJAUeavv07u"
      },
      "execution_count": 19,
      "outputs": []
    },
    {
      "cell_type": "code",
      "source": [
        "determinant = np.linalg.det(matrix)"
      ],
      "metadata": {
        "id": "Vygjdm_Xv-X-"
      },
      "execution_count": 20,
      "outputs": []
    },
    {
      "cell_type": "code",
      "source": [
        "determinant"
      ],
      "metadata": {
        "colab": {
          "base_uri": "https://localhost:8080/"
        },
        "id": "X1dMDtxKv_cb",
        "outputId": "82670fd2-d034-449a-d15b-0e070f543ef2"
      },
      "execution_count": 21,
      "outputs": [
        {
          "output_type": "execute_result",
          "data": {
            "text/plain": [
              "0.0"
            ]
          },
          "metadata": {},
          "execution_count": 21
        }
      ]
    },
    {
      "cell_type": "code",
      "source": [],
      "metadata": {
        "id": "WTTlaaYcwAbM"
      },
      "execution_count": null,
      "outputs": []
    }
  ]
}