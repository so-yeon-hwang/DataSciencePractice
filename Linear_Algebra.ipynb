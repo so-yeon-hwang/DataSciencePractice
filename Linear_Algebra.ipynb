{
  "nbformat": 4,
  "nbformat_minor": 0,
  "metadata": {
    "colab": {
      "provenance": [],
      "authorship_tag": "ABX9TyPkIs1Pq+KeQJjFUGR4DW0Q",
      "include_colab_link": true
    },
    "kernelspec": {
      "name": "python3",
      "display_name": "Python 3"
    },
    "language_info": {
      "name": "python"
    }
  },
  "cells": [
    {
      "cell_type": "markdown",
      "metadata": {
        "id": "view-in-github",
        "colab_type": "text"
      },
      "source": [
        "<a href=\"https://colab.research.google.com/github/so-yeon-hwang/DataSciencePractice/blob/main/Linear_Algebra.ipynb\" target=\"_parent\"><img src=\"https://colab.research.google.com/assets/colab-badge.svg\" alt=\"Open In Colab\"/></a>"
      ]
    },
    {
      "cell_type": "code",
      "source": [
        "# 문제 : 유일한 해를 갖는 세개의 연립방정식의 해를 가우스 소거법 + 후진대입법을 통해 구하기"
      ],
      "metadata": {
        "id": "aoRFV5lo7Jqs"
      },
      "execution_count": null,
      "outputs": []
    },
    {
      "cell_type": "code",
      "source": [
        "import numpy as np\n",
        "\n",
        "# 가우소 소거법\n",
        "def gaussian_elimination(matrix, vector):\n",
        "    n = len(vector)\n",
        "    augmented_matrix = np.column_stack((matrix.astype(float), vector.astype(float)))\n",
        "\n",
        "    for i in range(n):\n",
        "        if augmented_matrix[i, i] == 0:\n",
        "            non_zero_row = np.argmax(np.abs(augmented_matrix[i:, i])) + i\n",
        "            augmented_matrix[[i, non_zero_row]] = augmented_matrix[[non_zero_row, i]]\n",
        "\n",
        "        for j in range(i + 1, n):\n",
        "            factor = augmented_matrix[j, i] / augmented_matrix[i, i]\n",
        "            augmented_matrix[j, :] -= factor * augmented_matrix[i, :]\n",
        "\n",
        "    return augmented_matrix\n",
        "\n",
        "# 후진대입법\n",
        "def back_substitution(matrix):\n",
        "    n = len(matrix)\n",
        "    x = np.zeros(n)\n",
        "\n",
        "    for i in range(n - 1, -1, -1):\n",
        "        x[i] = matrix[i, -1] / matrix[i, i]\n",
        "        for j in range(i - 1, -1, -1):\n",
        "            matrix[j, -1] -= matrix[j, i] * x[i]\n",
        "\n",
        "    return x\n",
        "\n",
        "# 함수 생성\n",
        "def solve_system_of_equations(matrix, vector):\n",
        "    augmented_matrix = gaussian_elimination(matrix, vector)\n",
        "    solution = back_substitution(augmented_matrix)\n",
        "    return solution\n",
        "\n",
        "# 주어진 연립방정식 대입\n",
        "# 계수행렬\n",
        "A = np.array([[1,1,2],\n",
        "              [2,4,-3],\n",
        "              [3,6,-5]])\n",
        "\n",
        "# 상수행렬\n",
        "B = np.array([9,1,0])\n",
        "\n",
        "# 결과 출력\n",
        "result = solve_system_of_equations(A, B)\n",
        "print(\"연립방정식의 해:\", result)\n"
      ],
      "metadata": {
        "colab": {
          "base_uri": "https://localhost:8080/"
        },
        "id": "kVA0cBC4COLk",
        "outputId": "d50e108d-4944-4c54-b646-61abc74017b0"
      },
      "execution_count": 8,
      "outputs": [
        {
          "output_type": "stream",
          "name": "stdout",
          "text": [
            "연립방정식의 해: [1. 2. 3.]\n"
          ]
        }
      ]
    }
  ]
}