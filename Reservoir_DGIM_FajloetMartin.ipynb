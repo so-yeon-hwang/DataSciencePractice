{
  "nbformat": 4,
  "nbformat_minor": 0,
  "metadata": {
    "colab": {
      "provenance": [],
      "toc_visible": true,
      "authorship_tag": "ABX9TyON9ruMhA98ApNMmnTSbmE8",
      "include_colab_link": true
    },
    "kernelspec": {
      "name": "python3",
      "display_name": "Python 3"
    },
    "language_info": {
      "name": "python"
    }
  },
  "cells": [
    {
      "cell_type": "markdown",
      "metadata": {
        "id": "view-in-github",
        "colab_type": "text"
      },
      "source": [
        "<a href=\"https://colab.research.google.com/github/so-yeon-hwang/DataSciencePractice/blob/main/Reservoir_DGIM_FajloetMartin.ipynb\" target=\"_parent\"><img src=\"https://colab.research.google.com/assets/colab-badge.svg\" alt=\"Open In Colab\"/></a>"
      ]
    },
    {
      "cell_type": "markdown",
      "source": [
        "# Task1"
      ],
      "metadata": {
        "id": "R8omK7MlQA6c"
      }
    },
    {
      "cell_type": "code",
      "execution_count": null,
      "metadata": {
        "colab": {
          "base_uri": "https://localhost:8080/"
        },
        "id": "yztCsR2QRCZM",
        "outputId": "d8157b47-d745-4897-8932-70d246aaee57"
      },
      "outputs": [
        {
          "output_type": "stream",
          "name": "stdout",
          "text": [
            "배열의 크기(사용자 지정): 5\n",
            "sampler_0: [27]\n",
            "sampler_1: [58]\n",
            "sampler_2: [15]\n",
            "sampler_3: [15]\n",
            "sampler_4: [54]\n"
          ]
        }
      ],
      "source": [
        "import random\n",
        "\n",
        "class Reservoir:\n",
        "    def __init__(self, k):  # 몇개 뽑을 것인가?\n",
        "        self.size = k\n",
        "        self.data = [None] * k\n",
        "        self.cnt = 0\n",
        "\n",
        "    def add(self, x):\n",
        "        if self.cnt < self.size:  # 아직 배열 안채워짐\n",
        "            self.data[self.cnt] = x\n",
        "        else:  # 사이즈보다 넘었다. 이미 k개의 칸이 다 찼으니 주사위 돌리기\n",
        "            c = random.randint(0, self.cnt)  # c chance\n",
        "            if c < self.size:\n",
        "                self.data[c] = x\n",
        "            else:\n",
        "                pass  # box 안 변화 없음\n",
        "        self.cnt += 1\n",
        "\n",
        "    def get_samples(self):\n",
        "        return self.data[:self.cnt]\n",
        "\n",
        "\n",
        "k = int(input('배열의 크기(사용자 지정): '))\n",
        "samplers = {}\n",
        "\n",
        "# 사이즈 1짜리 Reservoir Sampling algorithm k개가 돌아간다\n",
        "for i in range(k):\n",
        "    samplers[\"sampler_{}\".format(i)] = Reservoir(1)\n",
        "\n",
        "for i in range(100):\n",
        "    for j in range(k):\n",
        "        samplers[\"sampler_{}\".format(j)].add(i)\n",
        "\n",
        "# 결과 출력\n",
        "for key, sampler in samplers.items():\n",
        "    print(f\"{key}: {sampler.get_samples()}\")\n"
      ]
    },
    {
      "cell_type": "markdown",
      "source": [
        "# Task2"
      ],
      "metadata": {
        "id": "i9C7GtXCUwcB"
      }
    },
    {
      "cell_type": "code",
      "source": [
        "class Block:\n",
        "    def __init__(self, ts, te, sum_value):\n",
        "        self.ts = ts\n",
        "        self.te = te\n",
        "        self.sum_value = sum_value\n",
        "\n",
        "    def __str__(self):\n",
        "        return f\"({self.ts}, {self.te}, {self.sum_value})\"\n",
        "\n",
        "    def __repr__(self):\n",
        "        return f\"({self.ts}, {self.te}, {self.sum_value})\"\n",
        "\n",
        "\n",
        "class DGIM_Method1:\n",
        "    def __init__(self, max_bits):\n",
        "        self.levels = []\n",
        "        self.timestamp = 0\n",
        "        self.max_bits = max_bits\n",
        "\n",
        "    def add_integer(self, num):  # Add an integer by breaking it into bits\n",
        "        bit_representation = f'{num:0{self.max_bits}b}'\n",
        "        for bit in bit_representation:\n",
        "            self.add_bit(int(bit))\n",
        "\n",
        "    def add_bit(self, bit): # bit = 0 or 1\n",
        "        self.timestamp += 1\n",
        "\n",
        "        if bit == 0:\n",
        "            return\n",
        "\n",
        "        lv = 0\n",
        "        ts = self.timestamp - 1\n",
        "        te = self.timestamp\n",
        "\n",
        "        while True:\n",
        "            if len(self.levels) == lv:\n",
        "                self.levels.append([])\n",
        "\n",
        "            if len(self.levels[lv]) < 2:\n",
        "                self.levels[lv].append(Block(ts, te, 1))\n",
        "                return\n",
        "            elif len(self.levels[lv]) == 2:\n",
        "                new_block = Block(ts, te, 1)\n",
        "                ts = self.levels[lv][0].ts\n",
        "                te = self.levels[lv][1].te\n",
        "\n",
        "                self.levels[lv].clear()\n",
        "                self.levels[lv].append(new_block)\n",
        "\n",
        "                lv += 1\n",
        "\n",
        "    def sum_last_k_integers(self, int_stream, k):\n",
        "        bit_count = k * self.max_bits\n",
        "        bit_stream = int_stream_to_bit_stream(int_stream[-k:], self.max_bits)\n",
        "        self.__init__(self.max_bits)\n",
        "        for bit in bit_stream:\n",
        "            self.add_bit(bit)\n",
        "\n",
        "        total_bits = self.sum_last_k_bits(bit_count)\n",
        "        return total_bits\n",
        "\n",
        "    def sum_last_k_bits(self, k):\n",
        "        tt = self.timestamp - k\n",
        "        sum_value = 0\n",
        "        for lv, blocks in enumerate(self.levels):\n",
        "            for blk in reversed(blocks):\n",
        "                if tt <= blk.ts:\n",
        "                    sum_value += (1 << lv)\n",
        "                elif tt < blk.te:\n",
        "                    fraction = (blk.te - tt) / (blk.te - blk.ts)\n",
        "                    sum_value += (1 << lv) * fraction\n",
        "                    return sum_value\n",
        "                else:\n",
        "                    return sum_value\n",
        "\n",
        "        return sum_value\n",
        "\n",
        "\n",
        "class DGIM_Method2:\n",
        "    def __init__(self):\n",
        "        self.levels = []\n",
        "        self.timestamp = 0\n",
        "        self.current_block = None\n",
        "\n",
        "    def add(self, x): # x = integer (0 or positive integer)\n",
        "        self.timestamp += 1\n",
        "\n",
        "        if x == 0:\n",
        "            return\n",
        "\n",
        "        if self.current_block is None:\n",
        "            self.current_block = Block(self.timestamp - 1, self.timestamp, x)\n",
        "        else:\n",
        "            self.current_block.te += 1\n",
        "            self.current_block.sum_value += x\n",
        "\n",
        "        lv = 0\n",
        "        while True:\n",
        "            if len(self.levels) == lv:\n",
        "                self.levels.append([])\n",
        "\n",
        "            if len(self.levels[lv]) < 2:\n",
        "                self.levels[lv].append(self.current_block)\n",
        "                self.current_block = None\n",
        "                return\n",
        "            elif len(self.levels[lv]) == 2:\n",
        "                new_block = Block(self.current_block.ts, self.current_block.te, self.current_block.sum_value)\n",
        "                ts = self.levels[lv][0].ts\n",
        "                te = self.levels[lv][1].te\n",
        "                sum_value = self.levels[lv][0].sum_value + self.levels[lv][1].sum_value\n",
        "\n",
        "                self.levels[lv].clear()\n",
        "                self.levels[lv].append(new_block)\n",
        "\n",
        "                self.current_block = Block(ts, te, sum_value)\n",
        "                lv += 1\n",
        "\n",
        "    def sum_last_k_integers(self, k):\n",
        "        tt = self.timestamp - k\n",
        "        sum_value = 0\n",
        "        for lv, blocks in enumerate(self.levels):\n",
        "            for blk in reversed(blocks):\n",
        "                if tt <= blk.ts:\n",
        "                    sum_value += blk.sum_value\n",
        "                elif tt < blk.te:\n",
        "                    fraction = (blk.te - tt) / (blk.te - blk.ts)\n",
        "                    sum_value += blk.sum_value * fraction\n",
        "                    return sum_value\n",
        "                else:\n",
        "                    return sum_value\n",
        "\n",
        "        return sum_value\n",
        "\n",
        "\n",
        "# integer -> bit stream\n",
        "def int_stream_to_bit_stream(int_stream, max_bits):\n",
        "    bit_stream = []\n",
        "    for number in int_stream:\n",
        "        bit_representation = f'{number:0{max_bits}b}'\n",
        "        bit_stream.extend(int(bit) for bit in bit_representation)\n",
        "    return bit_stream\n"
      ],
      "metadata": {
        "id": "LYBhvaYnGHzD"
      },
      "execution_count": null,
      "outputs": []
    },
    {
      "cell_type": "code",
      "source": [
        "# Test both methods\n",
        "int_stream = [2, 3, 4, 5, 0, 5, 4, 5, 7, 4, 3, 0, 4, 6, 0, 1, 2, 3, 5, 6, 0, 7, 3, 2, 2, 1, 4, 0, 5, 2, 3]\n",
        "max_bits = 4  # Assuming the maximum integer is 15, so we need 4 bits to represent it\n",
        "\n",
        "dgim1 = DGIM_Method1(max_bits)\n",
        "dgim2 = DGIM_Method2()\n",
        "\n",
        "k = 5\n",
        "\n",
        "for number in int_stream:\n",
        "    dgim1.add_integer(number)\n",
        "    dgim2.add(number)\n",
        "\n",
        "print(\"Method 1 - Estimated sum of the last\", k, \"integers:\", dgim1.sum_last_k_integers(int_stream, k))\n",
        "print(\"Method 2 - Estimated sum of the last\", k, \"integers:\", dgim2.sum_last_k_integers(k))\n"
      ],
      "metadata": {
        "colab": {
          "base_uri": "https://localhost:8080/"
        },
        "id": "tdQ8QmmiGIKc",
        "outputId": "6ccb3947-c1a6-40a1-fee4-c064cd9bcc7e"
      },
      "execution_count": null,
      "outputs": [
        {
          "output_type": "stream",
          "name": "stdout",
          "text": [
            "Method 1 - Estimated sum of the last 5 integers: 6\n",
            "Method 2 - Estimated sum of the last 5 integers: 14\n"
          ]
        }
      ]
    },
    {
      "cell_type": "code",
      "source": [
        "# Test both methods\n",
        "int_stream = [ 0, 1, 1, 1, 0, 1, 1, 1, 1, 0, 1, 1, 0, 1, 0, 1, 1, 0, 1, 1, 0, 1, 1]\n",
        "max_bits = 4  # Assuming the maximum integer is 15, so we need 4 bits to represent it\n",
        "\n",
        "dgim1 = DGIM_Method1(max_bits)\n",
        "dgim2 = DGIM_Method2()\n",
        "\n",
        "k = 5\n",
        "\n",
        "for number in int_stream:\n",
        "    dgim1.add_integer(number)\n",
        "    dgim2.add(number)\n",
        "\n",
        "print(\"Method 1 - Estimated sum of the last\", k, \"integers:\", dgim1.sum_last_k_integers(int_stream, k))\n",
        "print(\"Method 2 - Estimated sum of the last\", k, \"integers:\", dgim2.sum_last_k_integers(k))\n"
      ],
      "metadata": {
        "colab": {
          "base_uri": "https://localhost:8080/"
        },
        "id": "hvTg3uMyLcLh",
        "outputId": "342f3eb2-c7a5-4c2c-bd99-f48d3e4072fc"
      },
      "execution_count": null,
      "outputs": [
        {
          "output_type": "stream",
          "name": "stdout",
          "text": [
            "Method 1 - Estimated sum of the last 5 integers: 4\n",
            "Method 2 - Estimated sum of the last 5 integers: 4\n"
          ]
        }
      ]
    },
    {
      "cell_type": "markdown",
      "source": [
        "# Task 3"
      ],
      "metadata": {
        "id": "xm0eIhfELt-F"
      }
    },
    {
      "cell_type": "code",
      "source": [
        "!pip install mmh3"
      ],
      "metadata": {
        "colab": {
          "base_uri": "https://localhost:8080/"
        },
        "id": "q_SlCzv2Ljan",
        "outputId": "e292d044-6d97-41d6-fcc5-08e1f45637d3"
      },
      "execution_count": null,
      "outputs": [
        {
          "output_type": "stream",
          "name": "stdout",
          "text": [
            "Collecting mmh3\n",
            "  Downloading mmh3-4.1.0-cp310-cp310-manylinux_2_5_x86_64.manylinux1_x86_64.manylinux_2_17_x86_64.manylinux2014_x86_64.whl (67 kB)\n",
            "\u001b[2K     \u001b[90m━━━━━━━━━━━━━━━━━━━━━━━━━━━━━━━━━━━━━━━━\u001b[0m \u001b[32m67.6/67.6 kB\u001b[0m \u001b[31m2.1 MB/s\u001b[0m eta \u001b[36m0:00:00\u001b[0m\n",
            "\u001b[?25hInstalling collected packages: mmh3\n",
            "Successfully installed mmh3-4.1.0\n"
          ]
        }
      ]
    },
    {
      "cell_type": "code",
      "source": [
        "import mmh3\n",
        "import numpy as np\n",
        "import matplotlib.pyplot as plt\n",
        "\n",
        "class FM:\n",
        "    def __init__(self, seed):\n",
        "        self.B = 0\n",
        "        self.seed = seed\n",
        "\n",
        "    def add(self, x):\n",
        "        h = mmh3.hash(x, self.seed)\n",
        "        r = (h & -h).bit_length() - 1\n",
        "        self.B |= (1 << r)\n",
        "\n",
        "    def get_count(self):\n",
        "        rev = ~self.B\n",
        "        r = (rev & -rev).bit_length() - 1\n",
        "        return (2 ** r) / 0.77351\n",
        "\n",
        "class FM_AveragingMedians:\n",
        "    def __init__(self, num_hashes):\n",
        "        self.num_hashes = num_hashes\n",
        "        self.fm_list = [FM(seed) for seed in range(num_hashes)]\n",
        "\n",
        "    def add(self, x):\n",
        "        for fm in self.fm_list:\n",
        "            fm.add(x)\n",
        "\n",
        "    def get_count(self):\n",
        "        estimates = [fm.get_count() for fm in self.fm_list]\n",
        "        median_of_means = np.median(estimates)\n",
        "        return median_of_means\n",
        "\n",
        "seed = 4\n",
        "fm = FM(seed)\n",
        "fm_avg_median = FM_AveragingMedians(21)\n",
        "gold = set()\n",
        "n = 100000\n",
        "\n",
        "X = []\n",
        "Y = []\n",
        "Y_avg_median = []\n",
        "\n",
        "for i in range(n):\n",
        "    fm.add(str(i))\n",
        "    fm_avg_median.add(str(i))\n",
        "    gold.add(str(i))\n",
        "\n",
        "    X.append(i + 1)  # 실제 distinct 한 item의 수\n",
        "    Y.append(fm.get_count())  # fm에 의해 예측된 distinct 한 item의 수\n",
        "    Y_avg_median.append(fm_avg_median.get_count())  # 평균 중간값에 의해 예측된 distinct 한 item의 수\n",
        "\n",
        "plt.figure(figsize=(12, 6))\n",
        "plt.plot(X, label=\"Real\", color='blue')\n",
        "plt.plot(Y, label=\"FM Estimated\", color='red', linestyle='dashed')\n",
        "plt.plot(Y_avg_median, label=\"FM Averaging Medians Estimated\", color='green', linestyle='dotted')\n",
        "plt.xlabel(\"Number of Elements\")\n",
        "plt.ylabel(\"Count of Distinct Elements\")\n",
        "plt.legend()\n",
        "plt.show()\n",
        "\n",
        "a = 456784\n",
        "print(bin(a))\n",
        "print(bin(a & -a))\n",
        "print((a & -a).bit_length() - 1)\n"
      ],
      "metadata": {
        "colab": {
          "base_uri": "https://localhost:8080/",
          "height": 597
        },
        "id": "XYLg3kAxOY-k",
        "outputId": "929b7d1c-8b5d-4e05-b474-efddf47e26ca"
      },
      "execution_count": null,
      "outputs": [
        {
          "output_type": "display_data",
          "data": {
            "text/plain": [
              "<Figure size 1200x600 with 1 Axes>"
            ],
            "image/png": "[encoded data removed]"
          },
          "metadata": {}
        },
        {
          "output_type": "stream",
          "name": "stdout",
          "text": [
            "0b1101111100001010000\n",
            "0b10000\n",
            "4\n"
          ]
        }
      ]
    }
  ]
}