{
  "nbformat": 4,
  "nbformat_minor": 0,
  "metadata": {
    "colab": {
      "provenance": [],
      "authorship_tag": "ABX9TyOBxDKpZDT1v6JKIvWJlpEC",
      "include_colab_link": true
    },
    "kernelspec": {
      "name": "python3",
      "display_name": "Python 3"
    },
    "language_info": {
      "name": "python"
    }
  },
  "cells": [
    {
      "cell_type": "markdown",
      "metadata": {
        "id": "view-in-github",
        "colab_type": "text"
      },
      "source": [
        "<a href=\"https://colab.research.google.com/github/so-yeon-hwang/DataSciencePractice/blob/main/23_11_08_MovieLens.ipynb\" target=\"_parent\"><img src=\"https://colab.research.google.com/assets/colab-badge.svg\" alt=\"Open In Colab\"/></a>"
      ]
    },
    {
      "cell_type": "code",
      "execution_count": null,
      "metadata": {
        "id": "-TLmT9_gXEQ6",
        "colab": {
          "base_uri": "https://localhost:8080/"
        },
        "outputId": "601fbf33-e6dc-470e-a2a4-3855fe9f2043"
      },
      "outputs": [
        {
          "output_type": "stream",
          "name": "stdout",
          "text": [
            "--2023-11-08 00:14:31--  https://files.grouplens.org/datasets/movielens/ml-100k.zip\n",
            "Resolving files.grouplens.org (files.grouplens.org)... 128.101.65.152\n",
            "Connecting to files.grouplens.org (files.grouplens.org)|128.101.65.152|:443... connected.\n",
            "HTTP request sent, awaiting response... 200 OK\n",
            "Length: 4924029 (4.7M) [application/zip]\n",
            "Saving to: ‘ml-100k.zip’\n",
            "\n",
            "ml-100k.zip         100%[===================>]   4.70M  9.08MB/s    in 0.5s    \n",
            "\n",
            "2023-11-08 00:14:32 (9.08 MB/s) - ‘ml-100k.zip’ saved [4924029/4924029]\n",
            "\n",
            "Archive:  ml-100k.zip\n",
            "   creating: ml-100k/\n",
            "  inflating: ml-100k/allbut.pl       \n",
            "  inflating: ml-100k/mku.sh          \n",
            "  inflating: ml-100k/README          \n",
            "  inflating: ml-100k/u.data          \n",
            "  inflating: ml-100k/u.genre         \n",
            "  inflating: ml-100k/u.info          \n",
            "  inflating: ml-100k/u.item          \n",
            "  inflating: ml-100k/u.occupation    \n",
            "  inflating: ml-100k/u.user          \n",
            "  inflating: ml-100k/u1.base         \n",
            "  inflating: ml-100k/u1.test         \n",
            "  inflating: ml-100k/u2.base         \n",
            "  inflating: ml-100k/u2.test         \n",
            "  inflating: ml-100k/u3.base         \n",
            "  inflating: ml-100k/u3.test         \n",
            "  inflating: ml-100k/u4.base         \n",
            "  inflating: ml-100k/u4.test         \n",
            "  inflating: ml-100k/u5.base         \n",
            "  inflating: ml-100k/u5.test         \n",
            "  inflating: ml-100k/ua.base         \n",
            "  inflating: ml-100k/ua.test         \n",
            "  inflating: ml-100k/ub.base         \n",
            "  inflating: ml-100k/ub.test         \n"
          ]
        }
      ],
      "source": [
        "!wget https://files.grouplens.org/datasets/movielens/ml-100k.zip # url에 있는 파일을 다운로드해줌\n",
        "!unzip ml-100k.zip # zip 압축해제"
      ]
    },
    {
      "cell_type": "code",
      "source": [
        "import torch\n",
        "import pandas as pd\n",
        "import torch.nn.functional as F\n",
        "import matplotlib.pyplot as plt"
      ],
      "metadata": {
        "id": "I3mZxEldR6dB"
      },
      "execution_count": null,
      "outputs": []
    },
    {
      "cell_type": "code",
      "source": [
        "train = pd.read_csv('ml-100k/ua.base', sep='\\t',names = ['user','movie','rating','timestamp'])\n",
        "test = pd.read_csv('ml-100k/ua.test', sep='\\t',names = ['user','movie','rating','timestamp'])"
      ],
      "metadata": {
        "id": "77Bki7AHTwsJ"
      },
      "execution_count": null,
      "outputs": []
    },
    {
      "cell_type": "code",
      "source": [
        "# tensor로 만들기 LongTensor\n",
        "\n",
        "items = torch.LongTensor(train['movie'])\n",
        "users = torch.LongTensor(train['user'])\n",
        "ratings = torch.FloatTensor(train['rating'])\n",
        "\n",
        "items_test = torch.LongTensor(test['movie'])\n",
        "users_test = torch.LongTensor(test['user'])\n",
        "ratings_test = torch.FloatTensor(test['rating'])\n"
      ],
      "metadata": {
        "id": "jJy2Ei1SUYi1"
      },
      "execution_count": null,
      "outputs": []
    },
    {
      "cell_type": "code",
      "source": [
        "items"
      ],
      "metadata": {
        "colab": {
          "base_uri": "https://localhost:8080/"
        },
        "id": "tNg6pF4aVAfT",
        "outputId": "1b762dc5-5ac3-41cf-9b82-0866d64b7643"
      },
      "execution_count": null,
      "outputs": [
        {
          "output_type": "execute_result",
          "data": {
            "text/plain": [
              "tensor([   1,    2,    3,  ..., 1188, 1228, 1330])"
            ]
          },
          "metadata": {},
          "execution_count": 21
        }
      ]
    },
    {
      "cell_type": "code",
      "source": [
        "print(items.shape)\n",
        "print(users.shape)\n",
        "print(ratings.shape)"
      ],
      "metadata": {
        "colab": {
          "base_uri": "https://localhost:8080/"
        },
        "id": "u3D5hwswVTvu",
        "outputId": "51247375-8bba-4b78-f534-674394598d0e"
      },
      "execution_count": null,
      "outputs": [
        {
          "output_type": "stream",
          "name": "stdout",
          "text": [
            "torch.Size([90570])\n",
            "torch.Size([90570])\n",
            "torch.Size([90570])\n"
          ]
        }
      ]
    },
    {
      "cell_type": "code",
      "source": [
        "items_test"
      ],
      "metadata": {
        "colab": {
          "base_uri": "https://localhost:8080/"
        },
        "id": "tpze18_6VcOM",
        "outputId": "d9c04b35-fc84-4ca4-baa3-6fc7b122ca15"
      },
      "execution_count": null,
      "outputs": [
        {
          "output_type": "execute_result",
          "data": {
            "text/plain": [
              "tensor([  20,   33,   61,  ...,  570,  808, 1067])"
            ]
          },
          "metadata": {},
          "execution_count": 23
        }
      ]
    },
    {
      "cell_type": "code",
      "source": [
        "items_test.shape"
      ],
      "metadata": {
        "colab": {
          "base_uri": "https://localhost:8080/"
        },
        "id": "eUJiUaRCVqZ9",
        "outputId": "c063de9c-6da0-449d-89c3-c11615e7837d"
      },
      "execution_count": null,
      "outputs": [
        {
          "output_type": "execute_result",
          "data": {
            "text/plain": [
              "torch.Size([9430])"
            ]
          },
          "metadata": {},
          "execution_count": 24
        }
      ]
    },
    {
      "cell_type": "code",
      "source": [
        "rank = 10 # 사용자 vector 아이템 vector의 차원\n",
        "numItems = items.max() + 1 # index는 0부터 시작이기 때문에 +1 해주기, 유저는 1부터 시작함\n",
        "numUsers = users.max() + 1\n",
        "\n",
        "# 업데이터해야 하는 파라미터\n",
        "P = torch.randn(numItems,rank,requires_grad=True) # 학습대상\n",
        "Q = torch.randn(numUsers,rank,requires_grad=True)\n"
      ],
      "metadata": {
        "id": "CUxUyEfDVse1"
      },
      "execution_count": null,
      "outputs": []
    },
    {
      "cell_type": "code",
      "source": [
        "# 가설함수 P와 Q를 곱한다.\n",
        "P"
      ],
      "metadata": {
        "colab": {
          "base_uri": "https://localhost:8080/"
        },
        "id": "hd38t5HCW9qA",
        "outputId": "9288ea50-83d4-45bb-d9f5-8425013d9746"
      },
      "execution_count": null,
      "outputs": [
        {
          "output_type": "execute_result",
          "data": {
            "text/plain": [
              "tensor([[ 1.4004,  0.9387,  0.4985,  ..., -0.4946,  0.4576, -0.1699],\n",
              "        [ 0.1867, -1.1470,  0.5744,  ..., -0.9247, -0.2794,  0.5534],\n",
              "        [-0.2923,  0.2134,  0.9738,  ..., -0.4112,  0.1638,  0.2973],\n",
              "        ...,\n",
              "        [-0.5498,  0.3786,  0.3178,  ..., -0.9779,  0.4367,  0.6913],\n",
              "        [-0.8575,  0.5440, -0.7463,  ...,  0.3329, -1.1849,  2.0947],\n",
              "        [-0.7601, -0.9482,  0.5683,  ...,  0.0275, -0.1669, -0.6053]],\n",
              "       requires_grad=True)"
            ]
          },
          "metadata": {},
          "execution_count": 26
        }
      ]
    },
    {
      "cell_type": "code",
      "source": [
        "P[items]"
      ],
      "metadata": {
        "colab": {
          "base_uri": "https://localhost:8080/"
        },
        "id": "GpQLYiBuXQTr",
        "outputId": "ce1c81fb-b8d3-43ca-806a-aa7d40e14350"
      },
      "execution_count": null,
      "outputs": [
        {
          "output_type": "execute_result",
          "data": {
            "text/plain": [
              "tensor([[ 0.1867, -1.1470,  0.5744,  ..., -0.9247, -0.2794,  0.5534],\n",
              "        [-0.2923,  0.2134,  0.9738,  ..., -0.4112,  0.1638,  0.2973],\n",
              "        [ 1.6576,  0.7744, -1.2595,  ...,  0.7285, -0.0867,  1.3550],\n",
              "        ...,\n",
              "        [ 0.5911,  0.2871, -0.7793,  ..., -1.8051, -0.0260,  0.0383],\n",
              "        [ 1.4467, -0.8662, -1.7167,  ..., -1.5228, -0.1200,  0.2062],\n",
              "        [-1.4362,  1.4622, -0.8905,  ...,  0.3726,  0.4538, -1.9385]],\n",
              "       grad_fn=<IndexBackward0>)"
            ]
          },
          "metadata": {},
          "execution_count": 27
        }
      ]
    },
    {
      "cell_type": "code",
      "source": [
        "P[items].shape"
      ],
      "metadata": {
        "colab": {
          "base_uri": "https://localhost:8080/"
        },
        "id": "DXlvndleXYy9",
        "outputId": "3a24eb75-41ff-443d-fae4-2b2d86e44af6"
      },
      "execution_count": null,
      "outputs": [
        {
          "output_type": "execute_result",
          "data": {
            "text/plain": [
              "torch.Size([90570, 10])"
            ]
          },
          "metadata": {},
          "execution_count": 28
        }
      ]
    },
    {
      "cell_type": "code",
      "source": [
        "P.shape"
      ],
      "metadata": {
        "colab": {
          "base_uri": "https://localhost:8080/"
        },
        "id": "kzNv7Xm0XaWF",
        "outputId": "0bd1ce51-b169-444d-cc96-a9c2878a149c"
      },
      "execution_count": null,
      "outputs": [
        {
          "output_type": "execute_result",
          "data": {
            "text/plain": [
              "torch.Size([1683, 10])"
            ]
          },
          "metadata": {},
          "execution_count": 29
        }
      ]
    },
    {
      "cell_type": "code",
      "source": [
        "X = torch.tensor([[1,2,3],[4,5,6],[7,8,9]])\n",
        "print(X)\n",
        "print(X[[0,0,0,1]])"
      ],
      "metadata": {
        "colab": {
          "base_uri": "https://localhost:8080/"
        },
        "id": "ng4GZcvOXb6t",
        "outputId": "e85cc20a-7cce-4396-ef34-0228668dbb1d"
      },
      "execution_count": null,
      "outputs": [
        {
          "output_type": "stream",
          "name": "stdout",
          "text": [
            "tensor([[1, 2, 3],\n",
            "        [4, 5, 6],\n",
            "        [7, 8, 9]])\n",
            "tensor([[1, 2, 3],\n",
            "        [1, 2, 3],\n",
            "        [1, 2, 3],\n",
            "        [4, 5, 6]])\n"
          ]
        }
      ]
    },
    {
      "cell_type": "code",
      "source": [
        "optimizer = torch.optim.Adam([P,Q], lr = 0.1)\n",
        "for epoch in range(1001):\n",
        "  h = torch.sum(P[items] * Q[users],dim = 1)\n",
        "  cost = F.mse_loss(h,ratings)\n",
        "\n",
        "  optimizer.zero_grad()\n",
        "  cost.backward()\n",
        "  optimizer.step()\n",
        "\n",
        "  X = []\n",
        "  Y = []\n",
        "\n",
        "  Y_test = []\n",
        "  with torch.no_grad():\n",
        "   hypo_test = torch.sum(P[items_test] * Q[users_test], dim=1)\n",
        "   cost_test = F.mse_loss(hypo_test, ratings_test)\n",
        "   Y_test.append(cost_test)\n"
      ],
      "metadata": {
        "colab": {
          "base_uri": "https://localhost:8080/",
          "height": 448
        },
        "id": "ndecT1cZYGIq",
        "outputId": "bb1fff7e-481d-4c5d-8d59-4d415589da6a"
      },
      "execution_count": null,
      "outputs": [
        {
          "output_type": "execute_result",
          "data": {
            "text/plain": [
              "[<matplotlib.lines.Line2D at 0x7b6e1c149120>]"
            ]
          },
          "metadata": {},
          "execution_count": 43
        },
        {
          "output_type": "display_data",
          "data": {
            "text/plain": [
              "<Figure size 640x480 with 1 Axes>"
            ],
            "image/png": "[encoded data removed]"
          },
          "metadata": {}
        }
      ]
    },
    {
      "cell_type": "code",
      "source": [],
      "metadata": {
        "id": "x1ImvPiFbZQz"
      },
      "execution_count": null,
      "outputs": []
    },
    {
      "cell_type": "code",
      "source": [
        "Y_test = []\n",
        "with torch.no_grad():\n",
        "  X.append(epoch)\n",
        "  Y.append(cost.item())\n",
        "  h_test = (P[items_test] * Q[users_test]).sum(dim=1)\n",
        "  cost_test = mse(h_test, ratings_test)\n",
        "  Y_test.append(cost_test.item())\n"
      ],
      "metadata": {
        "id": "OG7DUMgQaxrz"
      },
      "execution_count": null,
      "outputs": []
    },
    {
      "cell_type": "code",
      "source": [
        "mse = torch.nn.MSELoss()\n",
        "cost = mse(h,ratings)"
      ],
      "metadata": {
        "id": "qk_3SwycYzpV"
      },
      "execution_count": null,
      "outputs": []
    },
    {
      "cell_type": "code",
      "source": [
        "(P[20] * Q[1]).sum() # 20번 무비, 1번 user"
      ],
      "metadata": {
        "colab": {
          "base_uri": "https://localhost:8080/"
        },
        "id": "IDafUD9xZxMc",
        "outputId": "294c818b-922c-46d2-9091-d64c22eb7f32"
      },
      "execution_count": null,
      "outputs": [
        {
          "output_type": "execute_result",
          "data": {
            "text/plain": [
              "tensor(3.5801, grad_fn=<SumBackward0>)"
            ]
          },
          "metadata": {},
          "execution_count": 37
        }
      ]
    },
    {
      "cell_type": "code",
      "source": [
        "lambda1 = 0.0001\n",
        "lambda2 = 0.0001\n",
        "\n",
        "rank = 10 # 사용자 vector 아이템 vector의 차원\n",
        "numItems = items.max() + 1 # index는 0부터 시작이기 때문에 +1 해주기, 유저는 1부터 시작함\n",
        "numUsers = users.max() + 1\n",
        "\n",
        "# 업데이터해야 하는 파라미터\n",
        "P = torch.randn(numItems,rank,requires_grad=True) # 학습대상\n",
        "Q = torch.randn(numUsers,rank,requires_grad=True)\n",
        "\n",
        "X = []\n",
        "Y = []\n",
        "Y_test = []\n",
        "\n",
        "for epoch in range(1000):\n",
        "  hypothesis = torch.sum(P[items] * Q[users], dim=1)\n",
        "  cost = F.mse_loss(hypothesis ,ratings)\n",
        "  loss = cost + lambda1 * torch.sum(P ** 2) + lambda2 * torch.sum(Q ** 2)\n",
        "  optimizer.zero_grad()\n",
        "  loss.backward()\n",
        "  optimizer.step()\n",
        "  if epoch % 100 == 0:\n",
        "  print(\"epoch: {}, cost: {:.6f}\".format(epoch, cost.item()))\n"
      ],
      "metadata": {
        "id": "3SiouFdtZ3mC"
      },
      "execution_count": null,
      "outputs": []
    },
    {
      "cell_type": "code",
      "source": [
        "mean = ratings.mean()\n",
        "\n",
        "cost_reg = cost + lambda1 * (P ** 2).mean() + lambda2 * (Q ** 2).mean() + lambda3 * (bias_item ** 2)"
      ],
      "metadata": {
        "id": "2PFtcAJqcq-u"
      },
      "execution_count": null,
      "outputs": []
    }
  ]
}