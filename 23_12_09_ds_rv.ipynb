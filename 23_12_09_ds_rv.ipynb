{
  "nbformat": 4,
  "nbformat_minor": 0,
  "metadata": {
    "colab": {
      "provenance": [],
      "authorship_tag": "ABX9TyMgiafhT6CyLV0bCkelM0j5",
      "include_colab_link": true
    },
    "kernelspec": {
      "name": "python3",
      "display_name": "Python 3"
    },
    "language_info": {
      "name": "python"
    }
  },
  "cells": [
    {
      "cell_type": "markdown",
      "metadata": {
        "id": "view-in-github",
        "colab_type": "text"
      },
      "source": [
        "<a href=\"https://colab.research.google.com/github/so-yeon-hwang/DataSciencePractice/blob/main/23_12_09_ds_rv.ipynb\" target=\"_parent\"><img src=\"https://colab.research.google.com/assets/colab-badge.svg\" alt=\"Open In Colab\"/></a>"
      ]
    },
    {
      "cell_type": "code",
      "execution_count": 1,
      "metadata": {
        "colab": {
          "base_uri": "https://localhost:8080/"
        },
        "id": "Zca2bMDgsSCu",
        "outputId": "d0bd8d76-d49e-4cd0-b0d5-ad2dbe629e10"
      },
      "outputs": [
        {
          "output_type": "stream",
          "name": "stdout",
          "text": [
            "--2023-12-09 13:08:39--  https://files.grouplens.org/datasets/movielens/ml-100k.zip\n",
            "Resolving files.grouplens.org (files.grouplens.org)... 128.101.65.152\n",
            "Connecting to files.grouplens.org (files.grouplens.org)|128.101.65.152|:443... connected.\n",
            "HTTP request sent, awaiting response... 200 OK\n",
            "Length: 4924029 (4.7M) [application/zip]\n",
            "Saving to: ‘ml-100k.zip’\n",
            "\n",
            "ml-100k.zip         100%[===================>]   4.70M  15.3MB/s    in 0.3s    \n",
            "\n",
            "2023-12-09 13:08:39 (15.3 MB/s) - ‘ml-100k.zip’ saved [4924029/4924029]\n",
            "\n",
            "Archive:  ml-100k.zip\n",
            "   creating: ml-100k/\n",
            "  inflating: ml-100k/allbut.pl       \n",
            "  inflating: ml-100k/mku.sh          \n",
            "  inflating: ml-100k/README          \n",
            "  inflating: ml-100k/u.data          \n",
            "  inflating: ml-100k/u.genre         \n",
            "  inflating: ml-100k/u.info          \n",
            "  inflating: ml-100k/u.item          \n",
            "  inflating: ml-100k/u.occupation    \n",
            "  inflating: ml-100k/u.user          \n",
            "  inflating: ml-100k/u1.base         \n",
            "  inflating: ml-100k/u1.test         \n",
            "  inflating: ml-100k/u2.base         \n",
            "  inflating: ml-100k/u2.test         \n",
            "  inflating: ml-100k/u3.base         \n",
            "  inflating: ml-100k/u3.test         \n",
            "  inflating: ml-100k/u4.base         \n",
            "  inflating: ml-100k/u4.test         \n",
            "  inflating: ml-100k/u5.base         \n",
            "  inflating: ml-100k/u5.test         \n",
            "  inflating: ml-100k/ua.base         \n",
            "  inflating: ml-100k/ua.test         \n",
            "  inflating: ml-100k/ub.base         \n",
            "  inflating: ml-100k/ub.test         \n"
          ]
        }
      ],
      "source": [
        "!wget https://files.grouplens.org/datasets/movielens/ml-100k.zip\n",
        "!unzip ml-100k.zip"
      ]
    },
    {
      "cell_type": "code",
      "source": [
        "import torch\n",
        "import pandas as pd\n",
        "import torch.nn.functional as F\n",
        "import matplotlib.pyplot as plt"
      ],
      "metadata": {
        "id": "BKgDgdp4sYvj"
      },
      "execution_count": 2,
      "outputs": []
    },
    {
      "cell_type": "code",
      "source": [
        "train = pd.read_csv(\"ml-100k/ua.base\",sep=\"\\t\", names=['user', 'movie', 'rating', 'timestamp'])\n",
        "test = pd.read_csv(\"ml-100k/ua.test\",sep=\"\\t\", names=['user', 'movie', 'rating', 'timestamp'])"
      ],
      "metadata": {
        "id": "bIOt3p88seTG"
      },
      "execution_count": 3,
      "outputs": []
    },
    {
      "cell_type": "code",
      "source": [
        "items = torch.LongTensor(train['movie'])\n",
        "users = torch.LongTensor(train['user'])\n",
        "ratings = torch.FloatTensor(train['rating'])\n",
        "\n",
        "items_test = torch.LongTensor(test['movie'])\n",
        "users_test = torch.LongTensor(test['user'])\n",
        "ratings_test = torch.FloatTensor(test['rating'])"
      ],
      "metadata": {
        "id": "8EvblRQVsi8j"
      },
      "execution_count": 4,
      "outputs": []
    },
    {
      "cell_type": "code",
      "source": [
        "items"
      ],
      "metadata": {
        "colab": {
          "base_uri": "https://localhost:8080/"
        },
        "id": "Kg44kWe5tFHQ",
        "outputId": "cd00cdd8-eff3-4e3b-e276-aca4d6c20b6a"
      },
      "execution_count": 8,
      "outputs": [
        {
          "output_type": "execute_result",
          "data": {
            "text/plain": [
              "tensor([   1,    2,    3,  ..., 1188, 1228, 1330])"
            ]
          },
          "metadata": {},
          "execution_count": 8
        }
      ]
    },
    {
      "cell_type": "code",
      "source": [
        "rank = 10\n",
        "numItems = items.max() + 1 # 아이템 몇개?\n",
        "numUsers = users.max() + 1\n",
        "P = torch.randn(numItems, rank, requires_grad = True) # 아이템 matrix P 생성\n",
        "Q = torch.randn(numUsers, rank, requires_grad = True)"
      ],
      "metadata": {
        "id": "n5qqv_Z7s1GO"
      },
      "execution_count": 16,
      "outputs": []
    },
    {
      "cell_type": "code",
      "source": [
        "P # 아이템 matrix P , 유저 matrix Q"
      ],
      "metadata": {
        "colab": {
          "base_uri": "https://localhost:8080/"
        },
        "id": "Mxze2NIqtcHU",
        "outputId": "e7654628-411c-4b79-f10d-303d52cd7e27"
      },
      "execution_count": 10,
      "outputs": [
        {
          "output_type": "execute_result",
          "data": {
            "text/plain": [
              "tensor([[ 0.9224, -1.0538, -0.0089,  ...,  0.9851, -0.9126, -0.1312],\n",
              "        [-2.5925,  0.9582,  0.0452,  ..., -0.4962, -0.4036,  1.4839],\n",
              "        [-0.0287, -1.3578, -0.1811,  ...,  1.0778,  0.5800, -1.1468],\n",
              "        ...,\n",
              "        [ 1.1048, -1.0194,  0.8318,  ..., -0.1062, -1.2678, -0.5482],\n",
              "        [ 0.2401,  1.8846, -0.9151,  ..., -1.0541,  0.5675, -0.7268],\n",
              "        [-0.0974, -0.4963,  0.1233,  ..., -0.6924, -2.3101, -0.1779]],\n",
              "       requires_grad=True)"
            ]
          },
          "metadata": {},
          "execution_count": 10
        }
      ]
    },
    {
      "cell_type": "markdown",
      "source": [
        "# 1. Latent Factor Model"
      ],
      "metadata": {
        "id": "jrmNpt2lxZLb"
      }
    },
    {
      "cell_type": "code",
      "source": [
        "# 1. Matrix reset\n",
        "rank = 10 # Dimension\n",
        "num_items = items.max() + 1 # 개수\n",
        "num_users = users.max() + 1\n",
        "\n",
        "P = torch.randn(num_items, rank, requires_grad = True)\n",
        "Q = torch.randn(num_users, rank, requires_grad = True)\n",
        "\n",
        "\n",
        "# 2. Learning\n",
        "optimizer = torch.optim.Adam([P,Q], lr = 0.1)\n",
        "\n",
        "X = []\n",
        "Y = []\n",
        "Y_test = []\n",
        "\n",
        "for epoch in range(1000):\n",
        "  h = torch.sum(P[items] * Q[users],dim = 1)\n",
        "  cost = F.mse_loss(h,ratings)\n",
        "\n",
        "  X.append(epoch)\n",
        "  Y.append(cost.item())\n",
        "\n",
        "  optimizer.zero_grad()\n",
        "  cost.backward()\n",
        "  optimizer.step()\n",
        "\n",
        "  if epoch % 100 == 0 :\n",
        "    print(\"epoch: {}, cost: {:.6f}\" .format(epoch, cost.item()))\n",
        "\n",
        "\n",
        "# 3. Visualization : Training set MSE\n",
        "plt.ylabel('MSE')\n",
        "plt.xlabel('Epoch')\n",
        "plt.plot(X,Y,c = 'blue', label = 'Training MSE')\n",
        "plt.legend()\n",
        "plt.show()"
      ],
      "metadata": {
        "colab": {
          "base_uri": "https://localhost:8080/",
          "height": 631
        },
        "id": "GRNi6fRHvLIt",
        "outputId": "cf8e0384-3c67-45a4-89cf-00d864acea0d"
      },
      "execution_count": 20,
      "outputs": [
        {
          "output_type": "stream",
          "name": "stdout",
          "text": [
            "epoch: 0, cost: 23.412312\n",
            "epoch: 100, cost: 0.563850\n",
            "epoch: 200, cost: 0.494760\n",
            "epoch: 300, cost: 0.471763\n",
            "epoch: 400, cost: 0.461277\n",
            "epoch: 500, cost: 0.455123\n",
            "epoch: 600, cost: 0.451372\n",
            "epoch: 700, cost: 0.448764\n",
            "epoch: 800, cost: 0.446769\n",
            "epoch: 900, cost: 0.445171\n"
          ]
        },
        {
          "output_type": "display_data",
          "data": {
            "text/plain": [
              "<Figure size 640x480 with 1 Axes>"
            ],
            "image/png": "[encoded data removed]"
          },
          "metadata": {}
        }
      ]
    },
    {
      "cell_type": "code",
      "source": [
        "# 1. Matrix reset\n",
        "rank = 10 # Dimension\n",
        "num_items = items.max() + 1 # 개수\n",
        "num_users = users.max() + 1\n",
        "\n",
        "P = torch.randn(num_items, rank, requires_grad = True)\n",
        "Q = torch.randn(num_users, rank, requires_grad = True)\n",
        "\n",
        "\n",
        "# 2. Learning\n",
        "optimizer = torch.optim.Adam([P,Q], lr = 0.1)\n",
        "\n",
        "X = []\n",
        "Y = []\n",
        "Y_test = []\n",
        "\n",
        "for epoch in range(1000):\n",
        "  h = torch.sum(P[items] * Q[users],dim = 1)\n",
        "  cost = F.mse_loss(h,ratings)\n",
        "\n",
        "  optimizer.zero_grad()\n",
        "  cost.backward()\n",
        "  optimizer.step()\n",
        "\n",
        "  with torch.no_grad(): # Stopg calculating Gradient calculating 기울기 계산 stop\n",
        "    X.append(epoch)\n",
        "    Y.append(cost.item())\n",
        "\n",
        "    h_test = torch.sum(P[items_test] * Q[users_test],dim=1)\n",
        "    cost_test = F.mse_loss(h_test,ratings_test)\n",
        "\n",
        "    Y_test.append(cost_test.item())\n",
        "\n",
        "  if epoch % 100 == 0 :\n",
        "    print(\"epoch: {}, cost: {:.6f}\" .format(epoch, cost.item()))\n",
        "\n",
        "\n",
        "# 3. Visualization : Training set MSE + Test set MSE\n",
        "\n",
        "plt.ylabel('MSE')\n",
        "plt.xlabel('Epoch')\n",
        "\n",
        "plt.plot(X,Y,c = 'blue', label = 'Training MSE')\n",
        "plt.plot(X,Y_test,c = 'red',label ='Test MSE')\n",
        "\n",
        "plt.legend()\n",
        "plt.show()"
      ],
      "metadata": {
        "colab": {
          "base_uri": "https://localhost:8080/",
          "height": 631
        },
        "id": "UerdLVt6w6nH",
        "outputId": "a8e01fa1-c853-402c-9bf9-3ee74ae53307"
      },
      "execution_count": 21,
      "outputs": [
        {
          "output_type": "stream",
          "name": "stdout",
          "text": [
            "epoch: 0, cost: 23.722889\n",
            "epoch: 100, cost: 0.566018\n",
            "epoch: 200, cost: 0.492716\n",
            "epoch: 300, cost: 0.470085\n",
            "epoch: 400, cost: 0.460899\n",
            "epoch: 500, cost: 0.455849\n",
            "epoch: 600, cost: 0.452204\n",
            "epoch: 700, cost: 0.449436\n",
            "epoch: 800, cost: 0.447414\n",
            "epoch: 900, cost: 0.445892\n"
          ]
        },
        {
          "output_type": "display_data",
          "data": {
            "text/plain": [
              "<Figure size 640x480 with 1 Axes>"
            ],
            "image/png": "[encoded data removed]"
          },
          "metadata": {}
        }
      ]
    },
    {
      "cell_type": "markdown",
      "source": [
        "# 2. Regularization 추가"
      ],
      "metadata": {
        "id": "vbFCC02cxdcq"
      }
    },
    {
      "cell_type": "code",
      "source": [
        "# 1. Matrix reset\n",
        "rank = 10 # Dimension\n",
        "num_items = items.max() + 1 # 개수\n",
        "num_users = users.max() + 1\n",
        "\n",
        "P = torch.randn(num_items, rank, requires_grad = True)\n",
        "Q = torch.randn(num_users, rank, requires_grad = True)\n",
        "\n",
        "lambda1 = 0.0001\n",
        "lambda2 = 0.0001\n",
        "\n",
        "# 2. Learning\n",
        "optimizer = torch.optim.Adam([P,Q], lr = 0.1)\n",
        "\n",
        "X = []\n",
        "Y = []\n",
        "Y_test = []\n",
        "\n",
        "for epoch in range(1000):\n",
        "  h = torch.sum(P[items] * Q[users],dim = 1)\n",
        "  cost = F.mse_loss(h,ratings)\n",
        "  loss = cost + lambda1 * torch.sum(P**2) + lambda2 * torch.sum(Q **2)\n",
        "\n",
        "  optimizer.zero_grad()\n",
        "  loss.backward()\n",
        "  optimizer.step()\n",
        "\n",
        "  with torch.no_grad(): # Stopg calculating Gradient calculating 기울기 계산 stop\n",
        "    X.append(epoch)\n",
        "    Y.append(cost.item())\n",
        "\n",
        "    h_test = torch.sum(P[items_test] * Q[users_test],dim=1)\n",
        "    cost_test = F.mse_loss(h_test,ratings_test)\n",
        "\n",
        "    Y_test.append(cost_test.item())\n",
        "\n",
        "  if epoch % 100 == 0 :\n",
        "    print(\"epoch: {}, cost: {:.6f}\" .format(epoch, cost.item()))\n",
        "\n",
        "\n",
        "# 3. Visualization : Training set MSE + Test set MSE\n",
        "\n",
        "plt.ylabel('MSE')\n",
        "plt.xlabel('Epoch')\n",
        "\n",
        "plt.plot(X,Y,c = 'blue', label = 'Training MSE')\n",
        "plt.plot(X,Y_test,c = 'red',label ='Test MSE')\n",
        "\n",
        "plt.legend()\n",
        "plt.show()"
      ],
      "metadata": {
        "colab": {
          "base_uri": "https://localhost:8080/",
          "height": 631
        },
        "id": "cXah6KwyxU7t",
        "outputId": "1ee36027-1b5a-4ff3-9a91-bab61c5d3bd8"
      },
      "execution_count": 22,
      "outputs": [
        {
          "output_type": "stream",
          "name": "stdout",
          "text": [
            "epoch: 0, cost: 23.534966\n",
            "epoch: 100, cost: 0.697042\n",
            "epoch: 200, cost: 0.640198\n",
            "epoch: 300, cost: 0.630315\n",
            "epoch: 400, cost: 0.628091\n",
            "epoch: 500, cost: 0.627368\n",
            "epoch: 600, cost: 0.627010\n",
            "epoch: 700, cost: 0.626824\n",
            "epoch: 800, cost: 0.626689\n",
            "epoch: 900, cost: 0.626534\n"
          ]
        },
        {
          "output_type": "display_data",
          "data": {
            "text/plain": [
              "<Figure size 640x480 with 1 Axes>"
            ],
            "image/png": "[encoded data removed]"
          },
          "metadata": {}
        }
      ]
    },
    {
      "cell_type": "markdown",
      "source": [
        "# 3. Global Baseline Estimation 추가"
      ],
      "metadata": {
        "id": "Ge24_Vdrx84s"
      }
    },
    {
      "cell_type": "code",
      "source": [
        "# 1. Matrix reset\n",
        "rank = 10 # Dimension\n",
        "num_items = items.max() + 1 # 개수\n",
        "num_users = users.max() + 1\n",
        "\n",
        "P = torch.randn(num_items, rank, requires_grad = True)\n",
        "Q = torch.randn(num_users, rank, requires_grad = True)\n",
        "bias_item = torch.randn(numItems, requires_grad = True)\n",
        "bias_user = torch.randn(numUsers, requires_grad = True)\n",
        "mean = (ratings.sum() / len(ratings)).item() # item() 형변환 역할\n",
        "\n",
        "lambda1 = 0.0001\n",
        "lambda2 = 0.0001\n",
        "lambda3 = 0.0001\n",
        "lambda4 = 0.0001\n",
        "\n",
        "\n",
        "# 2. Learning\n",
        "optimizer = torch.optim.Adam([P,Q,bias_item,bias_user], lr = 0.1)\n",
        "\n",
        "X = []\n",
        "Y = []\n",
        "Y_test = []\n",
        "\n",
        "for epoch in range(1000):\n",
        "  h = torch.sum(P[items] * Q[users],dim = 1) + mean + bias_item[items] + bias_user[users]\n",
        "  cost = F.mse_loss(h,ratings)\n",
        "  loss = cost + lambda1 * torch.sum(P**2) + lambda2 * torch.sum(Q **2)\\\n",
        "    + lambda3 * torch.sum(bias_item **2) + lambda4 * torch.sum(bias_user ** 2)\n",
        "\n",
        "  optimizer.zero_grad()\n",
        "  loss.backward()\n",
        "  optimizer.step()\n",
        "\n",
        "  with torch.no_grad(): # Stopg calculating Gradient calculating 기울기 계산 stop\n",
        "    h_test = torch.sum(P[items_test] * Q[users_test],dim=1) + mean + bias_item[items_test] + bias_user[users_test]\n",
        "    cost_test = F.mse_loss(h_test,ratings_test)\n",
        "\n",
        "    X.append(epoch)\n",
        "    Y.append(cost.item())\n",
        "    Y_test.append(cost_test.item())\n",
        "\n",
        "  if epoch % 100 == 0 :\n",
        "    print(\"epoch: {}, cost: {:.6f}\" .format(epoch, cost.item()))\n",
        "\n",
        "\n",
        "# 3. Visualization : Training set MSE + Test set MSE\n",
        "\n",
        "plt.ylabel('MSE')\n",
        "plt.xlabel('Epoch')\n",
        "\n",
        "plt.plot(X,Y,c = 'blue', label = 'Training MSE')\n",
        "plt.plot(X,Y_test,c = 'red',label ='Test MSE')\n",
        "\n",
        "plt.legend()\n",
        "plt.show()"
      ],
      "metadata": {
        "colab": {
          "base_uri": "https://localhost:8080/",
          "height": 631
        },
        "id": "ya_yz_rdx05l",
        "outputId": "1c83d461-efb0-4f60-a2cd-cde3983bbbb2"
      },
      "execution_count": 30,
      "outputs": [
        {
          "output_type": "stream",
          "name": "stdout",
          "text": [
            "epoch: 0, cost: 13.242661\n",
            "epoch: 100, cost: 0.605250\n",
            "epoch: 200, cost: 0.578495\n",
            "epoch: 300, cost: 0.574672\n",
            "epoch: 400, cost: 0.573491\n",
            "epoch: 500, cost: 0.573012\n",
            "epoch: 600, cost: 0.572772\n",
            "epoch: 700, cost: 0.572618\n",
            "epoch: 800, cost: 0.572489\n",
            "epoch: 900, cost: 0.572374\n"
          ]
        },
        {
          "output_type": "display_data",
          "data": {
            "text/plain": [
              "<Figure size 640x480 with 1 Axes>"
            ],
            "image/png": "[encoded data removed]"
          },
          "metadata": {}
        }
      ]
    },
    {
      "cell_type": "code",
      "source": [],
      "metadata": {
        "id": "l5dw1toJzCGo"
      },
      "execution_count": null,
      "outputs": []
    }
  ]
}