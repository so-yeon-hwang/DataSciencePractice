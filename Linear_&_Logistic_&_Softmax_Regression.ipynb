{
  "cells": [
    {
      "cell_type": "markdown",
      "source": [
        "# Linear Regression"
      ],
      "metadata": {
        "id": "JgUkLlWKxzK4"
      }
    },
    {
      "cell_type": "markdown",
      "metadata": {
        "id": "LHge_Qud7kKX"
      },
      "source": [
        "## torch / pytorch"
      ]
    },
    {
      "cell_type": "code",
      "execution_count": 1,
      "metadata": {
        "id": "MiU-8GvK7ep-"
      },
      "outputs": [],
      "source": [
        "import torch"
      ]
    },
    {
      "cell_type": "code",
      "execution_count": 2,
      "metadata": {
        "colab": {
          "base_uri": "https://localhost:8080/"
        },
        "id": "3HTxRmI264UN",
        "outputId": "74f97467-bbe9-4561-fc06-1112dcac0c93"
      },
      "outputs": [
        {
          "output_type": "stream",
          "name": "stdout",
          "text": [
            "x =  tensor([[1, 2, 3],\n",
            "        [4, 5, 6],\n",
            "        [7, 8, 9]])\n",
            "y =  tensor([[1., 2., 3.],\n",
            "        [4., 5., 6.],\n",
            "        [7., 8., 9.]])\n"
          ]
        }
      ],
      "source": [
        "x = torch.tensor([[1,2,3],[4,5,6],[7,8,9]])\n",
        "y = torch.FloatTensor([[1,2,3],[4,5,6],[7,8,9]])\n",
        "\n",
        "print('x = ' , x)\n",
        "print('y = ' , y)"
      ]
    },
    {
      "cell_type": "code",
      "execution_count": 3,
      "metadata": {
        "colab": {
          "base_uri": "https://localhost:8080/"
        },
        "id": "lPnFcRrY7YcX",
        "outputId": "417bd003-54d9-4d02-9bc4-40f39b5b4521"
      },
      "outputs": [
        {
          "output_type": "stream",
          "name": "stdout",
          "text": [
            "size :  torch.Size([3, 3])\n",
            "shape :  torch.Size([3, 3])\n",
            "rank :  2\n"
          ]
        }
      ],
      "source": [
        "# checking the size and rank\n",
        "print('size : ' , x.size())\n",
        "print('shape : ' ,x.shape)\n",
        "print('rank : ', x.ndimension())"
      ]
    },
    {
      "cell_type": "code",
      "execution_count": 4,
      "metadata": {
        "colab": {
          "base_uri": "https://localhost:8080/"
        },
        "id": "faSihxey78lx",
        "outputId": "345f5846-5960-4306-cf46-b2254678b83d"
      },
      "outputs": [
        {
          "output_type": "stream",
          "name": "stdout",
          "text": [
            "x0.shape: torch.Size([1, 3, 3])\n",
            "x1.shape: torch.Size([3, 1, 3])\n",
            "x2.shape: torch.Size([3, 3, 1])\n",
            "x0 = tensor([[[1, 2, 3],\n",
            "         [4, 5, 6],\n",
            "         [7, 8, 9]]])\n",
            "x1 = tensor([[[1, 2, 3]],\n",
            "\n",
            "        [[4, 5, 6]],\n",
            "\n",
            "        [[7, 8, 9]]])\n",
            "x2 = tensor([[[1],\n",
            "         [2],\n",
            "         [3]],\n",
            "\n",
            "        [[4],\n",
            "         [5],\n",
            "         [6]],\n",
            "\n",
            "        [[7],\n",
            "         [8],\n",
            "         [9]]])\n",
            "x0.ndimension : 3\n",
            "x1.ndimension : 3\n",
            "x2.ndimension : 3\n"
          ]
        }
      ],
      "source": [
        "x = torch.tensor([[1,2,3],[4,5,6],[7,8,9]])\n",
        "\n",
        "x0 = torch.unsqueeze(x, 0)\n",
        "x1 = torch.unsqueeze(x, 1)\n",
        "x2 = torch.unsqueeze(x, 2)\n",
        "\n",
        "print(\"x0.shape:\", x0.shape)\n",
        "print(\"x1.shape:\", x1.shape)\n",
        "print(\"x2.shape:\", x2.shape)\n",
        "\n",
        "print(\"x0 =\", x0)\n",
        "print(\"x1 =\", x1)\n",
        "print(\"x2 =\", x2)\n",
        "\n",
        "print(\"x0.ndimension :\", x0.ndimension())\n",
        "print(\"x1.ndimension :\", x1.ndimension())\n",
        "print(\"x2.ndimension :\", x2.ndimension())"
      ]
    },
    {
      "cell_type": "code",
      "execution_count": 5,
      "metadata": {
        "id": "5gauR5ooDEao"
      },
      "outputs": [],
      "source": [
        "# ERROR dimension\n",
        "\n",
        "# original size of x == 3x3\n",
        "# unsqueezing 3rd index of torch(=array) x cannot be executed, cause 3rd index means 4th dimension, but torch x does not have 4th dimension\n",
        "\n",
        "# x3 = torch.unsqueeze(x, 3)\n",
        "# x3"
      ]
    },
    {
      "cell_type": "code",
      "execution_count": 6,
      "metadata": {
        "colab": {
          "base_uri": "https://localhost:8080/"
        },
        "id": "ycazXrPEBD2a",
        "outputId": "5a2fa527-230e-4149-da30-551b94207998"
      },
      "outputs": [
        {
          "output_type": "execute_result",
          "data": {
            "text/plain": [
              "tensor([[[1, 2],\n",
              "         [3, 4]]])"
            ]
          },
          "metadata": {},
          "execution_count": 6
        }
      ],
      "source": [
        "x = torch.tensor([[1, 2],\n",
        "                  [3, 4]])\n",
        "x3 = torch.unsqueeze(x, 0)\n",
        "x3"
      ]
    },
    {
      "cell_type": "code",
      "execution_count": 7,
      "metadata": {
        "colab": {
          "base_uri": "https://localhost:8080/"
        },
        "id": "8jSz1ReeBk4j",
        "outputId": "af4b5ae0-6e9d-4a8a-978c-94bef74bd375"
      },
      "outputs": [
        {
          "output_type": "execute_result",
          "data": {
            "text/plain": [
              "3"
            ]
          },
          "metadata": {},
          "execution_count": 7
        }
      ],
      "source": [
        "x3.ndimension()"
      ]
    },
    {
      "cell_type": "code",
      "execution_count": 8,
      "metadata": {
        "colab": {
          "base_uri": "https://localhost:8080/"
        },
        "id": "dEZEm9eUBrNy",
        "outputId": "0ad676a3-f0fd-4788-82af-d2fff542ea58"
      },
      "outputs": [
        {
          "output_type": "execute_result",
          "data": {
            "text/plain": [
              "tensor([[[[1, 2],\n",
              "          [3, 4]],\n",
              "\n",
              "         [[5, 6],\n",
              "          [7, 8]]]])"
            ]
          },
          "metadata": {},
          "execution_count": 8
        }
      ],
      "source": [
        "a = torch.tensor([[[1, 2],\n",
        "                   [3, 4]],\n",
        "                  [[5, 6],\n",
        "                   [7, 8]]])\n",
        "a0 = torch.unsqueeze(a,0)\n",
        "a0"
      ]
    },
    {
      "cell_type": "code",
      "execution_count": 9,
      "metadata": {
        "id": "JznYZpM2EgyT"
      },
      "outputs": [],
      "source": [
        "a3 = torch.unsqueeze(a,3)"
      ]
    },
    {
      "cell_type": "code",
      "execution_count": 10,
      "metadata": {
        "colab": {
          "base_uri": "https://localhost:8080/"
        },
        "id": "8Yjbco3eEkYH",
        "outputId": "c72863f0-7ab3-4ae6-9e1e-38e5aca86bba"
      },
      "outputs": [
        {
          "output_type": "execute_result",
          "data": {
            "text/plain": [
              "tensor([[[[1],\n",
              "          [2]],\n",
              "\n",
              "         [[3],\n",
              "          [4]]],\n",
              "\n",
              "\n",
              "        [[[5],\n",
              "          [6]],\n",
              "\n",
              "         [[7],\n",
              "          [8]]]])"
            ]
          },
          "metadata": {},
          "execution_count": 10
        }
      ],
      "source": [
        "a3"
      ]
    },
    {
      "cell_type": "code",
      "execution_count": 11,
      "metadata": {
        "colab": {
          "base_uri": "https://localhost:8080/"
        },
        "id": "BCQFNe2eEkw5",
        "outputId": "07918168-098e-4179-b3bd-cb621b46aa3e"
      },
      "outputs": [
        {
          "output_type": "execute_result",
          "data": {
            "text/plain": [
              "tensor([[[[1, 2]],\n",
              "\n",
              "         [[3, 4]]],\n",
              "\n",
              "\n",
              "        [[[5, 6]],\n",
              "\n",
              "         [[7, 8]]]])"
            ]
          },
          "metadata": {},
          "execution_count": 11
        }
      ],
      "source": [
        "a2 = torch.unsqueeze(a,2)\n",
        "a2"
      ]
    },
    {
      "cell_type": "code",
      "execution_count": 12,
      "metadata": {
        "colab": {
          "base_uri": "https://localhost:8080/"
        },
        "id": "m3C0S4INEnbj",
        "outputId": "4de6be7c-0a0a-4ed2-f4b1-8040e3cc6968"
      },
      "outputs": [
        {
          "output_type": "execute_result",
          "data": {
            "text/plain": [
              "tensor([[[1, 2, 3],\n",
              "         [4, 5, 6],\n",
              "         [7, 8, 9]]])"
            ]
          },
          "metadata": {},
          "execution_count": 12
        }
      ],
      "source": [
        "x0"
      ]
    },
    {
      "cell_type": "code",
      "execution_count": 13,
      "metadata": {
        "colab": {
          "base_uri": "https://localhost:8080/"
        },
        "id": "e5d2056ZNMZe",
        "outputId": "d2c7f9db-8abe-4527-a1cc-8c7461e5b25d"
      },
      "outputs": [
        {
          "output_type": "execute_result",
          "data": {
            "text/plain": [
              "tensor([[1, 2, 3],\n",
              "        [4, 5, 6],\n",
              "        [7, 8, 9]])"
            ]
          },
          "metadata": {},
          "execution_count": 13
        }
      ],
      "source": [
        "x1 = torch.squeeze(x0)\n",
        "x1"
      ]
    },
    {
      "cell_type": "code",
      "execution_count": 14,
      "metadata": {
        "colab": {
          "base_uri": "https://localhost:8080/"
        },
        "id": "V-1tihnXNXFn",
        "outputId": "f16c6e23-0b87-4793-afad-cd548e76a45b"
      },
      "outputs": [
        {
          "output_type": "execute_result",
          "data": {
            "text/plain": [
              "tensor([[1, 2, 3],\n",
              "        [4, 5, 6],\n",
              "        [7, 8, 9]])"
            ]
          },
          "metadata": {},
          "execution_count": 14
        }
      ],
      "source": [
        "torch.squeeze(x1)"
      ]
    },
    {
      "cell_type": "code",
      "execution_count": 15,
      "metadata": {
        "colab": {
          "base_uri": "https://localhost:8080/"
        },
        "id": "6uvA7o2SNb5L",
        "outputId": "878bbe85-a0ae-42d0-b340-8092734e1a3e"
      },
      "outputs": [
        {
          "output_type": "execute_result",
          "data": {
            "text/plain": [
              "tensor([[1, 2, 3],\n",
              "        [4, 5, 6],\n",
              "        [7, 8, 9]])"
            ]
          },
          "metadata": {},
          "execution_count": 15
        }
      ],
      "source": [
        "x = torch.tensor([[1,2,3],[4,5,6],[7,8,9]])\n",
        "x"
      ]
    },
    {
      "cell_type": "code",
      "execution_count": 16,
      "metadata": {
        "colab": {
          "base_uri": "https://localhost:8080/"
        },
        "id": "cLUKbF5eNosb",
        "outputId": "250d37a7-3892-4f88-c9b6-12211f2a36c3"
      },
      "outputs": [
        {
          "output_type": "execute_result",
          "data": {
            "text/plain": [
              "torch.Size([3, 3])"
            ]
          },
          "metadata": {},
          "execution_count": 16
        }
      ],
      "source": [
        "x.shape"
      ]
    },
    {
      "cell_type": "code",
      "execution_count": 17,
      "metadata": {
        "colab": {
          "base_uri": "https://localhost:8080/"
        },
        "id": "mptFdDXkNpqu",
        "outputId": "3f351a1a-9381-492a-e86c-3fd69029ef84"
      },
      "outputs": [
        {
          "output_type": "execute_result",
          "data": {
            "text/plain": [
              "2"
            ]
          },
          "metadata": {},
          "execution_count": 17
        }
      ],
      "source": [
        "x.ndimension()"
      ]
    },
    {
      "cell_type": "code",
      "execution_count": 18,
      "metadata": {
        "colab": {
          "base_uri": "https://localhost:8080/"
        },
        "id": "MZ7caRlnNrWc",
        "outputId": "f4793bbd-ed22-4626-ff6e-a6c1cbc23865"
      },
      "outputs": [
        {
          "output_type": "execute_result",
          "data": {
            "text/plain": [
              "tensor([[1, 2, 3],\n",
              "        [4, 5, 6],\n",
              "        [7, 8, 9]])"
            ]
          },
          "metadata": {},
          "execution_count": 18
        }
      ],
      "source": [
        "torch.squeeze(x)"
      ]
    },
    {
      "cell_type": "code",
      "execution_count": 19,
      "metadata": {
        "colab": {
          "base_uri": "https://localhost:8080/"
        },
        "id": "4f8L02AMNtWK",
        "outputId": "560b66c2-cb09-4e65-9e6b-d41bf461c170"
      },
      "outputs": [
        {
          "output_type": "execute_result",
          "data": {
            "text/plain": [
              "tensor([[[1, 2, 3],\n",
              "         [4, 5, 6],\n",
              "         [7, 8, 9]]])"
            ]
          },
          "metadata": {},
          "execution_count": 19
        }
      ],
      "source": [
        "k = torch.tensor([[[1,2,3],[4,5,6],[7,8,9]]])\n",
        "k"
      ]
    },
    {
      "cell_type": "code",
      "execution_count": 20,
      "metadata": {
        "colab": {
          "base_uri": "https://localhost:8080/"
        },
        "id": "2XfaoYBtOe9E",
        "outputId": "809e0273-0868-458c-94a7-74113ee42d94"
      },
      "outputs": [
        {
          "output_type": "execute_result",
          "data": {
            "text/plain": [
              "3"
            ]
          },
          "metadata": {},
          "execution_count": 20
        }
      ],
      "source": [
        "k.ndimension()"
      ]
    },
    {
      "cell_type": "code",
      "execution_count": 21,
      "metadata": {
        "colab": {
          "base_uri": "https://localhost:8080/"
        },
        "id": "HIsOWwvlOh0_",
        "outputId": "ea7589e9-83b2-4b9f-b494-dfe8c9391f8f"
      },
      "outputs": [
        {
          "output_type": "execute_result",
          "data": {
            "text/plain": [
              "tensor([[1, 2, 3],\n",
              "        [4, 5, 6],\n",
              "        [7, 8, 9]])"
            ]
          },
          "metadata": {},
          "execution_count": 21
        }
      ],
      "source": [
        "torch.squeeze(k)"
      ]
    },
    {
      "cell_type": "code",
      "execution_count": 22,
      "metadata": {
        "colab": {
          "base_uri": "https://localhost:8080/"
        },
        "id": "ytr2or3uSTs_",
        "outputId": "4edf3b22-cc75-4240-e962-8de1d53b5033"
      },
      "outputs": [
        {
          "output_type": "execute_result",
          "data": {
            "text/plain": [
              "tensor([[1, 2, 3],\n",
              "        [4, 5, 6],\n",
              "        [7, 8, 9]])"
            ]
          },
          "metadata": {},
          "execution_count": 22
        }
      ],
      "source": [
        "torch.squeeze(k)"
      ]
    },
    {
      "cell_type": "code",
      "execution_count": 23,
      "metadata": {
        "colab": {
          "base_uri": "https://localhost:8080/"
        },
        "id": "-IH6M8zcOjm0",
        "outputId": "a24d8d85-dc12-41de-ccef-a9a650c2d7f8"
      },
      "outputs": [
        {
          "output_type": "stream",
          "name": "stdout",
          "text": [
            "2\n",
            "torch.Size([3, 1])\n"
          ]
        }
      ],
      "source": [
        "M = torch.tensor([[1],\n",
        "                  [2],\n",
        "                  [3]])\n",
        "print(M.ndimension())\n",
        "print(M.shape)"
      ]
    },
    {
      "cell_type": "code",
      "execution_count": 24,
      "metadata": {
        "colab": {
          "base_uri": "https://localhost:8080/"
        },
        "id": "E0cVi3-FOr7d",
        "outputId": "72523772-82e4-420a-e859-b42e54184574"
      },
      "outputs": [
        {
          "output_type": "execute_result",
          "data": {
            "text/plain": [
              "torch.Size([3])"
            ]
          },
          "metadata": {},
          "execution_count": 24
        }
      ],
      "source": [
        "torch.squeeze(M).shape"
      ]
    },
    {
      "cell_type": "code",
      "execution_count": 25,
      "metadata": {
        "id": "BO_kJCfHTCPg"
      },
      "outputs": [],
      "source": [
        "# 1차원이 있는지 없는지 확인하는 방법 : x.shape 쳐보기"
      ]
    },
    {
      "cell_type": "code",
      "execution_count": 26,
      "metadata": {
        "colab": {
          "base_uri": "https://localhost:8080/"
        },
        "id": "NnM_3csSO3lb",
        "outputId": "01840df3-199d-4aee-e34e-41c45ae65a84"
      },
      "outputs": [
        {
          "output_type": "stream",
          "name": "stdout",
          "text": [
            "torch.Size([1, 1, 1, 3, 3])\n",
            "torch.Size([3, 3])\n"
          ]
        }
      ],
      "source": [
        "k = torch.tensor([[[[[1,2,3],[4,5,6],[7,8,9]]]]])\n",
        "print(k.shape)\n",
        "\n",
        "k_ = torch.squeeze(k)\n",
        "print(k_.shape)"
      ]
    },
    {
      "cell_type": "code",
      "execution_count": 27,
      "metadata": {
        "colab": {
          "base_uri": "https://localhost:8080/"
        },
        "id": "n-j9KdYCSlDp",
        "outputId": "840394de-07f6-4941-d7f3-33e42f4c49ca"
      },
      "outputs": [
        {
          "output_type": "execute_result",
          "data": {
            "text/plain": [
              "tensor([[1, 2, 3],\n",
              "        [4, 5, 6],\n",
              "        [7, 8, 9]])"
            ]
          },
          "metadata": {},
          "execution_count": 27
        }
      ],
      "source": [
        "x"
      ]
    },
    {
      "cell_type": "code",
      "execution_count": 28,
      "metadata": {
        "colab": {
          "base_uri": "https://localhost:8080/"
        },
        "id": "4zcDPFWZVwoP",
        "outputId": "55648393-d470-46de-8ef6-a98e5f95b64f"
      },
      "outputs": [
        {
          "output_type": "stream",
          "name": "stdout",
          "text": [
            "tensor([[1, 2, 3],\n",
            "        [4, 5, 6],\n",
            "        [7, 8, 9]])\n",
            "x4 = tensor([1, 2, 3, 4, 5, 6, 7, 8, 9])\n",
            "x5 = tensor([[[1, 2, 3],\n",
            "         [4, 5, 6],\n",
            "         [7, 8, 9]]])\n"
          ]
        }
      ],
      "source": [
        "print(x)\n",
        "x4 = x.view(9)\n",
        "x5 = x.view(1,3,3)\n",
        "print(\"x4 =\", x4)\n",
        "print(\"x5 =\", x5)"
      ]
    },
    {
      "cell_type": "code",
      "execution_count": 29,
      "metadata": {
        "colab": {
          "base_uri": "https://localhost:8080/"
        },
        "id": "XKdaA39tVxqD",
        "outputId": "a6519a1c-e6f6-4c37-99ef-1be13150d12a"
      },
      "outputs": [
        {
          "output_type": "stream",
          "name": "stdout",
          "text": [
            "tensor([[0.6644],\n",
            "        [5.3121],\n",
            "        [6.1166]])\n"
          ]
        }
      ],
      "source": [
        "x = torch.FloatTensor([[1,2],\n",
        "                       [3,4],\n",
        "                       [5,6]])\n",
        "\n",
        "w = torch.randn(1,2, dtype=torch.float)\n",
        "b = torch.randn(3,1, dtype=torch.float)\n",
        "\n",
        "result = torch.mm(x, torch.t(w)) + b\n",
        "\n",
        "# torch.t(w) transpose\n",
        "# torch.mm : matrix multiplication\n",
        "\n",
        "print(result)"
      ]
    },
    {
      "cell_type": "markdown",
      "metadata": {
        "id": "s3IfKIPbb3gx"
      },
      "source": [
        "## torch"
      ]
    },
    {
      "cell_type": "code",
      "execution_count": 30,
      "metadata": {
        "colab": {
          "base_uri": "https://localhost:8080/"
        },
        "id": "DuqtAxeuWSMl",
        "outputId": "81f9286a-130d-48a1-f7d3-06434891401c"
      },
      "outputs": [
        {
          "output_type": "execute_result",
          "data": {
            "text/plain": [
              "(tensor([[1., 2.],\n",
              "         [3., 2.],\n",
              "         [3., 7.],\n",
              "         [1., 1.],\n",
              "         [1., 0.]]),\n",
              " tensor([[ 4.],\n",
              "         [ 8.],\n",
              "         [23.],\n",
              "         [ 1.],\n",
              "         [-2.]]))"
            ]
          },
          "metadata": {},
          "execution_count": 30
        }
      ],
      "source": [
        "import torch\n",
        "x_train = torch.FloatTensor([[1,2], [3,2], [3,7], [1,1], [1,0]])\n",
        "y_train = torch.FloatTensor([[4], [8], [23], [1], [-2]])\n",
        "x_train, y_train"
      ]
    },
    {
      "cell_type": "code",
      "execution_count": 31,
      "metadata": {
        "colab": {
          "base_uri": "https://localhost:8080/"
        },
        "id": "pYd0jn5Pb8Yx",
        "outputId": "f3b24354-6c5e-4049-95ad-48b8f73b6c07"
      },
      "outputs": [
        {
          "output_type": "stream",
          "name": "stdout",
          "text": [
            "tensor([[0.9743],\n",
            "        [0.4217]]) tensor([[0.6065]])\n"
          ]
        }
      ],
      "source": [
        "# making a linear graph / coef and y intercept\n",
        "W = torch.rand(2,1)\n",
        "b = torch.rand(1,1)\n",
        "\n",
        "lr = 0.01\n",
        "print(W,b)"
      ]
    },
    {
      "cell_type": "code",
      "execution_count": 32,
      "metadata": {
        "colab": {
          "base_uri": "https://localhost:8080/"
        },
        "id": "aSSEDR9BePyo",
        "outputId": "bd7a5003-e3cc-4d21-dcd5-5230eb32cac2"
      },
      "outputs": [
        {
          "output_type": "stream",
          "name": "stdout",
          "text": [
            "0 60.466094970703125 tensor([1.2041, 0.9218]) tensor([[0.6750]])\n",
            "100 1.6212751865386963 tensor([0.6643, 3.1199]) tensor([[-1.2937]])\n",
            "200 0.7770349979400635 tensor([0.9080, 3.1839]) tensor([[-2.1528]])\n",
            "300 0.39861205220222473 tensor([1.2019, 3.1429]) tensor([[-2.6863]])\n",
            "400 0.20484504103660583 tensor([1.4261, 3.1037]) tensor([[-3.0594]])\n",
            "500 0.10527336597442627 tensor([1.5884, 3.0745]) tensor([[-3.3259]])\n",
            "600 0.05410196632146835 tensor([1.7049, 3.0534]) tensor([[-3.5167]])\n",
            "700 0.027804087847471237 tensor([1.7885, 3.0383]) tensor([[-3.6536]])\n",
            "800 0.014289024285972118 tensor([1.8483, 3.0274]) tensor([[-3.7516]])\n",
            "900 0.007343384437263012 tensor([1.8913, 3.0197]) tensor([[-3.8220]])\n",
            "1000 0.0037738990504294634 tensor([1.9221, 3.0141]) tensor([[-3.8724]])\n",
            "1100 0.001939496025443077 tensor([1.9441, 3.0101]) tensor([[-3.9085]])\n",
            "1200 0.0009967638179659843 tensor([1.9599, 3.0072]) tensor([[-3.9344]])\n",
            "1300 0.0005122622242197394 tensor([1.9713, 3.0052]) tensor([[-3.9530]])\n",
            "1400 0.0002632741234265268 tensor([1.9794, 3.0037]) tensor([[-3.9663]])\n",
            "1500 0.00013530300930142403 tensor([1.9852, 3.0027]) tensor([[-3.9758]])\n",
            "1600 6.953102274565026e-05 tensor([1.9894, 3.0019]) tensor([[-3.9827]])\n",
            "1700 3.573115463950671e-05 tensor([1.9924, 3.0014]) tensor([[-3.9876]])\n",
            "1800 1.8362088667345233e-05 tensor([1.9946, 3.0010]) tensor([[-3.9911]])\n",
            "1900 9.436060281586833e-06 tensor([1.9961, 3.0007]) tensor([[-3.9936]])\n",
            "2000 4.849824563279981e-06 tensor([1.9972, 3.0005]) tensor([[-3.9954]])\n",
            "2100 2.492988414815045e-06 tensor([1.9980, 3.0004]) tensor([[-3.9967]])\n",
            "2200 1.2814092542612343e-06 tensor([1.9986, 3.0003]) tensor([[-3.9976]])\n",
            "2300 6.588026622011967e-07 tensor([1.9990, 3.0002]) tensor([[-3.9983]])\n",
            "2400 3.3861829251691233e-07 tensor([1.9993, 3.0001]) tensor([[-3.9988]])\n",
            "2500 1.741807125199557e-07 tensor([1.9995, 3.0001]) tensor([[-3.9991]])\n",
            "2600 8.955635166785214e-08 tensor([1.9996, 3.0001]) tensor([[-3.9994]])\n",
            "2700 4.628038041687432e-08 tensor([1.9997, 3.0000]) tensor([[-3.9996]])\n",
            "2800 2.3583734076737528e-08 tensor([1.9998, 3.0000]) tensor([[-3.9997]])\n",
            "2900 1.2321473619181234e-08 tensor([1.9999, 3.0000]) tensor([[-3.9998]])\n",
            "3000 6.4227263507632415e-09 tensor([1.9999, 3.0000]) tensor([[-3.9998]])\n"
          ]
        }
      ],
      "source": [
        "for epoch in range(3001): # How many times gonna repeat\n",
        "  W.requires_grad_(True)\n",
        "  b.requires_grad_(True) # calculating Gradient  // requires grad True\n",
        "\n",
        "    # making hypothesis\n",
        "  h = torch.mm(x_train, W) + b\n",
        "\n",
        "  # gap btw true values vs hypothesis values\n",
        "  cost = ((y_train - h) ** 2).mean()\n",
        "\n",
        "  cost.backward() # Gradient calcualating function\n",
        "  with torch.no_grad() as grd : # pause _ gradient calculating\n",
        "    W = W - lr * W.grad # updating W value : moving - direction\n",
        "    b = b - lr * b.grad\n",
        "\n",
        "  if epoch % 100 == 0: # checking the learning process\n",
        "    print(epoch, cost.item(), W.squeeze(), b)"
      ]
    },
    {
      "cell_type": "code",
      "execution_count": 33,
      "metadata": {
        "colab": {
          "base_uri": "https://localhost:8080/"
        },
        "id": "4kRm_UDbm-AE",
        "outputId": "1329e2cd-8284-4ffb-a3c7-563fcf3280df"
      },
      "outputs": [
        {
          "output_type": "execute_result",
          "data": {
            "text/plain": [
              "tensor([[35.9998]])"
            ]
          },
          "metadata": {},
          "execution_count": 33
        }
      ],
      "source": [
        "x_test = torch.FloatTensor([[5,10]])\n",
        "torch.mm(x_test, W) + b"
      ]
    },
    {
      "cell_type": "code",
      "execution_count": 34,
      "metadata": {
        "colab": {
          "base_uri": "https://localhost:8080/"
        },
        "id": "3JCS3EvOm-Q-",
        "outputId": "b14b62f0-a88c-4343-cdb4-0a7e377102fe"
      },
      "outputs": [
        {
          "output_type": "stream",
          "name": "stdout",
          "text": [
            "35.99984359741211\n"
          ]
        }
      ],
      "source": [
        "test_result = torch.mm(x_test, W) + b\n",
        "print(test_result.item())\n",
        "\n",
        "# Therefore, if we put [[5,10]] in this graph, we'll get approximately value of 8 in this function."
      ]
    },
    {
      "cell_type": "markdown",
      "metadata": {
        "id": "hDDLcIJroxY2"
      },
      "source": [
        "##  Sklearn"
      ]
    },
    {
      "cell_type": "code",
      "execution_count": 35,
      "metadata": {
        "colab": {
          "base_uri": "https://localhost:8080/"
        },
        "id": "aB1h2m9vnCMs",
        "outputId": "4633f8c7-43fa-40ba-eb8a-04f1509244dc"
      },
      "outputs": [
        {
          "output_type": "stream",
          "name": "stdout",
          "text": [
            "[[2. 3.]] [-4.]\n"
          ]
        }
      ],
      "source": [
        "from sklearn.linear_model import LinearRegression\n",
        "\n",
        "x = [[1,2], [3,2], [3,7], [1,1], [1,0]]\n",
        "y = [[4], [8], [23], [1], [-2]]\n",
        "\n",
        "lr = LinearRegression() # Model Generating\n",
        "lr.fit(x, y) # Fitting / learning\n",
        "\n",
        "print(lr.coef_, lr.intercept_)"
      ]
    },
    {
      "cell_type": "code",
      "execution_count": 36,
      "metadata": {
        "colab": {
          "base_uri": "https://localhost:8080/"
        },
        "id": "Qm9HfFIRo7b6",
        "outputId": "4ac8d123-6433-4598-dd53-a55a0ad58843"
      },
      "outputs": [
        {
          "output_type": "stream",
          "name": "stdout",
          "text": [
            "[[36.]]\n"
          ]
        }
      ],
      "source": [
        "print(lr.predict([[5,10]]))"
      ]
    },
    {
      "cell_type": "markdown",
      "source": [
        "# Logistic Regression"
      ],
      "metadata": {
        "id": "_yiwvAdLl_i3"
      }
    },
    {
      "cell_type": "markdown",
      "source": [
        "## torch"
      ],
      "metadata": {
        "id": "7-v_ddvo05VN"
      }
    },
    {
      "cell_type": "code",
      "source": [
        "import torch"
      ],
      "metadata": {
        "id": "kFinJo5ll_Wa"
      },
      "execution_count": 37,
      "outputs": []
    },
    {
      "cell_type": "code",
      "source": [
        "x_train = torch.FloatTensor([[1],[2],[3],[4],[5],[2.5],[3.5],[0],[3.1],[2.7],[2.8],[2.9]])\n",
        "y_train = torch.FloatTensor([[1],[1],[1],[0],[0],[0],[0],[1],[0],[1],[1],[1]])"
      ],
      "metadata": {
        "id": "v30u6ZkFmD9Y"
      },
      "execution_count": 38,
      "outputs": []
    },
    {
      "cell_type": "code",
      "source": [
        "x_train.shape"
      ],
      "metadata": {
        "colab": {
          "base_uri": "https://localhost:8080/"
        },
        "id": "blZVsEryy6ix",
        "outputId": "ef5d7973-2c0e-4ed8-a5f2-6695e9a07810"
      },
      "execution_count": 39,
      "outputs": [
        {
          "output_type": "execute_result",
          "data": {
            "text/plain": [
              "torch.Size([12, 1])"
            ]
          },
          "metadata": {},
          "execution_count": 39
        }
      ]
    },
    {
      "cell_type": "code",
      "source": [
        "torch.linspace(0,5,100)"
      ],
      "metadata": {
        "colab": {
          "base_uri": "https://localhost:8080/"
        },
        "id": "NEfhT4u6y-ve",
        "outputId": "d48c3adb-9490-4dfa-acec-70898aeadd52"
      },
      "execution_count": 40,
      "outputs": [
        {
          "output_type": "execute_result",
          "data": {
            "text/plain": [
              "tensor([0.0000, 0.0505, 0.1010, 0.1515, 0.2020, 0.2525, 0.3030, 0.3535, 0.4040,\n",
              "        0.4545, 0.5051, 0.5556, 0.6061, 0.6566, 0.7071, 0.7576, 0.8081, 0.8586,\n",
              "        0.9091, 0.9596, 1.0101, 1.0606, 1.1111, 1.1616, 1.2121, 1.2626, 1.3131,\n",
              "        1.3636, 1.4141, 1.4646, 1.5152, 1.5657, 1.6162, 1.6667, 1.7172, 1.7677,\n",
              "        1.8182, 1.8687, 1.9192, 1.9697, 2.0202, 2.0707, 2.1212, 2.1717, 2.2222,\n",
              "        2.2727, 2.3232, 2.3737, 2.4242, 2.4747, 2.5253, 2.5758, 2.6263, 2.6768,\n",
              "        2.7273, 2.7778, 2.8283, 2.8788, 2.9293, 2.9798, 3.0303, 3.0808, 3.1313,\n",
              "        3.1818, 3.2323, 3.2828, 3.3333, 3.3838, 3.4343, 3.4848, 3.5354, 3.5859,\n",
              "        3.6364, 3.6869, 3.7374, 3.7879, 3.8384, 3.8889, 3.9394, 3.9899, 4.0404,\n",
              "        4.0909, 4.1414, 4.1919, 4.2424, 4.2929, 4.3434, 4.3939, 4.4444, 4.4949,\n",
              "        4.5455, 4.5960, 4.6465, 4.6970, 4.7475, 4.7980, 4.8485, 4.8990, 4.9495,\n",
              "        5.0000])"
            ]
          },
          "metadata": {},
          "execution_count": 40
        }
      ]
    },
    {
      "cell_type": "code",
      "source": [
        "torch.linspace(0,5,100).shape"
      ],
      "metadata": {
        "colab": {
          "base_uri": "https://localhost:8080/"
        },
        "id": "UtRd45wSzBMg",
        "outputId": "e52db715-d59b-41ab-bc24-b8f41552f346"
      },
      "execution_count": 41,
      "outputs": [
        {
          "output_type": "execute_result",
          "data": {
            "text/plain": [
              "torch.Size([100])"
            ]
          },
          "metadata": {},
          "execution_count": 41
        }
      ]
    },
    {
      "cell_type": "code",
      "source": [
        "torch.linspace(0,5,100).unsqueeze(1)"
      ],
      "metadata": {
        "id": "44FJk0b20GG_",
        "colab": {
          "base_uri": "https://localhost:8080/"
        },
        "outputId": "d4722291-e263-44c6-dff7-72696cb4567b"
      },
      "execution_count": 42,
      "outputs": [
        {
          "output_type": "execute_result",
          "data": {
            "text/plain": [
              "tensor([[0.0000],\n",
              "        [0.0505],\n",
              "        [0.1010],\n",
              "        [0.1515],\n",
              "        [0.2020],\n",
              "        [0.2525],\n",
              "        [0.3030],\n",
              "        [0.3535],\n",
              "        [0.4040],\n",
              "        [0.4545],\n",
              "        [0.5051],\n",
              "        [0.5556],\n",
              "        [0.6061],\n",
              "        [0.6566],\n",
              "        [0.7071],\n",
              "        [0.7576],\n",
              "        [0.8081],\n",
              "        [0.8586],\n",
              "        [0.9091],\n",
              "        [0.9596],\n",
              "        [1.0101],\n",
              "        [1.0606],\n",
              "        [1.1111],\n",
              "        [1.1616],\n",
              "        [1.2121],\n",
              "        [1.2626],\n",
              "        [1.3131],\n",
              "        [1.3636],\n",
              "        [1.4141],\n",
              "        [1.4646],\n",
              "        [1.5152],\n",
              "        [1.5657],\n",
              "        [1.6162],\n",
              "        [1.6667],\n",
              "        [1.7172],\n",
              "        [1.7677],\n",
              "        [1.8182],\n",
              "        [1.8687],\n",
              "        [1.9192],\n",
              "        [1.9697],\n",
              "        [2.0202],\n",
              "        [2.0707],\n",
              "        [2.1212],\n",
              "        [2.1717],\n",
              "        [2.2222],\n",
              "        [2.2727],\n",
              "        [2.3232],\n",
              "        [2.3737],\n",
              "        [2.4242],\n",
              "        [2.4747],\n",
              "        [2.5253],\n",
              "        [2.5758],\n",
              "        [2.6263],\n",
              "        [2.6768],\n",
              "        [2.7273],\n",
              "        [2.7778],\n",
              "        [2.8283],\n",
              "        [2.8788],\n",
              "        [2.9293],\n",
              "        [2.9798],\n",
              "        [3.0303],\n",
              "        [3.0808],\n",
              "        [3.1313],\n",
              "        [3.1818],\n",
              "        [3.2323],\n",
              "        [3.2828],\n",
              "        [3.3333],\n",
              "        [3.3838],\n",
              "        [3.4343],\n",
              "        [3.4848],\n",
              "        [3.5354],\n",
              "        [3.5859],\n",
              "        [3.6364],\n",
              "        [3.6869],\n",
              "        [3.7374],\n",
              "        [3.7879],\n",
              "        [3.8384],\n",
              "        [3.8889],\n",
              "        [3.9394],\n",
              "        [3.9899],\n",
              "        [4.0404],\n",
              "        [4.0909],\n",
              "        [4.1414],\n",
              "        [4.1919],\n",
              "        [4.2424],\n",
              "        [4.2929],\n",
              "        [4.3434],\n",
              "        [4.3939],\n",
              "        [4.4444],\n",
              "        [4.4949],\n",
              "        [4.5455],\n",
              "        [4.5960],\n",
              "        [4.6465],\n",
              "        [4.6970],\n",
              "        [4.7475],\n",
              "        [4.7980],\n",
              "        [4.8485],\n",
              "        [4.8990],\n",
              "        [4.9495],\n",
              "        [5.0000]])"
            ]
          },
          "metadata": {},
          "execution_count": 42
        }
      ]
    },
    {
      "cell_type": "code",
      "source": [
        "torch.linspace(0,5,100).unsqueeze(1).shape"
      ],
      "metadata": {
        "colab": {
          "base_uri": "https://localhost:8080/"
        },
        "id": "U0Hve8g3zFAH",
        "outputId": "e7bef647-ecdd-43a2-b265-87193ce02773"
      },
      "execution_count": 43,
      "outputs": [
        {
          "output_type": "execute_result",
          "data": {
            "text/plain": [
              "torch.Size([100, 1])"
            ]
          },
          "metadata": {},
          "execution_count": 43
        }
      ]
    },
    {
      "cell_type": "code",
      "source": [
        "# reset W and b value\n",
        "W = torch.randn(1,1)\n",
        "b = torch.randn(1,1)\n",
        "\n",
        "lr = 1.0"
      ],
      "metadata": {
        "id": "0veCKC7_mFIF"
      },
      "execution_count": 44,
      "outputs": []
    },
    {
      "cell_type": "code",
      "source": [
        "for epoch in range(3001):\n",
        "  W.requires_grad_(True)\n",
        "  b.requires_grad_(True)\n",
        "\n",
        "  # Logistic H(x)\n",
        "  h = torch.sigmoid(x_train @ W + b)\n",
        "  cost = torch.mean(-y_train * torch.log(h) - (1-y_train) * torch.log(1-h))\n",
        "\n",
        "  # cost 미분\n",
        "  cost.backward() # autograde / calculate the gradient\n",
        "\n",
        "  # update\n",
        "  with torch.no_grad(): # stop calculating gradient\n",
        "    W = W - lr * W.grad\n",
        "    b = b - lr * b.grad\n",
        "\n",
        "    if epoch % 100 == 0:\n",
        "      print( 'epoch: {}, cost: {:.10f}, W: {:.6f}, b: {:.6f}'.format(epoch, cost.item(), W.squeeze(), b.squeeze()))"
      ],
      "metadata": {
        "colab": {
          "base_uri": "https://localhost:8080/"
        },
        "id": "r03Z8LQDs8XG",
        "outputId": "aacf88ed-8b73-4db2-9eae-1b5ce75edf06"
      },
      "execution_count": 45,
      "outputs": [
        {
          "output_type": "stream",
          "name": "stdout",
          "text": [
            "epoch: 0, cost: 0.7611091137, W: -0.777927, b: 0.763717\n",
            "epoch: 100, cost: 0.4173731804, W: -1.497063, b: 4.547703\n",
            "epoch: 200, cost: 0.3978393078, W: -1.924258, b: 5.852201\n",
            "epoch: 300, cost: 0.3904244602, W: -2.191731, b: 6.662138\n",
            "epoch: 400, cost: 0.3868005574, W: -2.379995, b: 7.229730\n",
            "epoch: 500, cost: 0.3848048747, W: -2.520239, b: 7.651406\n",
            "epoch: 600, cost: 0.3836263418, W: -2.628274, b: 7.975643\n",
            "epoch: 700, cost: 0.3828980625, W: -2.713349, b: 8.230634\n",
            "epoch: 800, cost: 0.3824332952, W: -2.781384, b: 8.434355\n",
            "epoch: 900, cost: 0.3821299970, W: -2.836412, b: 8.598999\n",
            "epoch: 1000, cost: 0.3819284141, W: -2.881299, b: 8.733225\n",
            "epoch: 1100, cost: 0.3817926943, W: -2.918153, b: 8.843378\n",
            "epoch: 1200, cost: 0.3817003667, W: -2.948572, b: 8.934265\n",
            "epoch: 1300, cost: 0.3816368878, W: -2.973781, b: 9.009560\n",
            "epoch: 1400, cost: 0.3815931082, W: -2.994741, b: 9.072151\n",
            "epoch: 1500, cost: 0.3815625906, W: -3.012219, b: 9.124331\n",
            "epoch: 1600, cost: 0.3815413415, W: -3.026823, b: 9.167925\n",
            "epoch: 1700, cost: 0.3815264702, W: -3.039047, b: 9.204409\n",
            "epoch: 1800, cost: 0.3815160096, W: -3.049297, b: 9.234996\n",
            "epoch: 1900, cost: 0.3815087378, W: -3.057898, b: 9.260664\n",
            "epoch: 2000, cost: 0.3815034330, W: -3.065126, b: 9.282228\n",
            "epoch: 2100, cost: 0.3814997673, W: -3.071203, b: 9.300360\n",
            "epoch: 2200, cost: 0.3814972341, W: -3.076318, b: 9.315620\n",
            "epoch: 2300, cost: 0.3814952672, W: -3.080625, b: 9.328468\n",
            "epoch: 2400, cost: 0.3814940453, W: -3.084254, b: 9.339293\n",
            "epoch: 2500, cost: 0.3814930916, W: -3.087312, b: 9.348415\n",
            "epoch: 2600, cost: 0.3814924955, W: -3.089890, b: 9.356108\n",
            "epoch: 2700, cost: 0.3814919293, W: -3.092067, b: 9.362598\n",
            "epoch: 2800, cost: 0.3814915717, W: -3.093901, b: 9.368072\n",
            "epoch: 2900, cost: 0.3814913929, W: -3.095450, b: 9.372689\n",
            "epoch: 3000, cost: 0.3814913034, W: -3.096757, b: 9.376590\n"
          ]
        }
      ]
    },
    {
      "cell_type": "code",
      "source": [
        "x_test = torch.FloatTensor([[4.5],[1.1]])\n",
        "test_result = torch.sigmoid(torch.mm(x_test,W) + b)\n",
        "test_result # 0.0104 / 0.9975 > (approximately) 0 and 1"
      ],
      "metadata": {
        "colab": {
          "base_uri": "https://localhost:8080/"
        },
        "id": "SOD7FzGTtJNP",
        "outputId": "c001e601-6463-44c2-95c2-5100a48c5a24"
      },
      "execution_count": 46,
      "outputs": [
        {
          "output_type": "execute_result",
          "data": {
            "text/plain": [
              "tensor([[0.0104],\n",
              "        [0.9975]])"
            ]
          },
          "metadata": {},
          "execution_count": 46
        }
      ]
    },
    {
      "cell_type": "markdown",
      "source": [
        "## Using various Optimizer"
      ],
      "metadata": {
        "id": "7eyN9-TBttfQ"
      }
    },
    {
      "cell_type": "code",
      "source": [
        "optimizer = torch.optim.SGD([W,b], lr=1.0)\n",
        "optimizer = torch.optim.Adam([W,b], lr=1.0)\n",
        "optimizer = torch.optim.Adadelta([W,b])\n",
        "optimizer = torch.optim.Adagrad([W,b])\n",
        "optimizer = torch.optim.RMSprop([W,b])"
      ],
      "metadata": {
        "id": "l0qaBACJti3J"
      },
      "execution_count": 47,
      "outputs": []
    },
    {
      "cell_type": "markdown",
      "source": [
        "## Visualization"
      ],
      "metadata": {
        "id": "izj-C3cxyCl9"
      }
    },
    {
      "cell_type": "code",
      "source": [
        "import matplotlib.pyplot as plt"
      ],
      "metadata": {
        "id": "BjkvG1VmyDM4"
      },
      "execution_count": 48,
      "outputs": []
    },
    {
      "cell_type": "code",
      "source": [
        "W.requires_grad_(False)\n",
        "b.requires_grad_(False)\n",
        "\n",
        "plt.scatter(x_train,y_train,c='black')\n",
        "\n",
        "X = torch.linspace(0,5,100).unsqueeze(1)\n",
        "Y = torch.sigmoid(torch.mm(X,W) + b)\n",
        "plt.plot(X,Y,c='r')\n",
        "plt.show()"
      ],
      "metadata": {
        "colab": {
          "base_uri": "https://localhost:8080/",
          "height": 430
        },
        "id": "8iaPoY1ayHLL",
        "outputId": "12ad58ab-a3d5-475b-ab2f-87253412c42c"
      },
      "execution_count": 49,
      "outputs": [
        {
          "output_type": "display_data",
          "data": {
            "text/plain": [
              "<Figure size 640x480 with 1 Axes>"
            ],
            "image/png": "[encoded data removed]"
          },
          "metadata": {}
        }
      ]
    },
    {
      "cell_type": "markdown",
      "source": [
        "## Sklearn"
      ],
      "metadata": {
        "id": "JYA7V7tF00IE"
      }
    },
    {
      "cell_type": "code",
      "source": [
        "from sklearn.linear_model import LogisticRegression\n",
        "\n",
        "x_train = [[1],[2],[3],[4],[5],[2.5],[3.5],[0],[3.1],[2.7],[2.8],[2.9]]\n",
        "y_train = [1,1,1,0,0,0,0,1,0,1,1,1]  # input shape is different from pytorch version\n",
        "\n",
        "Logistic_model = LogisticRegression(penalty = 'none') #(penalty = regulization)\n",
        "Logistic_model.fit(x_train,y_train)\n",
        "\n",
        "print(Logistic_model.coef_, Logistic_model.intercept_)\n",
        "\n",
        "x_test = [[4.5],[1.1]]\n",
        "test_result = Logistic_model.predict(x_test)\n",
        "print(test_result)"
      ],
      "metadata": {
        "colab": {
          "base_uri": "https://localhost:8080/"
        },
        "id": "xMtChHJr0t_X",
        "outputId": "b7f53304-6da7-4793-b0f0-9730dbfb638f"
      },
      "execution_count": 50,
      "outputs": [
        {
          "output_type": "stream",
          "name": "stdout",
          "text": [
            "[[-3.10385806]] [9.39776831]\n",
            "[0 1]\n"
          ]
        },
        {
          "output_type": "stream",
          "name": "stderr",
          "text": [
            "/usr/local/lib/python3.10/dist-packages/sklearn/linear_model/_logistic.py:1173: FutureWarning: `penalty='none'`has been deprecated in 1.2 and will be removed in 1.4. To keep the past behaviour, set `penalty=None`.\n",
            "  warnings.warn(\n"
          ]
        }
      ]
    },
    {
      "cell_type": "markdown",
      "source": [
        "# Softmax Regression"
      ],
      "metadata": {
        "id": "nG3uRL9m0-uA"
      }
    },
    {
      "cell_type": "markdown",
      "source": [
        "## torch"
      ],
      "metadata": {
        "id": "Q4Sge-2p3ADl"
      }
    },
    {
      "cell_type": "code",
      "source": [
        "import torch\n",
        "x_train = torch.FloatTensor([ [1,2,1,1], [2,1,3,2], [3,1,3,4], [4,1,5,5], [1,7,5,5],\n",
        " [1,2,5,6], [1,6,6,6], [1,7,7,7] ])\n",
        "y_train = torch.FloatTensor([ [0,0,1], [0,0,1], [0,0,1], [0,1,0], [0,1,0], [0,1,0],\n",
        " [1,0,0], [1,0,0] ])"
      ],
      "metadata": {
        "id": "brOD5uYZ1B9D"
      },
      "execution_count": 51,
      "outputs": []
    },
    {
      "cell_type": "code",
      "source": [
        "W = torch.randn(4, 3, requires_grad=True) # row(x의 차원), column(맞추고자 하는 class개수)\n",
        "b = torch.randn(1, 3, requires_grad=True) # 각 클래스마다 존재\n",
        "optimizer = torch.optim.Adam([W,b], lr=0.1)"
      ],
      "metadata": {
        "id": "LHsbPBBZ1F_t"
      },
      "execution_count": 52,
      "outputs": []
    },
    {
      "cell_type": "code",
      "source": [
        "W = torch.randn(4, 3, requires_grad=True) # zero로 설정하는 것 보다 randn이 더 빠르게 학습\n",
        "b = torch.randn(1, 3, requires_grad=True)\n",
        "optimizer = torch.optim.Adam([W,b], lr=0.1)\n",
        "\n",
        "for epoch in range(3001):\n",
        "\n",
        "  # H(x) and Cost function\n",
        "  hypothesis = torch.softmax(torch.mm(x_train, W)+b, dim=1)\n",
        "  cost = -torch.mean(torch.sum(y_train * torch.log(hypothesis), dim=1)) # cost entropy\n",
        "\n",
        "  # cost 미분\n",
        "  optimizer.zero_grad()\n",
        "  cost.backward()\n",
        "  optimizer.step()\n",
        "\n",
        "  if epoch % 100 == 0:\n",
        "    print(\"epoch: {}, cost: {:.6f}\".format(epoch, cost.item()))\n"
      ],
      "metadata": {
        "colab": {
          "base_uri": "https://localhost:8080/"
        },
        "id": "aKK9ue9n1_73",
        "outputId": "03ef8087-d870-40be-e8bc-366a96706bb6"
      },
      "execution_count": 53,
      "outputs": [
        {
          "output_type": "stream",
          "name": "stdout",
          "text": [
            "epoch: 0, cost: 2.841970\n",
            "epoch: 100, cost: 0.343101\n",
            "epoch: 200, cost: 0.219155\n",
            "epoch: 300, cost: 0.149336\n",
            "epoch: 400, cost: 0.108433\n",
            "epoch: 500, cost: 0.082455\n",
            "epoch: 600, cost: 0.064848\n",
            "epoch: 700, cost: 0.052328\n",
            "epoch: 800, cost: 0.043097\n",
            "epoch: 900, cost: 0.036091\n",
            "epoch: 1000, cost: 0.030646\n",
            "epoch: 1100, cost: 0.026329\n",
            "epoch: 1200, cost: 0.022848\n",
            "epoch: 1300, cost: 0.019998\n",
            "epoch: 1400, cost: 0.017636\n",
            "epoch: 1500, cost: 0.015655\n",
            "epoch: 1600, cost: 0.013978\n",
            "epoch: 1700, cost: 0.012544\n",
            "epoch: 1800, cost: 0.011309\n",
            "epoch: 1900, cost: 0.010238\n",
            "epoch: 2000, cost: 0.009302\n",
            "epoch: 2100, cost: 0.008480\n",
            "epoch: 2200, cost: 0.007753\n",
            "epoch: 2300, cost: 0.007109\n",
            "epoch: 2400, cost: 0.006534\n",
            "epoch: 2500, cost: 0.006020\n",
            "epoch: 2600, cost: 0.005558\n",
            "epoch: 2700, cost: 0.005141\n",
            "epoch: 2800, cost: 0.004763\n",
            "epoch: 2900, cost: 0.004421\n",
            "epoch: 3000, cost: 0.004110\n"
          ]
        }
      ]
    },
    {
      "cell_type": "code",
      "source": [
        "# 주어진 x값이 있을 때 예상되는 y값은?\n",
        "\n",
        "W.requires_grad_(False)\n",
        "b.requires_grad_(False)\n",
        "\n",
        "x_test = torch.FloatTensor([[1,11,10,9], [1,3,4,3], [1,1,0,1]])\n",
        "test_all = torch.softmax(torch.mm(x_test, W)+b, dim=1)\n",
        "\n",
        "print(test_all)\n",
        "print(torch.argmax(test_all, dim=1))"
      ],
      "metadata": {
        "colab": {
          "base_uri": "https://localhost:8080/"
        },
        "id": "klDRAh-z2Z9f",
        "outputId": "ce3d2d66-b661-40d4-a78e-9f56aa719d36"
      },
      "execution_count": 54,
      "outputs": [
        {
          "output_type": "stream",
          "name": "stdout",
          "text": [
            "tensor([[1.0000e+00, 1.3645e-17, 1.3385e-35],\n",
            "        [2.2928e-03, 7.6423e-01, 2.3348e-01],\n",
            "        [1.6364e-31, 3.5151e-11, 1.0000e+00]])\n",
            "tensor([0, 1, 2])\n"
          ]
        }
      ]
    },
    {
      "cell_type": "code",
      "source": [
        "a = torch.tensor([[1,3,2,6,4],[7,2,9,3,8]],dtype = torch.float)\n",
        "torch.argmax(a,dim=1)"
      ],
      "metadata": {
        "colab": {
          "base_uri": "https://localhost:8080/"
        },
        "id": "JSfJMQ-C9ZZa",
        "outputId": "16a22a21-1896-4036-f69d-ccb8428e12b6"
      },
      "execution_count": 62,
      "outputs": [
        {
          "output_type": "execute_result",
          "data": {
            "text/plain": [
              "tensor([3, 2])"
            ]
          },
          "metadata": {},
          "execution_count": 62
        }
      ]
    },
    {
      "cell_type": "code",
      "source": [
        "torch.argmax(x_test,dim=1) # 가장 큰 값"
      ],
      "metadata": {
        "colab": {
          "base_uri": "https://localhost:8080/"
        },
        "id": "T9fLz2qu9vWn",
        "outputId": "d512f9d1-41e1-4fc2-bcd0-2c9c6b69abd7"
      },
      "execution_count": 63,
      "outputs": [
        {
          "output_type": "execute_result",
          "data": {
            "text/plain": [
              "tensor([1, 2, 0])"
            ]
          },
          "metadata": {},
          "execution_count": 63
        }
      ]
    },
    {
      "cell_type": "markdown",
      "source": [
        "## 간소화된 표현코드"
      ],
      "metadata": {
        "id": "Se6rLIsC3DDB"
      }
    },
    {
      "cell_type": "code",
      "source": [
        "# pytorch에서 제공하는 cross_entropy 함수 사용"
      ],
      "metadata": {
        "id": "Gn3pU42c-Vyx"
      },
      "execution_count": null,
      "outputs": []
    },
    {
      "cell_type": "code",
      "source": [
        "import torch.nn.functional as F"
      ],
      "metadata": {
        "id": "-L170Zqm5hk_"
      },
      "execution_count": 55,
      "outputs": []
    },
    {
      "cell_type": "code",
      "source": [
        "x_train = torch.FloatTensor([ [1,2,1,1], [2,1,3,2], [3,1,3,4], [4,1,5,5], [1,7,5,5], [1,2,5,6], [1,6,6,6], [1,7,7,7] ])\n",
        "y_train = torch.tensor([2,2,2,1,1,1,0,0],dtype = torch.long)\n",
        "\n",
        "W = torch.randn(4, 3, requires_grad=True) # zero로 설정하는 것 보다 randn이 더 빠르게 학습\n",
        "b = torch.randn(1, 3, requires_grad=True)\n",
        "optimizer = torch.optim.Adam([W,b], lr=0.1)\n",
        "\n",
        "for epoch in range(3001):\n",
        "\n",
        "  # H(x) and Cost function\n",
        "  hypothesis = torch.mm(x_train, W) + b\n",
        "  cost = F.cross_entropy(hypothesis,y_train)\n",
        "\n",
        "  # cost 미분\n",
        "  optimizer.zero_grad()\n",
        "  cost.backward()\n",
        "  optimizer.step()\n",
        "\n",
        "  if epoch % 100 == 0:\n",
        "    print(\"epoch: {}, cost: {:.6f}\".format(epoch, cost.item()))\n"
      ],
      "metadata": {
        "colab": {
          "base_uri": "https://localhost:8080/"
        },
        "id": "8eJnPEzv_E_c",
        "outputId": "a85de66e-5625-491e-ad51-6e41141fc3ea"
      },
      "execution_count": 64,
      "outputs": [
        {
          "output_type": "stream",
          "name": "stdout",
          "text": [
            "epoch: 0, cost: 5.520892\n",
            "epoch: 100, cost: 0.291035\n",
            "epoch: 200, cost: 0.181689\n",
            "epoch: 300, cost: 0.126897\n",
            "epoch: 400, cost: 0.093753\n",
            "epoch: 500, cost: 0.071994\n",
            "epoch: 600, cost: 0.056948\n",
            "epoch: 700, cost: 0.046125\n",
            "epoch: 800, cost: 0.038087\n",
            "epoch: 900, cost: 0.031959\n",
            "epoch: 1000, cost: 0.027180\n",
            "epoch: 1100, cost: 0.023382\n",
            "epoch: 1200, cost: 0.020313\n",
            "epoch: 1300, cost: 0.017798\n",
            "epoch: 1400, cost: 0.015709\n",
            "epoch: 1500, cost: 0.013956\n",
            "epoch: 1600, cost: 0.012469\n",
            "epoch: 1700, cost: 0.011197\n",
            "epoch: 1800, cost: 0.010101\n",
            "epoch: 1900, cost: 0.009148\n",
            "epoch: 2000, cost: 0.008316\n",
            "epoch: 2100, cost: 0.007584\n",
            "epoch: 2200, cost: 0.006938\n",
            "epoch: 2300, cost: 0.006364\n",
            "epoch: 2400, cost: 0.005851\n",
            "epoch: 2500, cost: 0.005392\n",
            "epoch: 2600, cost: 0.004980\n",
            "epoch: 2700, cost: 0.004607\n",
            "epoch: 2800, cost: 0.004270\n",
            "epoch: 2900, cost: 0.003965\n",
            "epoch: 3000, cost: 0.003686\n"
          ]
        }
      ]
    },
    {
      "cell_type": "code",
      "source": [
        "# W와 b를 nn.Linear로 대체"
      ],
      "metadata": {
        "id": "vIA3GlQ1ACMS"
      },
      "execution_count": null,
      "outputs": []
    },
    {
      "cell_type": "code",
      "source": [
        "import torch.nn as nn # nn 안에 linear 모델이 있음"
      ],
      "metadata": {
        "id": "V_BNHktFAYpF"
      },
      "execution_count": 65,
      "outputs": []
    },
    {
      "cell_type": "code",
      "source": [
        "x_train = torch.FloatTensor([ [1,2,1,1], [2,1,3,2], [3,1,3,4], [4,1,5,5], [1,7,5,5], [1,2,5,6], [1,6,6,6], [1,7,7,7] ])\n",
        "y_train = torch.tensor([2,2,2,1,1,1,0,0],dtype = torch.long)\n",
        "\n",
        "# W = torch.randn(4, 3, requires_grad=True)\n",
        "# b = torch.randn(1, 3, requires_grad=True)\n",
        "\n",
        "model = nn.Linear(4,3) #(입력4) 입력벡터의 차원과 (출력3) 결과값의 개수\n",
        "optimizer = torch.optim.Adam(model.parameters(), lr=0.1)\n",
        "\n",
        "for epoch in range(3001):\n",
        "\n",
        "  # H(x) and Cost function\n",
        "  # hypothesis = torch.mm(x_train, W) + b\n",
        "  hypothesis = model(x_train)\n",
        "  cost = F.cross_entropy(hypothesis,y_train)\n",
        "\n",
        "  # cost 미분\n",
        "  #cost.requires_grad_(True)\n",
        "\n",
        "  optimizer.zero_grad()\n",
        "  cost.backward()\n",
        "  optimizer.step()\n",
        "\n",
        "  if epoch % 100 == 0:\n",
        "    print(\"epoch: {}, cost: {:.6f}\".format(epoch, cost.item()))\n"
      ],
      "metadata": {
        "colab": {
          "base_uri": "https://localhost:8080/"
        },
        "id": "kabwpdfIAWxi",
        "outputId": "ffc5a13f-0ed9-4705-9537-47cf5c961e71"
      },
      "execution_count": 74,
      "outputs": [
        {
          "output_type": "stream",
          "name": "stdout",
          "text": [
            "epoch: 0, cost: 2.453317\n",
            "epoch: 100, cost: 0.332100\n",
            "epoch: 200, cost: 0.215194\n",
            "epoch: 300, cost: 0.148716\n",
            "epoch: 400, cost: 0.109068\n",
            "epoch: 500, cost: 0.083547\n",
            "epoch: 600, cost: 0.066064\n",
            "epoch: 700, cost: 0.053527\n",
            "epoch: 800, cost: 0.044219\n",
            "epoch: 900, cost: 0.037117\n",
            "epoch: 1000, cost: 0.031573\n",
            "epoch: 1100, cost: 0.027163\n",
            "epoch: 1200, cost: 0.023597\n",
            "epoch: 1300, cost: 0.020672\n",
            "epoch: 1400, cost: 0.018242\n",
            "epoch: 1500, cost: 0.016202\n",
            "epoch: 1600, cost: 0.014473\n",
            "epoch: 1700, cost: 0.012993\n",
            "epoch: 1800, cost: 0.011717\n",
            "epoch: 1900, cost: 0.010609\n",
            "epoch: 2000, cost: 0.009641\n",
            "epoch: 2100, cost: 0.008791\n",
            "epoch: 2200, cost: 0.008039\n",
            "epoch: 2300, cost: 0.007372\n",
            "epoch: 2400, cost: 0.006776\n",
            "epoch: 2500, cost: 0.006243\n",
            "epoch: 2600, cost: 0.005764\n",
            "epoch: 2700, cost: 0.005332\n",
            "epoch: 2800, cost: 0.004941\n",
            "epoch: 2900, cost: 0.004586\n",
            "epoch: 3000, cost: 0.004263\n"
          ]
        }
      ]
    },
    {
      "cell_type": "markdown",
      "source": [
        "## Sklearn"
      ],
      "metadata": {
        "id": "hwrrBxP45mGB"
      }
    },
    {
      "cell_type": "code",
      "source": [
        "import numpy as np\n",
        "from sklearn.linear_model import LogisticRegression\n",
        "\n",
        "# y에 0, 1, 2 등 둘 이상의 class가 존재 => softmax regression 사용\n",
        "x_train = np.array([ [1,2,1,1], [2,1,3,2], [3,1,3,4], [4,1,5,5], [1,7,5,5],[1,2,5,6], [1,6,6,6], [1,7,7,7] ])\n",
        "y_train = np.array([ 2, 2, 2, 1, 1, 1, 0, 0 ])\n",
        "\n",
        "logistic = LogisticRegression() # 모델 생성\n",
        "logistic.fit(x_train, y_train) # 학습\n",
        "\n",
        "pred = logistic.predict([[1,11,10,9], [1,3,4,3], [1,1,0,1]]) # test case (값 예측)\n",
        "print(pred) # 출력\n",
        "\n",
        "# 결과\n",
        "\n",
        "# [1,11,10,9] > 0 class\n",
        "# [1,3,4,3] > 2 class\n",
        "# [1,1,0,1] > 2 class 로 예측"
      ],
      "metadata": {
        "colab": {
          "base_uri": "https://localhost:8080/"
        },
        "id": "M5HoO9dq5Zij",
        "outputId": "431b4932-4242-4d7f-a339-517064e9fdd3"
      },
      "execution_count": 57,
      "outputs": [
        {
          "output_type": "stream",
          "name": "stdout",
          "text": [
            "[0 2 2]\n"
          ]
        }
      ]
    }
  ],
  "metadata": {
    "colab": {
      "provenance": [],
      "collapsed_sections": [
        "JgUkLlWKxzK4",
        "LHge_Qud7kKX",
        "s3IfKIPbb3gx",
        "hDDLcIJroxY2",
        "_yiwvAdLl_i3"
      ]
    },
    "kernelspec": {
      "display_name": "Python 3",
      "name": "python3"
    },
    "language_info": {
      "name": "python"
    }
  },
  "nbformat": 4,
  "nbformat_minor": 0
}