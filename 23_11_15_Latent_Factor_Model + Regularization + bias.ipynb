{
  "nbformat": 4,
  "nbformat_minor": 0,
  "metadata": {
    "colab": {
      "provenance": [],
      "authorship_tag": "ABX9TyOEhcCtZp3dUQk8ofL8+Wp/",
      "include_colab_link": true
    },
    "kernelspec": {
      "name": "python3",
      "display_name": "Python 3"
    },
    "language_info": {
      "name": "python"
    }
  },
  "cells": [
    {
      "cell_type": "markdown",
      "metadata": {
        "id": "view-in-github",
        "colab_type": "text"
      },
      "source": [
        "<a href=\"https://colab.research.google.com/github/so-yeon-hwang/DataSciencePractice/blob/main/23_11_15_Latent_Factor_Model%20%2B%20Regularization%20%2B%20bias.ipynb\" target=\"_parent\"><img src=\"https://colab.research.google.com/assets/colab-badge.svg\" alt=\"Open In Colab\"/></a>"
      ]
    },
    {
      "cell_type": "code",
      "execution_count": 1,
      "metadata": {
        "colab": {
          "base_uri": "https://localhost:8080/"
        },
        "id": "WxTEDT1trxre",
        "outputId": "3be538fc-ae63-47a3-b428-891746e9f450"
      },
      "outputs": [
        {
          "output_type": "stream",
          "name": "stdout",
          "text": [
            "--2023-11-15 11:13:36--  https://files.grouplens.org/datasets/movielens/ml-100k.zip\n",
            "Resolving files.grouplens.org (files.grouplens.org)... 128.101.65.152\n",
            "Connecting to files.grouplens.org (files.grouplens.org)|128.101.65.152|:443... connected.\n",
            "HTTP request sent, awaiting response... 200 OK\n",
            "Length: 4924029 (4.7M) [application/zip]\n",
            "Saving to: ‘ml-100k.zip’\n",
            "\n",
            "ml-100k.zip         100%[===================>]   4.70M  3.08MB/s    in 1.5s    \n",
            "\n",
            "2023-11-15 11:13:39 (3.08 MB/s) - ‘ml-100k.zip’ saved [4924029/4924029]\n",
            "\n",
            "Archive:  ml-100k.zip\n",
            "   creating: ml-100k/\n",
            "  inflating: ml-100k/allbut.pl       \n",
            "  inflating: ml-100k/mku.sh          \n",
            "  inflating: ml-100k/README          \n",
            "  inflating: ml-100k/u.data          \n",
            "  inflating: ml-100k/u.genre         \n",
            "  inflating: ml-100k/u.info          \n",
            "  inflating: ml-100k/u.item          \n",
            "  inflating: ml-100k/u.occupation    \n",
            "  inflating: ml-100k/u.user          \n",
            "  inflating: ml-100k/u1.base         \n",
            "  inflating: ml-100k/u1.test         \n",
            "  inflating: ml-100k/u2.base         \n",
            "  inflating: ml-100k/u2.test         \n",
            "  inflating: ml-100k/u3.base         \n",
            "  inflating: ml-100k/u3.test         \n",
            "  inflating: ml-100k/u4.base         \n",
            "  inflating: ml-100k/u4.test         \n",
            "  inflating: ml-100k/u5.base         \n",
            "  inflating: ml-100k/u5.test         \n",
            "  inflating: ml-100k/ua.base         \n",
            "  inflating: ml-100k/ua.test         \n",
            "  inflating: ml-100k/ub.base         \n",
            "  inflating: ml-100k/ub.test         \n"
          ]
        }
      ],
      "source": [
        "!wget https://files.grouplens.org/datasets/movielens/ml-100k.zip\n",
        "!unzip ml-100k.zip"
      ]
    },
    {
      "cell_type": "code",
      "source": [
        "import torch\n",
        "import pandas as pd\n",
        "import torch.nn.functional as F\n",
        "import matplotlib.pyplot as plt"
      ],
      "metadata": {
        "id": "UGV2XOyAr4eO"
      },
      "execution_count": 2,
      "outputs": []
    },
    {
      "cell_type": "code",
      "source": [
        "train = pd.read_csv(\"ml-100k/ua.base\", sep=\"\\t\", names=['user', 'movie', 'rating', 'timestamp'])\n",
        "test = pd.read_csv(\"ml-100k/ua.test\", sep=\"\\t\", names=['user', 'movie', 'rating', 'timestamp'])"
      ],
      "metadata": {
        "id": "LcGDOX8ysAKn"
      },
      "execution_count": 3,
      "outputs": []
    },
    {
      "cell_type": "code",
      "source": [
        "# data transformation to pytorch tensor\n",
        "\n",
        "# train data\n",
        "items = torch.LongTensor(train['movie'])\n",
        "users = torch.LongTensor(train['user'])\n",
        "ratings = torch.FloatTensor(train['rating'])\n",
        "\n",
        "# test data\n",
        "items_test = torch.LongTensor(test['movie'])\n",
        "users_test = torch.LongTensor(test['user'])\n",
        "ratings_test = torch.FloatTensor(test['rating'])"
      ],
      "metadata": {
        "id": "evQRcIwMsR48"
      },
      "execution_count": 4,
      "outputs": []
    },
    {
      "cell_type": "code",
      "source": [
        "items, items.shape"
      ],
      "metadata": {
        "colab": {
          "base_uri": "https://localhost:8080/"
        },
        "id": "w4K4OKN83OEM",
        "outputId": "1dad515e-bb0a-4616-9afd-280fc02ef501"
      },
      "execution_count": 21,
      "outputs": [
        {
          "output_type": "execute_result",
          "data": {
            "text/plain": [
              "(tensor([   1,    2,    3,  ..., 1188, 1228, 1330]), torch.Size([90570]))"
            ]
          },
          "metadata": {},
          "execution_count": 21
        }
      ]
    },
    {
      "cell_type": "code",
      "source": [
        "P[items],P[items].shape"
      ],
      "metadata": {
        "colab": {
          "base_uri": "https://localhost:8080/"
        },
        "id": "4bU1hI-n3PcP",
        "outputId": "530ae8d3-ba9a-480d-c538-79dfb12d2ab3"
      },
      "execution_count": 22,
      "outputs": [
        {
          "output_type": "execute_result",
          "data": {
            "text/plain": [
              "(tensor([[-0.0643,  0.8606,  0.0439,  ..., -0.8719,  0.8639, -0.6019],\n",
              "         [-0.8155,  0.3879,  0.0707,  ..., -1.2565,  0.5831,  0.1076],\n",
              "         [-0.9594,  0.3072,  0.6690,  ..., -0.1820,  1.4553,  0.5335],\n",
              "         ...,\n",
              "         [ 0.7358,  0.9872,  0.7773,  ..., -0.7295,  0.5260,  0.5029],\n",
              "         [-0.2750,  0.2518, -0.7141,  ..., -0.8016,  0.5041, -0.0744],\n",
              "         [-1.6972,  0.5186, -0.6948,  ..., -0.5619,  2.2957,  1.6360]],\n",
              "        grad_fn=<IndexBackward0>),\n",
              " torch.Size([90570, 10]))"
            ]
          },
          "metadata": {},
          "execution_count": 22
        }
      ]
    },
    {
      "cell_type": "markdown",
      "source": [
        "# Latent Factor Model"
      ],
      "metadata": {
        "id": "shnKd6tDsf-T"
      }
    },
    {
      "cell_type": "code",
      "source": [
        "rank = 10 # Dimension\n",
        "num_items = items.max() + 1 # 개수\n",
        "num_users = users.max() + 1\n",
        "\n",
        "P = torch.randn(num_items, rank, requires_grad = True)\n",
        "Q = torch.randn(num_users, rank, requires_grad = True)\n",
        "\n",
        "P.shape, Q.shape # 1683 movies, 944 users"
      ],
      "metadata": {
        "colab": {
          "base_uri": "https://localhost:8080/"
        },
        "id": "-nA8Tl2dseRU",
        "outputId": "188c63bc-2413-438a-d351-48580aa95dcb"
      },
      "execution_count": 8,
      "outputs": [
        {
          "output_type": "execute_result",
          "data": {
            "text/plain": [
              "(torch.Size([1683, 10]), torch.Size([944, 10]))"
            ]
          },
          "metadata": {},
          "execution_count": 8
        }
      ]
    },
    {
      "cell_type": "markdown",
      "source": [
        "# 1. Basic Matrix Factorization"
      ],
      "metadata": {
        "id": "KWNJITyYuyGe"
      }
    },
    {
      "cell_type": "markdown",
      "source": [
        "## Training Set Learning + MSE Visualization"
      ],
      "metadata": {
        "id": "5lg5B2InxzgS"
      }
    },
    {
      "cell_type": "code",
      "source": [
        "# 1. Matrix reset\n",
        "rank = 10 # Dimension\n",
        "num_items = items.max() + 1 # 개수\n",
        "num_users = users.max() + 1\n",
        "\n",
        "P = torch.randn(num_items, rank, requires_grad = True)\n",
        "Q = torch.randn(num_users, rank, requires_grad = True)\n",
        "\n",
        "\n",
        "# 2. Learning\n",
        "optimizer = torch.optim.Adam([P,Q], lr = 0.1)\n",
        "\n",
        "X = []\n",
        "Y = []\n",
        "Y_test = []\n",
        "\n",
        "for epoch in range(1000):\n",
        "  h = torch.sum(P[items] * Q[users],dim = 1)\n",
        "  cost = F.mse_loss(h,ratings)\n",
        "\n",
        "  X.append(epoch)\n",
        "  Y.append(cost.item())\n",
        "\n",
        "  optimizer.zero_grad()\n",
        "  cost.backward()\n",
        "  optimizer.step()\n",
        "\n",
        "  if epoch % 100 == 0 :\n",
        "    print(\"epoch: {}, cost: {:.6f}\" .format(epoch, cost.item()))\n",
        "\n",
        "\n",
        "# 3. Visualization : Training set MSE\n",
        "plt.ylabel('MSE')\n",
        "plt.xlabel('Epoch')\n",
        "plt.plot(X,Y,c = 'blue', label = 'Training MSE')\n",
        "plt.legend()\n",
        "plt.show()"
      ],
      "metadata": {
        "colab": {
          "base_uri": "https://localhost:8080/",
          "height": 636
        },
        "id": "tGW4XH-cuUSn",
        "outputId": "42cd138c-72f8-4510-c4b2-46f4d960fd45"
      },
      "execution_count": 18,
      "outputs": [
        {
          "output_type": "stream",
          "name": "stdout",
          "text": [
            "epoch: 0, cost: 23.869240\n",
            "epoch: 100, cost: 0.562045\n",
            "epoch: 200, cost: 0.494987\n",
            "epoch: 300, cost: 0.470996\n",
            "epoch: 400, cost: 0.459478\n",
            "epoch: 500, cost: 0.453460\n",
            "epoch: 600, cost: 0.449726\n",
            "epoch: 700, cost: 0.447054\n",
            "epoch: 800, cost: 0.444998\n",
            "epoch: 900, cost: 0.443364\n"
          ]
        },
        {
          "output_type": "display_data",
          "data": {
            "text/plain": [
              "<Figure size 640x480 with 1 Axes>"
            ],
            "image/png": "[encoded data removed]"
          },
          "metadata": {}
        }
      ]
    },
    {
      "cell_type": "markdown",
      "source": [
        "## Test set MSE"
      ],
      "metadata": {
        "id": "qbUVNVlj1Qjf"
      }
    },
    {
      "cell_type": "code",
      "source": [
        "# 1. Matrix reset\n",
        "rank = 10 # Dimension\n",
        "num_items = items.max() + 1 # 개수\n",
        "num_users = users.max() + 1\n",
        "\n",
        "P = torch.randn(num_items, rank, requires_grad = True)\n",
        "Q = torch.randn(num_users, rank, requires_grad = True)\n",
        "\n",
        "\n",
        "# 2. Learning\n",
        "optimizer = torch.optim.Adam([P,Q], lr = 0.1)\n",
        "\n",
        "X = []\n",
        "Y = []\n",
        "Y_test = []\n",
        "\n",
        "for epoch in range(1000):\n",
        "  h = torch.sum(P[items] * Q[users],dim = 1)\n",
        "  cost = F.mse_loss(h,ratings)\n",
        "\n",
        "  optimizer.zero_grad()\n",
        "  cost.backward()\n",
        "  optimizer.step()\n",
        "\n",
        "  with torch.no_grad(): # Stopg calculating Gradient calculating 기울기 계산 stop\n",
        "    X.append(epoch)\n",
        "    Y.append(cost.item())\n",
        "\n",
        "    h_test = torch.sum(P[items_test] * Q[users_test],dim=1)\n",
        "    cost_test = F.mse_loss(h_test,ratings_test)\n",
        "\n",
        "    Y_test.append(cost_test.item())\n",
        "\n",
        "  if epoch % 100 == 0 :\n",
        "    print(\"epoch: {}, cost: {:.6f}\" .format(epoch, cost.item()))\n",
        "\n",
        "\n",
        "# 3. Visualization : Training set MSE + Test set MSE\n",
        "\n",
        "plt.ylabel('MSE')\n",
        "plt.xlabel('Epoch')\n",
        "\n",
        "plt.plot(X,Y,c = 'blue', label = 'Training MSE')\n",
        "plt.plot(X,Y_test,c = 'red',label ='Test MSE')\n",
        "\n",
        "plt.legend()\n",
        "plt.show()"
      ],
      "metadata": {
        "colab": {
          "base_uri": "https://localhost:8080/",
          "height": 636
        },
        "id": "-3UVILwD1PsA",
        "outputId": "a82def2c-d6c0-4187-e229-a4eea75252c5"
      },
      "execution_count": 25,
      "outputs": [
        {
          "output_type": "stream",
          "name": "stdout",
          "text": [
            "epoch: 0, cost: 23.900356\n",
            "epoch: 100, cost: 0.559787\n",
            "epoch: 200, cost: 0.492960\n",
            "epoch: 300, cost: 0.472180\n",
            "epoch: 400, cost: 0.462513\n",
            "epoch: 500, cost: 0.456846\n",
            "epoch: 600, cost: 0.452755\n",
            "epoch: 700, cost: 0.449994\n",
            "epoch: 800, cost: 0.448100\n",
            "epoch: 900, cost: 0.446632\n"
          ]
        },
        {
          "output_type": "display_data",
          "data": {
            "text/plain": [
              "<Figure size 640x480 with 1 Axes>"
            ],
            "image/png": "[encoded data removed]"
          },
          "metadata": {}
        }
      ]
    },
    {
      "cell_type": "markdown",
      "source": [
        "# 2. Regularization"
      ],
      "metadata": {
        "id": "qCp582_y8VU3"
      }
    },
    {
      "cell_type": "code",
      "source": [
        "# 1. Matrix reset\n",
        "rank = 10\n",
        "num_items = items.max() + 1 # 개수\n",
        "num_users = users.max() + 1\n",
        "\n",
        "P = torch.randn(num_items, rank, requires_grad = True)\n",
        "Q = torch.randn(num_users, rank, requires_grad = True)\n",
        "\n",
        "# 2. Learning\n",
        "\n",
        "optimizer = torch.optim.Adam([P,Q], lr = 0.1)\n",
        "\n",
        "lambda1 = 0.1\n",
        "lambda2 = 0.1\n",
        "\n",
        "X = []\n",
        "Y = []\n",
        "Y_test = []\n",
        "for epoch in range(1000):\n",
        "\n",
        "  h = torch.sum(P[items] * Q[users],dim = 1)\n",
        "  cost = F.mse_loss(h,ratings)\n",
        "  # Regularization 비용함수\n",
        "  cost_reg = cost + lambda1 * (P ** 2).mean() + lambda2 * (Q ** 2).mean() # loss\n",
        "\n",
        "  # 기울기 계산\n",
        "  optimizer.zero_grad()\n",
        "  cost_reg.backward()\n",
        "  optimizer.step()\n",
        "\n",
        "  with torch.no_grad():\n",
        "    h_test = torch.sum(P[items_test] * Q[users_test],dim=1)\n",
        "    cost_test = F.mse_loss(h_test,ratings_test)\n",
        "\n",
        "    X.append(epoch)\n",
        "    Y.append(cost.item())\n",
        "    Y_test.append(cost_test.item())\n",
        "\n",
        "# 3. Visualization : Training set MSE + Test set MSE\n",
        "\n",
        "plt.ylabel('MSE')\n",
        "plt.xlabel('Epoch')\n",
        "\n",
        "plt.plot(X,Y,c = 'blue', label = 'Training MSE')\n",
        "plt.plot(X,Y_test,c = 'red',label ='Test MSE')\n",
        "\n",
        "plt.legend()\n",
        "plt.show()"
      ],
      "metadata": {
        "colab": {
          "base_uri": "https://localhost:8080/",
          "height": 452
        },
        "id": "Xft4JQo076SA",
        "outputId": "995445d4-28c4-488b-8fde-243b84afd49f"
      },
      "execution_count": 33,
      "outputs": [
        {
          "output_type": "display_data",
          "data": {
            "text/plain": [
              "<Figure size 640x480 with 1 Axes>"
            ],
            "image/png": "[encoded data removed]"
          },
          "metadata": {}
        }
      ]
    },
    {
      "cell_type": "markdown",
      "source": [
        "# 3. + Regularization + Bias"
      ],
      "metadata": {
        "id": "di76MZ0hBdKR"
      }
    },
    {
      "cell_type": "code",
      "source": [
        "# 1. Matrix reset\n",
        "rank = 10\n",
        "num_items = items.max() + 1\n",
        "num_users = users.max() + 1\n",
        "\n",
        "P = torch.randn(num_items, rank, requires_grad = True)\n",
        "Q = torch.randn(num_users, rank, requires_grad = True)\n",
        "\n",
        "# 2. Learning\n",
        "\n",
        "optimizer = torch.optim.Adam([P,Q], lr = 0.1)\n",
        "\n",
        "lambda1 = 0.1\n",
        "lambda2 = 0.1\n",
        "lambda3 = 0.1\n",
        "lambda4 = 0.1\n",
        "\n",
        "bias_item = torch.randn(num_items, requires_grad = True)\n",
        "bias_user = torch.randn(num_users, requires_grad = True)\n",
        "mean = ratings.mean()\n",
        "\n",
        "X = []\n",
        "Y = []\n",
        "Y_test = []\n",
        "\n",
        "\n",
        "for epoch in range(1000):\n",
        "\n",
        "  h = torch.sum(P[items] * Q[users],dim = 1) + mean + bias_item[items] + bias_user[users]\n",
        "  cost = F.mse_loss(h,ratings)\n",
        "  loss = cost + lambda1 * (P **2).mean() + lambda2 * (Q ** 2).mean() + lambda3 * (bias_item **2).mean() + lambda4 * (bias_user ** 2).mean()\n",
        "\n",
        "  optimizer.zero_grad()\n",
        "  loss.backward()\n",
        "  optimizer.step()\n",
        "\n",
        "  with torch.no_grad():\n",
        "    h_test = (P[items_test] * Q[users_test]).sum(dim=1) + mean + bias_item[items_test] + bias_user[users_test]\n",
        "    cost_test = F.mse_loss(h_test,ratings_test)\n",
        "\n",
        "    X.append(epoch)\n",
        "    Y.append(cost.item())\n",
        "    Y_test.append(cost_test.item())\n",
        "\n",
        "# 3. Visualization : Training set MSE + Test set MSE\n",
        "\n",
        "plt.ylabel('MSE')\n",
        "plt.xlabel('Epoch')\n",
        "\n",
        "plt.plot(X,Y,c = 'blue', label = 'Training MSE')\n",
        "plt.plot(X,Y_test,c = 'red',label ='Test MSE')\n",
        "\n",
        "plt.legend()\n",
        "plt.show()"
      ],
      "metadata": {
        "colab": {
          "base_uri": "https://localhost:8080/",
          "height": 449
        },
        "id": "R3X-_dOa9W1s",
        "outputId": "e283a87f-8c51-49e4-9c08-f14a7bae1dd8"
      },
      "execution_count": 37,
      "outputs": [
        {
          "output_type": "display_data",
          "data": {
            "text/plain": [
              "<Figure size 640x480 with 1 Axes>"
            ],
            "image/png": "[encoded data removed]"
          },
          "metadata": {}
        }
      ]
    },
    {
      "cell_type": "code",
      "source": [],
      "metadata": {
        "id": "Kcp3jbYDC1DS"
      },
      "execution_count": null,
      "outputs": []
    }
  ]
}